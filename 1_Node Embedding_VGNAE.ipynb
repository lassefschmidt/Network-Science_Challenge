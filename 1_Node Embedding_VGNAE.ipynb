{
 "cells": [
  {
   "cell_type": "markdown",
   "id": "ca3f9796",
   "metadata": {},
   "source": [
    "# Machine Learning in Network Science\n",
    "Group Challenge\n",
    "\n",
    "***\n",
    "by: Leonardo Basili, Paul Bédier, Lasse Schmidt\n",
    "\n",
    "within: MS Data Sciences & Business Analytics\n",
    "\n",
    "at: CentraleSupélec & ESSEC Business School\n",
    "***"
   ]
  },
  {
   "cell_type": "markdown",
   "id": "3a46be5a",
   "metadata": {},
   "source": [
    "This notebook covers deep learning techniques, namely:\n",
    "- Variational Graph Normalized Auto-Encoders (based on https://arxiv.org/abs/2108.08046) which allow us to learn graph embeddings in an unsupervised way (based on graph structure and node embeddings)"
   ]
  },
  {
   "cell_type": "markdown",
   "id": "54f241a1",
   "metadata": {},
   "source": [
    "### 1. Import Packages"
   ]
  },
  {
   "cell_type": "code",
   "execution_count": 43,
   "id": "98e82605",
   "metadata": {},
   "outputs": [
    {
     "data": {
      "text/plain": [
       "<module 'util.autoencoder' from 'D:\\\\Dokumente\\\\2_Bildung\\\\2_MSc\\\\1_Classes\\\\Y2T2_Machine Learning in Network Science\\\\3_challenge\\\\Network-Science_Challenge\\\\util\\\\autoencoder.py'>"
      ]
     },
     "execution_count": 43,
     "metadata": {},
     "output_type": "execute_result"
    }
   ],
   "source": [
    "from importlib import reload\n",
    "reload(analyseData)\n",
    "reload(prepData)\n",
    "reload(loadData)\n",
    "reload(modeling)\n",
    "reload(autoenc)"
   ]
  },
  {
   "cell_type": "code",
   "execution_count": 1,
   "id": "a3ffae4f",
   "metadata": {},
   "outputs": [],
   "source": [
    "# import own scripts\n",
    "import util.analyse_Data as analyseData\n",
    "import util.preprocess_Data as prepData\n",
    "import util.load_Data as loadData\n",
    "import util.modeling as modeling\n",
    "import util.autoencoder as autoenc"
   ]
  },
  {
   "cell_type": "code",
   "execution_count": 48,
   "id": "d7c6ba33",
   "metadata": {},
   "outputs": [],
   "source": [
    "# parse & handle data\n",
    "import os\n",
    "import numpy as np\n",
    "import pandas as pd\n",
    "\n",
    "# modeling\n",
    "import torch\n",
    "from torch_geometric.nn import GAE, VGAE\n",
    "\n",
    "# hyperparam optimization\n",
    "from ray import tune, air\n",
    "\n",
    "# evaluation\n",
    "from sklearn.metrics import accuracy_score, roc_auc_score, classification_report, confusion_matrix, ConfusionMatrixDisplay\n",
    "\n",
    "\n",
    "# visualization\n",
    "import matplotlib.pyplot as plt\n",
    "import seaborn as sns"
   ]
  },
  {
   "cell_type": "code",
   "execution_count": 3,
   "id": "c84a352e",
   "metadata": {},
   "outputs": [],
   "source": [
    "# set matplotlib and seaborn settings for nicer plots\n",
    "%matplotlib inline\n",
    "\n",
    "SMALL_SIZE = 6\n",
    "MEDIUM_SIZE = 8\n",
    "BIGGER_SIZE = 10\n",
    "\n",
    "plt.rc('font', size=SMALL_SIZE)          # controls default text sizes\n",
    "plt.rc('axes', titlesize=BIGGER_SIZE)    # fontsize of the axes title\n",
    "plt.rc('axes', labelsize=MEDIUM_SIZE)    # fontsize of the x and y labels\n",
    "plt.rc('xtick', labelsize=SMALL_SIZE)    # fontsize of the tick labels\n",
    "plt.rc('ytick', labelsize=SMALL_SIZE)    # fontsize of the tick labels\n",
    "plt.rc('legend', fontsize=MEDIUM_SIZE)   # legend fontsize\n",
    "plt.rc('figure', titlesize=BIGGER_SIZE)  # fontsize of the figure title"
   ]
  },
  {
   "cell_type": "markdown",
   "id": "74f20e78",
   "metadata": {},
   "source": [
    "### 2. Load Data for Modeling"
   ]
  },
  {
   "cell_type": "code",
   "execution_count": 4,
   "id": "2a7d5835",
   "metadata": {},
   "outputs": [
    {
     "name": "stdout",
     "output_type": "stream",
     "text": [
      "Number of positive edges for training: 4174\n",
      "Number of positive edges for validation: 1043\n",
      "Number of edges in original graph: 5217\n",
      "Number of edges in training graph: 4174\n",
      "The graph is connected\n"
     ]
    }
   ],
   "source": [
    "# might take up to a minute\n",
    "data, (G, G_train, node_info, train_tf, val_tf, trainval_tf, test, test_tf) = autoenc.load(testing_ratio = 0.2)"
   ]
  },
  {
   "cell_type": "code",
   "execution_count": 5,
   "id": "3ee7a8e9",
   "metadata": {},
   "outputs": [],
   "source": [
    "# where to save trial results to\n",
    "ray_path = os.path.abspath(\"\")+\"\\\\ray_results\\\\\"\n",
    "if not os.path.isdir(ray_path):\n",
    "    os.mkdir(ray_path)"
   ]
  },
  {
   "cell_type": "markdown",
   "id": "345c4898",
   "metadata": {},
   "source": [
    "### 3. VGNAE Node Embeddings\n",
    "\n",
    "https://github.com/SeongJinAhn/VGNAE/blob/main/main.py for Variational Graph Normalized Auto-Encoders"
   ]
  },
  {
   "cell_type": "markdown",
   "id": "372aac42",
   "metadata": {},
   "source": [
    "#### 3.1 Hyperparameter tuning"
   ]
  },
  {
   "cell_type": "code",
   "execution_count": 6,
   "id": "b68c1c9f",
   "metadata": {},
   "outputs": [],
   "source": [
    "# tunable hyperparameter search space --> search using tune.choice([]), tune.uniform(lower, upper), tune.grid_search([])\n",
    "config = {\n",
    "    # log params in raytune\n",
    "    \"ray\": True,\n",
    "    \n",
    "    # print results per epoch\n",
    "    \"verbose\": False,\n",
    "    \n",
    "    # basic infos\n",
    "    \"data\": data,\n",
    "    \"max_epochs\": 50,\n",
    "    \"save\": True, # if we want to save best model on validation set\n",
    "    \n",
    "    # model\n",
    "    \"model\": \"VGAE\",\n",
    "    \"enc_channels\": 2,\n",
    "    \n",
    "    # optimizer\n",
    "    \"lr\": tune.grid_search([1e-5, 5e-5, 1e-4]),\n",
    "    \"wd\": tune.grid_search([1e-2, 1e-4])\n",
    "}"
   ]
  },
  {
   "cell_type": "code",
   "execution_count": 7,
   "id": "5116af65",
   "metadata": {},
   "outputs": [
    {
     "data": {
      "text/html": [
       "<div class=\"tuneStatus\">\n",
       "  <div style=\"display: flex;flex-direction: row\">\n",
       "    <div style=\"display: flex;flex-direction: column;\">\n",
       "      <h3>Tune Status</h3>\n",
       "      <table>\n",
       "<tbody>\n",
       "<tr><td>Current time:</td><td>2023-03-10 21:01:10</td></tr>\n",
       "<tr><td>Running for: </td><td>00:00:26.99        </td></tr>\n",
       "<tr><td>Memory:      </td><td>12.1/31.9 GiB      </td></tr>\n",
       "</tbody>\n",
       "</table>\n",
       "    </div>\n",
       "    <div class=\"vDivider\"></div>\n",
       "    <div class=\"systemInfo\">\n",
       "      <h3>System Info</h3>\n",
       "      Using FIFO scheduling algorithm.<br>Resources requested: 0/16 CPUs, 0/1 GPUs, 0.0/13.61 GiB heap, 0.0/6.81 GiB objects\n",
       "    </div>\n",
       "    \n",
       "  </div>\n",
       "  <div class=\"hDivider\"></div>\n",
       "  <div class=\"trialStatus\">\n",
       "    <h3>Trial Status</h3>\n",
       "    <table>\n",
       "<thead>\n",
       "<tr><th>Trial name                    </th><th>status    </th><th>loc            </th><th>model  </th><th style=\"text-align: right;\">    lr</th><th style=\"text-align: right;\">    wd</th><th style=\"text-align: right;\">  trn_auc</th><th style=\"text-align: right;\">  val_auc</th><th style=\"text-align: right;\">  max_val_auc</th><th style=\"text-align: right;\">   training_iterat\n",
       "ion</th></tr>\n",
       "</thead>\n",
       "<tbody>\n",
       "<tr><td>VGAE_1e-05_0.01_3d75d_00000   </td><td>TERMINATED</td><td>127.0.0.1:23516</td><td>VGAE   </td><td style=\"text-align: right;\">1e-05 </td><td style=\"text-align: right;\">0.01  </td><td style=\"text-align: right;\"> 0.809333</td><td style=\"text-align: right;\"> 0.770768</td><td style=\"text-align: right;\">     0.772407</td><td style=\"text-align: right;\">50</td></tr>\n",
       "<tr><td>VGAE_5e-05_0.01_3d75d_00001   </td><td>TERMINATED</td><td>127.0.0.1:23516</td><td>VGAE   </td><td style=\"text-align: right;\">5e-05 </td><td style=\"text-align: right;\">0.01  </td><td style=\"text-align: right;\"> 0.80814 </td><td style=\"text-align: right;\"> 0.764709</td><td style=\"text-align: right;\">     0.772352</td><td style=\"text-align: right;\">50</td></tr>\n",
       "<tr><td>VGAE_0.0001_0.01_3d75d_00002  </td><td>TERMINATED</td><td>127.0.0.1:23516</td><td>VGAE   </td><td style=\"text-align: right;\">0.0001</td><td style=\"text-align: right;\">0.01  </td><td style=\"text-align: right;\"> 0.792969</td><td style=\"text-align: right;\"> 0.725704</td><td style=\"text-align: right;\">     0.768648</td><td style=\"text-align: right;\">50</td></tr>\n",
       "<tr><td>VGAE_1e-05_0.0001_3d75d_00003 </td><td>TERMINATED</td><td>127.0.0.1:23516</td><td>VGAE   </td><td style=\"text-align: right;\">1e-05 </td><td style=\"text-align: right;\">0.0001</td><td style=\"text-align: right;\"> 0.802396</td><td style=\"text-align: right;\"> 0.756861</td><td style=\"text-align: right;\">     0.760576</td><td style=\"text-align: right;\">50</td></tr>\n",
       "<tr><td>VGAE_5e-05_0.0001_3d75d_00004 </td><td>TERMINATED</td><td>127.0.0.1:23516</td><td>VGAE   </td><td style=\"text-align: right;\">5e-05 </td><td style=\"text-align: right;\">0.0001</td><td style=\"text-align: right;\"> 0.812093</td><td style=\"text-align: right;\"> 0.772375</td><td style=\"text-align: right;\">     0.776717</td><td style=\"text-align: right;\">50</td></tr>\n",
       "<tr><td>VGAE_0.0001_0.0001_3d75d_00005</td><td>TERMINATED</td><td>127.0.0.1:23516</td><td>VGAE   </td><td style=\"text-align: right;\">0.0001</td><td style=\"text-align: right;\">0.0001</td><td style=\"text-align: right;\"> 0.709197</td><td style=\"text-align: right;\"> 0.653942</td><td style=\"text-align: right;\">     0.75424 </td><td style=\"text-align: right;\">50</td></tr>\n",
       "</tbody>\n",
       "</table>\n",
       "  </div>\n",
       "</div>\n",
       "<style>\n",
       ".tuneStatus {\n",
       "  color: var(--jp-ui-font-color1);\n",
       "}\n",
       ".tuneStatus .systemInfo {\n",
       "  display: flex;\n",
       "  flex-direction: column;\n",
       "}\n",
       ".tuneStatus td {\n",
       "  white-space: nowrap;\n",
       "}\n",
       ".tuneStatus .trialStatus {\n",
       "  display: flex;\n",
       "  flex-direction: column;\n",
       "}\n",
       ".tuneStatus h3 {\n",
       "  font-weight: bold;\n",
       "}\n",
       ".tuneStatus .hDivider {\n",
       "  border-bottom-width: var(--jp-border-width);\n",
       "  border-bottom-color: var(--jp-border-color0);\n",
       "  border-bottom-style: solid;\n",
       "}\n",
       ".tuneStatus .vDivider {\n",
       "  border-left-width: var(--jp-border-width);\n",
       "  border-left-color: var(--jp-border-color0);\n",
       "  border-left-style: solid;\n",
       "  margin: 0.5em 1em 0.5em 1em;\n",
       "}\n",
       "</style>\n"
      ],
      "text/plain": [
       "<IPython.core.display.HTML object>"
      ]
     },
     "metadata": {},
     "output_type": "display_data"
    },
    {
     "name": "stderr",
     "output_type": "stream",
     "text": [
      "2023-03-10 21:00:42,327\tINFO worker.py:1553 -- Started a local Ray instance.\n",
      "2023-03-10 21:01:10,643\tINFO tune.py:798 -- Total run time: 27.02 seconds (22.22 seconds for the tuning loop).\n"
     ]
    }
   ],
   "source": [
    "# how many trials to run (if grid_search utilized, it will run this number per grid_search value)\n",
    "num_samples = 1\n",
    "\n",
    "# run experiment\n",
    "result_grid = autoenc.run_ray_experiment(\n",
    "    autoenc.train_validate, config, ray_path, num_samples,\n",
    "    metric_columns = [\"trn_auc\", \"val_auc\", \"max_val_auc\", \"training_iteration\"],\n",
    "    parameter_columns = [\"model\", \"lr\", \"wd\"]\n",
    ")"
   ]
  },
  {
   "cell_type": "markdown",
   "id": "155cb789",
   "metadata": {},
   "source": [
    "#### 3.2 Embeddings based on best model"
   ]
  },
  {
   "cell_type": "code",
   "execution_count": 53,
   "id": "60a3d4eb",
   "metadata": {},
   "outputs": [
    {
     "data": {
      "text/plain": [
       "<All keys matched successfully>"
      ]
     },
     "execution_count": 53,
     "metadata": {},
     "output_type": "execute_result"
    }
   ],
   "source": [
    "# load best autoencoder\n",
    "path = os.path.abspath(\"\")+\"\\\\models\\\\autoencoder.pt\"\n",
    "model = VGAE(autoenc.Encoder(data.x.size()[1], config[\"enc_channels\"]))\n",
    "model.load_state_dict(torch.load(path))"
   ]
  },
  {
   "cell_type": "code",
   "execution_count": 54,
   "id": "9a83b802",
   "metadata": {},
   "outputs": [],
   "source": [
    "# get embeddings of nodes\n",
    "embedding = autoenc.get_embeddings(model, data)"
   ]
  },
  {
   "cell_type": "code",
   "execution_count": 55,
   "id": "12aae6b8",
   "metadata": {},
   "outputs": [
    {
     "data": {
      "text/plain": [
       "Text(0.5, 1.0, 'VGNAE projection (first 2 dim) of nodes')"
      ]
     },
     "execution_count": 55,
     "metadata": {},
     "output_type": "execute_result"
    },
    {
     "data": {
      "image/png": "[encoded data removed]",
      "text/plain": [
       "<Figure size 640x480 with 1 Axes>"
      ]
     },
     "metadata": {},
     "output_type": "display_data"
    }
   ],
   "source": [
    "# plot embedding\n",
    "plt.scatter(\n",
    "    embedding[:, 0],\n",
    "    embedding[:, 1])\n",
    "plt.gca().set_aspect('equal', 'datalim')\n",
    "plt.title('VGNAE projection (first 2 dim) of nodes')"
   ]
  },
  {
   "cell_type": "code",
   "execution_count": 56,
   "id": "7b823a53",
   "metadata": {},
   "outputs": [],
   "source": [
    "node_emb = pd.DataFrame(embedding).rename(columns = {0: \"x1\", 1: \"x2\"})"
   ]
  },
  {
   "cell_type": "code",
   "execution_count": 57,
   "id": "4f8461a8",
   "metadata": {},
   "outputs": [],
   "source": [
    "tmp = (val_tf\n",
    "    .assign(sim  = y_val_hat.pred.values)\n",
    "    .assign(dist = lambda df_: [np.linalg.norm(node_emb.loc[u].values-node_emb.loc[v].values) for u, v in zip(df_.node1, df_.node2)])\n",
    ")"
   ]
  },
  {
   "cell_type": "code",
   "execution_count": 58,
   "id": "ca8db459",
   "metadata": {},
   "outputs": [
    {
     "data": {
      "text/plain": [
       "<seaborn.axisgrid.PairGrid at 0x2b57798b3d0>"
      ]
     },
     "execution_count": 58,
     "metadata": {},
     "output_type": "execute_result"
    },
    {
     "data": {
      "image/png": "[encoded data removed]",
      "text/plain": [
       "<Figure size 547x500 with 6 Axes>"
      ]
     },
     "metadata": {},
     "output_type": "display_data"
    }
   ],
   "source": [
    "sns.pairplot(tmp[[\"sim\", \"dist\", \"y\"]], hue = \"y\")"
   ]
  },
  {
   "cell_type": "code",
   "execution_count": 59,
   "id": "4efe1fbc",
   "metadata": {},
   "outputs": [
    {
     "data": {
      "text/html": [
       "<div>\n",
       "<style scoped>\n",
       "    .dataframe tbody tr th:only-of-type {\n",
       "        vertical-align: middle;\n",
       "    }\n",
       "\n",
       "    .dataframe tbody tr th {\n",
       "        vertical-align: top;\n",
       "    }\n",
       "\n",
       "    .dataframe thead th {\n",
       "        text-align: right;\n",
       "    }\n",
       "</style>\n",
       "<table border=\"1\" class=\"dataframe\">\n",
       "  <thead>\n",
       "    <tr style=\"text-align: right;\">\n",
       "      <th></th>\n",
       "      <th>node1</th>\n",
       "      <th>node2</th>\n",
       "      <th>y</th>\n",
       "      <th>sim</th>\n",
       "      <th>dist</th>\n",
       "    </tr>\n",
       "  </thead>\n",
       "  <tbody>\n",
       "    <tr>\n",
       "      <th>node1</th>\n",
       "      <td>1.000000</td>\n",
       "      <td>0.493127</td>\n",
       "      <td>0.036595</td>\n",
       "      <td>0.196453</td>\n",
       "      <td>-0.035406</td>\n",
       "    </tr>\n",
       "    <tr>\n",
       "      <th>node2</th>\n",
       "      <td>0.493127</td>\n",
       "      <td>1.000000</td>\n",
       "      <td>0.059586</td>\n",
       "      <td>0.243821</td>\n",
       "      <td>-0.029610</td>\n",
       "    </tr>\n",
       "    <tr>\n",
       "      <th>y</th>\n",
       "      <td>0.036595</td>\n",
       "      <td>0.059586</td>\n",
       "      <td>1.000000</td>\n",
       "      <td>0.369766</td>\n",
       "      <td>0.209273</td>\n",
       "    </tr>\n",
       "    <tr>\n",
       "      <th>sim</th>\n",
       "      <td>0.196453</td>\n",
       "      <td>0.243821</td>\n",
       "      <td>0.369766</td>\n",
       "      <td>1.000000</td>\n",
       "      <td>0.189464</td>\n",
       "    </tr>\n",
       "    <tr>\n",
       "      <th>dist</th>\n",
       "      <td>-0.035406</td>\n",
       "      <td>-0.029610</td>\n",
       "      <td>0.209273</td>\n",
       "      <td>0.189464</td>\n",
       "      <td>1.000000</td>\n",
       "    </tr>\n",
       "  </tbody>\n",
       "</table>\n",
       "</div>"
      ],
      "text/plain": [
       "          node1     node2         y       sim      dist\n",
       "node1  1.000000  0.493127  0.036595  0.196453 -0.035406\n",
       "node2  0.493127  1.000000  0.059586  0.243821 -0.029610\n",
       "y      0.036595  0.059586  1.000000  0.369766  0.209273\n",
       "sim    0.196453  0.243821  0.369766  1.000000  0.189464\n",
       "dist  -0.035406 -0.029610  0.209273  0.189464  1.000000"
      ]
     },
     "execution_count": 59,
     "metadata": {},
     "output_type": "execute_result"
    }
   ],
   "source": [
    "tmp.corr()"
   ]
  },
  {
   "cell_type": "markdown",
   "id": "64dcbb71",
   "metadata": {},
   "source": [
    "#### 3.3 Compute edge features based on best model"
   ]
  },
  {
   "cell_type": "code",
   "execution_count": 60,
   "id": "4f6dc822",
   "metadata": {},
   "outputs": [
    {
     "name": "stdout",
     "output_type": "stream",
     "text": [
      "ROC:  0.811143839914642\n",
      "Acc:  0.7085523172479694\n"
     ]
    }
   ],
   "source": [
    "# predict train\n",
    "y_train_hat = pd.DataFrame(autoenc.get_similarity(model, data, data.train_edges))\n",
    "y_train_hat = (y_train_hat\n",
    "    .rename(columns = {0: \"sim\"})\n",
    "    .assign(y = trainval_tf.loc[trainval_tf.train_mask == True].y.values)\n",
    "    .assign(pred = lambda df_: (df_.sim > df_.sim.median()).astype(int))\n",
    ")\n",
    "print(\"ROC: \", roc_auc_score(y_train_hat.y, y_train_hat.sim))\n",
    "print(\"Acc: \", accuracy_score(y_train_hat.y, y_train_hat.pred))"
   ]
  },
  {
   "cell_type": "code",
   "execution_count": 61,
   "id": "bc2a3c26",
   "metadata": {
    "scrolled": true
   },
   "outputs": [
    {
     "name": "stdout",
     "output_type": "stream",
     "text": [
      "ROC:  0.7767164315390587\n",
      "Acc:  0.7138079311992356\n"
     ]
    }
   ],
   "source": [
    "# predict val\n",
    "y_val_hat = pd.DataFrame(autoenc.get_similarity(model, data, data.val_edges))\n",
    "y_val_hat = (y_val_hat\n",
    "    .rename(columns = {0: \"sim\"})\n",
    "    .assign(y = trainval_tf.loc[trainval_tf.val_mask == True].y.values)\n",
    "    .assign(pred = lambda df_: (df_.sim > df_.sim.median()).astype(int))\n",
    ")\n",
    "print(\"ROC: \", roc_auc_score(y_val_hat.y, y_val_hat.sim))\n",
    "print(\"Acc: \", accuracy_score(y_val_hat.y, y_val_hat.pred))"
   ]
  },
  {
   "cell_type": "code",
   "execution_count": 63,
   "id": "d3fe8363",
   "metadata": {},
   "outputs": [
    {
     "data": {
      "text/plain": [
       "pred\n",
       "0       1741\n",
       "1       1740\n",
       "dtype: int64"
      ]
     },
     "execution_count": 63,
     "metadata": {},
     "output_type": "execute_result"
    }
   ],
   "source": [
    "# predict test\n",
    "y_test_hat = pd.DataFrame(autoenc.get_similarity(model, data, data.test_edges))\n",
    "y_test_hat = (y_test_hat\n",
    "    .rename(columns = {0: \"sim\"})\n",
    "    .assign(pred = lambda df_: (df_.sim > df_.sim.median()).astype(int))\n",
    ")\n",
    "y_test_hat[[\"pred\"]].value_counts()"
   ]
  },
  {
   "cell_type": "markdown",
   "id": "0bc9b2f2",
   "metadata": {},
   "source": [
    "### X. Code Graveyard"
   ]
  },
  {
   "cell_type": "markdown",
   "id": "fcd0ca52",
   "metadata": {},
   "source": [
    "previous code without functions"
   ]
  },
  {
   "cell_type": "code",
   "execution_count": 16,
   "id": "1033df7f",
   "metadata": {},
   "outputs": [],
   "source": [
    "dev = torch.device('cuda' if torch.cuda.is_available() else 'cpu')\n",
    "channels = 2\n",
    "model = VGAE(deep.Encoder(data.x.size()[1], channels)).to(dev)"
   ]
  },
  {
   "cell_type": "code",
   "execution_count": 17,
   "id": "8244ca4f",
   "metadata": {},
   "outputs": [],
   "source": [
    "x, train_pos_edges, train_neg_edges = data.x.to(dev), data.train_pos_edges.to(dev), data.train_neg_edges.to(dev)\n",
    "val_pos_edges, val_neg_edges = data.val_pos_edges.to(dev), data.val_neg_edges.to(dev)\n",
    "val_edges = data.val_edges.to(dev)\n",
    "optimizer = torch.optim.Adam(model.parameters(), lr=5e-6, weight_decay = 0.1)"
   ]
  },
  {
   "cell_type": "code",
   "execution_count": 20,
   "id": "9e7093ae",
   "metadata": {},
   "outputs": [],
   "source": [
    "def train():\n",
    "    model.train()\n",
    "    optimizer.zero_grad()\n",
    "    z  = model.encode(x, train_pos_edges)\n",
    "    loss = model.recon_loss(z, train_pos_edges, train_neg_edges)\n",
    "    loss = loss + (1 / data.num_nodes) * model.kl_loss()\n",
    "    loss.backward()\n",
    "    optimizer.step()\n",
    "    auc, ap = validate(data.train_pos_edges, data.train_neg_edges)\n",
    "    return loss, auc, ap\n",
    "\n",
    "def validate(val_pos_edges, val_neg_edges):\n",
    "    model.eval()\n",
    "    with torch.no_grad():\n",
    "        z = model.encode(x, train_pos_edges)\n",
    "    return model.test(z, val_pos_edges, val_neg_edges)\n",
    "\n",
    "def predict(edges):\n",
    "    model.eval()\n",
    "    with torch.no_grad():\n",
    "        z = model.encode(x, train_pos_edges)\n",
    "    pred = model.decoder(z, edges, sigmoid = True)\n",
    "    return pred.detach().cpu().numpy()\n",
    "\n",
    "def get_embeddings():\n",
    "    return model.encode(x, train_pos_edges).detach().cpu().numpy()"
   ]
  },
  {
   "cell_type": "code",
   "execution_count": 21,
   "id": "c3ce9d69",
   "metadata": {
    "scrolled": true
   },
   "outputs": [
    {
     "name": "stdout",
     "output_type": "stream",
     "text": [
      "Epoch: 001, LOSS: 3.9292, Trn AUC: 0.7867, Val AUC: 0.7420, Val AP: 0.7823\n",
      "Epoch: 002, LOSS: 4.0428, Trn AUC: 0.7866, Val AUC: 0.7420, Val AP: 0.7822\n",
      "Epoch: 003, LOSS: 3.9016, Trn AUC: 0.7866, Val AUC: 0.7419, Val AP: 0.7822\n",
      "Epoch: 004, LOSS: 4.0921, Trn AUC: 0.7865, Val AUC: 0.7419, Val AP: 0.7821\n",
      "Epoch: 005, LOSS: 4.0718, Trn AUC: 0.7865, Val AUC: 0.7418, Val AP: 0.7820\n",
      "Epoch: 006, LOSS: 3.9491, Trn AUC: 0.7864, Val AUC: 0.7417, Val AP: 0.7819\n",
      "Epoch: 007, LOSS: 3.9936, Trn AUC: 0.7864, Val AUC: 0.7417, Val AP: 0.7819\n",
      "Epoch: 008, LOSS: 3.9383, Trn AUC: 0.7863, Val AUC: 0.7416, Val AP: 0.7818\n",
      "Epoch: 009, LOSS: 4.0555, Trn AUC: 0.7863, Val AUC: 0.7415, Val AP: 0.7817\n",
      "Epoch: 010, LOSS: 4.1547, Trn AUC: 0.7862, Val AUC: 0.7414, Val AP: 0.7817\n",
      "Epoch: 011, LOSS: 3.9986, Trn AUC: 0.7862, Val AUC: 0.7413, Val AP: 0.7816\n",
      "Epoch: 012, LOSS: 3.9577, Trn AUC: 0.7861, Val AUC: 0.7412, Val AP: 0.7815\n",
      "Epoch: 013, LOSS: 3.9537, Trn AUC: 0.7860, Val AUC: 0.7412, Val AP: 0.7815\n",
      "Epoch: 014, LOSS: 3.9163, Trn AUC: 0.7860, Val AUC: 0.7411, Val AP: 0.7814\n",
      "Epoch: 015, LOSS: 3.9470, Trn AUC: 0.7859, Val AUC: 0.7411, Val AP: 0.7814\n",
      "Epoch: 016, LOSS: 3.8742, Trn AUC: 0.7859, Val AUC: 0.7410, Val AP: 0.7813\n",
      "Epoch: 017, LOSS: 3.9585, Trn AUC: 0.7858, Val AUC: 0.7408, Val AP: 0.7812\n",
      "Epoch: 018, LOSS: 3.9861, Trn AUC: 0.7858, Val AUC: 0.7407, Val AP: 0.7811\n",
      "Epoch: 019, LOSS: 4.0642, Trn AUC: 0.7857, Val AUC: 0.7406, Val AP: 0.7810\n",
      "Epoch: 020, LOSS: 4.0967, Trn AUC: 0.7857, Val AUC: 0.7405, Val AP: 0.7809\n",
      "Epoch: 021, LOSS: 3.8901, Trn AUC: 0.7856, Val AUC: 0.7404, Val AP: 0.7808\n",
      "Epoch: 022, LOSS: 3.9130, Trn AUC: 0.7855, Val AUC: 0.7403, Val AP: 0.7807\n",
      "Epoch: 023, LOSS: 3.8738, Trn AUC: 0.7855, Val AUC: 0.7402, Val AP: 0.7806\n",
      "Epoch: 024, LOSS: 3.9452, Trn AUC: 0.7854, Val AUC: 0.7400, Val AP: 0.7805\n",
      "Epoch: 025, LOSS: 3.7779, Trn AUC: 0.7853, Val AUC: 0.7399, Val AP: 0.7804\n",
      "Epoch: 026, LOSS: 3.8455, Trn AUC: 0.7853, Val AUC: 0.7398, Val AP: 0.7804\n",
      "Epoch: 027, LOSS: 3.9365, Trn AUC: 0.7852, Val AUC: 0.7397, Val AP: 0.7803\n",
      "Epoch: 028, LOSS: 3.9671, Trn AUC: 0.7851, Val AUC: 0.7396, Val AP: 0.7803\n",
      "Epoch: 029, LOSS: 3.9802, Trn AUC: 0.7851, Val AUC: 0.7395, Val AP: 0.7802\n",
      "Epoch: 030, LOSS: 3.9479, Trn AUC: 0.7850, Val AUC: 0.7395, Val AP: 0.7802\n",
      "Epoch: 031, LOSS: 3.7708, Trn AUC: 0.7849, Val AUC: 0.7394, Val AP: 0.7801\n",
      "Epoch: 032, LOSS: 3.9010, Trn AUC: 0.7849, Val AUC: 0.7392, Val AP: 0.7799\n",
      "Epoch: 033, LOSS: 3.9109, Trn AUC: 0.7848, Val AUC: 0.7391, Val AP: 0.7799\n",
      "Epoch: 034, LOSS: 3.9829, Trn AUC: 0.7847, Val AUC: 0.7391, Val AP: 0.7798\n",
      "Epoch: 035, LOSS: 3.9157, Trn AUC: 0.7847, Val AUC: 0.7390, Val AP: 0.7797\n",
      "Epoch: 036, LOSS: 3.9348, Trn AUC: 0.7846, Val AUC: 0.7389, Val AP: 0.7796\n",
      "Epoch: 037, LOSS: 3.8777, Trn AUC: 0.7845, Val AUC: 0.7388, Val AP: 0.7796\n",
      "Epoch: 038, LOSS: 3.9834, Trn AUC: 0.7844, Val AUC: 0.7387, Val AP: 0.7795\n",
      "Epoch: 039, LOSS: 4.0129, Trn AUC: 0.7844, Val AUC: 0.7386, Val AP: 0.7794\n",
      "Epoch: 040, LOSS: 3.9674, Trn AUC: 0.7843, Val AUC: 0.7384, Val AP: 0.7793\n",
      "Epoch: 041, LOSS: 3.9687, Trn AUC: 0.7842, Val AUC: 0.7383, Val AP: 0.7792\n",
      "Epoch: 042, LOSS: 4.0611, Trn AUC: 0.7841, Val AUC: 0.7382, Val AP: 0.7792\n",
      "Epoch: 043, LOSS: 3.8320, Trn AUC: 0.7841, Val AUC: 0.7381, Val AP: 0.7791\n",
      "Epoch: 044, LOSS: 3.8177, Trn AUC: 0.7840, Val AUC: 0.7380, Val AP: 0.7790\n",
      "Epoch: 045, LOSS: 4.0509, Trn AUC: 0.7840, Val AUC: 0.7379, Val AP: 0.7789\n",
      "Epoch: 046, LOSS: 3.9215, Trn AUC: 0.7839, Val AUC: 0.7378, Val AP: 0.7788\n",
      "Epoch: 047, LOSS: 3.9217, Trn AUC: 0.7838, Val AUC: 0.7377, Val AP: 0.7787\n",
      "Epoch: 048, LOSS: 4.0176, Trn AUC: 0.7838, Val AUC: 0.7376, Val AP: 0.7786\n",
      "Epoch: 049, LOSS: 3.8782, Trn AUC: 0.7837, Val AUC: 0.7375, Val AP: 0.7786\n"
     ]
    }
   ],
   "source": [
    "for epoch in range(1,50):\n",
    "    loss, trn_auc, trn_ap = train()\n",
    "    loss = float(loss)\n",
    "    \n",
    "    with torch.no_grad():\n",
    "        auc, ap = validate(data.val_pos_edges, data.val_neg_edges)\n",
    "        print('Epoch: {:03d}, LOSS: {:.4f}, Trn AUC: {:.4f}, Val AUC: {:.4f}, Val AP: {:.4f}'.format(epoch, loss, trn_auc, auc, ap))"
   ]
  },
  {
   "cell_type": "code",
   "execution_count": 14,
   "id": "0957c258",
   "metadata": {},
   "outputs": [
    {
     "ename": "NameError",
     "evalue": "name 'trainval_tf' is not defined",
     "output_type": "error",
     "traceback": [
      "\u001b[1;31m---------------------------------------------------------------------------\u001b[0m",
      "\u001b[1;31mNameError\u001b[0m                                 Traceback (most recent call last)",
      "Cell \u001b[1;32mIn [14], line 6\u001b[0m\n\u001b[0;32m      2\u001b[0m train_edges \u001b[38;5;241m=\u001b[39m data\u001b[38;5;241m.\u001b[39mtrain_edges\u001b[38;5;241m.\u001b[39mto(dev)\n\u001b[0;32m      3\u001b[0m y_train_hat \u001b[38;5;241m=\u001b[39m pd\u001b[38;5;241m.\u001b[39mDataFrame(predict(train_edges))\n\u001b[0;32m      4\u001b[0m y_train_hat \u001b[38;5;241m=\u001b[39m (y_train_hat\n\u001b[0;32m      5\u001b[0m     \u001b[38;5;241m.\u001b[39mrename(columns \u001b[38;5;241m=\u001b[39m {\u001b[38;5;241m0\u001b[39m: \u001b[38;5;124m\"\u001b[39m\u001b[38;5;124mpred\u001b[39m\u001b[38;5;124m\"\u001b[39m})\n\u001b[1;32m----> 6\u001b[0m     \u001b[38;5;241m.\u001b[39massign(y \u001b[38;5;241m=\u001b[39m \u001b[43mtrainval_tf\u001b[49m\u001b[38;5;241m.\u001b[39mloc[trainval_tf\u001b[38;5;241m.\u001b[39mtrain_mask \u001b[38;5;241m==\u001b[39m \u001b[38;5;28;01mTrue\u001b[39;00m]\u001b[38;5;241m.\u001b[39my\u001b[38;5;241m.\u001b[39mvalues)\n\u001b[0;32m      7\u001b[0m     \u001b[38;5;241m.\u001b[39massign(bin_pred \u001b[38;5;241m=\u001b[39m \u001b[38;5;28;01mlambda\u001b[39;00m df_: (df_\u001b[38;5;241m.\u001b[39mpred \u001b[38;5;241m>\u001b[39m df_\u001b[38;5;241m.\u001b[39mpred\u001b[38;5;241m.\u001b[39mmedian())\u001b[38;5;241m.\u001b[39mastype(\u001b[38;5;28mint\u001b[39m))\n\u001b[0;32m      8\u001b[0m )\n",
      "\u001b[1;31mNameError\u001b[0m: name 'trainval_tf' is not defined"
     ]
    }
   ],
   "source": [
    "# predict train\n",
    "train_edges = data.train_edges.to(dev)\n",
    "y_train_hat = pd.DataFrame(predict(train_edges))\n",
    "y_train_hat = (y_train_hat\n",
    "    .rename(columns = {0: \"pred\"})\n",
    "    .assign(y = trainval_tf.loc[trainval_tf.train_mask == True].y.values)\n",
    "    .assign(bin_pred = lambda df_: (df_.pred > df_.pred.median()).astype(int))\n",
    ")"
   ]
  },
  {
   "cell_type": "code",
   "execution_count": null,
   "id": "14fd010b",
   "metadata": {},
   "outputs": [],
   "source": [
    "from sklearn.metrics import average_precision_score, roc_auc_score\n",
    "print(\"ROC: \", roc_auc_score(y_train_hat.y, y_train_hat.pred))\n",
    "print(\"Acc: \", accuracy_score(y_train_hat.y, y_train_hat.bin_pred))"
   ]
  },
  {
   "cell_type": "code",
   "execution_count": 625,
   "id": "5517033e",
   "metadata": {},
   "outputs": [],
   "source": [
    "# predict val\n",
    "val_edges = data.val_edges.to(dev)\n",
    "y_val_hat = pd.DataFrame(predict(val_edges))\n",
    "y_val_hat = (y_val_hat\n",
    "    .rename(columns = {0: \"pred\"})\n",
    "    .assign(y = trainval_tf.loc[trainval_tf.val_mask == True].y.values)\n",
    "    .assign(bin_pred = lambda df_: (df_.pred > df_.pred.median()).astype(int))\n",
    ")"
   ]
  },
  {
   "cell_type": "code",
   "execution_count": 626,
   "id": "53695ad8",
   "metadata": {
    "scrolled": true
   },
   "outputs": [
    {
     "name": "stdout",
     "output_type": "stream",
     "text": [
      "ROC:  0.7690234214491166\n",
      "Acc:  0.7185857620640229\n"
     ]
    }
   ],
   "source": [
    "from sklearn.metrics import average_precision_score, roc_auc_score\n",
    "print(\"ROC: \", roc_auc_score(y_val_hat.y, y_val_hat.pred))\n",
    "print(\"Acc: \", accuracy_score(y_val_hat.y, y_val_hat.bin_pred))"
   ]
  },
  {
   "cell_type": "code",
   "execution_count": 661,
   "id": "e26606bc",
   "metadata": {},
   "outputs": [
    {
     "data": {
      "text/plain": [
       "bin_pred\n",
       "0           1741\n",
       "1           1740\n",
       "dtype: int64"
      ]
     },
     "execution_count": 661,
     "metadata": {},
     "output_type": "execute_result"
    }
   ],
   "source": [
    "# predict test\n",
    "test_edges = data.test_edges.to(dev)\n",
    "y_test_hat = pd.DataFrame(predict(test_edges))\n",
    "y_test_hat = (y_test_hat\n",
    "    .rename(columns = {0: \"pred\"})\n",
    "    .assign(bin_pred = lambda df_: (df_.pred > df_.pred.median()).astype(int))\n",
    ")\n",
    "y_test_hat[[\"bin_pred\"]].value_counts()"
   ]
  },
  {
   "cell_type": "code",
   "execution_count": 628,
   "id": "97f5a77a",
   "metadata": {},
   "outputs": [],
   "source": [
    "# get embeddings\n",
    "embedding = get_embeddings()"
   ]
  },
  {
   "cell_type": "code",
   "execution_count": 629,
   "id": "ff31215f",
   "metadata": {
    "scrolled": true
   },
   "outputs": [
    {
     "data": {
      "text/plain": [
       "Text(0.5, 1.0, 'UMAP projection (first 2 dim) of Node information')"
      ]
     },
     "execution_count": 629,
     "metadata": {},
     "output_type": "execute_result"
    },
    {
     "data": {
      "image/png": "[encoded data removed]",
      "text/plain": [
       "<Figure size 640x480 with 1 Axes>"
      ]
     },
     "metadata": {},
     "output_type": "display_data"
    }
   ],
   "source": [
    "# plot umap embedding of nodes\n",
    "plt.scatter(\n",
    "    embedding[:, 0],\n",
    "    embedding[:, 1])\n",
    "plt.gca().set_aspect('equal', 'datalim')\n",
    "plt.title('UMAP projection (first 2 dim) of Node information')"
   ]
  },
  {
   "cell_type": "markdown",
   "id": "cafe8feb",
   "metadata": {},
   "source": [
    "same as above but using dataset from https://github.com/SeongJinAhn/VGNAE/blob/main/main.py to validate"
   ]
  },
  {
   "cell_type": "code",
   "execution_count": 19,
   "id": "aef1199c",
   "metadata": {},
   "outputs": [],
   "source": [
    "from torch_geometric.utils import train_test_split_edges\n",
    "from torch_geometric.datasets import Planetoid, Coauthor, Amazon\n",
    "dataset = Planetoid(\"cora\", \"Cora\", 'public')\n",
    "data = dataset[0]\n",
    "data = T.NormalizeFeatures()(data)"
   ]
  },
  {
   "cell_type": "code",
   "execution_count": 20,
   "id": "8ff41cd3",
   "metadata": {},
   "outputs": [
    {
     "name": "stderr",
     "output_type": "stream",
     "text": [
      "C:\\Users\\lasse\\AppData\\Local\\Programs\\Python\\Python310\\lib\\site-packages\\torch_geometric\\deprecation.py:12: UserWarning: 'train_test_split_edges' is deprecated, use 'transforms.RandomLinkSplit' instead\n",
      "  warnings.warn(out)\n"
     ]
    }
   ],
   "source": [
    "dev = torch.device('cuda' if torch.cuda.is_available() else 'cpu')\n",
    "channels = 128\n",
    "train_rate = 0.8\n",
    "val_ratio = 0.2 / 3\n",
    "test_ratio = 0.2 / 3 * 2\n",
    "data = train_test_split_edges(data.to(dev), val_ratio=val_ratio, test_ratio=test_ratio)"
   ]
  },
  {
   "cell_type": "code",
   "execution_count": 21,
   "id": "a99e01ca",
   "metadata": {},
   "outputs": [],
   "source": [
    "model = VGAE(Encoder(data.x.size()[1], channels, data.train_pos_edge_index)).to(dev)"
   ]
  },
  {
   "cell_type": "code",
   "execution_count": 15,
   "id": "44b1d62d",
   "metadata": {},
   "outputs": [],
   "source": [
    "data.train_mask = data.val_mask = data.test_mask = data.y = None\n",
    "x, train_pos_edge_index = data.x.to(dev), data.train_pos_edge_index.to(dev)\n",
    "optimizer = torch.optim.Adam(model.parameters(), lr=0.005)"
   ]
  },
  {
   "cell_type": "code",
   "execution_count": 16,
   "id": "09c22ffd",
   "metadata": {},
   "outputs": [],
   "source": [
    "def train():\n",
    "    model.train()\n",
    "    optimizer.zero_grad()\n",
    "    z  = model.encode(x, train_pos_edge_index)\n",
    "    loss = model.recon_loss(z, train_pos_edge_index)\n",
    "    loss = loss + (1 / data.num_nodes) * model.kl_loss()\n",
    "    loss.backward()\n",
    "    optimizer.step()\n",
    "    return loss\n",
    "\n",
    "def test(pos_edge_index, neg_edge_index, plot_his=0):\n",
    "    model.eval()\n",
    "    with torch.no_grad():\n",
    "        z = model.encode(x, train_pos_edge_index)\n",
    "    return model.test(z, pos_edge_index, neg_edge_index)"
   ]
  },
  {
   "cell_type": "code",
   "execution_count": 17,
   "id": "c6722894",
   "metadata": {
    "scrolled": true
   },
   "outputs": [
    {
     "name": "stdout",
     "output_type": "stream",
     "text": [
      "Epoch: 001, LOSS: 10.5961, AUC: 0.6936, AP: 0.7234\n",
      "Epoch: 002, LOSS: 10.3247, AUC: 0.6953, AP: 0.7248\n",
      "Epoch: 003, LOSS: 10.2399, AUC: 0.6970, AP: 0.7261\n",
      "Epoch: 004, LOSS: 9.8528, AUC: 0.6987, AP: 0.7274\n",
      "Epoch: 005, LOSS: 9.8399, AUC: 0.7007, AP: 0.7289\n",
      "Epoch: 006, LOSS: 9.4896, AUC: 0.7026, AP: 0.7303\n",
      "Epoch: 007, LOSS: 9.3072, AUC: 0.7048, AP: 0.7319\n",
      "Epoch: 008, LOSS: 9.2995, AUC: 0.7072, AP: 0.7337\n",
      "Epoch: 009, LOSS: 8.8477, AUC: 0.7100, AP: 0.7358\n",
      "Epoch: 010, LOSS: 9.0528, AUC: 0.7135, AP: 0.7383\n",
      "Epoch: 011, LOSS: 8.7333, AUC: 0.7177, AP: 0.7414\n",
      "Epoch: 012, LOSS: 8.5690, AUC: 0.7231, AP: 0.7454\n",
      "Epoch: 013, LOSS: 8.3032, AUC: 0.7302, AP: 0.7509\n",
      "Epoch: 014, LOSS: 8.1966, AUC: 0.7396, AP: 0.7583\n",
      "Epoch: 015, LOSS: 8.0069, AUC: 0.7523, AP: 0.7680\n",
      "Epoch: 016, LOSS: 7.8474, AUC: 0.7706, AP: 0.7826\n",
      "Epoch: 017, LOSS: 7.6897, AUC: 0.7985, AP: 0.8053\n",
      "Epoch: 018, LOSS: 7.4065, AUC: 0.8373, AP: 0.8390\n",
      "Epoch: 019, LOSS: 7.1321, AUC: 0.8854, AP: 0.8849\n",
      "Epoch: 020, LOSS: 6.6308, AUC: 0.9218, AP: 0.9214\n",
      "Epoch: 021, LOSS: 6.4614, AUC: 0.9316, AP: 0.9300\n",
      "Epoch: 022, LOSS: 6.2725, AUC: 0.9259, AP: 0.9244\n",
      "Epoch: 023, LOSS: 6.1748, AUC: 0.9160, AP: 0.9147\n",
      "Epoch: 024, LOSS: 6.0583, AUC: 0.9108, AP: 0.9094\n",
      "Epoch: 025, LOSS: 6.1077, AUC: 0.9121, AP: 0.9103\n",
      "Epoch: 026, LOSS: 5.9216, AUC: 0.9190, AP: 0.9171\n",
      "Epoch: 027, LOSS: 5.8284, AUC: 0.9268, AP: 0.9246\n",
      "Epoch: 028, LOSS: 5.5849, AUC: 0.9338, AP: 0.9312\n",
      "Epoch: 029, LOSS: 5.3018, AUC: 0.9380, AP: 0.9353\n",
      "Epoch: 030, LOSS: 5.1063, AUC: 0.9397, AP: 0.9370\n",
      "Epoch: 031, LOSS: 5.1621, AUC: 0.9399, AP: 0.9373\n",
      "Epoch: 032, LOSS: 4.8998, AUC: 0.9393, AP: 0.9367\n",
      "Epoch: 033, LOSS: 4.8908, AUC: 0.9385, AP: 0.9358\n",
      "Epoch: 034, LOSS: 4.8584, AUC: 0.9378, AP: 0.9352\n",
      "Epoch: 035, LOSS: 4.7664, AUC: 0.9375, AP: 0.9347\n",
      "Epoch: 036, LOSS: 4.5467, AUC: 0.9374, AP: 0.9346\n",
      "Epoch: 037, LOSS: 4.5294, AUC: 0.9375, AP: 0.9346\n",
      "Epoch: 038, LOSS: 4.4306, AUC: 0.9373, AP: 0.9345\n",
      "Epoch: 039, LOSS: 4.3968, AUC: 0.9367, AP: 0.9340\n",
      "Epoch: 040, LOSS: 4.2629, AUC: 0.9362, AP: 0.9337\n",
      "Epoch: 041, LOSS: 4.2510, AUC: 0.9358, AP: 0.9334\n",
      "Epoch: 042, LOSS: 4.0485, AUC: 0.9354, AP: 0.9331\n",
      "Epoch: 043, LOSS: 3.9643, AUC: 0.9352, AP: 0.9327\n",
      "Epoch: 044, LOSS: 4.0187, AUC: 0.9349, AP: 0.9325\n",
      "Epoch: 045, LOSS: 3.8997, AUC: 0.9349, AP: 0.9324\n",
      "Epoch: 046, LOSS: 3.7900, AUC: 0.9347, AP: 0.9321\n",
      "Epoch: 047, LOSS: 3.7888, AUC: 0.9344, AP: 0.9319\n",
      "Epoch: 048, LOSS: 3.7314, AUC: 0.9342, AP: 0.9316\n",
      "Epoch: 049, LOSS: 3.7326, AUC: 0.9339, AP: 0.9314\n",
      "Epoch: 050, LOSS: 3.6046, AUC: 0.9337, AP: 0.9312\n",
      "Epoch: 051, LOSS: 3.5603, AUC: 0.9334, AP: 0.9309\n",
      "Epoch: 052, LOSS: 3.5334, AUC: 0.9331, AP: 0.9308\n",
      "Epoch: 053, LOSS: 3.4985, AUC: 0.9328, AP: 0.9305\n",
      "Epoch: 054, LOSS: 3.3517, AUC: 0.9326, AP: 0.9305\n",
      "Epoch: 055, LOSS: 3.3214, AUC: 0.9327, AP: 0.9306\n",
      "Epoch: 056, LOSS: 3.2342, AUC: 0.9331, AP: 0.9309\n",
      "Epoch: 057, LOSS: 3.2239, AUC: 0.9335, AP: 0.9313\n",
      "Epoch: 058, LOSS: 3.1875, AUC: 0.9339, AP: 0.9315\n",
      "Epoch: 059, LOSS: 3.2067, AUC: 0.9339, AP: 0.9314\n",
      "Epoch: 060, LOSS: 3.0782, AUC: 0.9339, AP: 0.9314\n",
      "Epoch: 061, LOSS: 3.1631, AUC: 0.9337, AP: 0.9312\n",
      "Epoch: 062, LOSS: 3.0992, AUC: 0.9333, AP: 0.9310\n",
      "Epoch: 063, LOSS: 3.0374, AUC: 0.9331, AP: 0.9308\n",
      "Epoch: 064, LOSS: 3.0187, AUC: 0.9327, AP: 0.9303\n",
      "Epoch: 065, LOSS: 3.0211, AUC: 0.9323, AP: 0.9299\n",
      "Epoch: 066, LOSS: 2.8766, AUC: 0.9320, AP: 0.9297\n",
      "Epoch: 067, LOSS: 2.8248, AUC: 0.9319, AP: 0.9295\n",
      "Epoch: 068, LOSS: 2.8406, AUC: 0.9318, AP: 0.9294\n",
      "Epoch: 069, LOSS: 2.7971, AUC: 0.9319, AP: 0.9294\n",
      "Epoch: 070, LOSS: 2.7583, AUC: 0.9321, AP: 0.9296\n",
      "Epoch: 071, LOSS: 2.7692, AUC: 0.9325, AP: 0.9300\n",
      "Epoch: 072, LOSS: 2.7319, AUC: 0.9329, AP: 0.9303\n",
      "Epoch: 073, LOSS: 2.6758, AUC: 0.9333, AP: 0.9306\n",
      "Epoch: 074, LOSS: 2.6619, AUC: 0.9335, AP: 0.9307\n",
      "Epoch: 075, LOSS: 2.6653, AUC: 0.9338, AP: 0.9309\n",
      "Epoch: 076, LOSS: 2.7131, AUC: 0.9339, AP: 0.9309\n",
      "Epoch: 077, LOSS: 2.6037, AUC: 0.9340, AP: 0.9310\n",
      "Epoch: 078, LOSS: 2.5990, AUC: 0.9340, AP: 0.9310\n",
      "Epoch: 079, LOSS: 2.5168, AUC: 0.9339, AP: 0.9309\n",
      "Epoch: 080, LOSS: 2.5387, AUC: 0.9338, AP: 0.9309\n",
      "Epoch: 081, LOSS: 2.5460, AUC: 0.9336, AP: 0.9308\n",
      "Epoch: 082, LOSS: 2.4774, AUC: 0.9336, AP: 0.9308\n",
      "Epoch: 083, LOSS: 2.4404, AUC: 0.9334, AP: 0.9308\n",
      "Epoch: 084, LOSS: 2.3968, AUC: 0.9333, AP: 0.9307\n",
      "Epoch: 085, LOSS: 2.3907, AUC: 0.9335, AP: 0.9308\n",
      "Epoch: 086, LOSS: 2.3399, AUC: 0.9337, AP: 0.9309\n",
      "Epoch: 087, LOSS: 2.3722, AUC: 0.9341, AP: 0.9313\n",
      "Epoch: 088, LOSS: 2.3962, AUC: 0.9345, AP: 0.9316\n",
      "Epoch: 089, LOSS: 2.3140, AUC: 0.9348, AP: 0.9319\n",
      "Epoch: 090, LOSS: 2.2998, AUC: 0.9351, AP: 0.9322\n",
      "Epoch: 091, LOSS: 2.2985, AUC: 0.9353, AP: 0.9324\n",
      "Epoch: 092, LOSS: 2.2486, AUC: 0.9356, AP: 0.9326\n",
      "Epoch: 093, LOSS: 2.3051, AUC: 0.9357, AP: 0.9326\n",
      "Epoch: 094, LOSS: 2.2380, AUC: 0.9357, AP: 0.9328\n",
      "Epoch: 095, LOSS: 2.1883, AUC: 0.9356, AP: 0.9327\n",
      "Epoch: 096, LOSS: 2.1566, AUC: 0.9355, AP: 0.9326\n",
      "Epoch: 097, LOSS: 2.1877, AUC: 0.9355, AP: 0.9328\n",
      "Epoch: 098, LOSS: 2.1536, AUC: 0.9354, AP: 0.9327\n",
      "Epoch: 099, LOSS: 2.0871, AUC: 0.9354, AP: 0.9328\n"
     ]
    }
   ],
   "source": [
    "for epoch in range(1,100):\n",
    "    loss = train()\n",
    "    loss = float(loss)\n",
    "    \n",
    "    with torch.no_grad():\n",
    "        test_pos, test_neg = data.test_pos_edge_index, data.test_neg_edge_index\n",
    "        auc, ap = test(data.test_pos_edge_index, data.test_neg_edge_index)\n",
    "        print('Epoch: {:03d}, LOSS: {:.4f}, AUC: {:.4f}, AP: {:.4f}'.format(epoch, loss, auc, ap))"
   ]
  }
 ],
 "metadata": {
  "kernelspec": {
   "display_name": "Python 3 (ipykernel)",
   "language": "python",
   "name": "python3"
  },
  "language_info": {
   "codemirror_mode": {
    "name": "ipython",
    "version": 3
   },
   "file_extension": ".py",
   "mimetype": "text/x-python",
   "name": "python",
   "nbconvert_exporter": "python",
   "pygments_lexer": "ipython3",
   "version": "3.10.8"
  }
 },
 "nbformat": 4,
 "nbformat_minor": 5
}
