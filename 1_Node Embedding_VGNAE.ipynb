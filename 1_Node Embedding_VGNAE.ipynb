{
 "cells": [
  {
   "cell_type": "markdown",
   "id": "ca3f9796",
   "metadata": {},
   "source": [
    "# Machine Learning in Network Science\n",
    "Group Challenge\n",
    "\n",
    "***\n",
    "by: Leonardo Basili, Paul Bédier, Lasse Schmidt\n",
    "\n",
    "within: MS Data Sciences & Business Analytics\n",
    "\n",
    "at: CentraleSupélec & ESSEC Business School\n",
    "***"
   ]
  },
  {
   "cell_type": "markdown",
   "id": "3a46be5a",
   "metadata": {},
   "source": [
    "This notebook covers deep learning techniques, namely:\n",
    "- Variational Graph Normalized Auto-Encoders (based on https://arxiv.org/abs/2108.08046) which allow us to learn graph embeddings in an unsupervised way (based on graph structure and node embeddings)"
   ]
  },
  {
   "cell_type": "markdown",
   "id": "54f241a1",
   "metadata": {},
   "source": [
    "### 1. Import Packages"
   ]
  },
  {
   "cell_type": "code",
   "execution_count": 6,
   "id": "98e82605",
   "metadata": {},
   "outputs": [
    {
     "data": {
      "text/plain": [
       "<module 'util.autoencoder' from 'D:\\\\Dokumente\\\\2_Bildung\\\\2_MSc\\\\1_Classes\\\\Y2T2_Machine Learning in Network Science\\\\3_challenge\\\\Network-Science_Challenge\\\\util\\\\autoencoder.py'>"
      ]
     },
     "execution_count": 6,
     "metadata": {},
     "output_type": "execute_result"
    }
   ],
   "source": [
    "from importlib import reload\n",
    "reload(analyseData)\n",
    "reload(prepData)\n",
    "reload(loadData)\n",
    "reload(modeling)\n",
    "reload(autoenc)"
   ]
  },
  {
   "cell_type": "code",
   "execution_count": 1,
   "id": "a3ffae4f",
   "metadata": {},
   "outputs": [],
   "source": [
    "# import own scripts\n",
    "import util.analyse_Data as analyseData\n",
    "import util.preprocess_Data as prepData\n",
    "import util.load_Data as loadData\n",
    "import util.modeling as modeling\n",
    "import util.autoencoder as autoenc"
   ]
  },
  {
   "cell_type": "code",
   "execution_count": 2,
   "id": "d7c6ba33",
   "metadata": {},
   "outputs": [],
   "source": [
    "# parse & handle data\n",
    "import os\n",
    "import numpy as np\n",
    "import pandas as pd\n",
    "\n",
    "# modeling\n",
    "import torch\n",
    "from torch_geometric.nn import GAE, VGAE\n",
    "\n",
    "# hyperparam optimization\n",
    "from ray import tune, air\n",
    "\n",
    "# evaluation\n",
    "from sklearn.metrics import accuracy_score, roc_auc_score, classification_report, confusion_matrix, ConfusionMatrixDisplay\n",
    "\n",
    "\n",
    "# visualization\n",
    "import matplotlib.pyplot as plt\n",
    "import seaborn as sns"
   ]
  },
  {
   "cell_type": "code",
   "execution_count": 3,
   "id": "c84a352e",
   "metadata": {},
   "outputs": [],
   "source": [
    "# set matplotlib and seaborn settings for nicer plots\n",
    "%matplotlib inline\n",
    "\n",
    "SMALL_SIZE = 6\n",
    "MEDIUM_SIZE = 8\n",
    "BIGGER_SIZE = 10\n",
    "\n",
    "plt.rc('font', size=SMALL_SIZE)          # controls default text sizes\n",
    "plt.rc('axes', titlesize=BIGGER_SIZE)    # fontsize of the axes title\n",
    "plt.rc('axes', labelsize=MEDIUM_SIZE)    # fontsize of the x and y labels\n",
    "plt.rc('xtick', labelsize=SMALL_SIZE)    # fontsize of the tick labels\n",
    "plt.rc('ytick', labelsize=SMALL_SIZE)    # fontsize of the tick labels\n",
    "plt.rc('legend', fontsize=MEDIUM_SIZE)   # legend fontsize\n",
    "plt.rc('figure', titlesize=BIGGER_SIZE)  # fontsize of the figure title"
   ]
  },
  {
   "cell_type": "markdown",
   "id": "74f20e78",
   "metadata": {},
   "source": [
    "### 2. Load Data for Modeling"
   ]
  },
  {
   "cell_type": "code",
   "execution_count": 5,
   "id": "2a7d5835",
   "metadata": {},
   "outputs": [
    {
     "name": "stdout",
     "output_type": "stream",
     "text": [
      "Number of positive edges for training: 4174\n",
      "Number of positive edges for validation: 1043\n",
      "Number of edges in original graph: 5217\n",
      "Number of edges in training graph: 4174\n",
      "The graph is connected\n",
      "Enriching node features...\n",
      "Create PyTorch Geometric dataset...\n"
     ]
    }
   ],
   "source": [
    "# might take up to a minute\n",
    "data, (G, G_train, node_info, train_tf, val_tf, trainval_tf, test, test_tf) = autoenc.load(testing_ratio = 0.2)"
   ]
  },
  {
   "cell_type": "code",
   "execution_count": 6,
   "id": "3ee7a8e9",
   "metadata": {},
   "outputs": [],
   "source": [
    "# where to save trial results to\n",
    "ray_path = os.path.abspath(\"\")+\"\\\\ray_results\\\\\"\n",
    "if not os.path.isdir(ray_path):\n",
    "    os.mkdir(ray_path)"
   ]
  },
  {
   "cell_type": "markdown",
   "id": "345c4898",
   "metadata": {},
   "source": [
    "### 3. VGNAE Node Embeddings\n",
    "\n",
    "https://github.com/SeongJinAhn/VGNAE/blob/main/main.py for Variational Graph Normalized Auto-Encoders"
   ]
  },
  {
   "cell_type": "markdown",
   "id": "372aac42",
   "metadata": {},
   "source": [
    "#### 3.1 Hyperparameter tuning"
   ]
  },
  {
   "cell_type": "code",
   "execution_count": 15,
   "id": "b68c1c9f",
   "metadata": {},
   "outputs": [],
   "source": [
    "# tunable hyperparameter search space --> search using tune.choice([]), tune.uniform(lower, upper), tune.grid_search([])\n",
    "config = {\n",
    "    # log params in raytune\n",
    "    \"ray\": True,\n",
    "    \n",
    "    # print results per epoch\n",
    "    \"verbose\": False,\n",
    "    \n",
    "    # basic infos\n",
    "    \"data\": data,\n",
    "    \"max_epochs\": 50,\n",
    "    \"save\": True, # if we want to save best model on validation set\n",
    "    \n",
    "    # model\n",
    "    \"model\": \"VGNAE\",\n",
    "    \n",
    "    ## encoder\n",
    "    \"enc_channels\": 64,\n",
    "    \"scaling\": 1.8,\n",
    "    \"num_prop\": tune.grid_search([4, 16, 32, 64, 128]),\n",
    "    \"teleport\": 0, # tune.grid_search([0, 0.1, 0.2]),\n",
    "    \"dropout\": 0, # tune.grid_search([0, 0.1, 0.2]),\n",
    "    \n",
    "    # optimizer\n",
    "    \"lr\": tune.grid_search([1e-3, 1e-4, 1e-5]),\n",
    "    \"wd\": 0,\n",
    "}"
   ]
  },
  {
   "cell_type": "code",
   "execution_count": 16,
   "id": "5116af65",
   "metadata": {},
   "outputs": [
    {
     "data": {
      "text/html": [
       "<div class=\"tuneStatus\">\n",
       "  <div style=\"display: flex;flex-direction: row\">\n",
       "    <div style=\"display: flex;flex-direction: column;\">\n",
       "      <h3>Tune Status</h3>\n",
       "      <table>\n",
       "<tbody>\n",
       "<tr><td>Current time:</td><td>2023-03-23 17:26:49</td></tr>\n",
       "<tr><td>Running for: </td><td>00:04:08.38        </td></tr>\n",
       "<tr><td>Memory:      </td><td>16.3/31.9 GiB      </td></tr>\n",
       "</tbody>\n",
       "</table>\n",
       "    </div>\n",
       "    <div class=\"vDivider\"></div>\n",
       "    <div class=\"systemInfo\">\n",
       "      <h3>System Info</h3>\n",
       "      Using FIFO scheduling algorithm.<br>Resources requested: 0/16 CPUs, 0/1 GPUs, 0.0/13.9 GiB heap, 0.0/6.95 GiB objects\n",
       "    </div>\n",
       "    \n",
       "  </div>\n",
       "  <div class=\"hDivider\"></div>\n",
       "  <div class=\"trialStatus\">\n",
       "    <h3>Trial Status</h3>\n",
       "    <table>\n",
       "<thead>\n",
       "<tr><th>Trial name                </th><th>status    </th><th>loc           </th><th style=\"text-align: right;\">  scaling</th><th style=\"text-align: right;\">  num_prop</th><th style=\"text-align: right;\">    lr</th><th style=\"text-align: right;\">  trn_auc</th><th style=\"text-align: right;\">  val_auc</th><th style=\"text-align: right;\">  max_val_auc</th><th style=\"text-align: right;\">   training_iterat\n",
       "ion</th></tr>\n",
       "</thead>\n",
       "<tbody>\n",
       "<tr><td>VGNAE_0.001_0_ef228_00000 </td><td>TERMINATED</td><td>127.0.0.1:5524</td><td style=\"text-align: right;\">      1.8</td><td style=\"text-align: right;\">         4</td><td style=\"text-align: right;\">0.001 </td><td style=\"text-align: right;\"> 0.852846</td><td style=\"text-align: right;\"> 0.546584</td><td style=\"text-align: right;\">     0.709987</td><td style=\"text-align: right;\">50</td></tr>\n",
       "<tr><td>VGNAE_0.0001_0_ef228_00001</td><td>TERMINATED</td><td>127.0.0.1:5524</td><td style=\"text-align: right;\">      1.8</td><td style=\"text-align: right;\">         4</td><td style=\"text-align: right;\">0.0001</td><td style=\"text-align: right;\"> 0.766844</td><td style=\"text-align: right;\"> 0.709032</td><td style=\"text-align: right;\">     0.711898</td><td style=\"text-align: right;\">50</td></tr>\n",
       "<tr><td>VGNAE_1e-05_0_ef228_00002 </td><td>TERMINATED</td><td>127.0.0.1:5524</td><td style=\"text-align: right;\">      1.8</td><td style=\"text-align: right;\">         4</td><td style=\"text-align: right;\">1e-05 </td><td style=\"text-align: right;\"> 0.742477</td><td style=\"text-align: right;\"> 0.710943</td><td style=\"text-align: right;\">     0.711898</td><td style=\"text-align: right;\">50</td></tr>\n",
       "<tr><td>VGNAE_0.001_0_ef228_00003 </td><td>TERMINATED</td><td>127.0.0.1:5524</td><td style=\"text-align: right;\">      1.8</td><td style=\"text-align: right;\">        16</td><td style=\"text-align: right;\">0.001 </td><td style=\"text-align: right;\"> 0.852368</td><td style=\"text-align: right;\"> 0.54085 </td><td style=\"text-align: right;\">     0.705209</td><td style=\"text-align: right;\">50</td></tr>\n",
       "<tr><td>VGNAE_0.0001_0_ef228_00004</td><td>TERMINATED</td><td>127.0.0.1:5524</td><td style=\"text-align: right;\">      1.8</td><td style=\"text-align: right;\">        16</td><td style=\"text-align: right;\">0.0001</td><td style=\"text-align: right;\"> 0.758961</td><td style=\"text-align: right;\"> 0.705209</td><td style=\"text-align: right;\">     0.70712 </td><td style=\"text-align: right;\">50</td></tr>\n",
       "<tr><td>VGNAE_1e-05_0_ef228_00005 </td><td>TERMINATED</td><td>127.0.0.1:5524</td><td style=\"text-align: right;\">      1.8</td><td style=\"text-align: right;\">        16</td><td style=\"text-align: right;\">1e-05 </td><td style=\"text-align: right;\"> 0.727188</td><td style=\"text-align: right;\"> 0.703298</td><td style=\"text-align: right;\">     0.704254</td><td style=\"text-align: right;\">50</td></tr>\n",
       "<tr><td>VGNAE_0.001_0_ef228_00006 </td><td>TERMINATED</td><td>127.0.0.1:5524</td><td style=\"text-align: right;\">      1.8</td><td style=\"text-align: right;\">        32</td><td style=\"text-align: right;\">0.001 </td><td style=\"text-align: right;\"> 0.852368</td><td style=\"text-align: right;\"> 0.54085 </td><td style=\"text-align: right;\">     0.705209</td><td style=\"text-align: right;\">50</td></tr>\n",
       "<tr><td>VGNAE_0.0001_0_ef228_00007</td><td>TERMINATED</td><td>127.0.0.1:5524</td><td style=\"text-align: right;\">      1.8</td><td style=\"text-align: right;\">        32</td><td style=\"text-align: right;\">0.0001</td><td style=\"text-align: right;\"> 0.758961</td><td style=\"text-align: right;\"> 0.705209</td><td style=\"text-align: right;\">     0.70712 </td><td style=\"text-align: right;\">50</td></tr>\n",
       "<tr><td>VGNAE_1e-05_0_ef228_00008 </td><td>TERMINATED</td><td>127.0.0.1:5524</td><td style=\"text-align: right;\">      1.8</td><td style=\"text-align: right;\">        32</td><td style=\"text-align: right;\">1e-05 </td><td style=\"text-align: right;\"> 0.727188</td><td style=\"text-align: right;\"> 0.703298</td><td style=\"text-align: right;\">     0.704254</td><td style=\"text-align: right;\">50</td></tr>\n",
       "<tr><td>VGNAE_0.001_0_ef228_00009 </td><td>TERMINATED</td><td>127.0.0.1:5524</td><td style=\"text-align: right;\">      1.8</td><td style=\"text-align: right;\">        64</td><td style=\"text-align: right;\">0.001 </td><td style=\"text-align: right;\"> 0.852368</td><td style=\"text-align: right;\"> 0.54085 </td><td style=\"text-align: right;\">     0.705209</td><td style=\"text-align: right;\">50</td></tr>\n",
       "<tr><td>VGNAE_0.0001_0_ef228_00010</td><td>TERMINATED</td><td>127.0.0.1:5524</td><td style=\"text-align: right;\">      1.8</td><td style=\"text-align: right;\">        64</td><td style=\"text-align: right;\">0.0001</td><td style=\"text-align: right;\"> 0.758961</td><td style=\"text-align: right;\"> 0.705209</td><td style=\"text-align: right;\">     0.70712 </td><td style=\"text-align: right;\">50</td></tr>\n",
       "<tr><td>VGNAE_1e-05_0_ef228_00011 </td><td>TERMINATED</td><td>127.0.0.1:5524</td><td style=\"text-align: right;\">      1.8</td><td style=\"text-align: right;\">        64</td><td style=\"text-align: right;\">1e-05 </td><td style=\"text-align: right;\"> 0.727188</td><td style=\"text-align: right;\"> 0.703298</td><td style=\"text-align: right;\">     0.704254</td><td style=\"text-align: right;\">50</td></tr>\n",
       "<tr><td>VGNAE_0.001_0_ef228_00012 </td><td>TERMINATED</td><td>127.0.0.1:5524</td><td style=\"text-align: right;\">      1.8</td><td style=\"text-align: right;\">       128</td><td style=\"text-align: right;\">0.001 </td><td style=\"text-align: right;\"> 0.852368</td><td style=\"text-align: right;\"> 0.54085 </td><td style=\"text-align: right;\">     0.705209</td><td style=\"text-align: right;\">50</td></tr>\n",
       "<tr><td>VGNAE_0.0001_0_ef228_00013</td><td>TERMINATED</td><td>127.0.0.1:5524</td><td style=\"text-align: right;\">      1.8</td><td style=\"text-align: right;\">       128</td><td style=\"text-align: right;\">0.0001</td><td style=\"text-align: right;\"> 0.758961</td><td style=\"text-align: right;\"> 0.705209</td><td style=\"text-align: right;\">     0.70712 </td><td style=\"text-align: right;\">50</td></tr>\n",
       "<tr><td>VGNAE_1e-05_0_ef228_00014 </td><td>TERMINATED</td><td>127.0.0.1:5524</td><td style=\"text-align: right;\">      1.8</td><td style=\"text-align: right;\">       128</td><td style=\"text-align: right;\">1e-05 </td><td style=\"text-align: right;\"> 0.727188</td><td style=\"text-align: right;\"> 0.703298</td><td style=\"text-align: right;\">     0.704254</td><td style=\"text-align: right;\">50</td></tr>\n",
       "</tbody>\n",
       "</table>\n",
       "  </div>\n",
       "</div>\n",
       "<style>\n",
       ".tuneStatus {\n",
       "  color: var(--jp-ui-font-color1);\n",
       "}\n",
       ".tuneStatus .systemInfo {\n",
       "  display: flex;\n",
       "  flex-direction: column;\n",
       "}\n",
       ".tuneStatus td {\n",
       "  white-space: nowrap;\n",
       "}\n",
       ".tuneStatus .trialStatus {\n",
       "  display: flex;\n",
       "  flex-direction: column;\n",
       "}\n",
       ".tuneStatus h3 {\n",
       "  font-weight: bold;\n",
       "}\n",
       ".tuneStatus .hDivider {\n",
       "  border-bottom-width: var(--jp-border-width);\n",
       "  border-bottom-color: var(--jp-border-color0);\n",
       "  border-bottom-style: solid;\n",
       "}\n",
       ".tuneStatus .vDivider {\n",
       "  border-left-width: var(--jp-border-width);\n",
       "  border-left-color: var(--jp-border-color0);\n",
       "  border-left-style: solid;\n",
       "  margin: 0.5em 1em 0.5em 1em;\n",
       "}\n",
       "</style>\n"
      ],
      "text/plain": [
       "<IPython.core.display.HTML object>"
      ]
     },
     "metadata": {},
     "output_type": "display_data"
    },
    {
     "name": "stderr",
     "output_type": "stream",
     "text": [
      "2023-03-23 17:26:49,653\tINFO tune.py:798 -- Total run time: 248.39 seconds (229.34 seconds for the tuning loop).\n"
     ]
    }
   ],
   "source": [
    "# how many trials to run (if grid_search utilized, it will run this number per grid_search value)\n",
    "num_samples = 1\n",
    "\n",
    "# run experiment\n",
    "result_grid = autoenc.run_ray_experiment(\n",
    "    autoenc.train_validate, config, ray_path, num_samples,\n",
    "    metric_columns = [\"trn_auc\", \"val_auc\", \"max_val_auc\", \"training_iteration\"],\n",
    "    parameter_columns = [\"scaling\", \"num_prop\", \"lr\"]\n",
    ")"
   ]
  },
  {
   "cell_type": "markdown",
   "id": "c419b918",
   "metadata": {},
   "source": [
    "#### 3.2 Result of Hyperparameter tuning"
   ]
  },
  {
   "cell_type": "code",
   "execution_count": 6,
   "id": "0e9db923",
   "metadata": {},
   "outputs": [
    {
     "name": "stderr",
     "output_type": "stream",
     "text": [
      "The trainable will be overwritten - this should be done with caution: it's possible to supply an incompatible trainable, and there are no guarantees that the resumed experiment will continue successfully. If you encounter errors during training, ensure that you are passing in the same trainable that was passed into the initial `Tuner` object.\n"
     ]
    },
    {
     "name": "stdout",
     "output_type": "stream",
     "text": [
      "Loading results from ray_results/2_VGNAE_fine search...\n",
      "Done!\n",
      "\n",
      "No errors! Number of terminated trials: 75\n"
     ]
    }
   ],
   "source": [
    "restored_tuner, result_grid = autoenc.open_validate_ray_experiment(\n",
    "    \"ray_results/2_VGNAE_fine search\",\n",
    "    autoenc.train_validate\n",
    ")"
   ]
  },
  {
   "cell_type": "code",
   "execution_count": 17,
   "id": "31297470",
   "metadata": {},
   "outputs": [
    {
     "data": {
      "text/html": [
       "<div>\n",
       "<style scoped>\n",
       "    .dataframe tbody tr th:only-of-type {\n",
       "        vertical-align: middle;\n",
       "    }\n",
       "\n",
       "    .dataframe tbody tr th {\n",
       "        vertical-align: top;\n",
       "    }\n",
       "\n",
       "    .dataframe thead th {\n",
       "        text-align: right;\n",
       "    }\n",
       "</style>\n",
       "<table border=\"1\" class=\"dataframe\">\n",
       "  <thead>\n",
       "    <tr style=\"text-align: right;\">\n",
       "      <th></th>\n",
       "      <th>trial_id</th>\n",
       "      <th>training_iteration</th>\n",
       "      <th>config/enc_channels</th>\n",
       "      <th>config/scaling</th>\n",
       "      <th>config/num_prop</th>\n",
       "      <th>config/lr</th>\n",
       "      <th>config/wd</th>\n",
       "      <th>trn_loss</th>\n",
       "      <th>val_loss</th>\n",
       "      <th>trn_auc</th>\n",
       "      <th>val_auc</th>\n",
       "    </tr>\n",
       "  </thead>\n",
       "  <tbody>\n",
       "    <tr>\n",
       "      <th>1</th>\n",
       "      <td>ef228_00001</td>\n",
       "      <td>1</td>\n",
       "      <td>64</td>\n",
       "      <td>1.8</td>\n",
       "      <td>4</td>\n",
       "      <td>0.00010</td>\n",
       "      <td>0</td>\n",
       "      <td>10.095224</td>\n",
       "      <td>4.476958</td>\n",
       "      <td>0.741760</td>\n",
       "      <td>0.711898</td>\n",
       "    </tr>\n",
       "    <tr>\n",
       "      <th>2</th>\n",
       "      <td>ef228_00002</td>\n",
       "      <td>1</td>\n",
       "      <td>64</td>\n",
       "      <td>1.8</td>\n",
       "      <td>4</td>\n",
       "      <td>0.00001</td>\n",
       "      <td>0</td>\n",
       "      <td>10.095224</td>\n",
       "      <td>4.484480</td>\n",
       "      <td>0.741282</td>\n",
       "      <td>0.711898</td>\n",
       "    </tr>\n",
       "    <tr>\n",
       "      <th>0</th>\n",
       "      <td>ef228_00000</td>\n",
       "      <td>1</td>\n",
       "      <td>64</td>\n",
       "      <td>1.8</td>\n",
       "      <td>4</td>\n",
       "      <td>0.00100</td>\n",
       "      <td>0</td>\n",
       "      <td>10.095224</td>\n",
       "      <td>4.399359</td>\n",
       "      <td>0.744149</td>\n",
       "      <td>0.709987</td>\n",
       "    </tr>\n",
       "    <tr>\n",
       "      <th>4</th>\n",
       "      <td>ef228_00004</td>\n",
       "      <td>27</td>\n",
       "      <td>64</td>\n",
       "      <td>1.8</td>\n",
       "      <td>16</td>\n",
       "      <td>0.00010</td>\n",
       "      <td>0</td>\n",
       "      <td>9.554084</td>\n",
       "      <td>4.345303</td>\n",
       "      <td>0.742716</td>\n",
       "      <td>0.707120</td>\n",
       "    </tr>\n",
       "    <tr>\n",
       "      <th>7</th>\n",
       "      <td>ef228_00007</td>\n",
       "      <td>27</td>\n",
       "      <td>64</td>\n",
       "      <td>1.8</td>\n",
       "      <td>32</td>\n",
       "      <td>0.00010</td>\n",
       "      <td>0</td>\n",
       "      <td>9.554212</td>\n",
       "      <td>4.345518</td>\n",
       "      <td>0.742357</td>\n",
       "      <td>0.707120</td>\n",
       "    </tr>\n",
       "    <tr>\n",
       "      <th>10</th>\n",
       "      <td>ef228_00010</td>\n",
       "      <td>27</td>\n",
       "      <td>64</td>\n",
       "      <td>1.8</td>\n",
       "      <td>64</td>\n",
       "      <td>0.00010</td>\n",
       "      <td>0</td>\n",
       "      <td>9.554212</td>\n",
       "      <td>4.345518</td>\n",
       "      <td>0.742357</td>\n",
       "      <td>0.707120</td>\n",
       "    </tr>\n",
       "    <tr>\n",
       "      <th>13</th>\n",
       "      <td>ef228_00013</td>\n",
       "      <td>27</td>\n",
       "      <td>64</td>\n",
       "      <td>1.8</td>\n",
       "      <td>128</td>\n",
       "      <td>0.00010</td>\n",
       "      <td>0</td>\n",
       "      <td>9.554213</td>\n",
       "      <td>4.345518</td>\n",
       "      <td>0.742357</td>\n",
       "      <td>0.707120</td>\n",
       "    </tr>\n",
       "    <tr>\n",
       "      <th>3</th>\n",
       "      <td>ef228_00003</td>\n",
       "      <td>2</td>\n",
       "      <td>64</td>\n",
       "      <td>1.8</td>\n",
       "      <td>16</td>\n",
       "      <td>0.00100</td>\n",
       "      <td>0</td>\n",
       "      <td>9.845572</td>\n",
       "      <td>4.457172</td>\n",
       "      <td>0.737579</td>\n",
       "      <td>0.705209</td>\n",
       "    </tr>\n",
       "    <tr>\n",
       "      <th>6</th>\n",
       "      <td>ef228_00006</td>\n",
       "      <td>2</td>\n",
       "      <td>64</td>\n",
       "      <td>1.8</td>\n",
       "      <td>32</td>\n",
       "      <td>0.00100</td>\n",
       "      <td>0</td>\n",
       "      <td>9.845717</td>\n",
       "      <td>4.457353</td>\n",
       "      <td>0.737460</td>\n",
       "      <td>0.705209</td>\n",
       "    </tr>\n",
       "    <tr>\n",
       "      <th>9</th>\n",
       "      <td>ef228_00009</td>\n",
       "      <td>2</td>\n",
       "      <td>64</td>\n",
       "      <td>1.8</td>\n",
       "      <td>64</td>\n",
       "      <td>0.00100</td>\n",
       "      <td>0</td>\n",
       "      <td>9.845716</td>\n",
       "      <td>4.457353</td>\n",
       "      <td>0.737460</td>\n",
       "      <td>0.705209</td>\n",
       "    </tr>\n",
       "  </tbody>\n",
       "</table>\n",
       "</div>"
      ],
      "text/plain": [
       "       trial_id  training_iteration  config/enc_channels  config/scaling  \\\n",
       "1   ef228_00001                   1                   64             1.8   \n",
       "2   ef228_00002                   1                   64             1.8   \n",
       "0   ef228_00000                   1                   64             1.8   \n",
       "4   ef228_00004                  27                   64             1.8   \n",
       "7   ef228_00007                  27                   64             1.8   \n",
       "10  ef228_00010                  27                   64             1.8   \n",
       "13  ef228_00013                  27                   64             1.8   \n",
       "3   ef228_00003                   2                   64             1.8   \n",
       "6   ef228_00006                   2                   64             1.8   \n",
       "9   ef228_00009                   2                   64             1.8   \n",
       "\n",
       "    config/num_prop  config/lr  config/wd   trn_loss  val_loss   trn_auc  \\\n",
       "1                 4    0.00010          0  10.095224  4.476958  0.741760   \n",
       "2                 4    0.00001          0  10.095224  4.484480  0.741282   \n",
       "0                 4    0.00100          0  10.095224  4.399359  0.744149   \n",
       "4                16    0.00010          0   9.554084  4.345303  0.742716   \n",
       "7                32    0.00010          0   9.554212  4.345518  0.742357   \n",
       "10               64    0.00010          0   9.554212  4.345518  0.742357   \n",
       "13              128    0.00010          0   9.554213  4.345518  0.742357   \n",
       "3                16    0.00100          0   9.845572  4.457172  0.737579   \n",
       "6                32    0.00100          0   9.845717  4.457353  0.737460   \n",
       "9                64    0.00100          0   9.845716  4.457353  0.737460   \n",
       "\n",
       "     val_auc  \n",
       "1   0.711898  \n",
       "2   0.711898  \n",
       "0   0.709987  \n",
       "4   0.707120  \n",
       "7   0.707120  \n",
       "10  0.707120  \n",
       "13  0.707120  \n",
       "3   0.705209  \n",
       "6   0.705209  \n",
       "9   0.705209  "
      ]
     },
     "execution_count": 17,
     "metadata": {},
     "output_type": "execute_result"
    }
   ],
   "source": [
    "# get best score per trial (highest validation accuracy)\n",
    "N = 10\n",
    "best_result_df = result_grid.get_dataframe(\n",
    "    filter_metric=\"val_auc\", filter_mode=\"max\"\n",
    ")\n",
    "best_result_df = best_result_df[[\"trial_id\", \"training_iteration\", \"config/enc_channels\",\n",
    "                                 \"config/scaling\", \"config/num_prop\", \"config/lr\", \"config/wd\", \n",
    "                                 \"trn_loss\", \"val_loss\", \"trn_auc\", \"val_auc\"]]\n",
    "best_result_df = best_result_df.sort_values(by=[\"val_auc\"], ascending = False)\n",
    "\n",
    "if len(result_grid) > N:\n",
    "    best_result_df = best_result_df.head(N)\n",
    "\n",
    "best_result_df"
   ]
  },
  {
   "cell_type": "markdown",
   "id": "155cb789",
   "metadata": {},
   "source": [
    "#### 3.3 Embeddings based on best model"
   ]
  },
  {
   "cell_type": "code",
   "execution_count": 14,
   "id": "60a3d4eb",
   "metadata": {},
   "outputs": [
    {
     "data": {
      "text/plain": [
       "<All keys matched successfully>"
      ]
     },
     "execution_count": 14,
     "metadata": {},
     "output_type": "execute_result"
    }
   ],
   "source": [
    "# load best autoencoder\n",
    "path = os.path.abspath(\"\")+\"\\\\models\\\\autoencoder.pt\"\n",
    "model = VGAE(autoenc.Encoder(data.x.size()[1], 64, 1.5, 4, 0, 0))\n",
    "model.load_state_dict(torch.load(path))"
   ]
  },
  {
   "cell_type": "code",
   "execution_count": 19,
   "id": "9a83b802",
   "metadata": {},
   "outputs": [],
   "source": [
    "# get embeddings of nodes\n",
    "embedding = autoenc.get_embeddings(model, data.x, data.train_pos_edges)"
   ]
  },
  {
   "cell_type": "code",
   "execution_count": 20,
   "id": "12aae6b8",
   "metadata": {},
   "outputs": [
    {
     "data": {
      "text/plain": [
       "Text(0.5, 1.0, 'VGNAE projection (first 2 dim) of nodes')"
      ]
     },
     "execution_count": 20,
     "metadata": {},
     "output_type": "execute_result"
    },
    {
     "data": {
      "image/png": "[encoded data removed]",
      "text/plain": [
       "<Figure size 640x480 with 1 Axes>"
      ]
     },
     "metadata": {},
     "output_type": "display_data"
    }
   ],
   "source": [
    "# plot embedding\n",
    "plt.scatter(\n",
    "    embedding[:, 0],\n",
    "    embedding[:, 1])\n",
    "plt.gca().set_aspect('equal', 'datalim')\n",
    "plt.title('VGNAE projection (first 2 dim) of nodes')"
   ]
  },
  {
   "cell_type": "markdown",
   "id": "564340ea",
   "metadata": {},
   "source": [
    "Embeddings look like a sphere, we cannot do any meaningful clusering based on this.\n",
    "\n",
    "Let us now take our original VGNAE embeddings and put them into a pandas dataframe."
   ]
  },
  {
   "cell_type": "code",
   "execution_count": 21,
   "id": "7b823a53",
   "metadata": {},
   "outputs": [
    {
     "data": {
      "text/html": [
       "<div>\n",
       "<style scoped>\n",
       "    .dataframe tbody tr th:only-of-type {\n",
       "        vertical-align: middle;\n",
       "    }\n",
       "\n",
       "    .dataframe tbody tr th {\n",
       "        vertical-align: top;\n",
       "    }\n",
       "\n",
       "    .dataframe thead th {\n",
       "        text-align: right;\n",
       "    }\n",
       "</style>\n",
       "<table border=\"1\" class=\"dataframe\">\n",
       "  <thead>\n",
       "    <tr style=\"text-align: right;\">\n",
       "      <th></th>\n",
       "      <th>x1</th>\n",
       "      <th>x2</th>\n",
       "      <th>x3</th>\n",
       "      <th>x4</th>\n",
       "      <th>x5</th>\n",
       "      <th>x6</th>\n",
       "      <th>x7</th>\n",
       "      <th>x8</th>\n",
       "      <th>x9</th>\n",
       "      <th>x10</th>\n",
       "      <th>...</th>\n",
       "      <th>x55</th>\n",
       "      <th>x56</th>\n",
       "      <th>x57</th>\n",
       "      <th>x58</th>\n",
       "      <th>x59</th>\n",
       "      <th>x60</th>\n",
       "      <th>x61</th>\n",
       "      <th>x62</th>\n",
       "      <th>x63</th>\n",
       "      <th>x64</th>\n",
       "    </tr>\n",
       "  </thead>\n",
       "  <tbody>\n",
       "    <tr>\n",
       "      <th>0</th>\n",
       "      <td>0.997071</td>\n",
       "      <td>-0.569476</td>\n",
       "      <td>0.099492</td>\n",
       "      <td>1.770889</td>\n",
       "      <td>-0.289025</td>\n",
       "      <td>1.496010</td>\n",
       "      <td>0.314600</td>\n",
       "      <td>-0.790011</td>\n",
       "      <td>-1.842178</td>\n",
       "      <td>-1.569338</td>\n",
       "      <td>...</td>\n",
       "      <td>1.862246</td>\n",
       "      <td>0.093979</td>\n",
       "      <td>1.784731</td>\n",
       "      <td>0.550283</td>\n",
       "      <td>-1.871324</td>\n",
       "      <td>0.957955</td>\n",
       "      <td>2.847600</td>\n",
       "      <td>1.938954</td>\n",
       "      <td>-0.079856</td>\n",
       "      <td>1.018597</td>\n",
       "    </tr>\n",
       "    <tr>\n",
       "      <th>1</th>\n",
       "      <td>-0.071352</td>\n",
       "      <td>1.244380</td>\n",
       "      <td>0.955698</td>\n",
       "      <td>-0.114192</td>\n",
       "      <td>0.903962</td>\n",
       "      <td>-0.603017</td>\n",
       "      <td>-0.505089</td>\n",
       "      <td>-1.074332</td>\n",
       "      <td>0.651185</td>\n",
       "      <td>0.365505</td>\n",
       "      <td>...</td>\n",
       "      <td>1.061382</td>\n",
       "      <td>0.732869</td>\n",
       "      <td>-0.258655</td>\n",
       "      <td>0.526837</td>\n",
       "      <td>0.862173</td>\n",
       "      <td>0.432812</td>\n",
       "      <td>-0.175384</td>\n",
       "      <td>2.014951</td>\n",
       "      <td>-1.202015</td>\n",
       "      <td>0.634952</td>\n",
       "    </tr>\n",
       "    <tr>\n",
       "      <th>2</th>\n",
       "      <td>2.867577</td>\n",
       "      <td>-0.695617</td>\n",
       "      <td>-0.909999</td>\n",
       "      <td>-0.219585</td>\n",
       "      <td>-0.226042</td>\n",
       "      <td>-0.660466</td>\n",
       "      <td>-0.204073</td>\n",
       "      <td>0.393031</td>\n",
       "      <td>1.893696</td>\n",
       "      <td>0.865087</td>\n",
       "      <td>...</td>\n",
       "      <td>-0.630161</td>\n",
       "      <td>-0.783322</td>\n",
       "      <td>-0.234918</td>\n",
       "      <td>-0.685481</td>\n",
       "      <td>0.325459</td>\n",
       "      <td>0.176680</td>\n",
       "      <td>0.387911</td>\n",
       "      <td>0.980215</td>\n",
       "      <td>-0.193003</td>\n",
       "      <td>0.919945</td>\n",
       "    </tr>\n",
       "    <tr>\n",
       "      <th>3</th>\n",
       "      <td>-1.085987</td>\n",
       "      <td>0.020585</td>\n",
       "      <td>0.624360</td>\n",
       "      <td>0.575737</td>\n",
       "      <td>-0.081215</td>\n",
       "      <td>0.661051</td>\n",
       "      <td>2.023026</td>\n",
       "      <td>-0.703336</td>\n",
       "      <td>0.123392</td>\n",
       "      <td>0.072961</td>\n",
       "      <td>...</td>\n",
       "      <td>-1.947037</td>\n",
       "      <td>-0.128079</td>\n",
       "      <td>0.771275</td>\n",
       "      <td>-0.586532</td>\n",
       "      <td>0.869936</td>\n",
       "      <td>0.311723</td>\n",
       "      <td>-0.517847</td>\n",
       "      <td>-0.828687</td>\n",
       "      <td>-0.077901</td>\n",
       "      <td>0.542578</td>\n",
       "    </tr>\n",
       "    <tr>\n",
       "      <th>4</th>\n",
       "      <td>-0.111463</td>\n",
       "      <td>-0.891799</td>\n",
       "      <td>-0.352767</td>\n",
       "      <td>0.272374</td>\n",
       "      <td>-0.243427</td>\n",
       "      <td>-0.419829</td>\n",
       "      <td>1.157166</td>\n",
       "      <td>1.383824</td>\n",
       "      <td>0.612440</td>\n",
       "      <td>2.069523</td>\n",
       "      <td>...</td>\n",
       "      <td>-0.796456</td>\n",
       "      <td>-0.584228</td>\n",
       "      <td>-0.443619</td>\n",
       "      <td>-0.031951</td>\n",
       "      <td>0.310150</td>\n",
       "      <td>-0.279820</td>\n",
       "      <td>-1.397200</td>\n",
       "      <td>-0.970400</td>\n",
       "      <td>0.876664</td>\n",
       "      <td>1.714804</td>\n",
       "    </tr>\n",
       "    <tr>\n",
       "      <th>...</th>\n",
       "      <td>...</td>\n",
       "      <td>...</td>\n",
       "      <td>...</td>\n",
       "      <td>...</td>\n",
       "      <td>...</td>\n",
       "      <td>...</td>\n",
       "      <td>...</td>\n",
       "      <td>...</td>\n",
       "      <td>...</td>\n",
       "      <td>...</td>\n",
       "      <td>...</td>\n",
       "      <td>...</td>\n",
       "      <td>...</td>\n",
       "      <td>...</td>\n",
       "      <td>...</td>\n",
       "      <td>...</td>\n",
       "      <td>...</td>\n",
       "      <td>...</td>\n",
       "      <td>...</td>\n",
       "      <td>...</td>\n",
       "      <td>...</td>\n",
       "    </tr>\n",
       "    <tr>\n",
       "      <th>3592</th>\n",
       "      <td>-0.591717</td>\n",
       "      <td>0.888862</td>\n",
       "      <td>0.621995</td>\n",
       "      <td>-0.633513</td>\n",
       "      <td>0.576470</td>\n",
       "      <td>0.186928</td>\n",
       "      <td>-1.455729</td>\n",
       "      <td>0.739141</td>\n",
       "      <td>-1.306635</td>\n",
       "      <td>-0.192654</td>\n",
       "      <td>...</td>\n",
       "      <td>-0.627417</td>\n",
       "      <td>-0.030068</td>\n",
       "      <td>-1.212708</td>\n",
       "      <td>-0.087929</td>\n",
       "      <td>-1.089786</td>\n",
       "      <td>1.097817</td>\n",
       "      <td>1.263022</td>\n",
       "      <td>-0.215117</td>\n",
       "      <td>-0.601797</td>\n",
       "      <td>-1.097092</td>\n",
       "    </tr>\n",
       "    <tr>\n",
       "      <th>3593</th>\n",
       "      <td>0.402709</td>\n",
       "      <td>-1.005643</td>\n",
       "      <td>0.463547</td>\n",
       "      <td>0.056492</td>\n",
       "      <td>0.926115</td>\n",
       "      <td>0.098112</td>\n",
       "      <td>0.942940</td>\n",
       "      <td>-0.196954</td>\n",
       "      <td>-1.794956</td>\n",
       "      <td>-0.249557</td>\n",
       "      <td>...</td>\n",
       "      <td>1.940788</td>\n",
       "      <td>1.556548</td>\n",
       "      <td>0.483246</td>\n",
       "      <td>-3.942598</td>\n",
       "      <td>0.844724</td>\n",
       "      <td>0.757136</td>\n",
       "      <td>0.765465</td>\n",
       "      <td>-0.356413</td>\n",
       "      <td>0.530495</td>\n",
       "      <td>0.005907</td>\n",
       "    </tr>\n",
       "    <tr>\n",
       "      <th>3594</th>\n",
       "      <td>0.507469</td>\n",
       "      <td>1.467487</td>\n",
       "      <td>-0.051609</td>\n",
       "      <td>-0.563099</td>\n",
       "      <td>1.791867</td>\n",
       "      <td>0.108168</td>\n",
       "      <td>0.699620</td>\n",
       "      <td>0.848376</td>\n",
       "      <td>-1.009218</td>\n",
       "      <td>1.145778</td>\n",
       "      <td>...</td>\n",
       "      <td>0.850527</td>\n",
       "      <td>-0.130299</td>\n",
       "      <td>0.284307</td>\n",
       "      <td>0.721657</td>\n",
       "      <td>-1.207154</td>\n",
       "      <td>0.737002</td>\n",
       "      <td>-1.381206</td>\n",
       "      <td>0.714541</td>\n",
       "      <td>0.803719</td>\n",
       "      <td>1.343314</td>\n",
       "    </tr>\n",
       "    <tr>\n",
       "      <th>3595</th>\n",
       "      <td>-0.288709</td>\n",
       "      <td>0.968297</td>\n",
       "      <td>0.105678</td>\n",
       "      <td>0.749759</td>\n",
       "      <td>0.972262</td>\n",
       "      <td>-0.604261</td>\n",
       "      <td>-1.021591</td>\n",
       "      <td>1.132221</td>\n",
       "      <td>-0.776064</td>\n",
       "      <td>-0.402250</td>\n",
       "      <td>...</td>\n",
       "      <td>-0.227707</td>\n",
       "      <td>-0.451159</td>\n",
       "      <td>1.672031</td>\n",
       "      <td>-0.827310</td>\n",
       "      <td>-1.367546</td>\n",
       "      <td>0.038120</td>\n",
       "      <td>-1.721147</td>\n",
       "      <td>-0.546552</td>\n",
       "      <td>1.931648</td>\n",
       "      <td>0.828025</td>\n",
       "    </tr>\n",
       "    <tr>\n",
       "      <th>3596</th>\n",
       "      <td>0.197802</td>\n",
       "      <td>-0.436674</td>\n",
       "      <td>0.720389</td>\n",
       "      <td>-1.184366</td>\n",
       "      <td>-0.529925</td>\n",
       "      <td>-0.003541</td>\n",
       "      <td>0.617426</td>\n",
       "      <td>1.293382</td>\n",
       "      <td>-0.390268</td>\n",
       "      <td>-0.711727</td>\n",
       "      <td>...</td>\n",
       "      <td>0.779805</td>\n",
       "      <td>-1.379193</td>\n",
       "      <td>1.311476</td>\n",
       "      <td>-0.880401</td>\n",
       "      <td>0.320446</td>\n",
       "      <td>-0.409429</td>\n",
       "      <td>0.419626</td>\n",
       "      <td>0.263718</td>\n",
       "      <td>0.689136</td>\n",
       "      <td>0.419600</td>\n",
       "    </tr>\n",
       "  </tbody>\n",
       "</table>\n",
       "<p>3597 rows × 64 columns</p>\n",
       "</div>"
      ],
      "text/plain": [
       "            x1        x2        x3        x4        x5        x6        x7  \\\n",
       "0     0.997071 -0.569476  0.099492  1.770889 -0.289025  1.496010  0.314600   \n",
       "1    -0.071352  1.244380  0.955698 -0.114192  0.903962 -0.603017 -0.505089   \n",
       "2     2.867577 -0.695617 -0.909999 -0.219585 -0.226042 -0.660466 -0.204073   \n",
       "3    -1.085987  0.020585  0.624360  0.575737 -0.081215  0.661051  2.023026   \n",
       "4    -0.111463 -0.891799 -0.352767  0.272374 -0.243427 -0.419829  1.157166   \n",
       "...        ...       ...       ...       ...       ...       ...       ...   \n",
       "3592 -0.591717  0.888862  0.621995 -0.633513  0.576470  0.186928 -1.455729   \n",
       "3593  0.402709 -1.005643  0.463547  0.056492  0.926115  0.098112  0.942940   \n",
       "3594  0.507469  1.467487 -0.051609 -0.563099  1.791867  0.108168  0.699620   \n",
       "3595 -0.288709  0.968297  0.105678  0.749759  0.972262 -0.604261 -1.021591   \n",
       "3596  0.197802 -0.436674  0.720389 -1.184366 -0.529925 -0.003541  0.617426   \n",
       "\n",
       "            x8        x9       x10  ...       x55       x56       x57  \\\n",
       "0    -0.790011 -1.842178 -1.569338  ...  1.862246  0.093979  1.784731   \n",
       "1    -1.074332  0.651185  0.365505  ...  1.061382  0.732869 -0.258655   \n",
       "2     0.393031  1.893696  0.865087  ... -0.630161 -0.783322 -0.234918   \n",
       "3    -0.703336  0.123392  0.072961  ... -1.947037 -0.128079  0.771275   \n",
       "4     1.383824  0.612440  2.069523  ... -0.796456 -0.584228 -0.443619   \n",
       "...        ...       ...       ...  ...       ...       ...       ...   \n",
       "3592  0.739141 -1.306635 -0.192654  ... -0.627417 -0.030068 -1.212708   \n",
       "3593 -0.196954 -1.794956 -0.249557  ...  1.940788  1.556548  0.483246   \n",
       "3594  0.848376 -1.009218  1.145778  ...  0.850527 -0.130299  0.284307   \n",
       "3595  1.132221 -0.776064 -0.402250  ... -0.227707 -0.451159  1.672031   \n",
       "3596  1.293382 -0.390268 -0.711727  ...  0.779805 -1.379193  1.311476   \n",
       "\n",
       "           x58       x59       x60       x61       x62       x63       x64  \n",
       "0     0.550283 -1.871324  0.957955  2.847600  1.938954 -0.079856  1.018597  \n",
       "1     0.526837  0.862173  0.432812 -0.175384  2.014951 -1.202015  0.634952  \n",
       "2    -0.685481  0.325459  0.176680  0.387911  0.980215 -0.193003  0.919945  \n",
       "3    -0.586532  0.869936  0.311723 -0.517847 -0.828687 -0.077901  0.542578  \n",
       "4    -0.031951  0.310150 -0.279820 -1.397200 -0.970400  0.876664  1.714804  \n",
       "...        ...       ...       ...       ...       ...       ...       ...  \n",
       "3592 -0.087929 -1.089786  1.097817  1.263022 -0.215117 -0.601797 -1.097092  \n",
       "3593 -3.942598  0.844724  0.757136  0.765465 -0.356413  0.530495  0.005907  \n",
       "3594  0.721657 -1.207154  0.737002 -1.381206  0.714541  0.803719  1.343314  \n",
       "3595 -0.827310 -1.367546  0.038120 -1.721147 -0.546552  1.931648  0.828025  \n",
       "3596 -0.880401  0.320446 -0.409429  0.419626  0.263718  0.689136  0.419600  \n",
       "\n",
       "[3597 rows x 64 columns]"
      ]
     },
     "execution_count": 21,
     "metadata": {},
     "output_type": "execute_result"
    }
   ],
   "source": [
    "node_emb = pd.DataFrame(embedding).rename(columns = {val: f\"x{val+1}\" for val in range(embedding.shape[1])})\n",
    "\n",
    "node_emb"
   ]
  },
  {
   "cell_type": "markdown",
   "id": "64dcbb71",
   "metadata": {},
   "source": [
    "#### 3.4 Compute edge features based on best model"
   ]
  },
  {
   "cell_type": "code",
   "execution_count": 22,
   "id": "4f6dc822",
   "metadata": {},
   "outputs": [
    {
     "name": "stdout",
     "output_type": "stream",
     "text": [
      "ROC:  0.8420662045281327\n",
      "Acc:  0.7385072725342393\n"
     ]
    }
   ],
   "source": [
    "# predict train\n",
    "y_train_hat = pd.DataFrame(autoenc.get_similarity(model, data.x, data.train_pos_edges, data.train_edges))\n",
    "y_train_hat = (y_train_hat\n",
    "    .rename(columns = {0: \"sim\"})\n",
    "    .assign(y = trainval_tf.loc[trainval_tf.train_mask == True].y.values)\n",
    "    .assign(pred = lambda df_: (df_.sim > df_.sim.median()).astype(int))\n",
    ")\n",
    "print(\"ROC: \", roc_auc_score(y_train_hat.y, y_train_hat.sim))\n",
    "print(\"Acc: \", accuracy_score(y_train_hat.y, y_train_hat.pred))"
   ]
  },
  {
   "cell_type": "code",
   "execution_count": 23,
   "id": "31eab61f",
   "metadata": {},
   "outputs": [
    {
     "data": {
      "text/plain": [
       "<seaborn.axisgrid.PairGrid at 0x203aeb4f100>"
      ]
     },
     "execution_count": 23,
     "metadata": {},
     "output_type": "execute_result"
    },
    {
     "data": {
      "image/png": "[encoded data removed]",
      "text/plain": [
       "<Figure size 263.889x250 with 2 Axes>"
      ]
     },
     "metadata": {},
     "output_type": "display_data"
    }
   ],
   "source": [
    "sns.pairplot(y_train_hat[[\"sim\", \"y\"]], hue = \"y\")"
   ]
  },
  {
   "cell_type": "code",
   "execution_count": 26,
   "id": "bc2a3c26",
   "metadata": {
    "scrolled": true
   },
   "outputs": [
    {
     "name": "stdout",
     "output_type": "stream",
     "text": [
      "ROC:  0.7887304633945709\n",
      "Acc:  0.7093690248565966\n"
     ]
    }
   ],
   "source": [
    "# predict val\n",
    "y_val_hat = pd.DataFrame(autoenc.get_similarity(model, data.x, data.train_pos_edges, data.val_edges))\n",
    "y_val_hat = (y_val_hat\n",
    "    .rename(columns = {0: \"sim\"})\n",
    "    .assign(y = trainval_tf.loc[trainval_tf.val_mask == True].y.values)\n",
    "    .assign(pred = lambda df_: (df_.sim > df_.sim.median()).astype(int))\n",
    ")\n",
    "print(\"ROC: \", roc_auc_score(y_val_hat.y, y_val_hat.sim))\n",
    "print(\"Acc: \", accuracy_score(y_val_hat.y, y_val_hat.pred))"
   ]
  },
  {
   "cell_type": "code",
   "execution_count": 21,
   "id": "4f8461a8",
   "metadata": {},
   "outputs": [],
   "source": [
    "tmp = (val_tf\n",
    "    .assign(sim  = y_val_hat.pred.values)\n",
    "    .assign(dist = lambda df_: [np.linalg.norm(node_emb.loc[u].values-node_emb.loc[v].values) for u, v in zip(df_.node1, df_.node2)])\n",
    ")"
   ]
  },
  {
   "cell_type": "code",
   "execution_count": 22,
   "id": "ca8db459",
   "metadata": {},
   "outputs": [
    {
     "data": {
      "text/plain": [
       "<seaborn.axisgrid.PairGrid at 0x2907bf7e8f0>"
      ]
     },
     "execution_count": 22,
     "metadata": {},
     "output_type": "execute_result"
    },
    {
     "data": {
      "image/png": "[encoded data removed]",
      "text/plain": [
       "<Figure size 547x500 with 6 Axes>"
      ]
     },
     "metadata": {},
     "output_type": "display_data"
    }
   ],
   "source": [
    "sns.pairplot(tmp[[\"sim\", \"dist\", \"y\"]], hue = \"y\")"
   ]
  },
  {
   "cell_type": "code",
   "execution_count": 23,
   "id": "4efe1fbc",
   "metadata": {},
   "outputs": [
    {
     "data": {
      "text/html": [
       "<div>\n",
       "<style scoped>\n",
       "    .dataframe tbody tr th:only-of-type {\n",
       "        vertical-align: middle;\n",
       "    }\n",
       "\n",
       "    .dataframe tbody tr th {\n",
       "        vertical-align: top;\n",
       "    }\n",
       "\n",
       "    .dataframe thead th {\n",
       "        text-align: right;\n",
       "    }\n",
       "</style>\n",
       "<table border=\"1\" class=\"dataframe\">\n",
       "  <thead>\n",
       "    <tr style=\"text-align: right;\">\n",
       "      <th></th>\n",
       "      <th>node1</th>\n",
       "      <th>node2</th>\n",
       "      <th>y</th>\n",
       "      <th>sim</th>\n",
       "      <th>dist</th>\n",
       "    </tr>\n",
       "  </thead>\n",
       "  <tbody>\n",
       "    <tr>\n",
       "      <th>node1</th>\n",
       "      <td>1.000000</td>\n",
       "      <td>0.493127</td>\n",
       "      <td>0.036595</td>\n",
       "      <td>0.267447</td>\n",
       "      <td>-0.002811</td>\n",
       "    </tr>\n",
       "    <tr>\n",
       "      <th>node2</th>\n",
       "      <td>0.493127</td>\n",
       "      <td>1.000000</td>\n",
       "      <td>0.059586</td>\n",
       "      <td>0.329002</td>\n",
       "      <td>-0.036501</td>\n",
       "    </tr>\n",
       "    <tr>\n",
       "      <th>y</th>\n",
       "      <td>0.036595</td>\n",
       "      <td>0.059586</td>\n",
       "      <td>1.000000</td>\n",
       "      <td>0.439084</td>\n",
       "      <td>0.116431</td>\n",
       "    </tr>\n",
       "    <tr>\n",
       "      <th>sim</th>\n",
       "      <td>0.267447</td>\n",
       "      <td>0.329002</td>\n",
       "      <td>0.439084</td>\n",
       "      <td>1.000000</td>\n",
       "      <td>0.155171</td>\n",
       "    </tr>\n",
       "    <tr>\n",
       "      <th>dist</th>\n",
       "      <td>-0.002811</td>\n",
       "      <td>-0.036501</td>\n",
       "      <td>0.116431</td>\n",
       "      <td>0.155171</td>\n",
       "      <td>1.000000</td>\n",
       "    </tr>\n",
       "  </tbody>\n",
       "</table>\n",
       "</div>"
      ],
      "text/plain": [
       "          node1     node2         y       sim      dist\n",
       "node1  1.000000  0.493127  0.036595  0.267447 -0.002811\n",
       "node2  0.493127  1.000000  0.059586  0.329002 -0.036501\n",
       "y      0.036595  0.059586  1.000000  0.439084  0.116431\n",
       "sim    0.267447  0.329002  0.439084  1.000000  0.155171\n",
       "dist  -0.002811 -0.036501  0.116431  0.155171  1.000000"
      ]
     },
     "execution_count": 23,
     "metadata": {},
     "output_type": "execute_result"
    }
   ],
   "source": [
    "tmp.corr()"
   ]
  },
  {
   "cell_type": "code",
   "execution_count": 49,
   "id": "d3fe8363",
   "metadata": {},
   "outputs": [
    {
     "data": {
      "text/plain": [
       "pred\n",
       "0       1741\n",
       "1       1740\n",
       "dtype: int64"
      ]
     },
     "execution_count": 49,
     "metadata": {},
     "output_type": "execute_result"
    }
   ],
   "source": [
    "# predict test\n",
    "y_test_hat = pd.DataFrame(autoenc.get_similarity(model, data.x, data.trainval_pos_edges, data.test_edges))\n",
    "y_test_hat = (y_test_hat\n",
    "    .rename(columns = {0: \"sim\"})\n",
    "    .assign(pred = lambda df_: (df_.sim > df_.sim.median()).astype(int))\n",
    ")\n",
    "y_test_hat[[\"pred\"]].value_counts()"
   ]
  },
  {
   "cell_type": "markdown",
   "id": "0bc9b2f2",
   "metadata": {},
   "source": [
    "### X. Code Graveyard"
   ]
  },
  {
   "cell_type": "markdown",
   "id": "fcd0ca52",
   "metadata": {},
   "source": [
    "previous code without functions"
   ]
  },
  {
   "cell_type": "code",
   "execution_count": null,
   "id": "3c4797ee",
   "metadata": {},
   "outputs": [],
   "source": [
    "from importlib import reload\n",
    "reload(officialData)"
   ]
  },
  {
   "cell_type": "code",
   "execution_count": 50,
   "id": "2ef78d77",
   "metadata": {},
   "outputs": [],
   "source": [
    "import util.official_Data as officialData"
   ]
  },
  {
   "cell_type": "code",
   "execution_count": 51,
   "id": "472e111f",
   "metadata": {},
   "outputs": [],
   "source": [
    "enriched_test = officialData.enrich_test()"
   ]
  },
  {
   "cell_type": "code",
   "execution_count": 52,
   "id": "74fb2774",
   "metadata": {},
   "outputs": [],
   "source": [
    "enriched_test_tf = pd.merge(test_tf, enriched_test, how = \"left\", on = [\"node1\", \"node2\"])\n",
    "y_col = enriched_test_tf.pop(\"y\")\n",
    "enriched_test_tf.insert(2, \"y\", y_col)"
   ]
  },
  {
   "cell_type": "code",
   "execution_count": 53,
   "id": "49b73ccc",
   "metadata": {},
   "outputs": [
    {
     "data": {
      "text/plain": [
       "0    1748\n",
       "1    1733\n",
       "Name: y, dtype: int64"
      ]
     },
     "execution_count": 53,
     "metadata": {},
     "output_type": "execute_result"
    }
   ],
   "source": [
    "enriched_test_tf.y.value_counts()"
   ]
  },
  {
   "cell_type": "code",
   "execution_count": 54,
   "id": "e6e7d1a5",
   "metadata": {},
   "outputs": [
    {
     "data": {
      "text/plain": [
       "0.7061221397531562"
      ]
     },
     "execution_count": 54,
     "metadata": {},
     "output_type": "execute_result"
    }
   ],
   "source": [
    "roc_auc_score(enriched_test_tf.y, y_test_hat.pred)"
   ]
  }
 ],
 "metadata": {
  "kernelspec": {
   "display_name": "Python 3 (ipykernel)",
   "language": "python",
   "name": "python3"
  },
  "language_info": {
   "codemirror_mode": {
    "name": "ipython",
    "version": 3
   },
   "file_extension": ".py",
   "mimetype": "text/x-python",
   "name": "python",
   "nbconvert_exporter": "python",
   "pygments_lexer": "ipython3",
   "version": "3.10.8"
  }
 },
 "nbformat": 4,
 "nbformat_minor": 5
}
