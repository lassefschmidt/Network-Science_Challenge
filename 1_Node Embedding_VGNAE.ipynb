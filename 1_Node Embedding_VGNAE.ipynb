{
 "cells": [
  {
   "cell_type": "markdown",
   "id": "ca3f9796",
   "metadata": {},
   "source": [
    "# Machine Learning in Network Science\n",
    "Group Challenge\n",
    "\n",
    "***\n",
    "by: Leonardo Basili, Paul Bédier, Lasse Schmidt\n",
    "\n",
    "within: MS Data Sciences & Business Analytics\n",
    "\n",
    "at: CentraleSupélec & ESSEC Business School\n",
    "***"
   ]
  },
  {
   "cell_type": "markdown",
   "id": "3a46be5a",
   "metadata": {},
   "source": [
    "This notebook covers deep learning techniques, namely:\n",
    "- Variational Graph Normalized Auto-Encoders (based on https://arxiv.org/abs/2108.08046) which allow us to learn graph embeddings in an unsupervised way (based on graph structure and node embeddings)"
   ]
  },
  {
   "cell_type": "markdown",
   "id": "54f241a1",
   "metadata": {},
   "source": [
    "### 1. Import Packages"
   ]
  },
  {
   "cell_type": "code",
   "execution_count": 33,
   "id": "98e82605",
   "metadata": {},
   "outputs": [
    {
     "data": {
      "text/plain": [
       "<module 'util.autoencoder' from 'D:\\\\Dokumente\\\\2_Bildung\\\\2_MSc\\\\1_Classes\\\\Y2T2_Machine Learning in Network Science\\\\3_challenge\\\\Network-Science_Challenge\\\\util\\\\autoencoder.py'>"
      ]
     },
     "execution_count": 33,
     "metadata": {},
     "output_type": "execute_result"
    }
   ],
   "source": [
    "from importlib import reload\n",
    "reload(analyseData)\n",
    "reload(prepData)\n",
    "reload(loadData)\n",
    "reload(modeling)\n",
    "reload(autoenc)"
   ]
  },
  {
   "cell_type": "code",
   "execution_count": 1,
   "id": "a3ffae4f",
   "metadata": {},
   "outputs": [],
   "source": [
    "# import own scripts\n",
    "import util.analyse_Data as analyseData\n",
    "import util.preprocess_Data as prepData\n",
    "import util.load_Data as loadData\n",
    "import util.modeling as modeling\n",
    "import util.autoencoder as autoenc"
   ]
  },
  {
   "cell_type": "code",
   "execution_count": 2,
   "id": "d7c6ba33",
   "metadata": {},
   "outputs": [],
   "source": [
    "# parse & handle data\n",
    "import os\n",
    "import numpy as np\n",
    "import pandas as pd\n",
    "\n",
    "# modeling\n",
    "import torch\n",
    "from torch_geometric.nn import GAE, VGAE\n",
    "\n",
    "# hyperparam optimization\n",
    "from ray import tune, air\n",
    "\n",
    "# evaluation\n",
    "from sklearn.metrics import accuracy_score, roc_auc_score, classification_report, confusion_matrix, ConfusionMatrixDisplay\n",
    "\n",
    "\n",
    "# visualization\n",
    "import matplotlib.pyplot as plt\n",
    "import seaborn as sns"
   ]
  },
  {
   "cell_type": "code",
   "execution_count": 3,
   "id": "c84a352e",
   "metadata": {},
   "outputs": [],
   "source": [
    "# set matplotlib and seaborn settings for nicer plots\n",
    "%matplotlib inline\n",
    "\n",
    "SMALL_SIZE = 6\n",
    "MEDIUM_SIZE = 8\n",
    "BIGGER_SIZE = 10\n",
    "\n",
    "plt.rc('font', size=SMALL_SIZE)          # controls default text sizes\n",
    "plt.rc('axes', titlesize=BIGGER_SIZE)    # fontsize of the axes title\n",
    "plt.rc('axes', labelsize=MEDIUM_SIZE)    # fontsize of the x and y labels\n",
    "plt.rc('xtick', labelsize=SMALL_SIZE)    # fontsize of the tick labels\n",
    "plt.rc('ytick', labelsize=SMALL_SIZE)    # fontsize of the tick labels\n",
    "plt.rc('legend', fontsize=MEDIUM_SIZE)   # legend fontsize\n",
    "plt.rc('figure', titlesize=BIGGER_SIZE)  # fontsize of the figure title"
   ]
  },
  {
   "cell_type": "markdown",
   "id": "74f20e78",
   "metadata": {},
   "source": [
    "### 2. Load Data for Modeling"
   ]
  },
  {
   "cell_type": "code",
   "execution_count": 4,
   "id": "2a7d5835",
   "metadata": {},
   "outputs": [
    {
     "name": "stdout",
     "output_type": "stream",
     "text": [
      "Number of positive edges for training: 4174\n",
      "Number of positive edges for validation: 1043\n",
      "Number of edges in original graph: 5217\n",
      "Number of edges in training graph: 4174\n",
      "The graph is connected\n"
     ]
    }
   ],
   "source": [
    "# might take up to a minute\n",
    "data, (G, G_train, node_info, train_tf, val_tf, trainval_tf, test, test_tf) = autoenc.load(testing_ratio = 0.2)"
   ]
  },
  {
   "cell_type": "code",
   "execution_count": 5,
   "id": "3ee7a8e9",
   "metadata": {},
   "outputs": [],
   "source": [
    "# where to save trial results to\n",
    "ray_path = os.path.abspath(\"\")+\"\\\\ray_results\\\\\"\n",
    "if not os.path.isdir(ray_path):\n",
    "    os.mkdir(ray_path)"
   ]
  },
  {
   "cell_type": "markdown",
   "id": "345c4898",
   "metadata": {},
   "source": [
    "### 3. VGNAE Node Embeddings\n",
    "\n",
    "https://github.com/SeongJinAhn/VGNAE/blob/main/main.py for Variational Graph Normalized Auto-Encoders"
   ]
  },
  {
   "cell_type": "markdown",
   "id": "372aac42",
   "metadata": {},
   "source": [
    "#### 3.1 Hyperparameter tuning"
   ]
  },
  {
   "cell_type": "code",
   "execution_count": 6,
   "id": "b68c1c9f",
   "metadata": {},
   "outputs": [],
   "source": [
    "# tunable hyperparameter search space --> search using tune.choice([]), tune.uniform(lower, upper), tune.grid_search([])\n",
    "config = {\n",
    "    # log params in raytune\n",
    "    \"ray\": True,\n",
    "    \n",
    "    # print results per epoch\n",
    "    \"verbose\": False,\n",
    "    \n",
    "    # basic infos\n",
    "    \"data\": data,\n",
    "    \"max_epochs\": 300,\n",
    "    \"save\": True, # if we want to save best model on validation set\n",
    "    \n",
    "    # model\n",
    "    \"model\": \"VGNAE\",\n",
    "    \n",
    "    ## encoder\n",
    "    \"enc_channels\": 64, # tune.grid_search([2, 8, 16, 64, 128])\n",
    "    \"scaling\": tune.grid_search([1.2, 1.5, 1.8]), # tune.grid_search([0.2, 0.5, 1.5, 2])\n",
    "    \"num_prop\": 5, # tune.grid_search([1, 2, 5])\n",
    "    \"teleport\": tune.grid_search([0, 0.01, 0.05, 0.1, 0.2]), # tune.grid_search([0, 0.01, 0.05])\n",
    "    \"dropout\": tune.grid_search([0, 0.01, 0.05, 0.1, 0.2]), # tune.grid_search([0, 0.01, 0.05])\n",
    "    \n",
    "    # optimizer\n",
    "    \"lr\": 1e-5,\n",
    "    \"wd\": 1e-1\n",
    "}"
   ]
  },
  {
   "cell_type": "code",
   "execution_count": 7,
   "id": "5116af65",
   "metadata": {},
   "outputs": [
    {
     "data": {
      "text/html": [
       "<div class=\"tuneStatus\">\n",
       "  <div style=\"display: flex;flex-direction: row\">\n",
       "    <div style=\"display: flex;flex-direction: column;\">\n",
       "      <h3>Tune Status</h3>\n",
       "      <table>\n",
       "<tbody>\n",
       "<tr><td>Current time:</td><td>2023-03-12 20:11:37</td></tr>\n",
       "<tr><td>Running for: </td><td>00:29:55.01        </td></tr>\n",
       "<tr><td>Memory:      </td><td>15.1/31.9 GiB      </td></tr>\n",
       "</tbody>\n",
       "</table>\n",
       "    </div>\n",
       "    <div class=\"vDivider\"></div>\n",
       "    <div class=\"systemInfo\">\n",
       "      <h3>System Info</h3>\n",
       "      Using FIFO scheduling algorithm.<br>Resources requested: 0/16 CPUs, 0/1 GPUs, 0.0/15.3 GiB heap, 0.0/7.65 GiB objects\n",
       "    </div>\n",
       "    \n",
       "  </div>\n",
       "  <div class=\"hDivider\"></div>\n",
       "  <div class=\"trialStatus\">\n",
       "    <h3>Trial Status</h3>\n",
       "    <table>\n",
       "<thead>\n",
       "<tr><th>Trial name                 </th><th>status    </th><th>loc            </th><th style=\"text-align: right;\">  enc_channels</th><th style=\"text-align: right;\">  scaling</th><th style=\"text-align: right;\">  num_prop</th><th style=\"text-align: right;\">  teleport</th><th style=\"text-align: right;\">  dropout</th><th style=\"text-align: right;\">   lr</th><th style=\"text-align: right;\">  wd</th><th style=\"text-align: right;\">  trn_acc</th><th style=\"text-align: right;\">  val_acc</th><th style=\"text-align: right;\">  max_val_acc</th><th style=\"text-align: right;\">    training_iterat\n",
       "ion</th></tr>\n",
       "</thead>\n",
       "<tbody>\n",
       "<tr><td>VGNAE_1e-05_0.1_88825_00000</td><td>TERMINATED</td><td>127.0.0.1:23588</td><td style=\"text-align: right;\">            64</td><td style=\"text-align: right;\">      1.2</td><td style=\"text-align: right;\">         5</td><td style=\"text-align: right;\">      0   </td><td style=\"text-align: right;\">     0   </td><td style=\"text-align: right;\">1e-05</td><td style=\"text-align: right;\"> 0.1</td><td style=\"text-align: right;\"> 0.73913 </td><td style=\"text-align: right;\"> 0.709986</td><td style=\"text-align: right;\">     0.709986</td><td style=\"text-align: right;\">300</td></tr>\n",
       "<tr><td>VGNAE_1e-05_0.1_88825_00001</td><td>TERMINATED</td><td>127.0.0.1:23588</td><td style=\"text-align: right;\">            64</td><td style=\"text-align: right;\">      1.2</td><td style=\"text-align: right;\">         5</td><td style=\"text-align: right;\">      0   </td><td style=\"text-align: right;\">     0.01</td><td style=\"text-align: right;\">1e-05</td><td style=\"text-align: right;\"> 0.1</td><td style=\"text-align: right;\"> 0.746775</td><td style=\"text-align: right;\"> 0.711897</td><td style=\"text-align: right;\">     0.714763</td><td style=\"text-align: right;\">300</td></tr>\n",
       "<tr><td>VGNAE_1e-05_0.1_88825_00002</td><td>TERMINATED</td><td>127.0.0.1:23588</td><td style=\"text-align: right;\">            64</td><td style=\"text-align: right;\">      1.2</td><td style=\"text-align: right;\">         5</td><td style=\"text-align: right;\">      0   </td><td style=\"text-align: right;\">     0.05</td><td style=\"text-align: right;\">1e-05</td><td style=\"text-align: right;\"> 0.1</td><td style=\"text-align: right;\"> 0.735786</td><td style=\"text-align: right;\"> 0.706163</td><td style=\"text-align: right;\">     0.70903 </td><td style=\"text-align: right;\">300</td></tr>\n",
       "<tr><td>VGNAE_1e-05_0.1_88825_00003</td><td>TERMINATED</td><td>127.0.0.1:23588</td><td style=\"text-align: right;\">            64</td><td style=\"text-align: right;\">      1.2</td><td style=\"text-align: right;\">         5</td><td style=\"text-align: right;\">      0   </td><td style=\"text-align: right;\">     0.1 </td><td style=\"text-align: right;\">1e-05</td><td style=\"text-align: right;\"> 0.1</td><td style=\"text-align: right;\"> 0.746058</td><td style=\"text-align: right;\"> 0.709986</td><td style=\"text-align: right;\">     0.711897</td><td style=\"text-align: right;\">300</td></tr>\n",
       "<tr><td>VGNAE_1e-05_0.1_88825_00004</td><td>TERMINATED</td><td>127.0.0.1:23588</td><td style=\"text-align: right;\">            64</td><td style=\"text-align: right;\">      1.2</td><td style=\"text-align: right;\">         5</td><td style=\"text-align: right;\">      0   </td><td style=\"text-align: right;\">     0.2 </td><td style=\"text-align: right;\">1e-05</td><td style=\"text-align: right;\"> 0.1</td><td style=\"text-align: right;\"> 0.729097</td><td style=\"text-align: right;\"> 0.706163</td><td style=\"text-align: right;\">     0.707119</td><td style=\"text-align: right;\">300</td></tr>\n",
       "<tr><td>VGNAE_1e-05_0.1_88825_00005</td><td>TERMINATED</td><td>127.0.0.1:23588</td><td style=\"text-align: right;\">            64</td><td style=\"text-align: right;\">      1.5</td><td style=\"text-align: right;\">         5</td><td style=\"text-align: right;\">      0   </td><td style=\"text-align: right;\">     0   </td><td style=\"text-align: right;\">1e-05</td><td style=\"text-align: right;\"> 0.1</td><td style=\"text-align: right;\"> 0.761586</td><td style=\"text-align: right;\"> 0.707119</td><td style=\"text-align: right;\">     0.70903 </td><td style=\"text-align: right;\">300</td></tr>\n",
       "<tr><td>VGNAE_1e-05_0.1_88825_00006</td><td>TERMINATED</td><td>127.0.0.1:23588</td><td style=\"text-align: right;\">            64</td><td style=\"text-align: right;\">      1.5</td><td style=\"text-align: right;\">         5</td><td style=\"text-align: right;\">      0   </td><td style=\"text-align: right;\">     0.01</td><td style=\"text-align: right;\">1e-05</td><td style=\"text-align: right;\"> 0.1</td><td style=\"text-align: right;\"> 0.740803</td><td style=\"text-align: right;\"> 0.706163</td><td style=\"text-align: right;\">     0.710941</td><td style=\"text-align: right;\">300</td></tr>\n",
       "<tr><td>VGNAE_1e-05_0.1_88825_00007</td><td>TERMINATED</td><td>127.0.0.1:23588</td><td style=\"text-align: right;\">            64</td><td style=\"text-align: right;\">      1.5</td><td style=\"text-align: right;\">         5</td><td style=\"text-align: right;\">      0   </td><td style=\"text-align: right;\">     0.05</td><td style=\"text-align: right;\">1e-05</td><td style=\"text-align: right;\"> 0.1</td><td style=\"text-align: right;\"> 0.748686</td><td style=\"text-align: right;\"> 0.712852</td><td style=\"text-align: right;\">     0.715719</td><td style=\"text-align: right;\">300</td></tr>\n",
       "<tr><td>VGNAE_1e-05_0.1_88825_00008</td><td>TERMINATED</td><td>127.0.0.1:23588</td><td style=\"text-align: right;\">            64</td><td style=\"text-align: right;\">      1.5</td><td style=\"text-align: right;\">         5</td><td style=\"text-align: right;\">      0   </td><td style=\"text-align: right;\">     0.1 </td><td style=\"text-align: right;\">1e-05</td><td style=\"text-align: right;\"> 0.1</td><td style=\"text-align: right;\"> 0.750358</td><td style=\"text-align: right;\"> 0.711897</td><td style=\"text-align: right;\">     0.714763</td><td style=\"text-align: right;\">300</td></tr>\n",
       "<tr><td>VGNAE_1e-05_0.1_88825_00009</td><td>TERMINATED</td><td>127.0.0.1:23588</td><td style=\"text-align: right;\">            64</td><td style=\"text-align: right;\">      1.5</td><td style=\"text-align: right;\">         5</td><td style=\"text-align: right;\">      0   </td><td style=\"text-align: right;\">     0.2 </td><td style=\"text-align: right;\">1e-05</td><td style=\"text-align: right;\"> 0.1</td><td style=\"text-align: right;\"> 0.722169</td><td style=\"text-align: right;\"> 0.708075</td><td style=\"text-align: right;\">     0.70903 </td><td style=\"text-align: right;\">300</td></tr>\n",
       "<tr><td>VGNAE_1e-05_0.1_88825_00010</td><td>TERMINATED</td><td>127.0.0.1:23588</td><td style=\"text-align: right;\">            64</td><td style=\"text-align: right;\">      1.8</td><td style=\"text-align: right;\">         5</td><td style=\"text-align: right;\">      0   </td><td style=\"text-align: right;\">     0   </td><td style=\"text-align: right;\">1e-05</td><td style=\"text-align: right;\"> 0.1</td><td style=\"text-align: right;\"> 0.759436</td><td style=\"text-align: right;\"> 0.711897</td><td style=\"text-align: right;\">     0.714763</td><td style=\"text-align: right;\">300</td></tr>\n",
       "<tr><td>VGNAE_1e-05_0.1_88825_00011</td><td>TERMINATED</td><td>127.0.0.1:23588</td><td style=\"text-align: right;\">            64</td><td style=\"text-align: right;\">      1.8</td><td style=\"text-align: right;\">         5</td><td style=\"text-align: right;\">      0   </td><td style=\"text-align: right;\">     0.01</td><td style=\"text-align: right;\">1e-05</td><td style=\"text-align: right;\"> 0.1</td><td style=\"text-align: right;\"> 0.746775</td><td style=\"text-align: right;\"> 0.708075</td><td style=\"text-align: right;\">     0.711897</td><td style=\"text-align: right;\">300</td></tr>\n",
       "<tr><td>VGNAE_1e-05_0.1_88825_00012</td><td>TERMINATED</td><td>127.0.0.1:23588</td><td style=\"text-align: right;\">            64</td><td style=\"text-align: right;\">      1.8</td><td style=\"text-align: right;\">         5</td><td style=\"text-align: right;\">      0   </td><td style=\"text-align: right;\">     0.05</td><td style=\"text-align: right;\">1e-05</td><td style=\"text-align: right;\"> 0.1</td><td style=\"text-align: right;\"> 0.762781</td><td style=\"text-align: right;\"> 0.705208</td><td style=\"text-align: right;\">     0.706163</td><td style=\"text-align: right;\">300</td></tr>\n",
       "<tr><td>VGNAE_1e-05_0.1_88825_00013</td><td>TERMINATED</td><td>127.0.0.1:23588</td><td style=\"text-align: right;\">            64</td><td style=\"text-align: right;\">      1.8</td><td style=\"text-align: right;\">         5</td><td style=\"text-align: right;\">      0   </td><td style=\"text-align: right;\">     0.1 </td><td style=\"text-align: right;\">1e-05</td><td style=\"text-align: right;\"> 0.1</td><td style=\"text-align: right;\"> 0.740325</td><td style=\"text-align: right;\"> 0.709986</td><td style=\"text-align: right;\">     0.710941</td><td style=\"text-align: right;\">300</td></tr>\n",
       "<tr><td>VGNAE_1e-05_0.1_88825_00014</td><td>TERMINATED</td><td>127.0.0.1:23588</td><td style=\"text-align: right;\">            64</td><td style=\"text-align: right;\">      1.8</td><td style=\"text-align: right;\">         5</td><td style=\"text-align: right;\">      0   </td><td style=\"text-align: right;\">     0.2 </td><td style=\"text-align: right;\">1e-05</td><td style=\"text-align: right;\"> 0.1</td><td style=\"text-align: right;\"> 0.729336</td><td style=\"text-align: right;\"> 0.709986</td><td style=\"text-align: right;\">     0.709986</td><td style=\"text-align: right;\">300</td></tr>\n",
       "<tr><td>VGNAE_1e-05_0.1_88825_00015</td><td>TERMINATED</td><td>127.0.0.1:23588</td><td style=\"text-align: right;\">            64</td><td style=\"text-align: right;\">      1.2</td><td style=\"text-align: right;\">         5</td><td style=\"text-align: right;\">      0.01</td><td style=\"text-align: right;\">     0   </td><td style=\"text-align: right;\">1e-05</td><td style=\"text-align: right;\"> 0.1</td><td style=\"text-align: right;\"> 0.762303</td><td style=\"text-align: right;\"> 0.707119</td><td style=\"text-align: right;\">     0.70903 </td><td style=\"text-align: right;\">300</td></tr>\n",
       "<tr><td>VGNAE_1e-05_0.1_88825_00016</td><td>TERMINATED</td><td>127.0.0.1:23588</td><td style=\"text-align: right;\">            64</td><td style=\"text-align: right;\">      1.2</td><td style=\"text-align: right;\">         5</td><td style=\"text-align: right;\">      0.01</td><td style=\"text-align: right;\">     0.01</td><td style=\"text-align: right;\">1e-05</td><td style=\"text-align: right;\"> 0.1</td><td style=\"text-align: right;\"> 0.737697</td><td style=\"text-align: right;\"> 0.709986</td><td style=\"text-align: right;\">     0.710941</td><td style=\"text-align: right;\">300</td></tr>\n",
       "<tr><td>VGNAE_1e-05_0.1_88825_00017</td><td>TERMINATED</td><td>127.0.0.1:23588</td><td style=\"text-align: right;\">            64</td><td style=\"text-align: right;\">      1.2</td><td style=\"text-align: right;\">         5</td><td style=\"text-align: right;\">      0.01</td><td style=\"text-align: right;\">     0.05</td><td style=\"text-align: right;\">1e-05</td><td style=\"text-align: right;\"> 0.1</td><td style=\"text-align: right;\"> 0.740803</td><td style=\"text-align: right;\"> 0.708075</td><td style=\"text-align: right;\">     0.712852</td><td style=\"text-align: right;\">300</td></tr>\n",
       "<tr><td>VGNAE_1e-05_0.1_88825_00018</td><td>TERMINATED</td><td>127.0.0.1:23588</td><td style=\"text-align: right;\">            64</td><td style=\"text-align: right;\">      1.2</td><td style=\"text-align: right;\">         5</td><td style=\"text-align: right;\">      0.01</td><td style=\"text-align: right;\">     0.1 </td><td style=\"text-align: right;\">1e-05</td><td style=\"text-align: right;\"> 0.1</td><td style=\"text-align: right;\"> 0.751792</td><td style=\"text-align: right;\"> 0.703297</td><td style=\"text-align: right;\">     0.711897</td><td style=\"text-align: right;\">300</td></tr>\n",
       "<tr><td>VGNAE_1e-05_0.1_88825_00019</td><td>TERMINATED</td><td>127.0.0.1:23588</td><td style=\"text-align: right;\">            64</td><td style=\"text-align: right;\">      1.2</td><td style=\"text-align: right;\">         5</td><td style=\"text-align: right;\">      0.01</td><td style=\"text-align: right;\">     0.2 </td><td style=\"text-align: right;\">1e-05</td><td style=\"text-align: right;\"> 0.1</td><td style=\"text-align: right;\"> 0.740564</td><td style=\"text-align: right;\"> 0.712852</td><td style=\"text-align: right;\">     0.713808</td><td style=\"text-align: right;\">300</td></tr>\n",
       "<tr><td>VGNAE_1e-05_0.1_88825_00020</td><td>TERMINATED</td><td>127.0.0.1:23588</td><td style=\"text-align: right;\">            64</td><td style=\"text-align: right;\">      1.5</td><td style=\"text-align: right;\">         5</td><td style=\"text-align: right;\">      0.01</td><td style=\"text-align: right;\">     0   </td><td style=\"text-align: right;\">1e-05</td><td style=\"text-align: right;\"> 0.1</td><td style=\"text-align: right;\"> 0.750836</td><td style=\"text-align: right;\"> 0.704252</td><td style=\"text-align: right;\">     0.707119</td><td style=\"text-align: right;\">300</td></tr>\n",
       "<tr><td>VGNAE_1e-05_0.1_88825_00021</td><td>TERMINATED</td><td>127.0.0.1:23588</td><td style=\"text-align: right;\">            64</td><td style=\"text-align: right;\">      1.5</td><td style=\"text-align: right;\">         5</td><td style=\"text-align: right;\">      0.01</td><td style=\"text-align: right;\">     0.01</td><td style=\"text-align: right;\">1e-05</td><td style=\"text-align: right;\"> 0.1</td><td style=\"text-align: right;\"> 0.746775</td><td style=\"text-align: right;\"> 0.709986</td><td style=\"text-align: right;\">     0.711897</td><td style=\"text-align: right;\">300</td></tr>\n",
       "<tr><td>VGNAE_1e-05_0.1_88825_00022</td><td>TERMINATED</td><td>127.0.0.1:23588</td><td style=\"text-align: right;\">            64</td><td style=\"text-align: right;\">      1.5</td><td style=\"text-align: right;\">         5</td><td style=\"text-align: right;\">      0.01</td><td style=\"text-align: right;\">     0.05</td><td style=\"text-align: right;\">1e-05</td><td style=\"text-align: right;\"> 0.1</td><td style=\"text-align: right;\"> 0.749164</td><td style=\"text-align: right;\"> 0.714286</td><td style=\"text-align: right;\">     0.716675</td><td style=\"text-align: right;\">300</td></tr>\n",
       "<tr><td>VGNAE_1e-05_0.1_88825_00023</td><td>TERMINATED</td><td>127.0.0.1:23588</td><td style=\"text-align: right;\">            64</td><td style=\"text-align: right;\">      1.5</td><td style=\"text-align: right;\">         5</td><td style=\"text-align: right;\">      0.01</td><td style=\"text-align: right;\">     0.1 </td><td style=\"text-align: right;\">1e-05</td><td style=\"text-align: right;\"> 0.1</td><td style=\"text-align: right;\"> 0.752986</td><td style=\"text-align: right;\"> 0.70903 </td><td style=\"text-align: right;\">     0.70903 </td><td style=\"text-align: right;\">300</td></tr>\n",
       "<tr><td>VGNAE_1e-05_0.1_88825_00024</td><td>TERMINATED</td><td>127.0.0.1:23588</td><td style=\"text-align: right;\">            64</td><td style=\"text-align: right;\">      1.5</td><td style=\"text-align: right;\">         5</td><td style=\"text-align: right;\">      0.01</td><td style=\"text-align: right;\">     0.2 </td><td style=\"text-align: right;\">1e-05</td><td style=\"text-align: right;\"> 0.1</td><td style=\"text-align: right;\"> 0.729097</td><td style=\"text-align: right;\"> 0.713808</td><td style=\"text-align: right;\">     0.713808</td><td style=\"text-align: right;\">300</td></tr>\n",
       "<tr><td>VGNAE_1e-05_0.1_88825_00025</td><td>TERMINATED</td><td>127.0.0.1:23588</td><td style=\"text-align: right;\">            64</td><td style=\"text-align: right;\">      1.8</td><td style=\"text-align: right;\">         5</td><td style=\"text-align: right;\">      0.01</td><td style=\"text-align: right;\">     0   </td><td style=\"text-align: right;\">1e-05</td><td style=\"text-align: right;\"> 0.1</td><td style=\"text-align: right;\"> 0.752508</td><td style=\"text-align: right;\"> 0.712852</td><td style=\"text-align: right;\">     0.712852</td><td style=\"text-align: right;\">300</td></tr>\n",
       "<tr><td>VGNAE_1e-05_0.1_88825_00026</td><td>TERMINATED</td><td>127.0.0.1:23588</td><td style=\"text-align: right;\">            64</td><td style=\"text-align: right;\">      1.8</td><td style=\"text-align: right;\">         5</td><td style=\"text-align: right;\">      0.01</td><td style=\"text-align: right;\">     0.01</td><td style=\"text-align: right;\">1e-05</td><td style=\"text-align: right;\"> 0.1</td><td style=\"text-align: right;\"> 0.759675</td><td style=\"text-align: right;\"> 0.710941</td><td style=\"text-align: right;\">     0.712852</td><td style=\"text-align: right;\">300</td></tr>\n",
       "<tr><td>VGNAE_1e-05_0.1_88825_00027</td><td>TERMINATED</td><td>127.0.0.1:23588</td><td style=\"text-align: right;\">            64</td><td style=\"text-align: right;\">      1.8</td><td style=\"text-align: right;\">         5</td><td style=\"text-align: right;\">      0.01</td><td style=\"text-align: right;\">     0.05</td><td style=\"text-align: right;\">1e-05</td><td style=\"text-align: right;\"> 0.1</td><td style=\"text-align: right;\"> 0.755375</td><td style=\"text-align: right;\"> 0.708075</td><td style=\"text-align: right;\">     0.712852</td><td style=\"text-align: right;\">300</td></tr>\n",
       "<tr><td>VGNAE_1e-05_0.1_88825_00028</td><td>TERMINATED</td><td>127.0.0.1:23588</td><td style=\"text-align: right;\">            64</td><td style=\"text-align: right;\">      1.8</td><td style=\"text-align: right;\">         5</td><td style=\"text-align: right;\">      0.01</td><td style=\"text-align: right;\">     0.1 </td><td style=\"text-align: right;\">1e-05</td><td style=\"text-align: right;\"> 0.1</td><td style=\"text-align: right;\"> 0.738892</td><td style=\"text-align: right;\"> 0.70903 </td><td style=\"text-align: right;\">     0.709986</td><td style=\"text-align: right;\">300</td></tr>\n",
       "<tr><td>VGNAE_1e-05_0.1_88825_00029</td><td>TERMINATED</td><td>127.0.0.1:23588</td><td style=\"text-align: right;\">            64</td><td style=\"text-align: right;\">      1.8</td><td style=\"text-align: right;\">         5</td><td style=\"text-align: right;\">      0.01</td><td style=\"text-align: right;\">     0.2 </td><td style=\"text-align: right;\">1e-05</td><td style=\"text-align: right;\"> 0.1</td><td style=\"text-align: right;\"> 0.725275</td><td style=\"text-align: right;\"> 0.711897</td><td style=\"text-align: right;\">     0.711897</td><td style=\"text-align: right;\">300</td></tr>\n",
       "<tr><td>VGNAE_1e-05_0.1_88825_00030</td><td>TERMINATED</td><td>127.0.0.1:23588</td><td style=\"text-align: right;\">            64</td><td style=\"text-align: right;\">      1.2</td><td style=\"text-align: right;\">         5</td><td style=\"text-align: right;\">      0.05</td><td style=\"text-align: right;\">     0   </td><td style=\"text-align: right;\">1e-05</td><td style=\"text-align: right;\"> 0.1</td><td style=\"text-align: right;\"> 0.738414</td><td style=\"text-align: right;\"> 0.713808</td><td style=\"text-align: right;\">     0.715719</td><td style=\"text-align: right;\">300</td></tr>\n",
       "<tr><td>VGNAE_1e-05_0.1_88825_00031</td><td>TERMINATED</td><td>127.0.0.1:23588</td><td style=\"text-align: right;\">            64</td><td style=\"text-align: right;\">      1.2</td><td style=\"text-align: right;\">         5</td><td style=\"text-align: right;\">      0.05</td><td style=\"text-align: right;\">     0.01</td><td style=\"text-align: right;\">1e-05</td><td style=\"text-align: right;\"> 0.1</td><td style=\"text-align: right;\"> 0.757525</td><td style=\"text-align: right;\"> 0.712852</td><td style=\"text-align: right;\">     0.714763</td><td style=\"text-align: right;\">300</td></tr>\n",
       "<tr><td>VGNAE_1e-05_0.1_88825_00032</td><td>TERMINATED</td><td>127.0.0.1:23588</td><td style=\"text-align: right;\">            64</td><td style=\"text-align: right;\">      1.2</td><td style=\"text-align: right;\">         5</td><td style=\"text-align: right;\">      0.05</td><td style=\"text-align: right;\">     0.05</td><td style=\"text-align: right;\">1e-05</td><td style=\"text-align: right;\"> 0.1</td><td style=\"text-align: right;\"> 0.755375</td><td style=\"text-align: right;\"> 0.712852</td><td style=\"text-align: right;\">     0.714763</td><td style=\"text-align: right;\">300</td></tr>\n",
       "<tr><td>VGNAE_1e-05_0.1_88825_00033</td><td>TERMINATED</td><td>127.0.0.1:23588</td><td style=\"text-align: right;\">            64</td><td style=\"text-align: right;\">      1.2</td><td style=\"text-align: right;\">         5</td><td style=\"text-align: right;\">      0.05</td><td style=\"text-align: right;\">     0.1 </td><td style=\"text-align: right;\">1e-05</td><td style=\"text-align: right;\"> 0.1</td><td style=\"text-align: right;\"> 0.755614</td><td style=\"text-align: right;\"> 0.70903 </td><td style=\"text-align: right;\">     0.710941</td><td style=\"text-align: right;\">300</td></tr>\n",
       "<tr><td>VGNAE_1e-05_0.1_88825_00034</td><td>TERMINATED</td><td>127.0.0.1:23588</td><td style=\"text-align: right;\">            64</td><td style=\"text-align: right;\">      1.2</td><td style=\"text-align: right;\">         5</td><td style=\"text-align: right;\">      0.05</td><td style=\"text-align: right;\">     0.2 </td><td style=\"text-align: right;\">1e-05</td><td style=\"text-align: right;\"> 0.1</td><td style=\"text-align: right;\"> 0.733397</td><td style=\"text-align: right;\"> 0.713808</td><td style=\"text-align: right;\">     0.713808</td><td style=\"text-align: right;\">300</td></tr>\n",
       "<tr><td>VGNAE_1e-05_0.1_88825_00035</td><td>TERMINATED</td><td>127.0.0.1:23588</td><td style=\"text-align: right;\">            64</td><td style=\"text-align: right;\">      1.5</td><td style=\"text-align: right;\">         5</td><td style=\"text-align: right;\">      0.05</td><td style=\"text-align: right;\">     0   </td><td style=\"text-align: right;\">1e-05</td><td style=\"text-align: right;\"> 0.1</td><td style=\"text-align: right;\"> 0.751553</td><td style=\"text-align: right;\"> 0.70903 </td><td style=\"text-align: right;\">     0.710941</td><td style=\"text-align: right;\">300</td></tr>\n",
       "<tr><td>VGNAE_1e-05_0.1_88825_00036</td><td>TERMINATED</td><td>127.0.0.1:23588</td><td style=\"text-align: right;\">            64</td><td style=\"text-align: right;\">      1.5</td><td style=\"text-align: right;\">         5</td><td style=\"text-align: right;\">      0.05</td><td style=\"text-align: right;\">     0.01</td><td style=\"text-align: right;\">1e-05</td><td style=\"text-align: right;\"> 0.1</td><td style=\"text-align: right;\"> 0.752986</td><td style=\"text-align: right;\"> 0.711897</td><td style=\"text-align: right;\">     0.713808</td><td style=\"text-align: right;\">300</td></tr>\n",
       "<tr><td>VGNAE_1e-05_0.1_88825_00037</td><td>TERMINATED</td><td>127.0.0.1:23588</td><td style=\"text-align: right;\">            64</td><td style=\"text-align: right;\">      1.5</td><td style=\"text-align: right;\">         5</td><td style=\"text-align: right;\">      0.05</td><td style=\"text-align: right;\">     0.05</td><td style=\"text-align: right;\">1e-05</td><td style=\"text-align: right;\"> 0.1</td><td style=\"text-align: right;\"> 0.755614</td><td style=\"text-align: right;\"> 0.712852</td><td style=\"text-align: right;\">     0.712852</td><td style=\"text-align: right;\">300</td></tr>\n",
       "<tr><td>VGNAE_1e-05_0.1_88825_00038</td><td>TERMINATED</td><td>127.0.0.1:23588</td><td style=\"text-align: right;\">            64</td><td style=\"text-align: right;\">      1.5</td><td style=\"text-align: right;\">         5</td><td style=\"text-align: right;\">      0.05</td><td style=\"text-align: right;\">     0.1 </td><td style=\"text-align: right;\">1e-05</td><td style=\"text-align: right;\"> 0.1</td><td style=\"text-align: right;\"> 0.752031</td><td style=\"text-align: right;\"> 0.708075</td><td style=\"text-align: right;\">     0.711897</td><td style=\"text-align: right;\">300</td></tr>\n",
       "<tr><td>VGNAE_1e-05_0.1_88825_00039</td><td>TERMINATED</td><td>127.0.0.1:23588</td><td style=\"text-align: right;\">            64</td><td style=\"text-align: right;\">      1.5</td><td style=\"text-align: right;\">         5</td><td style=\"text-align: right;\">      0.05</td><td style=\"text-align: right;\">     0.2 </td><td style=\"text-align: right;\">1e-05</td><td style=\"text-align: right;\"> 0.1</td><td style=\"text-align: right;\"> 0.740325</td><td style=\"text-align: right;\"> 0.712852</td><td style=\"text-align: right;\">     0.712852</td><td style=\"text-align: right;\">300</td></tr>\n",
       "<tr><td>VGNAE_1e-05_0.1_88825_00040</td><td>TERMINATED</td><td>127.0.0.1:23588</td><td style=\"text-align: right;\">            64</td><td style=\"text-align: right;\">      1.8</td><td style=\"text-align: right;\">         5</td><td style=\"text-align: right;\">      0.05</td><td style=\"text-align: right;\">     0   </td><td style=\"text-align: right;\">1e-05</td><td style=\"text-align: right;\"> 0.1</td><td style=\"text-align: right;\"> 0.759436</td><td style=\"text-align: right;\"> 0.713808</td><td style=\"text-align: right;\">     0.716675</td><td style=\"text-align: right;\">300</td></tr>\n",
       "<tr><td>VGNAE_1e-05_0.1_88825_00041</td><td>TERMINATED</td><td>127.0.0.1:23588</td><td style=\"text-align: right;\">            64</td><td style=\"text-align: right;\">      1.8</td><td style=\"text-align: right;\">         5</td><td style=\"text-align: right;\">      0.05</td><td style=\"text-align: right;\">     0.01</td><td style=\"text-align: right;\">1e-05</td><td style=\"text-align: right;\"> 0.1</td><td style=\"text-align: right;\"> 0.763378</td><td style=\"text-align: right;\"> 0.713808</td><td style=\"text-align: right;\">     0.716675</td><td style=\"text-align: right;\">300</td></tr>\n",
       "<tr><td>VGNAE_1e-05_0.1_88825_00042</td><td>TERMINATED</td><td>127.0.0.1:23588</td><td style=\"text-align: right;\">            64</td><td style=\"text-align: right;\">      1.8</td><td style=\"text-align: right;\">         5</td><td style=\"text-align: right;\">      0.05</td><td style=\"text-align: right;\">     0.05</td><td style=\"text-align: right;\">1e-05</td><td style=\"text-align: right;\"> 0.1</td><td style=\"text-align: right;\"> 0.762781</td><td style=\"text-align: right;\"> 0.710941</td><td style=\"text-align: right;\">     0.714763</td><td style=\"text-align: right;\">300</td></tr>\n",
       "<tr><td>VGNAE_1e-05_0.1_88825_00043</td><td>TERMINATED</td><td>127.0.0.1:23588</td><td style=\"text-align: right;\">            64</td><td style=\"text-align: right;\">      1.8</td><td style=\"text-align: right;\">         5</td><td style=\"text-align: right;\">      0.05</td><td style=\"text-align: right;\">     0.1 </td><td style=\"text-align: right;\">1e-05</td><td style=\"text-align: right;\"> 0.1</td><td style=\"text-align: right;\"> 0.74343 </td><td style=\"text-align: right;\"> 0.705208</td><td style=\"text-align: right;\">     0.710941</td><td style=\"text-align: right;\">300</td></tr>\n",
       "<tr><td>VGNAE_1e-05_0.1_88825_00044</td><td>TERMINATED</td><td>127.0.0.1:23588</td><td style=\"text-align: right;\">            64</td><td style=\"text-align: right;\">      1.8</td><td style=\"text-align: right;\">         5</td><td style=\"text-align: right;\">      0.05</td><td style=\"text-align: right;\">     0.2 </td><td style=\"text-align: right;\">1e-05</td><td style=\"text-align: right;\"> 0.1</td><td style=\"text-align: right;\"> 0.734353</td><td style=\"text-align: right;\"> 0.709986</td><td style=\"text-align: right;\">     0.709986</td><td style=\"text-align: right;\">300</td></tr>\n",
       "<tr><td>VGNAE_1e-05_0.1_88825_00045</td><td>TERMINATED</td><td>127.0.0.1:23588</td><td style=\"text-align: right;\">            64</td><td style=\"text-align: right;\">      1.2</td><td style=\"text-align: right;\">         5</td><td style=\"text-align: right;\">      0.1 </td><td style=\"text-align: right;\">     0   </td><td style=\"text-align: right;\">1e-05</td><td style=\"text-align: right;\"> 0.1</td><td style=\"text-align: right;\"> 0.751792</td><td style=\"text-align: right;\"> 0.713808</td><td style=\"text-align: right;\">     0.716675</td><td style=\"text-align: right;\">300</td></tr>\n",
       "<tr><td>VGNAE_1e-05_0.1_88825_00046</td><td>TERMINATED</td><td>127.0.0.1:23588</td><td style=\"text-align: right;\">            64</td><td style=\"text-align: right;\">      1.2</td><td style=\"text-align: right;\">         5</td><td style=\"text-align: right;\">      0.1 </td><td style=\"text-align: right;\">     0.01</td><td style=\"text-align: right;\">1e-05</td><td style=\"text-align: right;\"> 0.1</td><td style=\"text-align: right;\"> 0.742475</td><td style=\"text-align: right;\"> 0.718586</td><td style=\"text-align: right;\">     0.718586</td><td style=\"text-align: right;\">300</td></tr>\n",
       "<tr><td>VGNAE_1e-05_0.1_88825_00047</td><td>TERMINATED</td><td>127.0.0.1:23588</td><td style=\"text-align: right;\">            64</td><td style=\"text-align: right;\">      1.2</td><td style=\"text-align: right;\">         5</td><td style=\"text-align: right;\">      0.1 </td><td style=\"text-align: right;\">     0.05</td><td style=\"text-align: right;\">1e-05</td><td style=\"text-align: right;\"> 0.1</td><td style=\"text-align: right;\"> 0.750358</td><td style=\"text-align: right;\"> 0.716675</td><td style=\"text-align: right;\">     0.71763 </td><td style=\"text-align: right;\">300</td></tr>\n",
       "<tr><td>VGNAE_1e-05_0.1_88825_00048</td><td>TERMINATED</td><td>127.0.0.1:23588</td><td style=\"text-align: right;\">            64</td><td style=\"text-align: right;\">      1.2</td><td style=\"text-align: right;\">         5</td><td style=\"text-align: right;\">      0.1 </td><td style=\"text-align: right;\">     0.1 </td><td style=\"text-align: right;\">1e-05</td><td style=\"text-align: right;\"> 0.1</td><td style=\"text-align: right;\"> 0.749881</td><td style=\"text-align: right;\"> 0.70903 </td><td style=\"text-align: right;\">     0.713808</td><td style=\"text-align: right;\">300</td></tr>\n",
       "<tr><td>VGNAE_1e-05_0.1_88825_00049</td><td>TERMINATED</td><td>127.0.0.1:23588</td><td style=\"text-align: right;\">            64</td><td style=\"text-align: right;\">      1.2</td><td style=\"text-align: right;\">         5</td><td style=\"text-align: right;\">      0.1 </td><td style=\"text-align: right;\">     0.2 </td><td style=\"text-align: right;\">1e-05</td><td style=\"text-align: right;\"> 0.1</td><td style=\"text-align: right;\"> 0.742953</td><td style=\"text-align: right;\"> 0.713808</td><td style=\"text-align: right;\">     0.713808</td><td style=\"text-align: right;\">300</td></tr>\n",
       "<tr><td>VGNAE_1e-05_0.1_88825_00050</td><td>TERMINATED</td><td>127.0.0.1:23588</td><td style=\"text-align: right;\">            64</td><td style=\"text-align: right;\">      1.5</td><td style=\"text-align: right;\">         5</td><td style=\"text-align: right;\">      0.1 </td><td style=\"text-align: right;\">     0   </td><td style=\"text-align: right;\">1e-05</td><td style=\"text-align: right;\"> 0.1</td><td style=\"text-align: right;\"> 0.757286</td><td style=\"text-align: right;\"> 0.70903 </td><td style=\"text-align: right;\">     0.713808</td><td style=\"text-align: right;\">300</td></tr>\n",
       "<tr><td>VGNAE_1e-05_0.1_88825_00051</td><td>TERMINATED</td><td>127.0.0.1:23588</td><td style=\"text-align: right;\">            64</td><td style=\"text-align: right;\">      1.5</td><td style=\"text-align: right;\">         5</td><td style=\"text-align: right;\">      0.1 </td><td style=\"text-align: right;\">     0.01</td><td style=\"text-align: right;\">1e-05</td><td style=\"text-align: right;\"> 0.1</td><td style=\"text-align: right;\"> 0.757047</td><td style=\"text-align: right;\"> 0.715719</td><td style=\"text-align: right;\">     0.715719</td><td style=\"text-align: right;\">300</td></tr>\n",
       "<tr><td>VGNAE_1e-05_0.1_88825_00052</td><td>TERMINATED</td><td>127.0.0.1:23588</td><td style=\"text-align: right;\">            64</td><td style=\"text-align: right;\">      1.5</td><td style=\"text-align: right;\">         5</td><td style=\"text-align: right;\">      0.1 </td><td style=\"text-align: right;\">     0.05</td><td style=\"text-align: right;\">1e-05</td><td style=\"text-align: right;\"> 0.1</td><td style=\"text-align: right;\"> 0.753942</td><td style=\"text-align: right;\"> 0.70903 </td><td style=\"text-align: right;\">     0.716675</td><td style=\"text-align: right;\">300</td></tr>\n",
       "<tr><td>VGNAE_1e-05_0.1_88825_00053</td><td>TERMINATED</td><td>127.0.0.1:23588</td><td style=\"text-align: right;\">            64</td><td style=\"text-align: right;\">      1.5</td><td style=\"text-align: right;\">         5</td><td style=\"text-align: right;\">      0.1 </td><td style=\"text-align: right;\">     0.1 </td><td style=\"text-align: right;\">1e-05</td><td style=\"text-align: right;\"> 0.1</td><td style=\"text-align: right;\"> 0.756331</td><td style=\"text-align: right;\"> 0.714763</td><td style=\"text-align: right;\">     0.715719</td><td style=\"text-align: right;\">300</td></tr>\n",
       "<tr><td>VGNAE_1e-05_0.1_88825_00054</td><td>TERMINATED</td><td>127.0.0.1:23588</td><td style=\"text-align: right;\">            64</td><td style=\"text-align: right;\">      1.5</td><td style=\"text-align: right;\">         5</td><td style=\"text-align: right;\">      0.1 </td><td style=\"text-align: right;\">     0.2 </td><td style=\"text-align: right;\">1e-05</td><td style=\"text-align: right;\"> 0.1</td><td style=\"text-align: right;\"> 0.741042</td><td style=\"text-align: right;\"> 0.714763</td><td style=\"text-align: right;\">     0.714763</td><td style=\"text-align: right;\">300</td></tr>\n",
       "<tr><td>VGNAE_1e-05_0.1_88825_00055</td><td>TERMINATED</td><td>127.0.0.1:23588</td><td style=\"text-align: right;\">            64</td><td style=\"text-align: right;\">      1.8</td><td style=\"text-align: right;\">         5</td><td style=\"text-align: right;\">      0.1 </td><td style=\"text-align: right;\">     0   </td><td style=\"text-align: right;\">1e-05</td><td style=\"text-align: right;\"> 0.1</td><td style=\"text-align: right;\"> 0.759436</td><td style=\"text-align: right;\"> 0.708075</td><td style=\"text-align: right;\">     0.714763</td><td style=\"text-align: right;\">300</td></tr>\n",
       "<tr><td>VGNAE_1e-05_0.1_88825_00056</td><td>TERMINATED</td><td>127.0.0.1:23588</td><td style=\"text-align: right;\">            64</td><td style=\"text-align: right;\">      1.8</td><td style=\"text-align: right;\">         5</td><td style=\"text-align: right;\">      0.1 </td><td style=\"text-align: right;\">     0.01</td><td style=\"text-align: right;\">1e-05</td><td style=\"text-align: right;\"> 0.1</td><td style=\"text-align: right;\"> 0.755136</td><td style=\"text-align: right;\"> 0.714763</td><td style=\"text-align: right;\">     0.714763</td><td style=\"text-align: right;\">300</td></tr>\n",
       "<tr><td>VGNAE_1e-05_0.1_88825_00057</td><td>TERMINATED</td><td>127.0.0.1:23588</td><td style=\"text-align: right;\">            64</td><td style=\"text-align: right;\">      1.8</td><td style=\"text-align: right;\">         5</td><td style=\"text-align: right;\">      0.1 </td><td style=\"text-align: right;\">     0.05</td><td style=\"text-align: right;\">1e-05</td><td style=\"text-align: right;\"> 0.1</td><td style=\"text-align: right;\"> 0.762542</td><td style=\"text-align: right;\"> 0.711897</td><td style=\"text-align: right;\">     0.715719</td><td style=\"text-align: right;\">300</td></tr>\n",
       "<tr><td>VGNAE_1e-05_0.1_88825_00058</td><td>TERMINATED</td><td>127.0.0.1:23588</td><td style=\"text-align: right;\">            64</td><td style=\"text-align: right;\">      1.8</td><td style=\"text-align: right;\">         5</td><td style=\"text-align: right;\">      0.1 </td><td style=\"text-align: right;\">     0.1 </td><td style=\"text-align: right;\">1e-05</td><td style=\"text-align: right;\"> 0.1</td><td style=\"text-align: right;\"> 0.752269</td><td style=\"text-align: right;\"> 0.710941</td><td style=\"text-align: right;\">     0.71763 </td><td style=\"text-align: right;\">300</td></tr>\n",
       "<tr><td>VGNAE_1e-05_0.1_88825_00059</td><td>TERMINATED</td><td>127.0.0.1:23588</td><td style=\"text-align: right;\">            64</td><td style=\"text-align: right;\">      1.8</td><td style=\"text-align: right;\">         5</td><td style=\"text-align: right;\">      0.1 </td><td style=\"text-align: right;\">     0.2 </td><td style=\"text-align: right;\">1e-05</td><td style=\"text-align: right;\"> 0.1</td><td style=\"text-align: right;\"> 0.744267</td><td style=\"text-align: right;\"> 0.713808</td><td style=\"text-align: right;\">     0.713808</td><td style=\"text-align: right;\">300</td></tr>\n",
       "<tr><td>VGNAE_1e-05_0.1_88825_00060</td><td>TERMINATED</td><td>127.0.0.1:23588</td><td style=\"text-align: right;\">            64</td><td style=\"text-align: right;\">      1.2</td><td style=\"text-align: right;\">         5</td><td style=\"text-align: right;\">      0.2 </td><td style=\"text-align: right;\">     0   </td><td style=\"text-align: right;\">1e-05</td><td style=\"text-align: right;\"> 0.1</td><td style=\"text-align: right;\"> 0.748447</td><td style=\"text-align: right;\"> 0.706163</td><td style=\"text-align: right;\">     0.709986</td><td style=\"text-align: right;\">300</td></tr>\n",
       "<tr><td>VGNAE_1e-05_0.1_88825_00061</td><td>TERMINATED</td><td>127.0.0.1:23588</td><td style=\"text-align: right;\">            64</td><td style=\"text-align: right;\">      1.2</td><td style=\"text-align: right;\">         5</td><td style=\"text-align: right;\">      0.2 </td><td style=\"text-align: right;\">     0.01</td><td style=\"text-align: right;\">1e-05</td><td style=\"text-align: right;\"> 0.1</td><td style=\"text-align: right;\"> 0.750597</td><td style=\"text-align: right;\"> 0.71763 </td><td style=\"text-align: right;\">     0.720497</td><td style=\"text-align: right;\">300</td></tr>\n",
       "<tr><td>VGNAE_1e-05_0.1_88825_00062</td><td>TERMINATED</td><td>127.0.0.1:23588</td><td style=\"text-align: right;\">            64</td><td style=\"text-align: right;\">      1.2</td><td style=\"text-align: right;\">         5</td><td style=\"text-align: right;\">      0.2 </td><td style=\"text-align: right;\">     0.05</td><td style=\"text-align: right;\">1e-05</td><td style=\"text-align: right;\"> 0.1</td><td style=\"text-align: right;\"> 0.761108</td><td style=\"text-align: right;\"> 0.709986</td><td style=\"text-align: right;\">     0.714763</td><td style=\"text-align: right;\">300</td></tr>\n",
       "<tr><td>VGNAE_1e-05_0.1_88825_00063</td><td>TERMINATED</td><td>127.0.0.1:23588</td><td style=\"text-align: right;\">            64</td><td style=\"text-align: right;\">      1.2</td><td style=\"text-align: right;\">         5</td><td style=\"text-align: right;\">      0.2 </td><td style=\"text-align: right;\">     0.1 </td><td style=\"text-align: right;\">1e-05</td><td style=\"text-align: right;\"> 0.1</td><td style=\"text-align: right;\"> 0.759914</td><td style=\"text-align: right;\"> 0.70903 </td><td style=\"text-align: right;\">     0.711897</td><td style=\"text-align: right;\">300</td></tr>\n",
       "<tr><td>VGNAE_1e-05_0.1_88825_00064</td><td>TERMINATED</td><td>127.0.0.1:23588</td><td style=\"text-align: right;\">            64</td><td style=\"text-align: right;\">      1.2</td><td style=\"text-align: right;\">         5</td><td style=\"text-align: right;\">      0.2 </td><td style=\"text-align: right;\">     0.2 </td><td style=\"text-align: right;\">1e-05</td><td style=\"text-align: right;\"> 0.1</td><td style=\"text-align: right;\"> 0.740086</td><td style=\"text-align: right;\"> 0.716675</td><td style=\"text-align: right;\">     0.719541</td><td style=\"text-align: right;\">300</td></tr>\n",
       "<tr><td>VGNAE_1e-05_0.1_88825_00065</td><td>TERMINATED</td><td>127.0.0.1:23588</td><td style=\"text-align: right;\">            64</td><td style=\"text-align: right;\">      1.5</td><td style=\"text-align: right;\">         5</td><td style=\"text-align: right;\">      0.2 </td><td style=\"text-align: right;\">     0   </td><td style=\"text-align: right;\">1e-05</td><td style=\"text-align: right;\"> 0.1</td><td style=\"text-align: right;\"> 0.750597</td><td style=\"text-align: right;\"> 0.71763 </td><td style=\"text-align: right;\">     0.719541</td><td style=\"text-align: right;\">300</td></tr>\n",
       "<tr><td>VGNAE_1e-05_0.1_88825_00066</td><td>TERMINATED</td><td>127.0.0.1:23588</td><td style=\"text-align: right;\">            64</td><td style=\"text-align: right;\">      1.5</td><td style=\"text-align: right;\">         5</td><td style=\"text-align: right;\">      0.2 </td><td style=\"text-align: right;\">     0.01</td><td style=\"text-align: right;\">1e-05</td><td style=\"text-align: right;\"> 0.1</td><td style=\"text-align: right;\"> 0.754658</td><td style=\"text-align: right;\"> 0.712852</td><td style=\"text-align: right;\">     0.720497</td><td style=\"text-align: right;\">300</td></tr>\n",
       "<tr><td>VGNAE_1e-05_0.1_88825_00067</td><td>TERMINATED</td><td>127.0.0.1:23588</td><td style=\"text-align: right;\">            64</td><td style=\"text-align: right;\">      1.5</td><td style=\"text-align: right;\">         5</td><td style=\"text-align: right;\">      0.2 </td><td style=\"text-align: right;\">     0.05</td><td style=\"text-align: right;\">1e-05</td><td style=\"text-align: right;\"> 0.1</td><td style=\"text-align: right;\"> 0.757525</td><td style=\"text-align: right;\"> 0.714763</td><td style=\"text-align: right;\">     0.71763 </td><td style=\"text-align: right;\">300</td></tr>\n",
       "<tr><td>VGNAE_1e-05_0.1_88825_00068</td><td>TERMINATED</td><td>127.0.0.1:23588</td><td style=\"text-align: right;\">            64</td><td style=\"text-align: right;\">      1.5</td><td style=\"text-align: right;\">         5</td><td style=\"text-align: right;\">      0.2 </td><td style=\"text-align: right;\">     0.1 </td><td style=\"text-align: right;\">1e-05</td><td style=\"text-align: right;\"> 0.1</td><td style=\"text-align: right;\"> 0.751553</td><td style=\"text-align: right;\"> 0.712852</td><td style=\"text-align: right;\">     0.71763 </td><td style=\"text-align: right;\">300</td></tr>\n",
       "<tr><td>VGNAE_1e-05_0.1_88825_00069</td><td>TERMINATED</td><td>127.0.0.1:23588</td><td style=\"text-align: right;\">            64</td><td style=\"text-align: right;\">      1.5</td><td style=\"text-align: right;\">         5</td><td style=\"text-align: right;\">      0.2 </td><td style=\"text-align: right;\">     0.2 </td><td style=\"text-align: right;\">1e-05</td><td style=\"text-align: right;\"> 0.1</td><td style=\"text-align: right;\"> 0.733158</td><td style=\"text-align: right;\"> 0.71763 </td><td style=\"text-align: right;\">     0.718586</td><td style=\"text-align: right;\">300</td></tr>\n",
       "<tr><td>VGNAE_1e-05_0.1_88825_00070</td><td>TERMINATED</td><td>127.0.0.1:23588</td><td style=\"text-align: right;\">            64</td><td style=\"text-align: right;\">      1.8</td><td style=\"text-align: right;\">         5</td><td style=\"text-align: right;\">      0.2 </td><td style=\"text-align: right;\">     0   </td><td style=\"text-align: right;\">1e-05</td><td style=\"text-align: right;\"> 0.1</td><td style=\"text-align: right;\"> 0.747969</td><td style=\"text-align: right;\"> 0.712852</td><td style=\"text-align: right;\">     0.715719</td><td style=\"text-align: right;\">300</td></tr>\n",
       "<tr><td>VGNAE_1e-05_0.1_88825_00071</td><td>TERMINATED</td><td>127.0.0.1:23588</td><td style=\"text-align: right;\">            64</td><td style=\"text-align: right;\">      1.8</td><td style=\"text-align: right;\">         5</td><td style=\"text-align: right;\">      0.2 </td><td style=\"text-align: right;\">     0.01</td><td style=\"text-align: right;\">1e-05</td><td style=\"text-align: right;\"> 0.1</td><td style=\"text-align: right;\"> 0.755614</td><td style=\"text-align: right;\"> 0.70903 </td><td style=\"text-align: right;\">     0.715719</td><td style=\"text-align: right;\">300</td></tr>\n",
       "<tr><td>VGNAE_1e-05_0.1_88825_00072</td><td>TERMINATED</td><td>127.0.0.1:23588</td><td style=\"text-align: right;\">            64</td><td style=\"text-align: right;\">      1.8</td><td style=\"text-align: right;\">         5</td><td style=\"text-align: right;\">      0.2 </td><td style=\"text-align: right;\">     0.05</td><td style=\"text-align: right;\">1e-05</td><td style=\"text-align: right;\"> 0.1</td><td style=\"text-align: right;\"> 0.78022 </td><td style=\"text-align: right;\"> 0.706163</td><td style=\"text-align: right;\">     0.714763</td><td style=\"text-align: right;\">300</td></tr>\n",
       "<tr><td>VGNAE_1e-05_0.1_88825_00073</td><td>TERMINATED</td><td>127.0.0.1:23588</td><td style=\"text-align: right;\">            64</td><td style=\"text-align: right;\">      1.8</td><td style=\"text-align: right;\">         5</td><td style=\"text-align: right;\">      0.2 </td><td style=\"text-align: right;\">     0.1 </td><td style=\"text-align: right;\">1e-05</td><td style=\"text-align: right;\"> 0.1</td><td style=\"text-align: right;\"> 0.75872 </td><td style=\"text-align: right;\"> 0.70903 </td><td style=\"text-align: right;\">     0.714763</td><td style=\"text-align: right;\">300</td></tr>\n",
       "<tr><td>VGNAE_1e-05_0.1_88825_00074</td><td>TERMINATED</td><td>127.0.0.1:23588</td><td style=\"text-align: right;\">            64</td><td style=\"text-align: right;\">      1.8</td><td style=\"text-align: right;\">         5</td><td style=\"text-align: right;\">      0.2 </td><td style=\"text-align: right;\">     0.2 </td><td style=\"text-align: right;\">1e-05</td><td style=\"text-align: right;\"> 0.1</td><td style=\"text-align: right;\"> 0.744147</td><td style=\"text-align: right;\"> 0.716675</td><td style=\"text-align: right;\">     0.716675</td><td style=\"text-align: right;\">300</td></tr>\n",
       "</tbody>\n",
       "</table>\n",
       "  </div>\n",
       "</div>\n",
       "<style>\n",
       ".tuneStatus {\n",
       "  color: var(--jp-ui-font-color1);\n",
       "}\n",
       ".tuneStatus .systemInfo {\n",
       "  display: flex;\n",
       "  flex-direction: column;\n",
       "}\n",
       ".tuneStatus td {\n",
       "  white-space: nowrap;\n",
       "}\n",
       ".tuneStatus .trialStatus {\n",
       "  display: flex;\n",
       "  flex-direction: column;\n",
       "}\n",
       ".tuneStatus h3 {\n",
       "  font-weight: bold;\n",
       "}\n",
       ".tuneStatus .hDivider {\n",
       "  border-bottom-width: var(--jp-border-width);\n",
       "  border-bottom-color: var(--jp-border-color0);\n",
       "  border-bottom-style: solid;\n",
       "}\n",
       ".tuneStatus .vDivider {\n",
       "  border-left-width: var(--jp-border-width);\n",
       "  border-left-color: var(--jp-border-color0);\n",
       "  border-left-style: solid;\n",
       "  margin: 0.5em 1em 0.5em 1em;\n",
       "}\n",
       "</style>\n"
      ],
      "text/plain": [
       "<IPython.core.display.HTML object>"
      ]
     },
     "metadata": {},
     "output_type": "display_data"
    },
    {
     "name": "stderr",
     "output_type": "stream",
     "text": [
      "2023-03-12 19:41:41,513\tINFO worker.py:1553 -- Started a local Ray instance.\n",
      "2023-03-12 20:11:37,803\tINFO tune.py:798 -- Total run time: 1795.04 seconds (1758.08 seconds for the tuning loop).\n"
     ]
    }
   ],
   "source": [
    "# how many trials to run (if grid_search utilized, it will run this number per grid_search value)\n",
    "num_samples = 1\n",
    "\n",
    "# run experiment\n",
    "result_grid = autoenc.run_ray_experiment(\n",
    "    autoenc.train_validate, config, ray_path, num_samples,\n",
    "    metric_columns = [\"trn_acc\", \"val_acc\", \"max_val_acc\", \"training_iteration\"],\n",
    "    parameter_columns = [\"enc_channels\", \"scaling\", \"num_prop\", \"teleport\", \"dropout\", \"lr\", \"wd\"]\n",
    ")"
   ]
  },
  {
   "cell_type": "markdown",
   "id": "c419b918",
   "metadata": {},
   "source": [
    "#### 3.2 Result of Hyperparameter tuning"
   ]
  },
  {
   "cell_type": "code",
   "execution_count": 6,
   "id": "0e9db923",
   "metadata": {},
   "outputs": [
    {
     "name": "stderr",
     "output_type": "stream",
     "text": [
      "The trainable will be overwritten - this should be done with caution: it's possible to supply an incompatible trainable, and there are no guarantees that the resumed experiment will continue successfully. If you encounter errors during training, ensure that you are passing in the same trainable that was passed into the initial `Tuner` object.\n"
     ]
    },
    {
     "name": "stdout",
     "output_type": "stream",
     "text": [
      "Loading results from ray_results/2_VGNAE_fine search...\n",
      "Done!\n",
      "\n",
      "No errors! Number of terminated trials: 75\n"
     ]
    }
   ],
   "source": [
    "restored_tuner, result_grid = autoenc.open_validate_ray_experiment(\n",
    "    \"ray_results/2_VGNAE_fine search\",\n",
    "    autoenc.train_validate\n",
    ")"
   ]
  },
  {
   "cell_type": "code",
   "execution_count": 7,
   "id": "31297470",
   "metadata": {},
   "outputs": [
    {
     "data": {
      "text/html": [
       "<div>\n",
       "<style scoped>\n",
       "    .dataframe tbody tr th:only-of-type {\n",
       "        vertical-align: middle;\n",
       "    }\n",
       "\n",
       "    .dataframe tbody tr th {\n",
       "        vertical-align: top;\n",
       "    }\n",
       "\n",
       "    .dataframe thead th {\n",
       "        text-align: right;\n",
       "    }\n",
       "</style>\n",
       "<table border=\"1\" class=\"dataframe\">\n",
       "  <thead>\n",
       "    <tr style=\"text-align: right;\">\n",
       "      <th></th>\n",
       "      <th>trial_id</th>\n",
       "      <th>config/model</th>\n",
       "      <th>config/enc_channels</th>\n",
       "      <th>config/scaling</th>\n",
       "      <th>config/num_prop</th>\n",
       "      <th>config/teleport</th>\n",
       "      <th>config/dropout</th>\n",
       "      <th>config/lr</th>\n",
       "      <th>config/wd</th>\n",
       "      <th>training_iteration</th>\n",
       "      <th>trn_loss</th>\n",
       "      <th>val_loss</th>\n",
       "      <th>trn_acc</th>\n",
       "      <th>val_acc</th>\n",
       "      <th>trn_auc</th>\n",
       "      <th>val_auc</th>\n",
       "    </tr>\n",
       "  </thead>\n",
       "  <tbody>\n",
       "    <tr>\n",
       "      <th>66</th>\n",
       "      <td>88825_00066</td>\n",
       "      <td>VGNAE</td>\n",
       "      <td>64</td>\n",
       "      <td>1.5</td>\n",
       "      <td>5</td>\n",
       "      <td>0.2</td>\n",
       "      <td>0.01</td>\n",
       "      <td>0.00001</td>\n",
       "      <td>0.1</td>\n",
       "      <td>44</td>\n",
       "      <td>7.705284</td>\n",
       "      <td>2.770418</td>\n",
       "      <td>0.742475</td>\n",
       "      <td>0.720497</td>\n",
       "      <td>0.844974</td>\n",
       "      <td>0.781419</td>\n",
       "    </tr>\n",
       "    <tr>\n",
       "      <th>61</th>\n",
       "      <td>88825_00061</td>\n",
       "      <td>VGNAE</td>\n",
       "      <td>64</td>\n",
       "      <td>1.2</td>\n",
       "      <td>5</td>\n",
       "      <td>0.2</td>\n",
       "      <td>0.01</td>\n",
       "      <td>0.00001</td>\n",
       "      <td>0.1</td>\n",
       "      <td>1</td>\n",
       "      <td>7.167185</td>\n",
       "      <td>1.997959</td>\n",
       "      <td>0.743430</td>\n",
       "      <td>0.720497</td>\n",
       "      <td>0.843809</td>\n",
       "      <td>0.782027</td>\n",
       "    </tr>\n",
       "    <tr>\n",
       "      <th>65</th>\n",
       "      <td>88825_00065</td>\n",
       "      <td>VGNAE</td>\n",
       "      <td>64</td>\n",
       "      <td>1.5</td>\n",
       "      <td>5</td>\n",
       "      <td>0.2</td>\n",
       "      <td>0.00</td>\n",
       "      <td>0.00001</td>\n",
       "      <td>0.1</td>\n",
       "      <td>1</td>\n",
       "      <td>7.639125</td>\n",
       "      <td>2.830298</td>\n",
       "      <td>0.739369</td>\n",
       "      <td>0.719541</td>\n",
       "      <td>0.841164</td>\n",
       "      <td>0.782962</td>\n",
       "    </tr>\n",
       "    <tr>\n",
       "      <th>64</th>\n",
       "      <td>88825_00064</td>\n",
       "      <td>VGNAE</td>\n",
       "      <td>64</td>\n",
       "      <td>1.2</td>\n",
       "      <td>5</td>\n",
       "      <td>0.2</td>\n",
       "      <td>0.20</td>\n",
       "      <td>0.00001</td>\n",
       "      <td>0.1</td>\n",
       "      <td>1</td>\n",
       "      <td>13.292760</td>\n",
       "      <td>2.029148</td>\n",
       "      <td>0.738414</td>\n",
       "      <td>0.719541</td>\n",
       "      <td>0.838812</td>\n",
       "      <td>0.783299</td>\n",
       "    </tr>\n",
       "    <tr>\n",
       "      <th>69</th>\n",
       "      <td>88825_00069</td>\n",
       "      <td>VGNAE</td>\n",
       "      <td>64</td>\n",
       "      <td>1.5</td>\n",
       "      <td>5</td>\n",
       "      <td>0.2</td>\n",
       "      <td>0.20</td>\n",
       "      <td>0.00001</td>\n",
       "      <td>0.1</td>\n",
       "      <td>1</td>\n",
       "      <td>14.097346</td>\n",
       "      <td>2.929691</td>\n",
       "      <td>0.731486</td>\n",
       "      <td>0.718586</td>\n",
       "      <td>0.834775</td>\n",
       "      <td>0.784853</td>\n",
       "    </tr>\n",
       "    <tr>\n",
       "      <th>46</th>\n",
       "      <td>88825_00046</td>\n",
       "      <td>VGNAE</td>\n",
       "      <td>64</td>\n",
       "      <td>1.2</td>\n",
       "      <td>5</td>\n",
       "      <td>0.1</td>\n",
       "      <td>0.01</td>\n",
       "      <td>0.00001</td>\n",
       "      <td>0.1</td>\n",
       "      <td>254</td>\n",
       "      <td>7.236817</td>\n",
       "      <td>2.106866</td>\n",
       "      <td>0.741042</td>\n",
       "      <td>0.718586</td>\n",
       "      <td>0.841877</td>\n",
       "      <td>0.783942</td>\n",
       "    </tr>\n",
       "    <tr>\n",
       "      <th>58</th>\n",
       "      <td>88825_00058</td>\n",
       "      <td>VGNAE</td>\n",
       "      <td>64</td>\n",
       "      <td>1.8</td>\n",
       "      <td>5</td>\n",
       "      <td>0.1</td>\n",
       "      <td>0.10</td>\n",
       "      <td>0.00001</td>\n",
       "      <td>0.1</td>\n",
       "      <td>7</td>\n",
       "      <td>17.256910</td>\n",
       "      <td>4.241579</td>\n",
       "      <td>0.741758</td>\n",
       "      <td>0.717630</td>\n",
       "      <td>0.839645</td>\n",
       "      <td>0.782591</td>\n",
       "    </tr>\n",
       "    <tr>\n",
       "      <th>68</th>\n",
       "      <td>88825_00068</td>\n",
       "      <td>VGNAE</td>\n",
       "      <td>64</td>\n",
       "      <td>1.5</td>\n",
       "      <td>5</td>\n",
       "      <td>0.2</td>\n",
       "      <td>0.10</td>\n",
       "      <td>0.00001</td>\n",
       "      <td>0.1</td>\n",
       "      <td>1</td>\n",
       "      <td>12.979052</td>\n",
       "      <td>2.845800</td>\n",
       "      <td>0.738653</td>\n",
       "      <td>0.717630</td>\n",
       "      <td>0.840357</td>\n",
       "      <td>0.782863</td>\n",
       "    </tr>\n",
       "    <tr>\n",
       "      <th>47</th>\n",
       "      <td>88825_00047</td>\n",
       "      <td>VGNAE</td>\n",
       "      <td>64</td>\n",
       "      <td>1.2</td>\n",
       "      <td>5</td>\n",
       "      <td>0.1</td>\n",
       "      <td>0.05</td>\n",
       "      <td>0.00001</td>\n",
       "      <td>0.1</td>\n",
       "      <td>1</td>\n",
       "      <td>8.412550</td>\n",
       "      <td>2.154204</td>\n",
       "      <td>0.735069</td>\n",
       "      <td>0.717630</td>\n",
       "      <td>0.836384</td>\n",
       "      <td>0.783846</td>\n",
       "    </tr>\n",
       "    <tr>\n",
       "      <th>67</th>\n",
       "      <td>88825_00067</td>\n",
       "      <td>VGNAE</td>\n",
       "      <td>64</td>\n",
       "      <td>1.5</td>\n",
       "      <td>5</td>\n",
       "      <td>0.2</td>\n",
       "      <td>0.05</td>\n",
       "      <td>0.00001</td>\n",
       "      <td>0.1</td>\n",
       "      <td>1</td>\n",
       "      <td>8.969413</td>\n",
       "      <td>2.812373</td>\n",
       "      <td>0.740803</td>\n",
       "      <td>0.717630</td>\n",
       "      <td>0.842457</td>\n",
       "      <td>0.783181</td>\n",
       "    </tr>\n",
       "  </tbody>\n",
       "</table>\n",
       "</div>"
      ],
      "text/plain": [
       "       trial_id config/model  config/enc_channels  config/scaling  \\\n",
       "66  88825_00066        VGNAE                   64             1.5   \n",
       "61  88825_00061        VGNAE                   64             1.2   \n",
       "65  88825_00065        VGNAE                   64             1.5   \n",
       "64  88825_00064        VGNAE                   64             1.2   \n",
       "69  88825_00069        VGNAE                   64             1.5   \n",
       "46  88825_00046        VGNAE                   64             1.2   \n",
       "58  88825_00058        VGNAE                   64             1.8   \n",
       "68  88825_00068        VGNAE                   64             1.5   \n",
       "47  88825_00047        VGNAE                   64             1.2   \n",
       "67  88825_00067        VGNAE                   64             1.5   \n",
       "\n",
       "    config/num_prop  config/teleport  config/dropout  config/lr  config/wd  \\\n",
       "66                5              0.2            0.01    0.00001        0.1   \n",
       "61                5              0.2            0.01    0.00001        0.1   \n",
       "65                5              0.2            0.00    0.00001        0.1   \n",
       "64                5              0.2            0.20    0.00001        0.1   \n",
       "69                5              0.2            0.20    0.00001        0.1   \n",
       "46                5              0.1            0.01    0.00001        0.1   \n",
       "58                5              0.1            0.10    0.00001        0.1   \n",
       "68                5              0.2            0.10    0.00001        0.1   \n",
       "47                5              0.1            0.05    0.00001        0.1   \n",
       "67                5              0.2            0.05    0.00001        0.1   \n",
       "\n",
       "    training_iteration   trn_loss  val_loss   trn_acc   val_acc   trn_auc  \\\n",
       "66                  44   7.705284  2.770418  0.742475  0.720497  0.844974   \n",
       "61                   1   7.167185  1.997959  0.743430  0.720497  0.843809   \n",
       "65                   1   7.639125  2.830298  0.739369  0.719541  0.841164   \n",
       "64                   1  13.292760  2.029148  0.738414  0.719541  0.838812   \n",
       "69                   1  14.097346  2.929691  0.731486  0.718586  0.834775   \n",
       "46                 254   7.236817  2.106866  0.741042  0.718586  0.841877   \n",
       "58                   7  17.256910  4.241579  0.741758  0.717630  0.839645   \n",
       "68                   1  12.979052  2.845800  0.738653  0.717630  0.840357   \n",
       "47                   1   8.412550  2.154204  0.735069  0.717630  0.836384   \n",
       "67                   1   8.969413  2.812373  0.740803  0.717630  0.842457   \n",
       "\n",
       "     val_auc  \n",
       "66  0.781419  \n",
       "61  0.782027  \n",
       "65  0.782962  \n",
       "64  0.783299  \n",
       "69  0.784853  \n",
       "46  0.783942  \n",
       "58  0.782591  \n",
       "68  0.782863  \n",
       "47  0.783846  \n",
       "67  0.783181  "
      ]
     },
     "execution_count": 7,
     "metadata": {},
     "output_type": "execute_result"
    }
   ],
   "source": [
    "# get best score per trial (highest validation accuracy)\n",
    "N = 10\n",
    "best_result_df = result_grid.get_dataframe(\n",
    "    filter_metric=\"val_acc\", filter_mode=\"max\"\n",
    ")\n",
    "best_result_df = best_result_df[[\"trial_id\", \"config/model\", \"config/enc_channels\",\n",
    "                                 \"config/scaling\", \"config/num_prop\", \"config/teleport\", \"config/dropout\",\n",
    "                                 \"config/lr\", \"config/wd\", \"training_iteration\",\n",
    "                                 \"trn_loss\", \"val_loss\", \"trn_acc\", \"val_acc\", \"trn_auc\", \"val_auc\"]]\n",
    "best_result_df = best_result_df.sort_values(by=[\"val_acc\"], ascending = False)\n",
    "\n",
    "if len(result_grid) > N:\n",
    "    best_result_df = best_result_df.head(N)\n",
    "\n",
    "best_result_df"
   ]
  },
  {
   "cell_type": "markdown",
   "id": "155cb789",
   "metadata": {},
   "source": [
    "#### 3.3 Embeddings based on best model"
   ]
  },
  {
   "cell_type": "code",
   "execution_count": 8,
   "id": "60a3d4eb",
   "metadata": {},
   "outputs": [
    {
     "data": {
      "text/plain": [
       "<All keys matched successfully>"
      ]
     },
     "execution_count": 8,
     "metadata": {},
     "output_type": "execute_result"
    }
   ],
   "source": [
    "# load best autoencoder\n",
    "path = os.path.abspath(\"\")+\"\\\\models\\\\autoencoder.pt\"\n",
    "model = VGAE(autoenc.Encoder(data.x.size()[1], 64, 1.5, 5, 0.2, 0.01))\n",
    "model.load_state_dict(torch.load(path))"
   ]
  },
  {
   "cell_type": "code",
   "execution_count": 9,
   "id": "9a83b802",
   "metadata": {},
   "outputs": [],
   "source": [
    "# get embeddings of nodes\n",
    "embedding = autoenc.get_embeddings(model, data.x, data.train_pos_edges)"
   ]
  },
  {
   "cell_type": "code",
   "execution_count": 12,
   "id": "12aae6b8",
   "metadata": {},
   "outputs": [
    {
     "data": {
      "text/plain": [
       "Text(0.5, 1.0, 'VGNAE projection (first 2 dim) of nodes')"
      ]
     },
     "execution_count": 12,
     "metadata": {},
     "output_type": "execute_result"
    },
    {
     "data": {
      "image/png": "[encoded data removed]",
      "text/plain": [
       "<Figure size 640x480 with 1 Axes>"
      ]
     },
     "metadata": {},
     "output_type": "display_data"
    }
   ],
   "source": [
    "# plot embedding\n",
    "plt.scatter(\n",
    "    embedding[:, 0],\n",
    "    embedding[:, 1])\n",
    "plt.gca().set_aspect('equal', 'datalim')\n",
    "plt.title('VGNAE projection (first 2 dim) of nodes')"
   ]
  },
  {
   "cell_type": "code",
   "execution_count": 13,
   "id": "7b823a53",
   "metadata": {},
   "outputs": [],
   "source": [
    "node_emb = pd.DataFrame(embedding).rename(columns = {val: f\"x{val+1}\" for val in range(embedding.shape[1])})"
   ]
  },
  {
   "cell_type": "code",
   "execution_count": 14,
   "id": "6f3d85d3",
   "metadata": {},
   "outputs": [
    {
     "data": {
      "text/html": [
       "<div>\n",
       "<style scoped>\n",
       "    .dataframe tbody tr th:only-of-type {\n",
       "        vertical-align: middle;\n",
       "    }\n",
       "\n",
       "    .dataframe tbody tr th {\n",
       "        vertical-align: top;\n",
       "    }\n",
       "\n",
       "    .dataframe thead th {\n",
       "        text-align: right;\n",
       "    }\n",
       "</style>\n",
       "<table border=\"1\" class=\"dataframe\">\n",
       "  <thead>\n",
       "    <tr style=\"text-align: right;\">\n",
       "      <th></th>\n",
       "      <th>x1</th>\n",
       "      <th>x2</th>\n",
       "      <th>x3</th>\n",
       "      <th>x4</th>\n",
       "      <th>x5</th>\n",
       "      <th>x6</th>\n",
       "      <th>x7</th>\n",
       "      <th>x8</th>\n",
       "      <th>x9</th>\n",
       "      <th>x10</th>\n",
       "      <th>...</th>\n",
       "      <th>x55</th>\n",
       "      <th>x56</th>\n",
       "      <th>x57</th>\n",
       "      <th>x58</th>\n",
       "      <th>x59</th>\n",
       "      <th>x60</th>\n",
       "      <th>x61</th>\n",
       "      <th>x62</th>\n",
       "      <th>x63</th>\n",
       "      <th>x64</th>\n",
       "    </tr>\n",
       "  </thead>\n",
       "  <tbody>\n",
       "    <tr>\n",
       "      <th>0</th>\n",
       "      <td>-0.063865</td>\n",
       "      <td>-0.730979</td>\n",
       "      <td>0.433307</td>\n",
       "      <td>0.024795</td>\n",
       "      <td>0.341493</td>\n",
       "      <td>1.126635</td>\n",
       "      <td>0.252332</td>\n",
       "      <td>0.544171</td>\n",
       "      <td>0.384873</td>\n",
       "      <td>0.436641</td>\n",
       "      <td>...</td>\n",
       "      <td>1.753121</td>\n",
       "      <td>1.401360</td>\n",
       "      <td>1.112463</td>\n",
       "      <td>0.342296</td>\n",
       "      <td>0.416504</td>\n",
       "      <td>0.519761</td>\n",
       "      <td>-0.610225</td>\n",
       "      <td>0.557281</td>\n",
       "      <td>-0.353902</td>\n",
       "      <td>2.165911</td>\n",
       "    </tr>\n",
       "    <tr>\n",
       "      <th>1</th>\n",
       "      <td>-0.719983</td>\n",
       "      <td>2.074478</td>\n",
       "      <td>-0.409308</td>\n",
       "      <td>-0.617679</td>\n",
       "      <td>1.720305</td>\n",
       "      <td>-0.018426</td>\n",
       "      <td>0.018287</td>\n",
       "      <td>0.762303</td>\n",
       "      <td>-1.207347</td>\n",
       "      <td>-0.114491</td>\n",
       "      <td>...</td>\n",
       "      <td>-0.954103</td>\n",
       "      <td>0.785100</td>\n",
       "      <td>-1.750763</td>\n",
       "      <td>0.509461</td>\n",
       "      <td>0.305428</td>\n",
       "      <td>-1.431960</td>\n",
       "      <td>-0.833624</td>\n",
       "      <td>1.195829</td>\n",
       "      <td>2.267903</td>\n",
       "      <td>-0.346768</td>\n",
       "    </tr>\n",
       "    <tr>\n",
       "      <th>2</th>\n",
       "      <td>-0.854924</td>\n",
       "      <td>0.544676</td>\n",
       "      <td>0.057756</td>\n",
       "      <td>-0.519429</td>\n",
       "      <td>-0.291038</td>\n",
       "      <td>-0.963310</td>\n",
       "      <td>0.077309</td>\n",
       "      <td>-0.812664</td>\n",
       "      <td>1.104375</td>\n",
       "      <td>0.760463</td>\n",
       "      <td>...</td>\n",
       "      <td>-1.467102</td>\n",
       "      <td>-0.814304</td>\n",
       "      <td>-1.277474</td>\n",
       "      <td>0.257432</td>\n",
       "      <td>0.724200</td>\n",
       "      <td>-0.125126</td>\n",
       "      <td>-1.996228</td>\n",
       "      <td>2.205127</td>\n",
       "      <td>1.779915</td>\n",
       "      <td>-0.872934</td>\n",
       "    </tr>\n",
       "    <tr>\n",
       "      <th>3</th>\n",
       "      <td>0.603146</td>\n",
       "      <td>-2.241166</td>\n",
       "      <td>1.049366</td>\n",
       "      <td>-0.307093</td>\n",
       "      <td>-0.045722</td>\n",
       "      <td>0.820539</td>\n",
       "      <td>0.229573</td>\n",
       "      <td>0.248375</td>\n",
       "      <td>-0.648733</td>\n",
       "      <td>-0.499698</td>\n",
       "      <td>...</td>\n",
       "      <td>-1.143108</td>\n",
       "      <td>-0.449587</td>\n",
       "      <td>0.521415</td>\n",
       "      <td>1.277544</td>\n",
       "      <td>-0.439586</td>\n",
       "      <td>-1.071920</td>\n",
       "      <td>-1.067441</td>\n",
       "      <td>-0.315623</td>\n",
       "      <td>0.575625</td>\n",
       "      <td>1.020827</td>\n",
       "    </tr>\n",
       "    <tr>\n",
       "      <th>4</th>\n",
       "      <td>-0.451971</td>\n",
       "      <td>1.093642</td>\n",
       "      <td>-0.716239</td>\n",
       "      <td>-0.314964</td>\n",
       "      <td>-0.853331</td>\n",
       "      <td>-0.827260</td>\n",
       "      <td>0.072287</td>\n",
       "      <td>1.483413</td>\n",
       "      <td>-0.090427</td>\n",
       "      <td>0.296355</td>\n",
       "      <td>...</td>\n",
       "      <td>1.570473</td>\n",
       "      <td>0.239540</td>\n",
       "      <td>-1.381986</td>\n",
       "      <td>-0.730668</td>\n",
       "      <td>-0.517656</td>\n",
       "      <td>-0.525959</td>\n",
       "      <td>1.064256</td>\n",
       "      <td>-1.042043</td>\n",
       "      <td>-0.299195</td>\n",
       "      <td>-0.302309</td>\n",
       "    </tr>\n",
       "    <tr>\n",
       "      <th>...</th>\n",
       "      <td>...</td>\n",
       "      <td>...</td>\n",
       "      <td>...</td>\n",
       "      <td>...</td>\n",
       "      <td>...</td>\n",
       "      <td>...</td>\n",
       "      <td>...</td>\n",
       "      <td>...</td>\n",
       "      <td>...</td>\n",
       "      <td>...</td>\n",
       "      <td>...</td>\n",
       "      <td>...</td>\n",
       "      <td>...</td>\n",
       "      <td>...</td>\n",
       "      <td>...</td>\n",
       "      <td>...</td>\n",
       "      <td>...</td>\n",
       "      <td>...</td>\n",
       "      <td>...</td>\n",
       "      <td>...</td>\n",
       "      <td>...</td>\n",
       "    </tr>\n",
       "    <tr>\n",
       "      <th>3592</th>\n",
       "      <td>-1.796760</td>\n",
       "      <td>-1.037315</td>\n",
       "      <td>1.122389</td>\n",
       "      <td>-1.623044</td>\n",
       "      <td>0.575687</td>\n",
       "      <td>-1.320894</td>\n",
       "      <td>-0.884036</td>\n",
       "      <td>0.419252</td>\n",
       "      <td>0.072174</td>\n",
       "      <td>0.251858</td>\n",
       "      <td>...</td>\n",
       "      <td>-0.916614</td>\n",
       "      <td>1.871103</td>\n",
       "      <td>0.742685</td>\n",
       "      <td>-0.459412</td>\n",
       "      <td>-2.185042</td>\n",
       "      <td>-0.388104</td>\n",
       "      <td>0.779588</td>\n",
       "      <td>1.789750</td>\n",
       "      <td>-0.644084</td>\n",
       "      <td>0.352651</td>\n",
       "    </tr>\n",
       "    <tr>\n",
       "      <th>3593</th>\n",
       "      <td>1.071986</td>\n",
       "      <td>-0.652288</td>\n",
       "      <td>-0.620980</td>\n",
       "      <td>-0.758068</td>\n",
       "      <td>0.861363</td>\n",
       "      <td>-1.143569</td>\n",
       "      <td>0.345614</td>\n",
       "      <td>0.017415</td>\n",
       "      <td>-0.247239</td>\n",
       "      <td>-0.250366</td>\n",
       "      <td>...</td>\n",
       "      <td>-0.578490</td>\n",
       "      <td>-1.262724</td>\n",
       "      <td>-1.770784</td>\n",
       "      <td>1.782915</td>\n",
       "      <td>1.388147</td>\n",
       "      <td>-0.377131</td>\n",
       "      <td>-0.319400</td>\n",
       "      <td>-2.115265</td>\n",
       "      <td>-0.942785</td>\n",
       "      <td>1.597077</td>\n",
       "    </tr>\n",
       "    <tr>\n",
       "      <th>3594</th>\n",
       "      <td>0.433297</td>\n",
       "      <td>-0.709473</td>\n",
       "      <td>0.471593</td>\n",
       "      <td>2.220093</td>\n",
       "      <td>0.582405</td>\n",
       "      <td>0.002625</td>\n",
       "      <td>-0.897635</td>\n",
       "      <td>0.774775</td>\n",
       "      <td>1.409454</td>\n",
       "      <td>2.721758</td>\n",
       "      <td>...</td>\n",
       "      <td>1.765854</td>\n",
       "      <td>-0.450325</td>\n",
       "      <td>-0.967829</td>\n",
       "      <td>-0.257652</td>\n",
       "      <td>-1.861384</td>\n",
       "      <td>-0.257584</td>\n",
       "      <td>-0.153752</td>\n",
       "      <td>-1.652323</td>\n",
       "      <td>-0.628629</td>\n",
       "      <td>-0.381228</td>\n",
       "    </tr>\n",
       "    <tr>\n",
       "      <th>3595</th>\n",
       "      <td>-1.667803</td>\n",
       "      <td>-1.268852</td>\n",
       "      <td>-0.239316</td>\n",
       "      <td>-0.640469</td>\n",
       "      <td>0.234211</td>\n",
       "      <td>0.612983</td>\n",
       "      <td>2.556522</td>\n",
       "      <td>-0.378770</td>\n",
       "      <td>0.166229</td>\n",
       "      <td>-0.260701</td>\n",
       "      <td>...</td>\n",
       "      <td>0.502788</td>\n",
       "      <td>-0.443144</td>\n",
       "      <td>1.522099</td>\n",
       "      <td>-0.313125</td>\n",
       "      <td>-1.537309</td>\n",
       "      <td>0.106097</td>\n",
       "      <td>-0.898324</td>\n",
       "      <td>0.045709</td>\n",
       "      <td>-1.562389</td>\n",
       "      <td>-0.549867</td>\n",
       "    </tr>\n",
       "    <tr>\n",
       "      <th>3596</th>\n",
       "      <td>-1.135668</td>\n",
       "      <td>0.745942</td>\n",
       "      <td>0.195260</td>\n",
       "      <td>0.482736</td>\n",
       "      <td>0.871265</td>\n",
       "      <td>1.151789</td>\n",
       "      <td>0.312575</td>\n",
       "      <td>0.657133</td>\n",
       "      <td>0.977344</td>\n",
       "      <td>-0.552757</td>\n",
       "      <td>...</td>\n",
       "      <td>-0.823019</td>\n",
       "      <td>1.884959</td>\n",
       "      <td>-3.235310</td>\n",
       "      <td>1.135619</td>\n",
       "      <td>-1.470447</td>\n",
       "      <td>0.364846</td>\n",
       "      <td>0.434002</td>\n",
       "      <td>-0.326818</td>\n",
       "      <td>-1.467660</td>\n",
       "      <td>0.353817</td>\n",
       "    </tr>\n",
       "  </tbody>\n",
       "</table>\n",
       "<p>3597 rows × 64 columns</p>\n",
       "</div>"
      ],
      "text/plain": [
       "            x1        x2        x3        x4        x5        x6        x7  \\\n",
       "0    -0.063865 -0.730979  0.433307  0.024795  0.341493  1.126635  0.252332   \n",
       "1    -0.719983  2.074478 -0.409308 -0.617679  1.720305 -0.018426  0.018287   \n",
       "2    -0.854924  0.544676  0.057756 -0.519429 -0.291038 -0.963310  0.077309   \n",
       "3     0.603146 -2.241166  1.049366 -0.307093 -0.045722  0.820539  0.229573   \n",
       "4    -0.451971  1.093642 -0.716239 -0.314964 -0.853331 -0.827260  0.072287   \n",
       "...        ...       ...       ...       ...       ...       ...       ...   \n",
       "3592 -1.796760 -1.037315  1.122389 -1.623044  0.575687 -1.320894 -0.884036   \n",
       "3593  1.071986 -0.652288 -0.620980 -0.758068  0.861363 -1.143569  0.345614   \n",
       "3594  0.433297 -0.709473  0.471593  2.220093  0.582405  0.002625 -0.897635   \n",
       "3595 -1.667803 -1.268852 -0.239316 -0.640469  0.234211  0.612983  2.556522   \n",
       "3596 -1.135668  0.745942  0.195260  0.482736  0.871265  1.151789  0.312575   \n",
       "\n",
       "            x8        x9       x10  ...       x55       x56       x57  \\\n",
       "0     0.544171  0.384873  0.436641  ...  1.753121  1.401360  1.112463   \n",
       "1     0.762303 -1.207347 -0.114491  ... -0.954103  0.785100 -1.750763   \n",
       "2    -0.812664  1.104375  0.760463  ... -1.467102 -0.814304 -1.277474   \n",
       "3     0.248375 -0.648733 -0.499698  ... -1.143108 -0.449587  0.521415   \n",
       "4     1.483413 -0.090427  0.296355  ...  1.570473  0.239540 -1.381986   \n",
       "...        ...       ...       ...  ...       ...       ...       ...   \n",
       "3592  0.419252  0.072174  0.251858  ... -0.916614  1.871103  0.742685   \n",
       "3593  0.017415 -0.247239 -0.250366  ... -0.578490 -1.262724 -1.770784   \n",
       "3594  0.774775  1.409454  2.721758  ...  1.765854 -0.450325 -0.967829   \n",
       "3595 -0.378770  0.166229 -0.260701  ...  0.502788 -0.443144  1.522099   \n",
       "3596  0.657133  0.977344 -0.552757  ... -0.823019  1.884959 -3.235310   \n",
       "\n",
       "           x58       x59       x60       x61       x62       x63       x64  \n",
       "0     0.342296  0.416504  0.519761 -0.610225  0.557281 -0.353902  2.165911  \n",
       "1     0.509461  0.305428 -1.431960 -0.833624  1.195829  2.267903 -0.346768  \n",
       "2     0.257432  0.724200 -0.125126 -1.996228  2.205127  1.779915 -0.872934  \n",
       "3     1.277544 -0.439586 -1.071920 -1.067441 -0.315623  0.575625  1.020827  \n",
       "4    -0.730668 -0.517656 -0.525959  1.064256 -1.042043 -0.299195 -0.302309  \n",
       "...        ...       ...       ...       ...       ...       ...       ...  \n",
       "3592 -0.459412 -2.185042 -0.388104  0.779588  1.789750 -0.644084  0.352651  \n",
       "3593  1.782915  1.388147 -0.377131 -0.319400 -2.115265 -0.942785  1.597077  \n",
       "3594 -0.257652 -1.861384 -0.257584 -0.153752 -1.652323 -0.628629 -0.381228  \n",
       "3595 -0.313125 -1.537309  0.106097 -0.898324  0.045709 -1.562389 -0.549867  \n",
       "3596  1.135619 -1.470447  0.364846  0.434002 -0.326818 -1.467660  0.353817  \n",
       "\n",
       "[3597 rows x 64 columns]"
      ]
     },
     "execution_count": 14,
     "metadata": {},
     "output_type": "execute_result"
    }
   ],
   "source": [
    "node_emb"
   ]
  },
  {
   "cell_type": "markdown",
   "id": "64dcbb71",
   "metadata": {},
   "source": [
    "#### 3.4 Compute edge features based on best model"
   ]
  },
  {
   "cell_type": "code",
   "execution_count": 15,
   "id": "4f6dc822",
   "metadata": {},
   "outputs": [
    {
     "name": "stdout",
     "output_type": "stream",
     "text": [
      "ROC:  0.8449736372512249\n",
      "Acc:  0.7424749163879598\n"
     ]
    }
   ],
   "source": [
    "# predict train\n",
    "y_train_hat = pd.DataFrame(autoenc.get_similarity(model, data.x, data.train_pos_edges, data.train_edges))\n",
    "y_train_hat = (y_train_hat\n",
    "    .rename(columns = {0: \"sim\"})\n",
    "    .assign(y = trainval_tf.loc[trainval_tf.train_mask == True].y.values)\n",
    "    .assign(pred = lambda df_: (df_.sim > df_.sim.median()).astype(int))\n",
    ")\n",
    "print(\"ROC: \", roc_auc_score(y_train_hat.y, y_train_hat.sim))\n",
    "print(\"Acc: \", accuracy_score(y_train_hat.y, y_train_hat.pred))"
   ]
  },
  {
   "cell_type": "code",
   "execution_count": 16,
   "id": "31eab61f",
   "metadata": {},
   "outputs": [
    {
     "data": {
      "text/plain": [
       "<seaborn.axisgrid.PairGrid at 0x24b6a3b7be0>"
      ]
     },
     "execution_count": 16,
     "metadata": {},
     "output_type": "execute_result"
    },
    {
     "data": {
      "image/png": "[encoded data removed]",
      "text/plain": [
       "<Figure size 263.889x250 with 2 Axes>"
      ]
     },
     "metadata": {},
     "output_type": "display_data"
    }
   ],
   "source": [
    "sns.pairplot(y_train_hat[[\"sim\", \"y\"]], hue = \"y\")"
   ]
  },
  {
   "cell_type": "code",
   "execution_count": 33,
   "id": "bc2a3c26",
   "metadata": {
    "scrolled": true
   },
   "outputs": [
    {
     "name": "stdout",
     "output_type": "stream",
     "text": [
      "ROC:  0.7814185271424006\n",
      "Acc:  0.7204968944099379\n"
     ]
    }
   ],
   "source": [
    "# predict val\n",
    "y_val_hat = pd.DataFrame(autoenc.get_similarity(model, data.x, data.train_pos_edges, data.val_edges))\n",
    "y_val_hat = (y_val_hat\n",
    "    .rename(columns = {0: \"sim\"})\n",
    "    .assign(y = trainval_tf.loc[trainval_tf.val_mask == True].y.values)\n",
    "    .assign(pred = lambda df_: (df_.sim > df_.sim.median()).astype(int))\n",
    ")\n",
    "print(\"ROC: \", roc_auc_score(y_val_hat.y, y_val_hat.sim))\n",
    "print(\"Acc: \", accuracy_score(y_val_hat.y, y_val_hat.pred))"
   ]
  },
  {
   "cell_type": "code",
   "execution_count": 34,
   "id": "4f8461a8",
   "metadata": {},
   "outputs": [],
   "source": [
    "tmp = (val_tf\n",
    "    .assign(sim  = y_val_hat.pred.values)\n",
    "    .assign(dist = lambda df_: [np.linalg.norm(node_emb.loc[u].values-node_emb.loc[v].values) for u, v in zip(df_.node1, df_.node2)])\n",
    ")"
   ]
  },
  {
   "cell_type": "code",
   "execution_count": 35,
   "id": "ca8db459",
   "metadata": {},
   "outputs": [
    {
     "data": {
      "text/plain": [
       "<seaborn.axisgrid.PairGrid at 0x24d0942b7c0>"
      ]
     },
     "execution_count": 35,
     "metadata": {},
     "output_type": "execute_result"
    },
    {
     "data": {
      "image/png": "[encoded data removed]",
      "text/plain": [
       "<Figure size 547x500 with 6 Axes>"
      ]
     },
     "metadata": {},
     "output_type": "display_data"
    }
   ],
   "source": [
    "sns.pairplot(tmp[[\"sim\", \"dist\", \"y\"]], hue = \"y\")"
   ]
  },
  {
   "cell_type": "code",
   "execution_count": 36,
   "id": "4efe1fbc",
   "metadata": {},
   "outputs": [
    {
     "data": {
      "text/html": [
       "<div>\n",
       "<style scoped>\n",
       "    .dataframe tbody tr th:only-of-type {\n",
       "        vertical-align: middle;\n",
       "    }\n",
       "\n",
       "    .dataframe tbody tr th {\n",
       "        vertical-align: top;\n",
       "    }\n",
       "\n",
       "    .dataframe thead th {\n",
       "        text-align: right;\n",
       "    }\n",
       "</style>\n",
       "<table border=\"1\" class=\"dataframe\">\n",
       "  <thead>\n",
       "    <tr style=\"text-align: right;\">\n",
       "      <th></th>\n",
       "      <th>node1</th>\n",
       "      <th>node2</th>\n",
       "      <th>y</th>\n",
       "      <th>sim</th>\n",
       "      <th>dist</th>\n",
       "    </tr>\n",
       "  </thead>\n",
       "  <tbody>\n",
       "    <tr>\n",
       "      <th>node1</th>\n",
       "      <td>1.000000</td>\n",
       "      <td>0.493127</td>\n",
       "      <td>0.036595</td>\n",
       "      <td>0.258322</td>\n",
       "      <td>-0.043189</td>\n",
       "    </tr>\n",
       "    <tr>\n",
       "      <th>node2</th>\n",
       "      <td>0.493127</td>\n",
       "      <td>1.000000</td>\n",
       "      <td>0.059586</td>\n",
       "      <td>0.318567</td>\n",
       "      <td>-0.050833</td>\n",
       "    </tr>\n",
       "    <tr>\n",
       "      <th>y</th>\n",
       "      <td>0.036595</td>\n",
       "      <td>0.059586</td>\n",
       "      <td>1.000000</td>\n",
       "      <td>0.440995</td>\n",
       "      <td>0.171970</td>\n",
       "    </tr>\n",
       "    <tr>\n",
       "      <th>sim</th>\n",
       "      <td>0.258322</td>\n",
       "      <td>0.318567</td>\n",
       "      <td>0.440995</td>\n",
       "      <td>1.000000</td>\n",
       "      <td>0.178310</td>\n",
       "    </tr>\n",
       "    <tr>\n",
       "      <th>dist</th>\n",
       "      <td>-0.043189</td>\n",
       "      <td>-0.050833</td>\n",
       "      <td>0.171970</td>\n",
       "      <td>0.178310</td>\n",
       "      <td>1.000000</td>\n",
       "    </tr>\n",
       "  </tbody>\n",
       "</table>\n",
       "</div>"
      ],
      "text/plain": [
       "          node1     node2         y       sim      dist\n",
       "node1  1.000000  0.493127  0.036595  0.258322 -0.043189\n",
       "node2  0.493127  1.000000  0.059586  0.318567 -0.050833\n",
       "y      0.036595  0.059586  1.000000  0.440995  0.171970\n",
       "sim    0.258322  0.318567  0.440995  1.000000  0.178310\n",
       "dist  -0.043189 -0.050833  0.171970  0.178310  1.000000"
      ]
     },
     "execution_count": 36,
     "metadata": {},
     "output_type": "execute_result"
    }
   ],
   "source": [
    "tmp.corr()"
   ]
  },
  {
   "cell_type": "code",
   "execution_count": 37,
   "id": "d3fe8363",
   "metadata": {},
   "outputs": [
    {
     "data": {
      "text/plain": [
       "pred\n",
       "0       1741\n",
       "1       1740\n",
       "dtype: int64"
      ]
     },
     "execution_count": 37,
     "metadata": {},
     "output_type": "execute_result"
    }
   ],
   "source": [
    "# predict test\n",
    "y_test_hat = pd.DataFrame(autoenc.get_similarity(model, data.x, data.trainval_pos_edges, data.test_edges))\n",
    "y_test_hat = (y_test_hat\n",
    "    .rename(columns = {0: \"sim\"})\n",
    "    .assign(pred = lambda df_: (df_.sim > df_.sim.median()).astype(int))\n",
    ")\n",
    "y_test_hat[[\"pred\"]].value_counts()"
   ]
  },
  {
   "cell_type": "markdown",
   "id": "0bc9b2f2",
   "metadata": {},
   "source": [
    "### X. Code Graveyard"
   ]
  },
  {
   "cell_type": "markdown",
   "id": "fcd0ca52",
   "metadata": {},
   "source": [
    "previous code without functions"
   ]
  },
  {
   "cell_type": "code",
   "execution_count": 16,
   "id": "1033df7f",
   "metadata": {},
   "outputs": [],
   "source": [
    "dev = torch.device('cuda' if torch.cuda.is_available() else 'cpu')\n",
    "channels = 2\n",
    "model = VGAE(deep.Encoder(data.x.size()[1], channels)).to(dev)"
   ]
  },
  {
   "cell_type": "code",
   "execution_count": 17,
   "id": "8244ca4f",
   "metadata": {},
   "outputs": [],
   "source": [
    "x, train_pos_edges, train_neg_edges = data.x.to(dev), data.train_pos_edges.to(dev), data.train_neg_edges.to(dev)\n",
    "val_pos_edges, val_neg_edges = data.val_pos_edges.to(dev), data.val_neg_edges.to(dev)\n",
    "val_edges = data.val_edges.to(dev)\n",
    "optimizer = torch.optim.Adam(model.parameters(), lr=5e-6, weight_decay = 0.1)"
   ]
  },
  {
   "cell_type": "code",
   "execution_count": 20,
   "id": "9e7093ae",
   "metadata": {},
   "outputs": [],
   "source": [
    "def train():\n",
    "    model.train()\n",
    "    optimizer.zero_grad()\n",
    "    z  = model.encode(x, train_pos_edges)\n",
    "    loss = model.recon_loss(z, train_pos_edges, train_neg_edges)\n",
    "    loss = loss + (1 / data.num_nodes) * model.kl_loss()\n",
    "    loss.backward()\n",
    "    optimizer.step()\n",
    "    auc, ap = validate(data.train_pos_edges, data.train_neg_edges)\n",
    "    return loss, auc, ap\n",
    "\n",
    "def validate(val_pos_edges, val_neg_edges):\n",
    "    model.eval()\n",
    "    with torch.no_grad():\n",
    "        z = model.encode(x, train_pos_edges)\n",
    "    return model.test(z, val_pos_edges, val_neg_edges)\n",
    "\n",
    "def predict(edges):\n",
    "    model.eval()\n",
    "    with torch.no_grad():\n",
    "        z = model.encode(x, train_pos_edges)\n",
    "    pred = model.decoder(z, edges, sigmoid = True)\n",
    "    return pred.detach().cpu().numpy()\n",
    "\n",
    "def get_embeddings():\n",
    "    return model.encode(x, train_pos_edges).detach().cpu().numpy()"
   ]
  },
  {
   "cell_type": "code",
   "execution_count": 21,
   "id": "c3ce9d69",
   "metadata": {
    "scrolled": true
   },
   "outputs": [
    {
     "name": "stdout",
     "output_type": "stream",
     "text": [
      "Epoch: 001, LOSS: 3.9292, Trn AUC: 0.7867, Val AUC: 0.7420, Val AP: 0.7823\n",
      "Epoch: 002, LOSS: 4.0428, Trn AUC: 0.7866, Val AUC: 0.7420, Val AP: 0.7822\n",
      "Epoch: 003, LOSS: 3.9016, Trn AUC: 0.7866, Val AUC: 0.7419, Val AP: 0.7822\n",
      "Epoch: 004, LOSS: 4.0921, Trn AUC: 0.7865, Val AUC: 0.7419, Val AP: 0.7821\n",
      "Epoch: 005, LOSS: 4.0718, Trn AUC: 0.7865, Val AUC: 0.7418, Val AP: 0.7820\n",
      "Epoch: 006, LOSS: 3.9491, Trn AUC: 0.7864, Val AUC: 0.7417, Val AP: 0.7819\n",
      "Epoch: 007, LOSS: 3.9936, Trn AUC: 0.7864, Val AUC: 0.7417, Val AP: 0.7819\n",
      "Epoch: 008, LOSS: 3.9383, Trn AUC: 0.7863, Val AUC: 0.7416, Val AP: 0.7818\n",
      "Epoch: 009, LOSS: 4.0555, Trn AUC: 0.7863, Val AUC: 0.7415, Val AP: 0.7817\n",
      "Epoch: 010, LOSS: 4.1547, Trn AUC: 0.7862, Val AUC: 0.7414, Val AP: 0.7817\n",
      "Epoch: 011, LOSS: 3.9986, Trn AUC: 0.7862, Val AUC: 0.7413, Val AP: 0.7816\n",
      "Epoch: 012, LOSS: 3.9577, Trn AUC: 0.7861, Val AUC: 0.7412, Val AP: 0.7815\n",
      "Epoch: 013, LOSS: 3.9537, Trn AUC: 0.7860, Val AUC: 0.7412, Val AP: 0.7815\n",
      "Epoch: 014, LOSS: 3.9163, Trn AUC: 0.7860, Val AUC: 0.7411, Val AP: 0.7814\n",
      "Epoch: 015, LOSS: 3.9470, Trn AUC: 0.7859, Val AUC: 0.7411, Val AP: 0.7814\n",
      "Epoch: 016, LOSS: 3.8742, Trn AUC: 0.7859, Val AUC: 0.7410, Val AP: 0.7813\n",
      "Epoch: 017, LOSS: 3.9585, Trn AUC: 0.7858, Val AUC: 0.7408, Val AP: 0.7812\n",
      "Epoch: 018, LOSS: 3.9861, Trn AUC: 0.7858, Val AUC: 0.7407, Val AP: 0.7811\n",
      "Epoch: 019, LOSS: 4.0642, Trn AUC: 0.7857, Val AUC: 0.7406, Val AP: 0.7810\n",
      "Epoch: 020, LOSS: 4.0967, Trn AUC: 0.7857, Val AUC: 0.7405, Val AP: 0.7809\n",
      "Epoch: 021, LOSS: 3.8901, Trn AUC: 0.7856, Val AUC: 0.7404, Val AP: 0.7808\n",
      "Epoch: 022, LOSS: 3.9130, Trn AUC: 0.7855, Val AUC: 0.7403, Val AP: 0.7807\n",
      "Epoch: 023, LOSS: 3.8738, Trn AUC: 0.7855, Val AUC: 0.7402, Val AP: 0.7806\n",
      "Epoch: 024, LOSS: 3.9452, Trn AUC: 0.7854, Val AUC: 0.7400, Val AP: 0.7805\n",
      "Epoch: 025, LOSS: 3.7779, Trn AUC: 0.7853, Val AUC: 0.7399, Val AP: 0.7804\n",
      "Epoch: 026, LOSS: 3.8455, Trn AUC: 0.7853, Val AUC: 0.7398, Val AP: 0.7804\n",
      "Epoch: 027, LOSS: 3.9365, Trn AUC: 0.7852, Val AUC: 0.7397, Val AP: 0.7803\n",
      "Epoch: 028, LOSS: 3.9671, Trn AUC: 0.7851, Val AUC: 0.7396, Val AP: 0.7803\n",
      "Epoch: 029, LOSS: 3.9802, Trn AUC: 0.7851, Val AUC: 0.7395, Val AP: 0.7802\n",
      "Epoch: 030, LOSS: 3.9479, Trn AUC: 0.7850, Val AUC: 0.7395, Val AP: 0.7802\n",
      "Epoch: 031, LOSS: 3.7708, Trn AUC: 0.7849, Val AUC: 0.7394, Val AP: 0.7801\n",
      "Epoch: 032, LOSS: 3.9010, Trn AUC: 0.7849, Val AUC: 0.7392, Val AP: 0.7799\n",
      "Epoch: 033, LOSS: 3.9109, Trn AUC: 0.7848, Val AUC: 0.7391, Val AP: 0.7799\n",
      "Epoch: 034, LOSS: 3.9829, Trn AUC: 0.7847, Val AUC: 0.7391, Val AP: 0.7798\n",
      "Epoch: 035, LOSS: 3.9157, Trn AUC: 0.7847, Val AUC: 0.7390, Val AP: 0.7797\n",
      "Epoch: 036, LOSS: 3.9348, Trn AUC: 0.7846, Val AUC: 0.7389, Val AP: 0.7796\n",
      "Epoch: 037, LOSS: 3.8777, Trn AUC: 0.7845, Val AUC: 0.7388, Val AP: 0.7796\n",
      "Epoch: 038, LOSS: 3.9834, Trn AUC: 0.7844, Val AUC: 0.7387, Val AP: 0.7795\n",
      "Epoch: 039, LOSS: 4.0129, Trn AUC: 0.7844, Val AUC: 0.7386, Val AP: 0.7794\n",
      "Epoch: 040, LOSS: 3.9674, Trn AUC: 0.7843, Val AUC: 0.7384, Val AP: 0.7793\n",
      "Epoch: 041, LOSS: 3.9687, Trn AUC: 0.7842, Val AUC: 0.7383, Val AP: 0.7792\n",
      "Epoch: 042, LOSS: 4.0611, Trn AUC: 0.7841, Val AUC: 0.7382, Val AP: 0.7792\n",
      "Epoch: 043, LOSS: 3.8320, Trn AUC: 0.7841, Val AUC: 0.7381, Val AP: 0.7791\n",
      "Epoch: 044, LOSS: 3.8177, Trn AUC: 0.7840, Val AUC: 0.7380, Val AP: 0.7790\n",
      "Epoch: 045, LOSS: 4.0509, Trn AUC: 0.7840, Val AUC: 0.7379, Val AP: 0.7789\n",
      "Epoch: 046, LOSS: 3.9215, Trn AUC: 0.7839, Val AUC: 0.7378, Val AP: 0.7788\n",
      "Epoch: 047, LOSS: 3.9217, Trn AUC: 0.7838, Val AUC: 0.7377, Val AP: 0.7787\n",
      "Epoch: 048, LOSS: 4.0176, Trn AUC: 0.7838, Val AUC: 0.7376, Val AP: 0.7786\n",
      "Epoch: 049, LOSS: 3.8782, Trn AUC: 0.7837, Val AUC: 0.7375, Val AP: 0.7786\n"
     ]
    }
   ],
   "source": [
    "for epoch in range(1,50):\n",
    "    loss, trn_auc, trn_ap = train()\n",
    "    loss = float(loss)\n",
    "    \n",
    "    with torch.no_grad():\n",
    "        auc, ap = validate(data.val_pos_edges, data.val_neg_edges)\n",
    "        print('Epoch: {:03d}, LOSS: {:.4f}, Trn AUC: {:.4f}, Val AUC: {:.4f}, Val AP: {:.4f}'.format(epoch, loss, trn_auc, auc, ap))"
   ]
  },
  {
   "cell_type": "code",
   "execution_count": 14,
   "id": "0957c258",
   "metadata": {},
   "outputs": [
    {
     "ename": "NameError",
     "evalue": "name 'trainval_tf' is not defined",
     "output_type": "error",
     "traceback": [
      "\u001b[1;31m---------------------------------------------------------------------------\u001b[0m",
      "\u001b[1;31mNameError\u001b[0m                                 Traceback (most recent call last)",
      "Cell \u001b[1;32mIn [14], line 6\u001b[0m\n\u001b[0;32m      2\u001b[0m train_edges \u001b[38;5;241m=\u001b[39m data\u001b[38;5;241m.\u001b[39mtrain_edges\u001b[38;5;241m.\u001b[39mto(dev)\n\u001b[0;32m      3\u001b[0m y_train_hat \u001b[38;5;241m=\u001b[39m pd\u001b[38;5;241m.\u001b[39mDataFrame(predict(train_edges))\n\u001b[0;32m      4\u001b[0m y_train_hat \u001b[38;5;241m=\u001b[39m (y_train_hat\n\u001b[0;32m      5\u001b[0m     \u001b[38;5;241m.\u001b[39mrename(columns \u001b[38;5;241m=\u001b[39m {\u001b[38;5;241m0\u001b[39m: \u001b[38;5;124m\"\u001b[39m\u001b[38;5;124mpred\u001b[39m\u001b[38;5;124m\"\u001b[39m})\n\u001b[1;32m----> 6\u001b[0m     \u001b[38;5;241m.\u001b[39massign(y \u001b[38;5;241m=\u001b[39m \u001b[43mtrainval_tf\u001b[49m\u001b[38;5;241m.\u001b[39mloc[trainval_tf\u001b[38;5;241m.\u001b[39mtrain_mask \u001b[38;5;241m==\u001b[39m \u001b[38;5;28;01mTrue\u001b[39;00m]\u001b[38;5;241m.\u001b[39my\u001b[38;5;241m.\u001b[39mvalues)\n\u001b[0;32m      7\u001b[0m     \u001b[38;5;241m.\u001b[39massign(bin_pred \u001b[38;5;241m=\u001b[39m \u001b[38;5;28;01mlambda\u001b[39;00m df_: (df_\u001b[38;5;241m.\u001b[39mpred \u001b[38;5;241m>\u001b[39m df_\u001b[38;5;241m.\u001b[39mpred\u001b[38;5;241m.\u001b[39mmedian())\u001b[38;5;241m.\u001b[39mastype(\u001b[38;5;28mint\u001b[39m))\n\u001b[0;32m      8\u001b[0m )\n",
      "\u001b[1;31mNameError\u001b[0m: name 'trainval_tf' is not defined"
     ]
    }
   ],
   "source": [
    "# predict train\n",
    "train_edges = data.train_edges.to(dev)\n",
    "y_train_hat = pd.DataFrame(predict(train_edges))\n",
    "y_train_hat = (y_train_hat\n",
    "    .rename(columns = {0: \"pred\"})\n",
    "    .assign(y = trainval_tf.loc[trainval_tf.train_mask == True].y.values)\n",
    "    .assign(bin_pred = lambda df_: (df_.pred > df_.pred.median()).astype(int))\n",
    ")"
   ]
  },
  {
   "cell_type": "code",
   "execution_count": null,
   "id": "14fd010b",
   "metadata": {},
   "outputs": [],
   "source": [
    "from sklearn.metrics import average_precision_score, roc_auc_score\n",
    "print(\"ROC: \", roc_auc_score(y_train_hat.y, y_train_hat.pred))\n",
    "print(\"Acc: \", accuracy_score(y_train_hat.y, y_train_hat.bin_pred))"
   ]
  },
  {
   "cell_type": "code",
   "execution_count": 625,
   "id": "5517033e",
   "metadata": {},
   "outputs": [],
   "source": [
    "# predict val\n",
    "val_edges = data.val_edges.to(dev)\n",
    "y_val_hat = pd.DataFrame(predict(val_edges))\n",
    "y_val_hat = (y_val_hat\n",
    "    .rename(columns = {0: \"pred\"})\n",
    "    .assign(y = trainval_tf.loc[trainval_tf.val_mask == True].y.values)\n",
    "    .assign(bin_pred = lambda df_: (df_.pred > df_.pred.median()).astype(int))\n",
    ")"
   ]
  },
  {
   "cell_type": "code",
   "execution_count": 626,
   "id": "53695ad8",
   "metadata": {
    "scrolled": true
   },
   "outputs": [
    {
     "name": "stdout",
     "output_type": "stream",
     "text": [
      "ROC:  0.7690234214491166\n",
      "Acc:  0.7185857620640229\n"
     ]
    }
   ],
   "source": [
    "from sklearn.metrics import average_precision_score, roc_auc_score\n",
    "print(\"ROC: \", roc_auc_score(y_val_hat.y, y_val_hat.pred))\n",
    "print(\"Acc: \", accuracy_score(y_val_hat.y, y_val_hat.bin_pred))"
   ]
  },
  {
   "cell_type": "code",
   "execution_count": 661,
   "id": "e26606bc",
   "metadata": {},
   "outputs": [
    {
     "data": {
      "text/plain": [
       "bin_pred\n",
       "0           1741\n",
       "1           1740\n",
       "dtype: int64"
      ]
     },
     "execution_count": 661,
     "metadata": {},
     "output_type": "execute_result"
    }
   ],
   "source": [
    "# predict test\n",
    "test_edges = data.test_edges.to(dev)\n",
    "y_test_hat = pd.DataFrame(predict(test_edges))\n",
    "y_test_hat = (y_test_hat\n",
    "    .rename(columns = {0: \"pred\"})\n",
    "    .assign(bin_pred = lambda df_: (df_.pred > df_.pred.median()).astype(int))\n",
    ")\n",
    "y_test_hat[[\"bin_pred\"]].value_counts()"
   ]
  },
  {
   "cell_type": "code",
   "execution_count": 628,
   "id": "97f5a77a",
   "metadata": {},
   "outputs": [],
   "source": [
    "# get embeddings\n",
    "embedding = get_embeddings()"
   ]
  },
  {
   "cell_type": "code",
   "execution_count": 629,
   "id": "ff31215f",
   "metadata": {
    "scrolled": true
   },
   "outputs": [
    {
     "data": {
      "text/plain": [
       "Text(0.5, 1.0, 'UMAP projection (first 2 dim) of Node information')"
      ]
     },
     "execution_count": 629,
     "metadata": {},
     "output_type": "execute_result"
    },
    {
     "data": {
      "image/png": "[encoded data removed]",
      "text/plain": [
       "<Figure size 640x480 with 1 Axes>"
      ]
     },
     "metadata": {},
     "output_type": "display_data"
    }
   ],
   "source": [
    "# plot umap embedding of nodes\n",
    "plt.scatter(\n",
    "    embedding[:, 0],\n",
    "    embedding[:, 1])\n",
    "plt.gca().set_aspect('equal', 'datalim')\n",
    "plt.title('UMAP projection (first 2 dim) of Node information')"
   ]
  },
  {
   "cell_type": "markdown",
   "id": "cafe8feb",
   "metadata": {},
   "source": [
    "same as above but using dataset from https://github.com/SeongJinAhn/VGNAE/blob/main/main.py to validate"
   ]
  },
  {
   "cell_type": "code",
   "execution_count": 19,
   "id": "aef1199c",
   "metadata": {},
   "outputs": [],
   "source": [
    "from torch_geometric.utils import train_test_split_edges\n",
    "from torch_geometric.datasets import Planetoid, Coauthor, Amazon\n",
    "dataset = Planetoid(\"cora\", \"Cora\", 'public')\n",
    "data = dataset[0]\n",
    "data = T.NormalizeFeatures()(data)"
   ]
  },
  {
   "cell_type": "code",
   "execution_count": 20,
   "id": "8ff41cd3",
   "metadata": {},
   "outputs": [
    {
     "name": "stderr",
     "output_type": "stream",
     "text": [
      "C:\\Users\\lasse\\AppData\\Local\\Programs\\Python\\Python310\\lib\\site-packages\\torch_geometric\\deprecation.py:12: UserWarning: 'train_test_split_edges' is deprecated, use 'transforms.RandomLinkSplit' instead\n",
      "  warnings.warn(out)\n"
     ]
    }
   ],
   "source": [
    "dev = torch.device('cuda' if torch.cuda.is_available() else 'cpu')\n",
    "channels = 128\n",
    "train_rate = 0.8\n",
    "val_ratio = 0.2 / 3\n",
    "test_ratio = 0.2 / 3 * 2\n",
    "data = train_test_split_edges(data.to(dev), val_ratio=val_ratio, test_ratio=test_ratio)"
   ]
  },
  {
   "cell_type": "code",
   "execution_count": 21,
   "id": "a99e01ca",
   "metadata": {},
   "outputs": [],
   "source": [
    "model = VGAE(Encoder(data.x.size()[1], channels, data.train_pos_edge_index)).to(dev)"
   ]
  },
  {
   "cell_type": "code",
   "execution_count": 15,
   "id": "44b1d62d",
   "metadata": {},
   "outputs": [],
   "source": [
    "data.train_mask = data.val_mask = data.test_mask = data.y = None\n",
    "x, train_pos_edge_index = data.x.to(dev), data.train_pos_edge_index.to(dev)\n",
    "optimizer = torch.optim.Adam(model.parameters(), lr=0.005)"
   ]
  },
  {
   "cell_type": "code",
   "execution_count": 16,
   "id": "09c22ffd",
   "metadata": {},
   "outputs": [],
   "source": [
    "def train():\n",
    "    model.train()\n",
    "    optimizer.zero_grad()\n",
    "    z  = model.encode(x, train_pos_edge_index)\n",
    "    loss = model.recon_loss(z, train_pos_edge_index)\n",
    "    loss = loss + (1 / data.num_nodes) * model.kl_loss()\n",
    "    loss.backward()\n",
    "    optimizer.step()\n",
    "    return loss\n",
    "\n",
    "def test(pos_edge_index, neg_edge_index, plot_his=0):\n",
    "    model.eval()\n",
    "    with torch.no_grad():\n",
    "        z = model.encode(x, train_pos_edge_index)\n",
    "    return model.test(z, pos_edge_index, neg_edge_index)"
   ]
  },
  {
   "cell_type": "code",
   "execution_count": 17,
   "id": "c6722894",
   "metadata": {
    "scrolled": true
   },
   "outputs": [
    {
     "name": "stdout",
     "output_type": "stream",
     "text": [
      "Epoch: 001, LOSS: 10.5961, AUC: 0.6936, AP: 0.7234\n",
      "Epoch: 002, LOSS: 10.3247, AUC: 0.6953, AP: 0.7248\n",
      "Epoch: 003, LOSS: 10.2399, AUC: 0.6970, AP: 0.7261\n",
      "Epoch: 004, LOSS: 9.8528, AUC: 0.6987, AP: 0.7274\n",
      "Epoch: 005, LOSS: 9.8399, AUC: 0.7007, AP: 0.7289\n",
      "Epoch: 006, LOSS: 9.4896, AUC: 0.7026, AP: 0.7303\n",
      "Epoch: 007, LOSS: 9.3072, AUC: 0.7048, AP: 0.7319\n",
      "Epoch: 008, LOSS: 9.2995, AUC: 0.7072, AP: 0.7337\n",
      "Epoch: 009, LOSS: 8.8477, AUC: 0.7100, AP: 0.7358\n",
      "Epoch: 010, LOSS: 9.0528, AUC: 0.7135, AP: 0.7383\n",
      "Epoch: 011, LOSS: 8.7333, AUC: 0.7177, AP: 0.7414\n",
      "Epoch: 012, LOSS: 8.5690, AUC: 0.7231, AP: 0.7454\n",
      "Epoch: 013, LOSS: 8.3032, AUC: 0.7302, AP: 0.7509\n",
      "Epoch: 014, LOSS: 8.1966, AUC: 0.7396, AP: 0.7583\n",
      "Epoch: 015, LOSS: 8.0069, AUC: 0.7523, AP: 0.7680\n",
      "Epoch: 016, LOSS: 7.8474, AUC: 0.7706, AP: 0.7826\n",
      "Epoch: 017, LOSS: 7.6897, AUC: 0.7985, AP: 0.8053\n",
      "Epoch: 018, LOSS: 7.4065, AUC: 0.8373, AP: 0.8390\n",
      "Epoch: 019, LOSS: 7.1321, AUC: 0.8854, AP: 0.8849\n",
      "Epoch: 020, LOSS: 6.6308, AUC: 0.9218, AP: 0.9214\n",
      "Epoch: 021, LOSS: 6.4614, AUC: 0.9316, AP: 0.9300\n",
      "Epoch: 022, LOSS: 6.2725, AUC: 0.9259, AP: 0.9244\n",
      "Epoch: 023, LOSS: 6.1748, AUC: 0.9160, AP: 0.9147\n",
      "Epoch: 024, LOSS: 6.0583, AUC: 0.9108, AP: 0.9094\n",
      "Epoch: 025, LOSS: 6.1077, AUC: 0.9121, AP: 0.9103\n",
      "Epoch: 026, LOSS: 5.9216, AUC: 0.9190, AP: 0.9171\n",
      "Epoch: 027, LOSS: 5.8284, AUC: 0.9268, AP: 0.9246\n",
      "Epoch: 028, LOSS: 5.5849, AUC: 0.9338, AP: 0.9312\n",
      "Epoch: 029, LOSS: 5.3018, AUC: 0.9380, AP: 0.9353\n",
      "Epoch: 030, LOSS: 5.1063, AUC: 0.9397, AP: 0.9370\n",
      "Epoch: 031, LOSS: 5.1621, AUC: 0.9399, AP: 0.9373\n",
      "Epoch: 032, LOSS: 4.8998, AUC: 0.9393, AP: 0.9367\n",
      "Epoch: 033, LOSS: 4.8908, AUC: 0.9385, AP: 0.9358\n",
      "Epoch: 034, LOSS: 4.8584, AUC: 0.9378, AP: 0.9352\n",
      "Epoch: 035, LOSS: 4.7664, AUC: 0.9375, AP: 0.9347\n",
      "Epoch: 036, LOSS: 4.5467, AUC: 0.9374, AP: 0.9346\n",
      "Epoch: 037, LOSS: 4.5294, AUC: 0.9375, AP: 0.9346\n",
      "Epoch: 038, LOSS: 4.4306, AUC: 0.9373, AP: 0.9345\n",
      "Epoch: 039, LOSS: 4.3968, AUC: 0.9367, AP: 0.9340\n",
      "Epoch: 040, LOSS: 4.2629, AUC: 0.9362, AP: 0.9337\n",
      "Epoch: 041, LOSS: 4.2510, AUC: 0.9358, AP: 0.9334\n",
      "Epoch: 042, LOSS: 4.0485, AUC: 0.9354, AP: 0.9331\n",
      "Epoch: 043, LOSS: 3.9643, AUC: 0.9352, AP: 0.9327\n",
      "Epoch: 044, LOSS: 4.0187, AUC: 0.9349, AP: 0.9325\n",
      "Epoch: 045, LOSS: 3.8997, AUC: 0.9349, AP: 0.9324\n",
      "Epoch: 046, LOSS: 3.7900, AUC: 0.9347, AP: 0.9321\n",
      "Epoch: 047, LOSS: 3.7888, AUC: 0.9344, AP: 0.9319\n",
      "Epoch: 048, LOSS: 3.7314, AUC: 0.9342, AP: 0.9316\n",
      "Epoch: 049, LOSS: 3.7326, AUC: 0.9339, AP: 0.9314\n",
      "Epoch: 050, LOSS: 3.6046, AUC: 0.9337, AP: 0.9312\n",
      "Epoch: 051, LOSS: 3.5603, AUC: 0.9334, AP: 0.9309\n",
      "Epoch: 052, LOSS: 3.5334, AUC: 0.9331, AP: 0.9308\n",
      "Epoch: 053, LOSS: 3.4985, AUC: 0.9328, AP: 0.9305\n",
      "Epoch: 054, LOSS: 3.3517, AUC: 0.9326, AP: 0.9305\n",
      "Epoch: 055, LOSS: 3.3214, AUC: 0.9327, AP: 0.9306\n",
      "Epoch: 056, LOSS: 3.2342, AUC: 0.9331, AP: 0.9309\n",
      "Epoch: 057, LOSS: 3.2239, AUC: 0.9335, AP: 0.9313\n",
      "Epoch: 058, LOSS: 3.1875, AUC: 0.9339, AP: 0.9315\n",
      "Epoch: 059, LOSS: 3.2067, AUC: 0.9339, AP: 0.9314\n",
      "Epoch: 060, LOSS: 3.0782, AUC: 0.9339, AP: 0.9314\n",
      "Epoch: 061, LOSS: 3.1631, AUC: 0.9337, AP: 0.9312\n",
      "Epoch: 062, LOSS: 3.0992, AUC: 0.9333, AP: 0.9310\n",
      "Epoch: 063, LOSS: 3.0374, AUC: 0.9331, AP: 0.9308\n",
      "Epoch: 064, LOSS: 3.0187, AUC: 0.9327, AP: 0.9303\n",
      "Epoch: 065, LOSS: 3.0211, AUC: 0.9323, AP: 0.9299\n",
      "Epoch: 066, LOSS: 2.8766, AUC: 0.9320, AP: 0.9297\n",
      "Epoch: 067, LOSS: 2.8248, AUC: 0.9319, AP: 0.9295\n",
      "Epoch: 068, LOSS: 2.8406, AUC: 0.9318, AP: 0.9294\n",
      "Epoch: 069, LOSS: 2.7971, AUC: 0.9319, AP: 0.9294\n",
      "Epoch: 070, LOSS: 2.7583, AUC: 0.9321, AP: 0.9296\n",
      "Epoch: 071, LOSS: 2.7692, AUC: 0.9325, AP: 0.9300\n",
      "Epoch: 072, LOSS: 2.7319, AUC: 0.9329, AP: 0.9303\n",
      "Epoch: 073, LOSS: 2.6758, AUC: 0.9333, AP: 0.9306\n",
      "Epoch: 074, LOSS: 2.6619, AUC: 0.9335, AP: 0.9307\n",
      "Epoch: 075, LOSS: 2.6653, AUC: 0.9338, AP: 0.9309\n",
      "Epoch: 076, LOSS: 2.7131, AUC: 0.9339, AP: 0.9309\n",
      "Epoch: 077, LOSS: 2.6037, AUC: 0.9340, AP: 0.9310\n",
      "Epoch: 078, LOSS: 2.5990, AUC: 0.9340, AP: 0.9310\n",
      "Epoch: 079, LOSS: 2.5168, AUC: 0.9339, AP: 0.9309\n",
      "Epoch: 080, LOSS: 2.5387, AUC: 0.9338, AP: 0.9309\n",
      "Epoch: 081, LOSS: 2.5460, AUC: 0.9336, AP: 0.9308\n",
      "Epoch: 082, LOSS: 2.4774, AUC: 0.9336, AP: 0.9308\n",
      "Epoch: 083, LOSS: 2.4404, AUC: 0.9334, AP: 0.9308\n",
      "Epoch: 084, LOSS: 2.3968, AUC: 0.9333, AP: 0.9307\n",
      "Epoch: 085, LOSS: 2.3907, AUC: 0.9335, AP: 0.9308\n",
      "Epoch: 086, LOSS: 2.3399, AUC: 0.9337, AP: 0.9309\n",
      "Epoch: 087, LOSS: 2.3722, AUC: 0.9341, AP: 0.9313\n",
      "Epoch: 088, LOSS: 2.3962, AUC: 0.9345, AP: 0.9316\n",
      "Epoch: 089, LOSS: 2.3140, AUC: 0.9348, AP: 0.9319\n",
      "Epoch: 090, LOSS: 2.2998, AUC: 0.9351, AP: 0.9322\n",
      "Epoch: 091, LOSS: 2.2985, AUC: 0.9353, AP: 0.9324\n",
      "Epoch: 092, LOSS: 2.2486, AUC: 0.9356, AP: 0.9326\n",
      "Epoch: 093, LOSS: 2.3051, AUC: 0.9357, AP: 0.9326\n",
      "Epoch: 094, LOSS: 2.2380, AUC: 0.9357, AP: 0.9328\n",
      "Epoch: 095, LOSS: 2.1883, AUC: 0.9356, AP: 0.9327\n",
      "Epoch: 096, LOSS: 2.1566, AUC: 0.9355, AP: 0.9326\n",
      "Epoch: 097, LOSS: 2.1877, AUC: 0.9355, AP: 0.9328\n",
      "Epoch: 098, LOSS: 2.1536, AUC: 0.9354, AP: 0.9327\n",
      "Epoch: 099, LOSS: 2.0871, AUC: 0.9354, AP: 0.9328\n"
     ]
    }
   ],
   "source": [
    "for epoch in range(1,100):\n",
    "    loss = train()\n",
    "    loss = float(loss)\n",
    "    \n",
    "    with torch.no_grad():\n",
    "        test_pos, test_neg = data.test_pos_edge_index, data.test_neg_edge_index\n",
    "        auc, ap = test(data.test_pos_edge_index, data.test_neg_edge_index)\n",
    "        print('Epoch: {:03d}, LOSS: {:.4f}, AUC: {:.4f}, AP: {:.4f}'.format(epoch, loss, auc, ap))"
   ]
  }
 ],
 "metadata": {
  "kernelspec": {
   "display_name": "Python 3 (ipykernel)",
   "language": "python",
   "name": "python3"
  },
  "language_info": {
   "codemirror_mode": {
    "name": "ipython",
    "version": 3
   },
   "file_extension": ".py",
   "mimetype": "text/x-python",
   "name": "python",
   "nbconvert_exporter": "python",
   "pygments_lexer": "ipython3",
   "version": "3.10.8"
  }
 },
 "nbformat": 4,
 "nbformat_minor": 5
}
