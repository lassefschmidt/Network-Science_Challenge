{
 "cells": [
  {
   "cell_type": "markdown",
   "id": "ca3f9796",
   "metadata": {},
   "source": [
    "# Machine Learning in Network Science\n",
    "Group Challenge\n",
    "\n",
    "***\n",
    "by: Leonardo Basili, Paul Bédier, Lasse Schmidt\n",
    "\n",
    "within: MS Data Sciences & Business Analytics\n",
    "\n",
    "at: CentraleSupélec & ESSEC Business School\n",
    "***"
   ]
  },
  {
   "cell_type": "markdown",
   "id": "3a46be5a",
   "metadata": {},
   "source": [
    "This notebook covers deep learning techniques, namely:\n",
    "- Variational Graph Normalized Auto-Encoders (based on https://arxiv.org/abs/2108.08046) which allow us to learn graph embeddings in an unsupervised way (based on graph structure and node embeddings)"
   ]
  },
  {
   "cell_type": "markdown",
   "id": "54f241a1",
   "metadata": {},
   "source": [
    "### 1. Import Packages"
   ]
  },
  {
   "cell_type": "code",
   "execution_count": 6,
   "id": "98e82605",
   "metadata": {},
   "outputs": [
    {
     "data": {
      "text/plain": [
       "<module 'util.autoencoder' from 'D:\\\\Dokumente\\\\2_Bildung\\\\2_MSc\\\\1_Classes\\\\Y2T2_Machine Learning in Network Science\\\\3_challenge\\\\Network-Science_Challenge\\\\util\\\\autoencoder.py'>"
      ]
     },
     "execution_count": 6,
     "metadata": {},
     "output_type": "execute_result"
    }
   ],
   "source": [
    "from importlib import reload\n",
    "reload(analyseData)\n",
    "reload(prepData)\n",
    "reload(loadData)\n",
    "reload(modeling)\n",
    "reload(autoenc)"
   ]
  },
  {
   "cell_type": "code",
   "execution_count": 1,
   "id": "a3ffae4f",
   "metadata": {},
   "outputs": [],
   "source": [
    "# import own scripts\n",
    "import util.analyse_Data as analyseData\n",
    "import util.preprocess_Data as prepData\n",
    "import util.load_Data as loadData\n",
    "import util.modeling as modeling\n",
    "import util.autoencoder as autoenc"
   ]
  },
  {
   "cell_type": "code",
   "execution_count": 2,
   "id": "d7c6ba33",
   "metadata": {},
   "outputs": [],
   "source": [
    "# parse & handle data\n",
    "import os\n",
    "import numpy as np\n",
    "import pandas as pd\n",
    "\n",
    "# modeling\n",
    "import torch\n",
    "from torch_geometric.nn import GAE, VGAE\n",
    "\n",
    "# hyperparam optimization\n",
    "from ray import tune, air\n",
    "\n",
    "# evaluation\n",
    "from sklearn.metrics import accuracy_score, roc_auc_score, classification_report, confusion_matrix, ConfusionMatrixDisplay\n",
    "\n",
    "\n",
    "# visualization\n",
    "import matplotlib.pyplot as plt\n",
    "import seaborn as sns"
   ]
  },
  {
   "cell_type": "code",
   "execution_count": 3,
   "id": "c84a352e",
   "metadata": {},
   "outputs": [],
   "source": [
    "# set matplotlib and seaborn settings for nicer plots\n",
    "%matplotlib inline\n",
    "\n",
    "SMALL_SIZE = 6\n",
    "MEDIUM_SIZE = 8\n",
    "BIGGER_SIZE = 10\n",
    "\n",
    "plt.rc('font', size=SMALL_SIZE)          # controls default text sizes\n",
    "plt.rc('axes', titlesize=BIGGER_SIZE)    # fontsize of the axes title\n",
    "plt.rc('axes', labelsize=MEDIUM_SIZE)    # fontsize of the x and y labels\n",
    "plt.rc('xtick', labelsize=SMALL_SIZE)    # fontsize of the tick labels\n",
    "plt.rc('ytick', labelsize=SMALL_SIZE)    # fontsize of the tick labels\n",
    "plt.rc('legend', fontsize=MEDIUM_SIZE)   # legend fontsize\n",
    "plt.rc('figure', titlesize=BIGGER_SIZE)  # fontsize of the figure title"
   ]
  },
  {
   "cell_type": "markdown",
   "id": "74f20e78",
   "metadata": {},
   "source": [
    "### 2. Load Data for Modeling"
   ]
  },
  {
   "cell_type": "code",
   "execution_count": 4,
   "id": "2a7d5835",
   "metadata": {},
   "outputs": [
    {
     "name": "stdout",
     "output_type": "stream",
     "text": [
      "Number of positive edges for training: 4174\n",
      "Number of positive edges for validation: 1043\n",
      "Number of edges in original graph: 5217\n",
      "Number of edges in training graph: 4174\n",
      "The graph is connected\n"
     ]
    }
   ],
   "source": [
    "# might take up to a minute\n",
    "data, (G, G_train, node_info, train_tf, val_tf, trainval_tf, test, test_tf) = autoenc.load(testing_ratio = 0.2)"
   ]
  },
  {
   "cell_type": "code",
   "execution_count": 5,
   "id": "3ee7a8e9",
   "metadata": {},
   "outputs": [],
   "source": [
    "# where to save trial results to\n",
    "ray_path = os.path.abspath(\"\")+\"\\\\ray_results\\\\\"\n",
    "if not os.path.isdir(ray_path):\n",
    "    os.mkdir(ray_path)"
   ]
  },
  {
   "cell_type": "markdown",
   "id": "345c4898",
   "metadata": {},
   "source": [
    "### 3. VGNAE Node Embeddings\n",
    "\n",
    "https://github.com/SeongJinAhn/VGNAE/blob/main/main.py for Variational Graph Normalized Auto-Encoders"
   ]
  },
  {
   "cell_type": "markdown",
   "id": "372aac42",
   "metadata": {},
   "source": [
    "#### 3.1 Hyperparameter tuning"
   ]
  },
  {
   "cell_type": "code",
   "execution_count": 6,
   "id": "b68c1c9f",
   "metadata": {},
   "outputs": [],
   "source": [
    "# tunable hyperparameter search space --> search using tune.choice([]), tune.uniform(lower, upper), tune.grid_search([])\n",
    "config = {\n",
    "    # log params in raytune\n",
    "    \"ray\": True,\n",
    "    \n",
    "    # print results per epoch\n",
    "    \"verbose\": False,\n",
    "    \n",
    "    # basic infos\n",
    "    \"data\": data,\n",
    "    \"max_epochs\": 300,\n",
    "    \"save\": True, # if we want to save best model on validation set\n",
    "    \n",
    "    # model\n",
    "    \"model\": \"VGNAE\",\n",
    "    \n",
    "    ## encoder\n",
    "    \"enc_channels\": 64,\n",
    "    \"scaling\": tune.grid_search([1.2, 1.5, 1.8]),\n",
    "    \"num_prop\": 5,\n",
    "    \"teleport\": tune.grid_search([0.1, 0.2]),\n",
    "    \"dropout\": tune.grid_search([0, 0.1, 0.2]),\n",
    "    \n",
    "    # optimizer\n",
    "    \"lr\": tune.grid_search([5e-5, 1e-5]),\n",
    "    \"wd\": tune.grid_search([1e-1, 1e-2, 1e-4])\n",
    "}"
   ]
  },
  {
   "cell_type": "code",
   "execution_count": 7,
   "id": "5116af65",
   "metadata": {},
   "outputs": [
    {
     "data": {
      "text/html": [
       "<div class=\"tuneStatus\">\n",
       "  <div style=\"display: flex;flex-direction: row\">\n",
       "    <div style=\"display: flex;flex-direction: column;\">\n",
       "      <h3>Tune Status</h3>\n",
       "      <table>\n",
       "<tbody>\n",
       "<tr><td>Current time:</td><td>2023-03-22 17:22:31</td></tr>\n",
       "<tr><td>Running for: </td><td>00:41:58.26        </td></tr>\n",
       "<tr><td>Memory:      </td><td>19.7/31.9 GiB      </td></tr>\n",
       "</tbody>\n",
       "</table>\n",
       "    </div>\n",
       "    <div class=\"vDivider\"></div>\n",
       "    <div class=\"systemInfo\">\n",
       "      <h3>System Info</h3>\n",
       "      Using FIFO scheduling algorithm.<br>Resources requested: 0/16 CPUs, 0/1 GPUs, 0.0/13.14 GiB heap, 0.0/6.57 GiB objects\n",
       "    </div>\n",
       "    \n",
       "  </div>\n",
       "  <div class=\"hDivider\"></div>\n",
       "  <div class=\"trialStatus\">\n",
       "    <h3>Trial Status</h3>\n",
       "    <table>\n",
       "<thead>\n",
       "<tr><th>Trial name                    </th><th>status    </th><th>loc           </th><th style=\"text-align: right;\">  enc_channels</th><th style=\"text-align: right;\">  scaling</th><th style=\"text-align: right;\">  teleport</th><th style=\"text-align: right;\">  dropout</th><th style=\"text-align: right;\">   lr</th><th style=\"text-align: right;\">    wd</th><th style=\"text-align: right;\">  trn_acc</th><th style=\"text-align: right;\">  val_acc</th><th style=\"text-align: right;\">  max_val_acc</th><th style=\"text-align: right;\">    training_iterat\n",
       "ion</th></tr>\n",
       "</thead>\n",
       "<tbody>\n",
       "<tr><td>VGNAE_5e-05_0.1_e1dbb_00000   </td><td>TERMINATED</td><td>127.0.0.1:7544</td><td style=\"text-align: right;\">            64</td><td style=\"text-align: right;\">      1.2</td><td style=\"text-align: right;\">       0.1</td><td style=\"text-align: right;\">      0  </td><td style=\"text-align: right;\">5e-05</td><td style=\"text-align: right;\">0.1   </td><td style=\"text-align: right;\"> 0.873626</td><td style=\"text-align: right;\"> 0.68323 </td><td style=\"text-align: right;\">     0.715719</td><td style=\"text-align: right;\">300</td></tr>\n",
       "<tr><td>VGNAE_5e-05_0.1_e1dbb_00001   </td><td>TERMINATED</td><td>127.0.0.1:7544</td><td style=\"text-align: right;\">            64</td><td style=\"text-align: right;\">      1.2</td><td style=\"text-align: right;\">       0.1</td><td style=\"text-align: right;\">      0.1</td><td style=\"text-align: right;\">5e-05</td><td style=\"text-align: right;\">0.1   </td><td style=\"text-align: right;\"> 0.860248</td><td style=\"text-align: right;\"> 0.551362</td><td style=\"text-align: right;\">     0.715719</td><td style=\"text-align: right;\">300</td></tr>\n",
       "<tr><td>VGNAE_5e-05_0.1_e1dbb_00002   </td><td>TERMINATED</td><td>127.0.0.1:7544</td><td style=\"text-align: right;\">            64</td><td style=\"text-align: right;\">      1.2</td><td style=\"text-align: right;\">       0.1</td><td style=\"text-align: right;\">      0.2</td><td style=\"text-align: right;\">5e-05</td><td style=\"text-align: right;\">0.1   </td><td style=\"text-align: right;\"> 0.753464</td><td style=\"text-align: right;\"> 0.710941</td><td style=\"text-align: right;\">     0.716675</td><td style=\"text-align: right;\">300</td></tr>\n",
       "<tr><td>VGNAE_1e-05_0.1_e1dbb_00003   </td><td>TERMINATED</td><td>127.0.0.1:7544</td><td style=\"text-align: right;\">            64</td><td style=\"text-align: right;\">      1.2</td><td style=\"text-align: right;\">       0.1</td><td style=\"text-align: right;\">      0  </td><td style=\"text-align: right;\">1e-05</td><td style=\"text-align: right;\">0.1   </td><td style=\"text-align: right;\"> 0.751075</td><td style=\"text-align: right;\"> 0.709986</td><td style=\"text-align: right;\">     0.716197</td><td style=\"text-align: right;\">300</td></tr>\n",
       "<tr><td>VGNAE_1e-05_0.1_e1dbb_00004   </td><td>TERMINATED</td><td>127.0.0.1:7544</td><td style=\"text-align: right;\">            64</td><td style=\"text-align: right;\">      1.2</td><td style=\"text-align: right;\">       0.1</td><td style=\"text-align: right;\">      0.1</td><td style=\"text-align: right;\">1e-05</td><td style=\"text-align: right;\">0.1   </td><td style=\"text-align: right;\"> 0.761108</td><td style=\"text-align: right;\"> 0.709986</td><td style=\"text-align: right;\">     0.715719</td><td style=\"text-align: right;\">300</td></tr>\n",
       "<tr><td>VGNAE_1e-05_0.1_e1dbb_00005   </td><td>TERMINATED</td><td>127.0.0.1:7544</td><td style=\"text-align: right;\">            64</td><td style=\"text-align: right;\">      1.2</td><td style=\"text-align: right;\">       0.1</td><td style=\"text-align: right;\">      0.2</td><td style=\"text-align: right;\">1e-05</td><td style=\"text-align: right;\">0.1   </td><td style=\"text-align: right;\"> 0.744386</td><td style=\"text-align: right;\"> 0.715719</td><td style=\"text-align: right;\">     0.716675</td><td style=\"text-align: right;\">300</td></tr>\n",
       "<tr><td>VGNAE_5e-05_0.1_e1dbb_00006   </td><td>TERMINATED</td><td>127.0.0.1:7544</td><td style=\"text-align: right;\">            64</td><td style=\"text-align: right;\">      1.5</td><td style=\"text-align: right;\">       0.1</td><td style=\"text-align: right;\">      0  </td><td style=\"text-align: right;\">5e-05</td><td style=\"text-align: right;\">0.1   </td><td style=\"text-align: right;\"> 0.890349</td><td style=\"text-align: right;\"> 0.61634 </td><td style=\"text-align: right;\">     0.715719</td><td style=\"text-align: right;\">300</td></tr>\n",
       "<tr><td>VGNAE_5e-05_0.1_e1dbb_00007   </td><td>TERMINATED</td><td>127.0.0.1:7544</td><td style=\"text-align: right;\">            64</td><td style=\"text-align: right;\">      1.5</td><td style=\"text-align: right;\">       0.1</td><td style=\"text-align: right;\">      0.1</td><td style=\"text-align: right;\">5e-05</td><td style=\"text-align: right;\">0.1   </td><td style=\"text-align: right;\"> 0.853321</td><td style=\"text-align: right;\"> 0.539895</td><td style=\"text-align: right;\">     0.715719</td><td style=\"text-align: right;\">300</td></tr>\n",
       "<tr><td>VGNAE_5e-05_0.1_e1dbb_00008   </td><td>TERMINATED</td><td>127.0.0.1:7544</td><td style=\"text-align: right;\">            64</td><td style=\"text-align: right;\">      1.5</td><td style=\"text-align: right;\">       0.1</td><td style=\"text-align: right;\">      0.2</td><td style=\"text-align: right;\">5e-05</td><td style=\"text-align: right;\">0.1   </td><td style=\"text-align: right;\"> 0.751553</td><td style=\"text-align: right;\"> 0.711897</td><td style=\"text-align: right;\">     0.716675</td><td style=\"text-align: right;\">300</td></tr>\n",
       "<tr><td>VGNAE_1e-05_0.1_e1dbb_00009   </td><td>TERMINATED</td><td>127.0.0.1:7544</td><td style=\"text-align: right;\">            64</td><td style=\"text-align: right;\">      1.5</td><td style=\"text-align: right;\">       0.1</td><td style=\"text-align: right;\">      0  </td><td style=\"text-align: right;\">1e-05</td><td style=\"text-align: right;\">0.1   </td><td style=\"text-align: right;\"> 0.75657 </td><td style=\"text-align: right;\"> 0.709986</td><td style=\"text-align: right;\">     0.715719</td><td style=\"text-align: right;\">300</td></tr>\n",
       "<tr><td>VGNAE_1e-05_0.1_e1dbb_00010   </td><td>TERMINATED</td><td>127.0.0.1:7544</td><td style=\"text-align: right;\">            64</td><td style=\"text-align: right;\">      1.5</td><td style=\"text-align: right;\">       0.1</td><td style=\"text-align: right;\">      0.1</td><td style=\"text-align: right;\">1e-05</td><td style=\"text-align: right;\">0.1   </td><td style=\"text-align: right;\"> 0.759675</td><td style=\"text-align: right;\"> 0.70903 </td><td style=\"text-align: right;\">     0.715719</td><td style=\"text-align: right;\">300</td></tr>\n",
       "<tr><td>VGNAE_1e-05_0.1_e1dbb_00011   </td><td>TERMINATED</td><td>127.0.0.1:7544</td><td style=\"text-align: right;\">            64</td><td style=\"text-align: right;\">      1.5</td><td style=\"text-align: right;\">       0.1</td><td style=\"text-align: right;\">      0.2</td><td style=\"text-align: right;\">1e-05</td><td style=\"text-align: right;\">0.1   </td><td style=\"text-align: right;\"> 0.744386</td><td style=\"text-align: right;\"> 0.715719</td><td style=\"text-align: right;\">     0.716675</td><td style=\"text-align: right;\">300</td></tr>\n",
       "<tr><td>VGNAE_5e-05_0.1_e1dbb_00012   </td><td>TERMINATED</td><td>127.0.0.1:7544</td><td style=\"text-align: right;\">            64</td><td style=\"text-align: right;\">      1.8</td><td style=\"text-align: right;\">       0.1</td><td style=\"text-align: right;\">      0  </td><td style=\"text-align: right;\">5e-05</td><td style=\"text-align: right;\">0.1   </td><td style=\"text-align: right;\"> 0.887243</td><td style=\"text-align: right;\"> 0.593407</td><td style=\"text-align: right;\">     0.715719</td><td style=\"text-align: right;\">300</td></tr>\n",
       "<tr><td>VGNAE_5e-05_0.1_e1dbb_00013   </td><td>TERMINATED</td><td>127.0.0.1:7544</td><td style=\"text-align: right;\">            64</td><td style=\"text-align: right;\">      1.8</td><td style=\"text-align: right;\">       0.1</td><td style=\"text-align: right;\">      0.1</td><td style=\"text-align: right;\">5e-05</td><td style=\"text-align: right;\">0.1   </td><td style=\"text-align: right;\"> 0.850932</td><td style=\"text-align: right;\"> 0.538939</td><td style=\"text-align: right;\">     0.715719</td><td style=\"text-align: right;\">300</td></tr>\n",
       "<tr><td>VGNAE_5e-05_0.1_e1dbb_00014   </td><td>TERMINATED</td><td>127.0.0.1:7544</td><td style=\"text-align: right;\">            64</td><td style=\"text-align: right;\">      1.8</td><td style=\"text-align: right;\">       0.1</td><td style=\"text-align: right;\">      0.2</td><td style=\"text-align: right;\">5e-05</td><td style=\"text-align: right;\">0.1   </td><td style=\"text-align: right;\"> 0.749164</td><td style=\"text-align: right;\"> 0.712852</td><td style=\"text-align: right;\">     0.716675</td><td style=\"text-align: right;\">300</td></tr>\n",
       "<tr><td>VGNAE_1e-05_0.1_e1dbb_00015   </td><td>TERMINATED</td><td>127.0.0.1:7544</td><td style=\"text-align: right;\">            64</td><td style=\"text-align: right;\">      1.8</td><td style=\"text-align: right;\">       0.1</td><td style=\"text-align: right;\">      0  </td><td style=\"text-align: right;\">1e-05</td><td style=\"text-align: right;\">0.1   </td><td style=\"text-align: right;\"> 0.760392</td><td style=\"text-align: right;\"> 0.709986</td><td style=\"text-align: right;\">     0.716197</td><td style=\"text-align: right;\">300</td></tr>\n",
       "<tr><td>VGNAE_1e-05_0.1_e1dbb_00016   </td><td>TERMINATED</td><td>127.0.0.1:7544</td><td style=\"text-align: right;\">            64</td><td style=\"text-align: right;\">      1.8</td><td style=\"text-align: right;\">       0.1</td><td style=\"text-align: right;\">      0.1</td><td style=\"text-align: right;\">1e-05</td><td style=\"text-align: right;\">0.1   </td><td style=\"text-align: right;\"> 0.757047</td><td style=\"text-align: right;\"> 0.710941</td><td style=\"text-align: right;\">     0.715719</td><td style=\"text-align: right;\">300</td></tr>\n",
       "<tr><td>VGNAE_1e-05_0.1_e1dbb_00017   </td><td>TERMINATED</td><td>127.0.0.1:7544</td><td style=\"text-align: right;\">            64</td><td style=\"text-align: right;\">      1.8</td><td style=\"text-align: right;\">       0.1</td><td style=\"text-align: right;\">      0.2</td><td style=\"text-align: right;\">1e-05</td><td style=\"text-align: right;\">0.1   </td><td style=\"text-align: right;\"> 0.744147</td><td style=\"text-align: right;\"> 0.716675</td><td style=\"text-align: right;\">     0.716675</td><td style=\"text-align: right;\">300</td></tr>\n",
       "<tr><td>VGNAE_5e-05_0.1_e1dbb_00018   </td><td>TERMINATED</td><td>127.0.0.1:7544</td><td style=\"text-align: right;\">            64</td><td style=\"text-align: right;\">      1.2</td><td style=\"text-align: right;\">       0.2</td><td style=\"text-align: right;\">      0  </td><td style=\"text-align: right;\">5e-05</td><td style=\"text-align: right;\">0.1   </td><td style=\"text-align: right;\"> 0.846871</td><td style=\"text-align: right;\"> 0.690874</td><td style=\"text-align: right;\">     0.719541</td><td style=\"text-align: right;\">300</td></tr>\n",
       "<tr><td>VGNAE_5e-05_0.1_e1dbb_00019   </td><td>TERMINATED</td><td>127.0.0.1:7544</td><td style=\"text-align: right;\">            64</td><td style=\"text-align: right;\">      1.2</td><td style=\"text-align: right;\">       0.2</td><td style=\"text-align: right;\">      0.1</td><td style=\"text-align: right;\">5e-05</td><td style=\"text-align: right;\">0.1   </td><td style=\"text-align: right;\"> 0.852843</td><td style=\"text-align: right;\"> 0.559962</td><td style=\"text-align: right;\">     0.718586</td><td style=\"text-align: right;\">300</td></tr>\n",
       "<tr><td>VGNAE_5e-05_0.1_e1dbb_00020   </td><td>TERMINATED</td><td>127.0.0.1:7544</td><td style=\"text-align: right;\">            64</td><td style=\"text-align: right;\">      1.2</td><td style=\"text-align: right;\">       0.2</td><td style=\"text-align: right;\">      0.2</td><td style=\"text-align: right;\">5e-05</td><td style=\"text-align: right;\">0.1   </td><td style=\"text-align: right;\"> 0.780459</td><td style=\"text-align: right;\"> 0.702341</td><td style=\"text-align: right;\">     0.719541</td><td style=\"text-align: right;\">300</td></tr>\n",
       "<tr><td>VGNAE_1e-05_0.1_e1dbb_00021   </td><td>TERMINATED</td><td>127.0.0.1:7544</td><td style=\"text-align: right;\">            64</td><td style=\"text-align: right;\">      1.2</td><td style=\"text-align: right;\">       0.2</td><td style=\"text-align: right;\">      0  </td><td style=\"text-align: right;\">1e-05</td><td style=\"text-align: right;\">0.1   </td><td style=\"text-align: right;\"> 0.748208</td><td style=\"text-align: right;\"> 0.715719</td><td style=\"text-align: right;\">     0.719541</td><td style=\"text-align: right;\">300</td></tr>\n",
       "<tr><td>VGNAE_1e-05_0.1_e1dbb_00022   </td><td>TERMINATED</td><td>127.0.0.1:7544</td><td style=\"text-align: right;\">            64</td><td style=\"text-align: right;\">      1.2</td><td style=\"text-align: right;\">       0.2</td><td style=\"text-align: right;\">      0.1</td><td style=\"text-align: right;\">1e-05</td><td style=\"text-align: right;\">0.1   </td><td style=\"text-align: right;\"> 0.757286</td><td style=\"text-align: right;\"> 0.709986</td><td style=\"text-align: right;\">     0.719541</td><td style=\"text-align: right;\">300</td></tr>\n",
       "<tr><td>VGNAE_1e-05_0.1_e1dbb_00023   </td><td>TERMINATED</td><td>127.0.0.1:7544</td><td style=\"text-align: right;\">            64</td><td style=\"text-align: right;\">      1.2</td><td style=\"text-align: right;\">       0.2</td><td style=\"text-align: right;\">      0.2</td><td style=\"text-align: right;\">1e-05</td><td style=\"text-align: right;\">0.1   </td><td style=\"text-align: right;\"> 0.745581</td><td style=\"text-align: right;\"> 0.716675</td><td style=\"text-align: right;\">     0.719541</td><td style=\"text-align: right;\">300</td></tr>\n",
       "<tr><td>VGNAE_5e-05_0.1_e1dbb_00024   </td><td>TERMINATED</td><td>127.0.0.1:7544</td><td style=\"text-align: right;\">            64</td><td style=\"text-align: right;\">      1.5</td><td style=\"text-align: right;\">       0.2</td><td style=\"text-align: right;\">      0  </td><td style=\"text-align: right;\">5e-05</td><td style=\"text-align: right;\">0.1   </td><td style=\"text-align: right;\"> 0.876015</td><td style=\"text-align: right;\"> 0.623985</td><td style=\"text-align: right;\">     0.718586</td><td style=\"text-align: right;\">300</td></tr>\n",
       "<tr><td>VGNAE_5e-05_0.1_e1dbb_00025   </td><td>TERMINATED</td><td>127.0.0.1:7544</td><td style=\"text-align: right;\">            64</td><td style=\"text-align: right;\">      1.5</td><td style=\"text-align: right;\">       0.2</td><td style=\"text-align: right;\">      0.1</td><td style=\"text-align: right;\">5e-05</td><td style=\"text-align: right;\">0.1   </td><td style=\"text-align: right;\"> 0.845676</td><td style=\"text-align: right;\"> 0.546584</td><td style=\"text-align: right;\">     0.718586</td><td style=\"text-align: right;\">300</td></tr>\n",
       "<tr><td>VGNAE_5e-05_0.1_e1dbb_00026   </td><td>TERMINATED</td><td>127.0.0.1:7544</td><td style=\"text-align: right;\">            64</td><td style=\"text-align: right;\">      1.5</td><td style=\"text-align: right;\">       0.2</td><td style=\"text-align: right;\">      0.2</td><td style=\"text-align: right;\">5e-05</td><td style=\"text-align: right;\">0.1   </td><td style=\"text-align: right;\"> 0.769709</td><td style=\"text-align: right;\"> 0.708075</td><td style=\"text-align: right;\">     0.719541</td><td style=\"text-align: right;\">300</td></tr>\n",
       "<tr><td>VGNAE_1e-05_0.1_e1dbb_00027   </td><td>TERMINATED</td><td>127.0.0.1:7544</td><td style=\"text-align: right;\">            64</td><td style=\"text-align: right;\">      1.5</td><td style=\"text-align: right;\">       0.2</td><td style=\"text-align: right;\">      0  </td><td style=\"text-align: right;\">1e-05</td><td style=\"text-align: right;\">0.1   </td><td style=\"text-align: right;\"> 0.753942</td><td style=\"text-align: right;\"> 0.713808</td><td style=\"text-align: right;\">     0.719541</td><td style=\"text-align: right;\">300</td></tr>\n",
       "<tr><td>VGNAE_1e-05_0.1_e1dbb_00028   </td><td>TERMINATED</td><td>127.0.0.1:7544</td><td style=\"text-align: right;\">            64</td><td style=\"text-align: right;\">      1.5</td><td style=\"text-align: right;\">       0.2</td><td style=\"text-align: right;\">      0.1</td><td style=\"text-align: right;\">1e-05</td><td style=\"text-align: right;\">0.1   </td><td style=\"text-align: right;\"> 0.760153</td><td style=\"text-align: right;\"> 0.70903 </td><td style=\"text-align: right;\">     0.719541</td><td style=\"text-align: right;\">300</td></tr>\n",
       "<tr><td>VGNAE_1e-05_0.1_e1dbb_00029   </td><td>TERMINATED</td><td>127.0.0.1:7544</td><td style=\"text-align: right;\">            64</td><td style=\"text-align: right;\">      1.5</td><td style=\"text-align: right;\">       0.2</td><td style=\"text-align: right;\">      0.2</td><td style=\"text-align: right;\">1e-05</td><td style=\"text-align: right;\">0.1   </td><td style=\"text-align: right;\"> 0.745103</td><td style=\"text-align: right;\"> 0.716675</td><td style=\"text-align: right;\">     0.719541</td><td style=\"text-align: right;\">300</td></tr>\n",
       "<tr><td>VGNAE_5e-05_0.1_e1dbb_00030   </td><td>TERMINATED</td><td>127.0.0.1:7544</td><td style=\"text-align: right;\">            64</td><td style=\"text-align: right;\">      1.8</td><td style=\"text-align: right;\">       0.2</td><td style=\"text-align: right;\">      0  </td><td style=\"text-align: right;\">5e-05</td><td style=\"text-align: right;\">0.1   </td><td style=\"text-align: right;\"> 0.876015</td><td style=\"text-align: right;\"> 0.598184</td><td style=\"text-align: right;\">     0.718586</td><td style=\"text-align: right;\">300</td></tr>\n",
       "<tr><td>VGNAE_5e-05_0.1_e1dbb_00031   </td><td>TERMINATED</td><td>127.0.0.1:7544</td><td style=\"text-align: right;\">            64</td><td style=\"text-align: right;\">      1.8</td><td style=\"text-align: right;\">       0.2</td><td style=\"text-align: right;\">      0.1</td><td style=\"text-align: right;\">5e-05</td><td style=\"text-align: right;\">0.1   </td><td style=\"text-align: right;\"> 0.84042 </td><td style=\"text-align: right;\"> 0.537984</td><td style=\"text-align: right;\">     0.718586</td><td style=\"text-align: right;\">300</td></tr>\n",
       "<tr><td>VGNAE_5e-05_0.1_e1dbb_00032   </td><td>TERMINATED</td><td>127.0.0.1:7544</td><td style=\"text-align: right;\">            64</td><td style=\"text-align: right;\">      1.8</td><td style=\"text-align: right;\">       0.2</td><td style=\"text-align: right;\">      0.2</td><td style=\"text-align: right;\">5e-05</td><td style=\"text-align: right;\">0.1   </td><td style=\"text-align: right;\"> 0.760392</td><td style=\"text-align: right;\"> 0.70903 </td><td style=\"text-align: right;\">     0.719541</td><td style=\"text-align: right;\">300</td></tr>\n",
       "<tr><td>VGNAE_1e-05_0.1_e1dbb_00033   </td><td>TERMINATED</td><td>127.0.0.1:7544</td><td style=\"text-align: right;\">            64</td><td style=\"text-align: right;\">      1.8</td><td style=\"text-align: right;\">       0.2</td><td style=\"text-align: right;\">      0  </td><td style=\"text-align: right;\">1e-05</td><td style=\"text-align: right;\">0.1   </td><td style=\"text-align: right;\"> 0.757047</td><td style=\"text-align: right;\"> 0.70903 </td><td style=\"text-align: right;\">     0.719541</td><td style=\"text-align: right;\">300</td></tr>\n",
       "<tr><td>VGNAE_1e-05_0.1_e1dbb_00034   </td><td>TERMINATED</td><td>127.0.0.1:7544</td><td style=\"text-align: right;\">            64</td><td style=\"text-align: right;\">      1.8</td><td style=\"text-align: right;\">       0.2</td><td style=\"text-align: right;\">      0.1</td><td style=\"text-align: right;\">1e-05</td><td style=\"text-align: right;\">0.1   </td><td style=\"text-align: right;\"> 0.758481</td><td style=\"text-align: right;\"> 0.70903 </td><td style=\"text-align: right;\">     0.719541</td><td style=\"text-align: right;\">300</td></tr>\n",
       "<tr><td>VGNAE_1e-05_0.1_e1dbb_00035   </td><td>TERMINATED</td><td>127.0.0.1:7544</td><td style=\"text-align: right;\">            64</td><td style=\"text-align: right;\">      1.8</td><td style=\"text-align: right;\">       0.2</td><td style=\"text-align: right;\">      0.2</td><td style=\"text-align: right;\">1e-05</td><td style=\"text-align: right;\">0.1   </td><td style=\"text-align: right;\"> 0.745103</td><td style=\"text-align: right;\"> 0.71763 </td><td style=\"text-align: right;\">     0.719541</td><td style=\"text-align: right;\">300</td></tr>\n",
       "<tr><td>VGNAE_5e-05_0.01_e1dbb_00036  </td><td>TERMINATED</td><td>127.0.0.1:7544</td><td style=\"text-align: right;\">            64</td><td style=\"text-align: right;\">      1.2</td><td style=\"text-align: right;\">       0.1</td><td style=\"text-align: right;\">      0  </td><td style=\"text-align: right;\">5e-05</td><td style=\"text-align: right;\">0.01  </td><td style=\"text-align: right;\"> 0.873626</td><td style=\"text-align: right;\"> 0.684185</td><td style=\"text-align: right;\">     0.715719</td><td style=\"text-align: right;\">300</td></tr>\n",
       "<tr><td>VGNAE_5e-05_0.01_e1dbb_00037  </td><td>TERMINATED</td><td>127.0.0.1:7544</td><td style=\"text-align: right;\">            64</td><td style=\"text-align: right;\">      1.2</td><td style=\"text-align: right;\">       0.1</td><td style=\"text-align: right;\">      0.1</td><td style=\"text-align: right;\">5e-05</td><td style=\"text-align: right;\">0.01  </td><td style=\"text-align: right;\"> 0.860248</td><td style=\"text-align: right;\"> 0.551362</td><td style=\"text-align: right;\">     0.715719</td><td style=\"text-align: right;\">300</td></tr>\n",
       "<tr><td>VGNAE_5e-05_0.01_e1dbb_00038  </td><td>TERMINATED</td><td>127.0.0.1:7544</td><td style=\"text-align: right;\">            64</td><td style=\"text-align: right;\">      1.2</td><td style=\"text-align: right;\">       0.1</td><td style=\"text-align: right;\">      0.2</td><td style=\"text-align: right;\">5e-05</td><td style=\"text-align: right;\">0.01  </td><td style=\"text-align: right;\"> 0.753464</td><td style=\"text-align: right;\"> 0.710941</td><td style=\"text-align: right;\">     0.716675</td><td style=\"text-align: right;\">300</td></tr>\n",
       "<tr><td>VGNAE_1e-05_0.01_e1dbb_00039  </td><td>TERMINATED</td><td>127.0.0.1:7544</td><td style=\"text-align: right;\">            64</td><td style=\"text-align: right;\">      1.2</td><td style=\"text-align: right;\">       0.1</td><td style=\"text-align: right;\">      0  </td><td style=\"text-align: right;\">1e-05</td><td style=\"text-align: right;\">0.01  </td><td style=\"text-align: right;\"> 0.751075</td><td style=\"text-align: right;\"> 0.709986</td><td style=\"text-align: right;\">     0.716197</td><td style=\"text-align: right;\">300</td></tr>\n",
       "<tr><td>VGNAE_1e-05_0.01_e1dbb_00040  </td><td>TERMINATED</td><td>127.0.0.1:7544</td><td style=\"text-align: right;\">            64</td><td style=\"text-align: right;\">      1.2</td><td style=\"text-align: right;\">       0.1</td><td style=\"text-align: right;\">      0.1</td><td style=\"text-align: right;\">1e-05</td><td style=\"text-align: right;\">0.01  </td><td style=\"text-align: right;\"> 0.761108</td><td style=\"text-align: right;\"> 0.709986</td><td style=\"text-align: right;\">     0.715719</td><td style=\"text-align: right;\">300</td></tr>\n",
       "<tr><td>VGNAE_1e-05_0.01_e1dbb_00041  </td><td>TERMINATED</td><td>127.0.0.1:7544</td><td style=\"text-align: right;\">            64</td><td style=\"text-align: right;\">      1.2</td><td style=\"text-align: right;\">       0.1</td><td style=\"text-align: right;\">      0.2</td><td style=\"text-align: right;\">1e-05</td><td style=\"text-align: right;\">0.01  </td><td style=\"text-align: right;\"> 0.744386</td><td style=\"text-align: right;\"> 0.715719</td><td style=\"text-align: right;\">     0.716675</td><td style=\"text-align: right;\">300</td></tr>\n",
       "<tr><td>VGNAE_5e-05_0.01_e1dbb_00042  </td><td>TERMINATED</td><td>127.0.0.1:7544</td><td style=\"text-align: right;\">            64</td><td style=\"text-align: right;\">      1.5</td><td style=\"text-align: right;\">       0.1</td><td style=\"text-align: right;\">      0  </td><td style=\"text-align: right;\">5e-05</td><td style=\"text-align: right;\">0.01  </td><td style=\"text-align: right;\"> 0.889871</td><td style=\"text-align: right;\"> 0.617296</td><td style=\"text-align: right;\">     0.715719</td><td style=\"text-align: right;\">300</td></tr>\n",
       "<tr><td>VGNAE_5e-05_0.01_e1dbb_00043  </td><td>TERMINATED</td><td>127.0.0.1:7544</td><td style=\"text-align: right;\">            64</td><td style=\"text-align: right;\">      1.5</td><td style=\"text-align: right;\">       0.1</td><td style=\"text-align: right;\">      0.1</td><td style=\"text-align: right;\">5e-05</td><td style=\"text-align: right;\">0.01  </td><td style=\"text-align: right;\"> 0.853321</td><td style=\"text-align: right;\"> 0.539895</td><td style=\"text-align: right;\">     0.715719</td><td style=\"text-align: right;\">300</td></tr>\n",
       "<tr><td>VGNAE_5e-05_0.01_e1dbb_00044  </td><td>TERMINATED</td><td>127.0.0.1:7544</td><td style=\"text-align: right;\">            64</td><td style=\"text-align: right;\">      1.5</td><td style=\"text-align: right;\">       0.1</td><td style=\"text-align: right;\">      0.2</td><td style=\"text-align: right;\">5e-05</td><td style=\"text-align: right;\">0.01  </td><td style=\"text-align: right;\"> 0.751553</td><td style=\"text-align: right;\"> 0.711897</td><td style=\"text-align: right;\">     0.716675</td><td style=\"text-align: right;\">300</td></tr>\n",
       "<tr><td>VGNAE_1e-05_0.01_e1dbb_00045  </td><td>TERMINATED</td><td>127.0.0.1:7544</td><td style=\"text-align: right;\">            64</td><td style=\"text-align: right;\">      1.5</td><td style=\"text-align: right;\">       0.1</td><td style=\"text-align: right;\">      0  </td><td style=\"text-align: right;\">1e-05</td><td style=\"text-align: right;\">0.01  </td><td style=\"text-align: right;\"> 0.75657 </td><td style=\"text-align: right;\"> 0.709986</td><td style=\"text-align: right;\">     0.715719</td><td style=\"text-align: right;\">300</td></tr>\n",
       "<tr><td>VGNAE_1e-05_0.01_e1dbb_00046  </td><td>TERMINATED</td><td>127.0.0.1:7544</td><td style=\"text-align: right;\">            64</td><td style=\"text-align: right;\">      1.5</td><td style=\"text-align: right;\">       0.1</td><td style=\"text-align: right;\">      0.1</td><td style=\"text-align: right;\">1e-05</td><td style=\"text-align: right;\">0.01  </td><td style=\"text-align: right;\"> 0.759675</td><td style=\"text-align: right;\"> 0.70903 </td><td style=\"text-align: right;\">     0.715719</td><td style=\"text-align: right;\">300</td></tr>\n",
       "<tr><td>VGNAE_1e-05_0.01_e1dbb_00047  </td><td>TERMINATED</td><td>127.0.0.1:7544</td><td style=\"text-align: right;\">            64</td><td style=\"text-align: right;\">      1.5</td><td style=\"text-align: right;\">       0.1</td><td style=\"text-align: right;\">      0.2</td><td style=\"text-align: right;\">1e-05</td><td style=\"text-align: right;\">0.01  </td><td style=\"text-align: right;\"> 0.744386</td><td style=\"text-align: right;\"> 0.715719</td><td style=\"text-align: right;\">     0.716675</td><td style=\"text-align: right;\">300</td></tr>\n",
       "<tr><td>VGNAE_5e-05_0.01_e1dbb_00048  </td><td>TERMINATED</td><td>127.0.0.1:7544</td><td style=\"text-align: right;\">            64</td><td style=\"text-align: right;\">      1.8</td><td style=\"text-align: right;\">       0.1</td><td style=\"text-align: right;\">      0  </td><td style=\"text-align: right;\">5e-05</td><td style=\"text-align: right;\">0.01  </td><td style=\"text-align: right;\"> 0.887243</td><td style=\"text-align: right;\"> 0.593407</td><td style=\"text-align: right;\">     0.715719</td><td style=\"text-align: right;\">300</td></tr>\n",
       "<tr><td>VGNAE_5e-05_0.01_e1dbb_00049  </td><td>TERMINATED</td><td>127.0.0.1:7544</td><td style=\"text-align: right;\">            64</td><td style=\"text-align: right;\">      1.8</td><td style=\"text-align: right;\">       0.1</td><td style=\"text-align: right;\">      0.1</td><td style=\"text-align: right;\">5e-05</td><td style=\"text-align: right;\">0.01  </td><td style=\"text-align: right;\"> 0.850693</td><td style=\"text-align: right;\"> 0.538939</td><td style=\"text-align: right;\">     0.715719</td><td style=\"text-align: right;\">300</td></tr>\n",
       "<tr><td>VGNAE_5e-05_0.01_e1dbb_00050  </td><td>TERMINATED</td><td>127.0.0.1:7544</td><td style=\"text-align: right;\">            64</td><td style=\"text-align: right;\">      1.8</td><td style=\"text-align: right;\">       0.1</td><td style=\"text-align: right;\">      0.2</td><td style=\"text-align: right;\">5e-05</td><td style=\"text-align: right;\">0.01  </td><td style=\"text-align: right;\"> 0.749164</td><td style=\"text-align: right;\"> 0.712852</td><td style=\"text-align: right;\">     0.716675</td><td style=\"text-align: right;\">300</td></tr>\n",
       "<tr><td>VGNAE_1e-05_0.01_e1dbb_00051  </td><td>TERMINATED</td><td>127.0.0.1:7544</td><td style=\"text-align: right;\">            64</td><td style=\"text-align: right;\">      1.8</td><td style=\"text-align: right;\">       0.1</td><td style=\"text-align: right;\">      0  </td><td style=\"text-align: right;\">1e-05</td><td style=\"text-align: right;\">0.01  </td><td style=\"text-align: right;\"> 0.760392</td><td style=\"text-align: right;\"> 0.709986</td><td style=\"text-align: right;\">     0.716197</td><td style=\"text-align: right;\">300</td></tr>\n",
       "<tr><td>VGNAE_1e-05_0.01_e1dbb_00052  </td><td>TERMINATED</td><td>127.0.0.1:7544</td><td style=\"text-align: right;\">            64</td><td style=\"text-align: right;\">      1.8</td><td style=\"text-align: right;\">       0.1</td><td style=\"text-align: right;\">      0.1</td><td style=\"text-align: right;\">1e-05</td><td style=\"text-align: right;\">0.01  </td><td style=\"text-align: right;\"> 0.757047</td><td style=\"text-align: right;\"> 0.710941</td><td style=\"text-align: right;\">     0.715719</td><td style=\"text-align: right;\">300</td></tr>\n",
       "<tr><td>VGNAE_1e-05_0.01_e1dbb_00053  </td><td>TERMINATED</td><td>127.0.0.1:7544</td><td style=\"text-align: right;\">            64</td><td style=\"text-align: right;\">      1.8</td><td style=\"text-align: right;\">       0.1</td><td style=\"text-align: right;\">      0.2</td><td style=\"text-align: right;\">1e-05</td><td style=\"text-align: right;\">0.01  </td><td style=\"text-align: right;\"> 0.744147</td><td style=\"text-align: right;\"> 0.716675</td><td style=\"text-align: right;\">     0.716675</td><td style=\"text-align: right;\">300</td></tr>\n",
       "<tr><td>VGNAE_5e-05_0.01_e1dbb_00054  </td><td>TERMINATED</td><td>127.0.0.1:7544</td><td style=\"text-align: right;\">            64</td><td style=\"text-align: right;\">      1.2</td><td style=\"text-align: right;\">       0.2</td><td style=\"text-align: right;\">      0  </td><td style=\"text-align: right;\">5e-05</td><td style=\"text-align: right;\">0.01  </td><td style=\"text-align: right;\"> 0.846393</td><td style=\"text-align: right;\"> 0.690874</td><td style=\"text-align: right;\">     0.719541</td><td style=\"text-align: right;\">300</td></tr>\n",
       "<tr><td>VGNAE_5e-05_0.01_e1dbb_00055  </td><td>TERMINATED</td><td>127.0.0.1:7544</td><td style=\"text-align: right;\">            64</td><td style=\"text-align: right;\">      1.2</td><td style=\"text-align: right;\">       0.2</td><td style=\"text-align: right;\">      0.1</td><td style=\"text-align: right;\">5e-05</td><td style=\"text-align: right;\">0.01  </td><td style=\"text-align: right;\"> 0.852843</td><td style=\"text-align: right;\"> 0.559962</td><td style=\"text-align: right;\">     0.718586</td><td style=\"text-align: right;\">300</td></tr>\n",
       "<tr><td>VGNAE_5e-05_0.01_e1dbb_00056  </td><td>TERMINATED</td><td>127.0.0.1:7544</td><td style=\"text-align: right;\">            64</td><td style=\"text-align: right;\">      1.2</td><td style=\"text-align: right;\">       0.2</td><td style=\"text-align: right;\">      0.2</td><td style=\"text-align: right;\">5e-05</td><td style=\"text-align: right;\">0.01  </td><td style=\"text-align: right;\"> 0.780459</td><td style=\"text-align: right;\"> 0.702341</td><td style=\"text-align: right;\">     0.719541</td><td style=\"text-align: right;\">300</td></tr>\n",
       "<tr><td>VGNAE_1e-05_0.01_e1dbb_00057  </td><td>TERMINATED</td><td>127.0.0.1:7544</td><td style=\"text-align: right;\">            64</td><td style=\"text-align: right;\">      1.2</td><td style=\"text-align: right;\">       0.2</td><td style=\"text-align: right;\">      0  </td><td style=\"text-align: right;\">1e-05</td><td style=\"text-align: right;\">0.01  </td><td style=\"text-align: right;\"> 0.748208</td><td style=\"text-align: right;\"> 0.715719</td><td style=\"text-align: right;\">     0.719541</td><td style=\"text-align: right;\">300</td></tr>\n",
       "<tr><td>VGNAE_1e-05_0.01_e1dbb_00058  </td><td>TERMINATED</td><td>127.0.0.1:7544</td><td style=\"text-align: right;\">            64</td><td style=\"text-align: right;\">      1.2</td><td style=\"text-align: right;\">       0.2</td><td style=\"text-align: right;\">      0.1</td><td style=\"text-align: right;\">1e-05</td><td style=\"text-align: right;\">0.01  </td><td style=\"text-align: right;\"> 0.757286</td><td style=\"text-align: right;\"> 0.709986</td><td style=\"text-align: right;\">     0.719541</td><td style=\"text-align: right;\">300</td></tr>\n",
       "<tr><td>VGNAE_1e-05_0.01_e1dbb_00059  </td><td>TERMINATED</td><td>127.0.0.1:7544</td><td style=\"text-align: right;\">            64</td><td style=\"text-align: right;\">      1.2</td><td style=\"text-align: right;\">       0.2</td><td style=\"text-align: right;\">      0.2</td><td style=\"text-align: right;\">1e-05</td><td style=\"text-align: right;\">0.01  </td><td style=\"text-align: right;\"> 0.745581</td><td style=\"text-align: right;\"> 0.716675</td><td style=\"text-align: right;\">     0.719541</td><td style=\"text-align: right;\">300</td></tr>\n",
       "<tr><td>VGNAE_5e-05_0.01_e1dbb_00060  </td><td>TERMINATED</td><td>127.0.0.1:7544</td><td style=\"text-align: right;\">            64</td><td style=\"text-align: right;\">      1.5</td><td style=\"text-align: right;\">       0.2</td><td style=\"text-align: right;\">      0  </td><td style=\"text-align: right;\">5e-05</td><td style=\"text-align: right;\">0.01  </td><td style=\"text-align: right;\"> 0.876015</td><td style=\"text-align: right;\"> 0.623985</td><td style=\"text-align: right;\">     0.718586</td><td style=\"text-align: right;\">300</td></tr>\n",
       "<tr><td>VGNAE_5e-05_0.01_e1dbb_00061  </td><td>TERMINATED</td><td>127.0.0.1:7544</td><td style=\"text-align: right;\">            64</td><td style=\"text-align: right;\">      1.5</td><td style=\"text-align: right;\">       0.2</td><td style=\"text-align: right;\">      0.1</td><td style=\"text-align: right;\">5e-05</td><td style=\"text-align: right;\">0.01  </td><td style=\"text-align: right;\"> 0.845676</td><td style=\"text-align: right;\"> 0.546584</td><td style=\"text-align: right;\">     0.718586</td><td style=\"text-align: right;\">300</td></tr>\n",
       "<tr><td>VGNAE_5e-05_0.01_e1dbb_00062  </td><td>TERMINATED</td><td>127.0.0.1:7544</td><td style=\"text-align: right;\">            64</td><td style=\"text-align: right;\">      1.5</td><td style=\"text-align: right;\">       0.2</td><td style=\"text-align: right;\">      0.2</td><td style=\"text-align: right;\">5e-05</td><td style=\"text-align: right;\">0.01  </td><td style=\"text-align: right;\"> 0.76947 </td><td style=\"text-align: right;\"> 0.708075</td><td style=\"text-align: right;\">     0.719541</td><td style=\"text-align: right;\">300</td></tr>\n",
       "<tr><td>VGNAE_1e-05_0.01_e1dbb_00063  </td><td>TERMINATED</td><td>127.0.0.1:7544</td><td style=\"text-align: right;\">            64</td><td style=\"text-align: right;\">      1.5</td><td style=\"text-align: right;\">       0.2</td><td style=\"text-align: right;\">      0  </td><td style=\"text-align: right;\">1e-05</td><td style=\"text-align: right;\">0.01  </td><td style=\"text-align: right;\"> 0.753942</td><td style=\"text-align: right;\"> 0.713808</td><td style=\"text-align: right;\">     0.719541</td><td style=\"text-align: right;\">300</td></tr>\n",
       "<tr><td>VGNAE_1e-05_0.01_e1dbb_00064  </td><td>TERMINATED</td><td>127.0.0.1:7544</td><td style=\"text-align: right;\">            64</td><td style=\"text-align: right;\">      1.5</td><td style=\"text-align: right;\">       0.2</td><td style=\"text-align: right;\">      0.1</td><td style=\"text-align: right;\">1e-05</td><td style=\"text-align: right;\">0.01  </td><td style=\"text-align: right;\"> 0.760153</td><td style=\"text-align: right;\"> 0.70903 </td><td style=\"text-align: right;\">     0.719541</td><td style=\"text-align: right;\">300</td></tr>\n",
       "<tr><td>VGNAE_1e-05_0.01_e1dbb_00065  </td><td>TERMINATED</td><td>127.0.0.1:7544</td><td style=\"text-align: right;\">            64</td><td style=\"text-align: right;\">      1.5</td><td style=\"text-align: right;\">       0.2</td><td style=\"text-align: right;\">      0.2</td><td style=\"text-align: right;\">1e-05</td><td style=\"text-align: right;\">0.01  </td><td style=\"text-align: right;\"> 0.745103</td><td style=\"text-align: right;\"> 0.716675</td><td style=\"text-align: right;\">     0.719541</td><td style=\"text-align: right;\">300</td></tr>\n",
       "<tr><td>VGNAE_5e-05_0.01_e1dbb_00066  </td><td>TERMINATED</td><td>127.0.0.1:7544</td><td style=\"text-align: right;\">            64</td><td style=\"text-align: right;\">      1.8</td><td style=\"text-align: right;\">       0.2</td><td style=\"text-align: right;\">      0  </td><td style=\"text-align: right;\">5e-05</td><td style=\"text-align: right;\">0.01  </td><td style=\"text-align: right;\"> 0.876015</td><td style=\"text-align: right;\"> 0.598184</td><td style=\"text-align: right;\">     0.718586</td><td style=\"text-align: right;\">300</td></tr>\n",
       "<tr><td>VGNAE_5e-05_0.01_e1dbb_00067  </td><td>TERMINATED</td><td>127.0.0.1:7544</td><td style=\"text-align: right;\">            64</td><td style=\"text-align: right;\">      1.8</td><td style=\"text-align: right;\">       0.2</td><td style=\"text-align: right;\">      0.1</td><td style=\"text-align: right;\">5e-05</td><td style=\"text-align: right;\">0.01  </td><td style=\"text-align: right;\"> 0.84042 </td><td style=\"text-align: right;\"> 0.537984</td><td style=\"text-align: right;\">     0.718586</td><td style=\"text-align: right;\">300</td></tr>\n",
       "<tr><td>VGNAE_5e-05_0.01_e1dbb_00068  </td><td>TERMINATED</td><td>127.0.0.1:7544</td><td style=\"text-align: right;\">            64</td><td style=\"text-align: right;\">      1.8</td><td style=\"text-align: right;\">       0.2</td><td style=\"text-align: right;\">      0.2</td><td style=\"text-align: right;\">5e-05</td><td style=\"text-align: right;\">0.01  </td><td style=\"text-align: right;\"> 0.760392</td><td style=\"text-align: right;\"> 0.70903 </td><td style=\"text-align: right;\">     0.719541</td><td style=\"text-align: right;\">300</td></tr>\n",
       "<tr><td>VGNAE_1e-05_0.01_e1dbb_00069  </td><td>TERMINATED</td><td>127.0.0.1:7544</td><td style=\"text-align: right;\">            64</td><td style=\"text-align: right;\">      1.8</td><td style=\"text-align: right;\">       0.2</td><td style=\"text-align: right;\">      0  </td><td style=\"text-align: right;\">1e-05</td><td style=\"text-align: right;\">0.01  </td><td style=\"text-align: right;\"> 0.757047</td><td style=\"text-align: right;\"> 0.70903 </td><td style=\"text-align: right;\">     0.719541</td><td style=\"text-align: right;\">300</td></tr>\n",
       "<tr><td>VGNAE_1e-05_0.01_e1dbb_00070  </td><td>TERMINATED</td><td>127.0.0.1:7544</td><td style=\"text-align: right;\">            64</td><td style=\"text-align: right;\">      1.8</td><td style=\"text-align: right;\">       0.2</td><td style=\"text-align: right;\">      0.1</td><td style=\"text-align: right;\">1e-05</td><td style=\"text-align: right;\">0.01  </td><td style=\"text-align: right;\"> 0.758481</td><td style=\"text-align: right;\"> 0.70903 </td><td style=\"text-align: right;\">     0.719541</td><td style=\"text-align: right;\">300</td></tr>\n",
       "<tr><td>VGNAE_1e-05_0.01_e1dbb_00071  </td><td>TERMINATED</td><td>127.0.0.1:7544</td><td style=\"text-align: right;\">            64</td><td style=\"text-align: right;\">      1.8</td><td style=\"text-align: right;\">       0.2</td><td style=\"text-align: right;\">      0.2</td><td style=\"text-align: right;\">1e-05</td><td style=\"text-align: right;\">0.01  </td><td style=\"text-align: right;\"> 0.745103</td><td style=\"text-align: right;\"> 0.71763 </td><td style=\"text-align: right;\">     0.719541</td><td style=\"text-align: right;\">300</td></tr>\n",
       "<tr><td>VGNAE_5e-05_0.0001_e1dbb_00072</td><td>TERMINATED</td><td>127.0.0.1:7544</td><td style=\"text-align: right;\">            64</td><td style=\"text-align: right;\">      1.2</td><td style=\"text-align: right;\">       0.1</td><td style=\"text-align: right;\">      0  </td><td style=\"text-align: right;\">5e-05</td><td style=\"text-align: right;\">0.0001</td><td style=\"text-align: right;\"> 0.873626</td><td style=\"text-align: right;\"> 0.684185</td><td style=\"text-align: right;\">     0.715719</td><td style=\"text-align: right;\">300</td></tr>\n",
       "<tr><td>VGNAE_5e-05_0.0001_e1dbb_00073</td><td>TERMINATED</td><td>127.0.0.1:7544</td><td style=\"text-align: right;\">            64</td><td style=\"text-align: right;\">      1.2</td><td style=\"text-align: right;\">       0.1</td><td style=\"text-align: right;\">      0.1</td><td style=\"text-align: right;\">5e-05</td><td style=\"text-align: right;\">0.0001</td><td style=\"text-align: right;\"> 0.860248</td><td style=\"text-align: right;\"> 0.551362</td><td style=\"text-align: right;\">     0.715719</td><td style=\"text-align: right;\">300</td></tr>\n",
       "<tr><td>VGNAE_5e-05_0.0001_e1dbb_00074</td><td>TERMINATED</td><td>127.0.0.1:7544</td><td style=\"text-align: right;\">            64</td><td style=\"text-align: right;\">      1.2</td><td style=\"text-align: right;\">       0.1</td><td style=\"text-align: right;\">      0.2</td><td style=\"text-align: right;\">5e-05</td><td style=\"text-align: right;\">0.0001</td><td style=\"text-align: right;\"> 0.753464</td><td style=\"text-align: right;\"> 0.710941</td><td style=\"text-align: right;\">     0.716675</td><td style=\"text-align: right;\">300</td></tr>\n",
       "<tr><td>VGNAE_1e-05_0.0001_e1dbb_00075</td><td>TERMINATED</td><td>127.0.0.1:7544</td><td style=\"text-align: right;\">            64</td><td style=\"text-align: right;\">      1.2</td><td style=\"text-align: right;\">       0.1</td><td style=\"text-align: right;\">      0  </td><td style=\"text-align: right;\">1e-05</td><td style=\"text-align: right;\">0.0001</td><td style=\"text-align: right;\"> 0.751075</td><td style=\"text-align: right;\"> 0.709986</td><td style=\"text-align: right;\">     0.716197</td><td style=\"text-align: right;\">300</td></tr>\n",
       "<tr><td>VGNAE_1e-05_0.0001_e1dbb_00076</td><td>TERMINATED</td><td>127.0.0.1:7544</td><td style=\"text-align: right;\">            64</td><td style=\"text-align: right;\">      1.2</td><td style=\"text-align: right;\">       0.1</td><td style=\"text-align: right;\">      0.1</td><td style=\"text-align: right;\">1e-05</td><td style=\"text-align: right;\">0.0001</td><td style=\"text-align: right;\"> 0.761108</td><td style=\"text-align: right;\"> 0.709986</td><td style=\"text-align: right;\">     0.715719</td><td style=\"text-align: right;\">300</td></tr>\n",
       "<tr><td>VGNAE_1e-05_0.0001_e1dbb_00077</td><td>TERMINATED</td><td>127.0.0.1:7544</td><td style=\"text-align: right;\">            64</td><td style=\"text-align: right;\">      1.2</td><td style=\"text-align: right;\">       0.1</td><td style=\"text-align: right;\">      0.2</td><td style=\"text-align: right;\">1e-05</td><td style=\"text-align: right;\">0.0001</td><td style=\"text-align: right;\"> 0.744386</td><td style=\"text-align: right;\"> 0.715719</td><td style=\"text-align: right;\">     0.716675</td><td style=\"text-align: right;\">300</td></tr>\n",
       "<tr><td>VGNAE_5e-05_0.0001_e1dbb_00078</td><td>TERMINATED</td><td>127.0.0.1:7544</td><td style=\"text-align: right;\">            64</td><td style=\"text-align: right;\">      1.5</td><td style=\"text-align: right;\">       0.1</td><td style=\"text-align: right;\">      0  </td><td style=\"text-align: right;\">5e-05</td><td style=\"text-align: right;\">0.0001</td><td style=\"text-align: right;\"> 0.889871</td><td style=\"text-align: right;\"> 0.617296</td><td style=\"text-align: right;\">     0.715719</td><td style=\"text-align: right;\">300</td></tr>\n",
       "<tr><td>VGNAE_5e-05_0.0001_e1dbb_00079</td><td>TERMINATED</td><td>127.0.0.1:7544</td><td style=\"text-align: right;\">            64</td><td style=\"text-align: right;\">      1.5</td><td style=\"text-align: right;\">       0.1</td><td style=\"text-align: right;\">      0.1</td><td style=\"text-align: right;\">5e-05</td><td style=\"text-align: right;\">0.0001</td><td style=\"text-align: right;\"> 0.853321</td><td style=\"text-align: right;\"> 0.539895</td><td style=\"text-align: right;\">     0.715719</td><td style=\"text-align: right;\">300</td></tr>\n",
       "<tr><td>VGNAE_5e-05_0.0001_e1dbb_00080</td><td>TERMINATED</td><td>127.0.0.1:7544</td><td style=\"text-align: right;\">            64</td><td style=\"text-align: right;\">      1.5</td><td style=\"text-align: right;\">       0.1</td><td style=\"text-align: right;\">      0.2</td><td style=\"text-align: right;\">5e-05</td><td style=\"text-align: right;\">0.0001</td><td style=\"text-align: right;\"> 0.751553</td><td style=\"text-align: right;\"> 0.711897</td><td style=\"text-align: right;\">     0.716675</td><td style=\"text-align: right;\">300</td></tr>\n",
       "<tr><td>VGNAE_1e-05_0.0001_e1dbb_00081</td><td>TERMINATED</td><td>127.0.0.1:7544</td><td style=\"text-align: right;\">            64</td><td style=\"text-align: right;\">      1.5</td><td style=\"text-align: right;\">       0.1</td><td style=\"text-align: right;\">      0  </td><td style=\"text-align: right;\">1e-05</td><td style=\"text-align: right;\">0.0001</td><td style=\"text-align: right;\"> 0.75657 </td><td style=\"text-align: right;\"> 0.709986</td><td style=\"text-align: right;\">     0.715719</td><td style=\"text-align: right;\">300</td></tr>\n",
       "<tr><td>VGNAE_1e-05_0.0001_e1dbb_00082</td><td>TERMINATED</td><td>127.0.0.1:7544</td><td style=\"text-align: right;\">            64</td><td style=\"text-align: right;\">      1.5</td><td style=\"text-align: right;\">       0.1</td><td style=\"text-align: right;\">      0.1</td><td style=\"text-align: right;\">1e-05</td><td style=\"text-align: right;\">0.0001</td><td style=\"text-align: right;\"> 0.759675</td><td style=\"text-align: right;\"> 0.70903 </td><td style=\"text-align: right;\">     0.715719</td><td style=\"text-align: right;\">300</td></tr>\n",
       "<tr><td>VGNAE_1e-05_0.0001_e1dbb_00083</td><td>TERMINATED</td><td>127.0.0.1:7544</td><td style=\"text-align: right;\">            64</td><td style=\"text-align: right;\">      1.5</td><td style=\"text-align: right;\">       0.1</td><td style=\"text-align: right;\">      0.2</td><td style=\"text-align: right;\">1e-05</td><td style=\"text-align: right;\">0.0001</td><td style=\"text-align: right;\"> 0.744386</td><td style=\"text-align: right;\"> 0.715719</td><td style=\"text-align: right;\">     0.716675</td><td style=\"text-align: right;\">300</td></tr>\n",
       "<tr><td>VGNAE_5e-05_0.0001_e1dbb_00084</td><td>TERMINATED</td><td>127.0.0.1:7544</td><td style=\"text-align: right;\">            64</td><td style=\"text-align: right;\">      1.8</td><td style=\"text-align: right;\">       0.1</td><td style=\"text-align: right;\">      0  </td><td style=\"text-align: right;\">5e-05</td><td style=\"text-align: right;\">0.0001</td><td style=\"text-align: right;\"> 0.887004</td><td style=\"text-align: right;\"> 0.593407</td><td style=\"text-align: right;\">     0.715719</td><td style=\"text-align: right;\">300</td></tr>\n",
       "<tr><td>VGNAE_5e-05_0.0001_e1dbb_00085</td><td>TERMINATED</td><td>127.0.0.1:7544</td><td style=\"text-align: right;\">            64</td><td style=\"text-align: right;\">      1.8</td><td style=\"text-align: right;\">       0.1</td><td style=\"text-align: right;\">      0.1</td><td style=\"text-align: right;\">5e-05</td><td style=\"text-align: right;\">0.0001</td><td style=\"text-align: right;\"> 0.850693</td><td style=\"text-align: right;\"> 0.538939</td><td style=\"text-align: right;\">     0.715719</td><td style=\"text-align: right;\">300</td></tr>\n",
       "<tr><td>VGNAE_5e-05_0.0001_e1dbb_00086</td><td>TERMINATED</td><td>127.0.0.1:7544</td><td style=\"text-align: right;\">            64</td><td style=\"text-align: right;\">      1.8</td><td style=\"text-align: right;\">       0.1</td><td style=\"text-align: right;\">      0.2</td><td style=\"text-align: right;\">5e-05</td><td style=\"text-align: right;\">0.0001</td><td style=\"text-align: right;\"> 0.749164</td><td style=\"text-align: right;\"> 0.712852</td><td style=\"text-align: right;\">     0.716675</td><td style=\"text-align: right;\">300</td></tr>\n",
       "<tr><td>VGNAE_1e-05_0.0001_e1dbb_00087</td><td>TERMINATED</td><td>127.0.0.1:7544</td><td style=\"text-align: right;\">            64</td><td style=\"text-align: right;\">      1.8</td><td style=\"text-align: right;\">       0.1</td><td style=\"text-align: right;\">      0  </td><td style=\"text-align: right;\">1e-05</td><td style=\"text-align: right;\">0.0001</td><td style=\"text-align: right;\"> 0.760392</td><td style=\"text-align: right;\"> 0.709986</td><td style=\"text-align: right;\">     0.716197</td><td style=\"text-align: right;\">300</td></tr>\n",
       "<tr><td>VGNAE_1e-05_0.0001_e1dbb_00088</td><td>TERMINATED</td><td>127.0.0.1:7544</td><td style=\"text-align: right;\">            64</td><td style=\"text-align: right;\">      1.8</td><td style=\"text-align: right;\">       0.1</td><td style=\"text-align: right;\">      0.1</td><td style=\"text-align: right;\">1e-05</td><td style=\"text-align: right;\">0.0001</td><td style=\"text-align: right;\"> 0.757047</td><td style=\"text-align: right;\"> 0.710941</td><td style=\"text-align: right;\">     0.715719</td><td style=\"text-align: right;\">300</td></tr>\n",
       "<tr><td>VGNAE_1e-05_0.0001_e1dbb_00089</td><td>TERMINATED</td><td>127.0.0.1:7544</td><td style=\"text-align: right;\">            64</td><td style=\"text-align: right;\">      1.8</td><td style=\"text-align: right;\">       0.1</td><td style=\"text-align: right;\">      0.2</td><td style=\"text-align: right;\">1e-05</td><td style=\"text-align: right;\">0.0001</td><td style=\"text-align: right;\"> 0.744147</td><td style=\"text-align: right;\"> 0.716675</td><td style=\"text-align: right;\">     0.716675</td><td style=\"text-align: right;\">300</td></tr>\n",
       "<tr><td>VGNAE_5e-05_0.0001_e1dbb_00090</td><td>TERMINATED</td><td>127.0.0.1:7544</td><td style=\"text-align: right;\">            64</td><td style=\"text-align: right;\">      1.2</td><td style=\"text-align: right;\">       0.2</td><td style=\"text-align: right;\">      0  </td><td style=\"text-align: right;\">5e-05</td><td style=\"text-align: right;\">0.0001</td><td style=\"text-align: right;\"> 0.846393</td><td style=\"text-align: right;\"> 0.690874</td><td style=\"text-align: right;\">     0.719541</td><td style=\"text-align: right;\">300</td></tr>\n",
       "<tr><td>VGNAE_5e-05_0.0001_e1dbb_00091</td><td>TERMINATED</td><td>127.0.0.1:7544</td><td style=\"text-align: right;\">            64</td><td style=\"text-align: right;\">      1.2</td><td style=\"text-align: right;\">       0.2</td><td style=\"text-align: right;\">      0.1</td><td style=\"text-align: right;\">5e-05</td><td style=\"text-align: right;\">0.0001</td><td style=\"text-align: right;\"> 0.852843</td><td style=\"text-align: right;\"> 0.559962</td><td style=\"text-align: right;\">     0.718586</td><td style=\"text-align: right;\">300</td></tr>\n",
       "<tr><td>VGNAE_5e-05_0.0001_e1dbb_00092</td><td>TERMINATED</td><td>127.0.0.1:7544</td><td style=\"text-align: right;\">            64</td><td style=\"text-align: right;\">      1.2</td><td style=\"text-align: right;\">       0.2</td><td style=\"text-align: right;\">      0.2</td><td style=\"text-align: right;\">5e-05</td><td style=\"text-align: right;\">0.0001</td><td style=\"text-align: right;\"> 0.780459</td><td style=\"text-align: right;\"> 0.702341</td><td style=\"text-align: right;\">     0.719541</td><td style=\"text-align: right;\">300</td></tr>\n",
       "<tr><td>VGNAE_1e-05_0.0001_e1dbb_00093</td><td>TERMINATED</td><td>127.0.0.1:7544</td><td style=\"text-align: right;\">            64</td><td style=\"text-align: right;\">      1.2</td><td style=\"text-align: right;\">       0.2</td><td style=\"text-align: right;\">      0  </td><td style=\"text-align: right;\">1e-05</td><td style=\"text-align: right;\">0.0001</td><td style=\"text-align: right;\"> 0.748208</td><td style=\"text-align: right;\"> 0.715719</td><td style=\"text-align: right;\">     0.719541</td><td style=\"text-align: right;\">300</td></tr>\n",
       "<tr><td>VGNAE_1e-05_0.0001_e1dbb_00094</td><td>TERMINATED</td><td>127.0.0.1:7544</td><td style=\"text-align: right;\">            64</td><td style=\"text-align: right;\">      1.2</td><td style=\"text-align: right;\">       0.2</td><td style=\"text-align: right;\">      0.1</td><td style=\"text-align: right;\">1e-05</td><td style=\"text-align: right;\">0.0001</td><td style=\"text-align: right;\"> 0.757286</td><td style=\"text-align: right;\"> 0.709986</td><td style=\"text-align: right;\">     0.719541</td><td style=\"text-align: right;\">300</td></tr>\n",
       "<tr><td>VGNAE_1e-05_0.0001_e1dbb_00095</td><td>TERMINATED</td><td>127.0.0.1:7544</td><td style=\"text-align: right;\">            64</td><td style=\"text-align: right;\">      1.2</td><td style=\"text-align: right;\">       0.2</td><td style=\"text-align: right;\">      0.2</td><td style=\"text-align: right;\">1e-05</td><td style=\"text-align: right;\">0.0001</td><td style=\"text-align: right;\"> 0.745581</td><td style=\"text-align: right;\"> 0.716675</td><td style=\"text-align: right;\">     0.719541</td><td style=\"text-align: right;\">300</td></tr>\n",
       "<tr><td>VGNAE_5e-05_0.0001_e1dbb_00096</td><td>TERMINATED</td><td>127.0.0.1:7544</td><td style=\"text-align: right;\">            64</td><td style=\"text-align: right;\">      1.5</td><td style=\"text-align: right;\">       0.2</td><td style=\"text-align: right;\">      0  </td><td style=\"text-align: right;\">5e-05</td><td style=\"text-align: right;\">0.0001</td><td style=\"text-align: right;\"> 0.876015</td><td style=\"text-align: right;\"> 0.62494 </td><td style=\"text-align: right;\">     0.718586</td><td style=\"text-align: right;\">300</td></tr>\n",
       "<tr><td>VGNAE_5e-05_0.0001_e1dbb_00097</td><td>TERMINATED</td><td>127.0.0.1:7544</td><td style=\"text-align: right;\">            64</td><td style=\"text-align: right;\">      1.5</td><td style=\"text-align: right;\">       0.2</td><td style=\"text-align: right;\">      0.1</td><td style=\"text-align: right;\">5e-05</td><td style=\"text-align: right;\">0.0001</td><td style=\"text-align: right;\"> 0.845676</td><td style=\"text-align: right;\"> 0.546584</td><td style=\"text-align: right;\">     0.718586</td><td style=\"text-align: right;\">300</td></tr>\n",
       "<tr><td>VGNAE_5e-05_0.0001_e1dbb_00098</td><td>TERMINATED</td><td>127.0.0.1:7544</td><td style=\"text-align: right;\">            64</td><td style=\"text-align: right;\">      1.5</td><td style=\"text-align: right;\">       0.2</td><td style=\"text-align: right;\">      0.2</td><td style=\"text-align: right;\">5e-05</td><td style=\"text-align: right;\">0.0001</td><td style=\"text-align: right;\"> 0.76947 </td><td style=\"text-align: right;\"> 0.70903 </td><td style=\"text-align: right;\">     0.719541</td><td style=\"text-align: right;\">300</td></tr>\n",
       "<tr><td>VGNAE_1e-05_0.0001_e1dbb_00099</td><td>TERMINATED</td><td>127.0.0.1:7544</td><td style=\"text-align: right;\">            64</td><td style=\"text-align: right;\">      1.5</td><td style=\"text-align: right;\">       0.2</td><td style=\"text-align: right;\">      0  </td><td style=\"text-align: right;\">1e-05</td><td style=\"text-align: right;\">0.0001</td><td style=\"text-align: right;\"> 0.753942</td><td style=\"text-align: right;\"> 0.713808</td><td style=\"text-align: right;\">     0.719541</td><td style=\"text-align: right;\">300</td></tr>\n",
       "<tr><td>VGNAE_1e-05_0.0001_e1dbb_00100</td><td>TERMINATED</td><td>127.0.0.1:7544</td><td style=\"text-align: right;\">            64</td><td style=\"text-align: right;\">      1.5</td><td style=\"text-align: right;\">       0.2</td><td style=\"text-align: right;\">      0.1</td><td style=\"text-align: right;\">1e-05</td><td style=\"text-align: right;\">0.0001</td><td style=\"text-align: right;\"> 0.760153</td><td style=\"text-align: right;\"> 0.70903 </td><td style=\"text-align: right;\">     0.719541</td><td style=\"text-align: right;\">300</td></tr>\n",
       "<tr><td>VGNAE_1e-05_0.0001_e1dbb_00101</td><td>TERMINATED</td><td>127.0.0.1:7544</td><td style=\"text-align: right;\">            64</td><td style=\"text-align: right;\">      1.5</td><td style=\"text-align: right;\">       0.2</td><td style=\"text-align: right;\">      0.2</td><td style=\"text-align: right;\">1e-05</td><td style=\"text-align: right;\">0.0001</td><td style=\"text-align: right;\"> 0.745103</td><td style=\"text-align: right;\"> 0.716675</td><td style=\"text-align: right;\">     0.719541</td><td style=\"text-align: right;\">300</td></tr>\n",
       "<tr><td>VGNAE_5e-05_0.0001_e1dbb_00102</td><td>TERMINATED</td><td>127.0.0.1:7544</td><td style=\"text-align: right;\">            64</td><td style=\"text-align: right;\">      1.8</td><td style=\"text-align: right;\">       0.2</td><td style=\"text-align: right;\">      0  </td><td style=\"text-align: right;\">5e-05</td><td style=\"text-align: right;\">0.0001</td><td style=\"text-align: right;\"> 0.876015</td><td style=\"text-align: right;\"> 0.598184</td><td style=\"text-align: right;\">     0.718586</td><td style=\"text-align: right;\">300</td></tr>\n",
       "<tr><td>VGNAE_5e-05_0.0001_e1dbb_00103</td><td>TERMINATED</td><td>127.0.0.1:7544</td><td style=\"text-align: right;\">            64</td><td style=\"text-align: right;\">      1.8</td><td style=\"text-align: right;\">       0.2</td><td style=\"text-align: right;\">      0.1</td><td style=\"text-align: right;\">5e-05</td><td style=\"text-align: right;\">0.0001</td><td style=\"text-align: right;\"> 0.84042 </td><td style=\"text-align: right;\"> 0.537984</td><td style=\"text-align: right;\">     0.718586</td><td style=\"text-align: right;\">300</td></tr>\n",
       "<tr><td>VGNAE_5e-05_0.0001_e1dbb_00104</td><td>TERMINATED</td><td>127.0.0.1:7544</td><td style=\"text-align: right;\">            64</td><td style=\"text-align: right;\">      1.8</td><td style=\"text-align: right;\">       0.2</td><td style=\"text-align: right;\">      0.2</td><td style=\"text-align: right;\">5e-05</td><td style=\"text-align: right;\">0.0001</td><td style=\"text-align: right;\"> 0.760392</td><td style=\"text-align: right;\"> 0.70903 </td><td style=\"text-align: right;\">     0.719541</td><td style=\"text-align: right;\">300</td></tr>\n",
       "<tr><td>VGNAE_1e-05_0.0001_e1dbb_00105</td><td>TERMINATED</td><td>127.0.0.1:7544</td><td style=\"text-align: right;\">            64</td><td style=\"text-align: right;\">      1.8</td><td style=\"text-align: right;\">       0.2</td><td style=\"text-align: right;\">      0  </td><td style=\"text-align: right;\">1e-05</td><td style=\"text-align: right;\">0.0001</td><td style=\"text-align: right;\"> 0.757047</td><td style=\"text-align: right;\"> 0.70903 </td><td style=\"text-align: right;\">     0.719541</td><td style=\"text-align: right;\">300</td></tr>\n",
       "<tr><td>VGNAE_1e-05_0.0001_e1dbb_00106</td><td>TERMINATED</td><td>127.0.0.1:7544</td><td style=\"text-align: right;\">            64</td><td style=\"text-align: right;\">      1.8</td><td style=\"text-align: right;\">       0.2</td><td style=\"text-align: right;\">      0.1</td><td style=\"text-align: right;\">1e-05</td><td style=\"text-align: right;\">0.0001</td><td style=\"text-align: right;\"> 0.758481</td><td style=\"text-align: right;\"> 0.70903 </td><td style=\"text-align: right;\">     0.719541</td><td style=\"text-align: right;\">300</td></tr>\n",
       "<tr><td>VGNAE_1e-05_0.0001_e1dbb_00107</td><td>TERMINATED</td><td>127.0.0.1:7544</td><td style=\"text-align: right;\">            64</td><td style=\"text-align: right;\">      1.8</td><td style=\"text-align: right;\">       0.2</td><td style=\"text-align: right;\">      0.2</td><td style=\"text-align: right;\">1e-05</td><td style=\"text-align: right;\">0.0001</td><td style=\"text-align: right;\"> 0.745103</td><td style=\"text-align: right;\"> 0.71763 </td><td style=\"text-align: right;\">     0.719541</td><td style=\"text-align: right;\">300</td></tr>\n",
       "</tbody>\n",
       "</table>\n",
       "  </div>\n",
       "</div>\n",
       "<style>\n",
       ".tuneStatus {\n",
       "  color: var(--jp-ui-font-color1);\n",
       "}\n",
       ".tuneStatus .systemInfo {\n",
       "  display: flex;\n",
       "  flex-direction: column;\n",
       "}\n",
       ".tuneStatus td {\n",
       "  white-space: nowrap;\n",
       "}\n",
       ".tuneStatus .trialStatus {\n",
       "  display: flex;\n",
       "  flex-direction: column;\n",
       "}\n",
       ".tuneStatus h3 {\n",
       "  font-weight: bold;\n",
       "}\n",
       ".tuneStatus .hDivider {\n",
       "  border-bottom-width: var(--jp-border-width);\n",
       "  border-bottom-color: var(--jp-border-color0);\n",
       "  border-bottom-style: solid;\n",
       "}\n",
       ".tuneStatus .vDivider {\n",
       "  border-left-width: var(--jp-border-width);\n",
       "  border-left-color: var(--jp-border-color0);\n",
       "  border-left-style: solid;\n",
       "  margin: 0.5em 1em 0.5em 1em;\n",
       "}\n",
       "</style>\n"
      ],
      "text/plain": [
       "<IPython.core.display.HTML object>"
      ]
     },
     "metadata": {},
     "output_type": "display_data"
    },
    {
     "name": "stderr",
     "output_type": "stream",
     "text": [
      "2023-03-22 16:40:31,923\tINFO worker.py:1553 -- Started a local Ray instance.\n",
      "2023-03-22 17:22:31,466\tINFO tune.py:798 -- Total run time: 2518.30 seconds (2458.68 seconds for the tuning loop).\n"
     ]
    }
   ],
   "source": [
    "# how many trials to run (if grid_search utilized, it will run this number per grid_search value)\n",
    "num_samples = 1\n",
    "\n",
    "# run experiment\n",
    "result_grid = autoenc.run_ray_experiment(\n",
    "    autoenc.train_validate, config, ray_path, num_samples,\n",
    "    metric_columns = [\"trn_acc\", \"val_acc\", \"max_val_acc\", \"training_iteration\"],\n",
    "    parameter_columns = [\"enc_channels\", \"scaling\", \"teleport\", \"dropout\", \"lr\", \"wd\"]\n",
    ")"
   ]
  },
  {
   "cell_type": "markdown",
   "id": "c419b918",
   "metadata": {},
   "source": [
    "#### 3.2 Result of Hyperparameter tuning"
   ]
  },
  {
   "cell_type": "code",
   "execution_count": 6,
   "id": "0e9db923",
   "metadata": {},
   "outputs": [
    {
     "name": "stderr",
     "output_type": "stream",
     "text": [
      "The trainable will be overwritten - this should be done with caution: it's possible to supply an incompatible trainable, and there are no guarantees that the resumed experiment will continue successfully. If you encounter errors during training, ensure that you are passing in the same trainable that was passed into the initial `Tuner` object.\n"
     ]
    },
    {
     "name": "stdout",
     "output_type": "stream",
     "text": [
      "Loading results from ray_results/2_VGNAE_fine search...\n",
      "Done!\n",
      "\n",
      "No errors! Number of terminated trials: 75\n"
     ]
    }
   ],
   "source": [
    "restored_tuner, result_grid = autoenc.open_validate_ray_experiment(\n",
    "    \"ray_results/2_VGNAE_fine search\",\n",
    "    autoenc.train_validate\n",
    ")"
   ]
  },
  {
   "cell_type": "code",
   "execution_count": 10,
   "id": "31297470",
   "metadata": {},
   "outputs": [
    {
     "data": {
      "text/html": [
       "<div>\n",
       "<style scoped>\n",
       "    .dataframe tbody tr th:only-of-type {\n",
       "        vertical-align: middle;\n",
       "    }\n",
       "\n",
       "    .dataframe tbody tr th {\n",
       "        vertical-align: top;\n",
       "    }\n",
       "\n",
       "    .dataframe thead th {\n",
       "        text-align: right;\n",
       "    }\n",
       "</style>\n",
       "<table border=\"1\" class=\"dataframe\">\n",
       "  <thead>\n",
       "    <tr style=\"text-align: right;\">\n",
       "      <th></th>\n",
       "      <th>trial_id</th>\n",
       "      <th>config/model</th>\n",
       "      <th>config/enc_channels</th>\n",
       "      <th>config/scaling</th>\n",
       "      <th>config/num_prop</th>\n",
       "      <th>config/teleport</th>\n",
       "      <th>config/dropout</th>\n",
       "      <th>config/lr</th>\n",
       "      <th>config/wd</th>\n",
       "      <th>training_iteration</th>\n",
       "      <th>trn_loss</th>\n",
       "      <th>val_loss</th>\n",
       "      <th>trn_acc</th>\n",
       "      <th>val_acc</th>\n",
       "      <th>trn_auc</th>\n",
       "      <th>val_auc</th>\n",
       "    </tr>\n",
       "  </thead>\n",
       "  <tbody>\n",
       "    <tr>\n",
       "      <th>54</th>\n",
       "      <td>e1dbb_00054</td>\n",
       "      <td>VGNAE</td>\n",
       "      <td>64</td>\n",
       "      <td>1.2</td>\n",
       "      <td>5</td>\n",
       "      <td>0.2</td>\n",
       "      <td>0.0</td>\n",
       "      <td>0.00005</td>\n",
       "      <td>0.01</td>\n",
       "      <td>1</td>\n",
       "      <td>7.099132</td>\n",
       "      <td>2.000289</td>\n",
       "      <td>0.743908</td>\n",
       "      <td>0.719541</td>\n",
       "      <td>0.843224</td>\n",
       "      <td>0.781626</td>\n",
       "    </tr>\n",
       "    <tr>\n",
       "      <th>70</th>\n",
       "      <td>e1dbb_00070</td>\n",
       "      <td>VGNAE</td>\n",
       "      <td>64</td>\n",
       "      <td>1.8</td>\n",
       "      <td>5</td>\n",
       "      <td>0.2</td>\n",
       "      <td>0.1</td>\n",
       "      <td>0.00001</td>\n",
       "      <td>0.01</td>\n",
       "      <td>1</td>\n",
       "      <td>14.329952</td>\n",
       "      <td>3.920795</td>\n",
       "      <td>0.743669</td>\n",
       "      <td>0.719541</td>\n",
       "      <td>0.843116</td>\n",
       "      <td>0.781610</td>\n",
       "    </tr>\n",
       "    <tr>\n",
       "      <th>34</th>\n",
       "      <td>e1dbb_00034</td>\n",
       "      <td>VGNAE</td>\n",
       "      <td>64</td>\n",
       "      <td>1.8</td>\n",
       "      <td>5</td>\n",
       "      <td>0.2</td>\n",
       "      <td>0.1</td>\n",
       "      <td>0.00001</td>\n",
       "      <td>0.10</td>\n",
       "      <td>1</td>\n",
       "      <td>14.329952</td>\n",
       "      <td>3.920795</td>\n",
       "      <td>0.743669</td>\n",
       "      <td>0.719541</td>\n",
       "      <td>0.843116</td>\n",
       "      <td>0.781610</td>\n",
       "    </tr>\n",
       "    <tr>\n",
       "      <th>35</th>\n",
       "      <td>e1dbb_00035</td>\n",
       "      <td>VGNAE</td>\n",
       "      <td>64</td>\n",
       "      <td>1.8</td>\n",
       "      <td>5</td>\n",
       "      <td>0.2</td>\n",
       "      <td>0.2</td>\n",
       "      <td>0.00001</td>\n",
       "      <td>0.10</td>\n",
       "      <td>1</td>\n",
       "      <td>15.588473</td>\n",
       "      <td>3.921377</td>\n",
       "      <td>0.743669</td>\n",
       "      <td>0.719541</td>\n",
       "      <td>0.843088</td>\n",
       "      <td>0.781625</td>\n",
       "    </tr>\n",
       "    <tr>\n",
       "      <th>56</th>\n",
       "      <td>e1dbb_00056</td>\n",
       "      <td>VGNAE</td>\n",
       "      <td>64</td>\n",
       "      <td>1.2</td>\n",
       "      <td>5</td>\n",
       "      <td>0.2</td>\n",
       "      <td>0.2</td>\n",
       "      <td>0.00005</td>\n",
       "      <td>0.01</td>\n",
       "      <td>1</td>\n",
       "      <td>13.653776</td>\n",
       "      <td>2.000719</td>\n",
       "      <td>0.743669</td>\n",
       "      <td>0.719541</td>\n",
       "      <td>0.843163</td>\n",
       "      <td>0.781650</td>\n",
       "    </tr>\n",
       "    <tr>\n",
       "      <th>57</th>\n",
       "      <td>e1dbb_00057</td>\n",
       "      <td>VGNAE</td>\n",
       "      <td>64</td>\n",
       "      <td>1.2</td>\n",
       "      <td>5</td>\n",
       "      <td>0.2</td>\n",
       "      <td>0.0</td>\n",
       "      <td>0.00001</td>\n",
       "      <td>0.01</td>\n",
       "      <td>1</td>\n",
       "      <td>7.099132</td>\n",
       "      <td>2.000908</td>\n",
       "      <td>0.743669</td>\n",
       "      <td>0.719541</td>\n",
       "      <td>0.843136</td>\n",
       "      <td>0.781647</td>\n",
       "    </tr>\n",
       "    <tr>\n",
       "      <th>58</th>\n",
       "      <td>e1dbb_00058</td>\n",
       "      <td>VGNAE</td>\n",
       "      <td>64</td>\n",
       "      <td>1.2</td>\n",
       "      <td>5</td>\n",
       "      <td>0.2</td>\n",
       "      <td>0.1</td>\n",
       "      <td>0.00001</td>\n",
       "      <td>0.01</td>\n",
       "      <td>1</td>\n",
       "      <td>9.693695</td>\n",
       "      <td>2.000757</td>\n",
       "      <td>0.743669</td>\n",
       "      <td>0.719541</td>\n",
       "      <td>0.843155</td>\n",
       "      <td>0.781636</td>\n",
       "    </tr>\n",
       "    <tr>\n",
       "      <th>59</th>\n",
       "      <td>e1dbb_00059</td>\n",
       "      <td>VGNAE</td>\n",
       "      <td>64</td>\n",
       "      <td>1.2</td>\n",
       "      <td>5</td>\n",
       "      <td>0.2</td>\n",
       "      <td>0.2</td>\n",
       "      <td>0.00001</td>\n",
       "      <td>0.01</td>\n",
       "      <td>1</td>\n",
       "      <td>13.653776</td>\n",
       "      <td>2.000993</td>\n",
       "      <td>0.743669</td>\n",
       "      <td>0.719541</td>\n",
       "      <td>0.843124</td>\n",
       "      <td>0.781655</td>\n",
       "    </tr>\n",
       "    <tr>\n",
       "      <th>62</th>\n",
       "      <td>e1dbb_00062</td>\n",
       "      <td>VGNAE</td>\n",
       "      <td>64</td>\n",
       "      <td>1.5</td>\n",
       "      <td>5</td>\n",
       "      <td>0.2</td>\n",
       "      <td>0.2</td>\n",
       "      <td>0.00005</td>\n",
       "      <td>0.01</td>\n",
       "      <td>1</td>\n",
       "      <td>14.629756</td>\n",
       "      <td>2.807370</td>\n",
       "      <td>0.743669</td>\n",
       "      <td>0.719541</td>\n",
       "      <td>0.843167</td>\n",
       "      <td>0.781649</td>\n",
       "    </tr>\n",
       "    <tr>\n",
       "      <th>63</th>\n",
       "      <td>e1dbb_00063</td>\n",
       "      <td>VGNAE</td>\n",
       "      <td>64</td>\n",
       "      <td>1.5</td>\n",
       "      <td>5</td>\n",
       "      <td>0.2</td>\n",
       "      <td>0.0</td>\n",
       "      <td>0.00001</td>\n",
       "      <td>0.01</td>\n",
       "      <td>1</td>\n",
       "      <td>7.496513</td>\n",
       "      <td>2.807727</td>\n",
       "      <td>0.743669</td>\n",
       "      <td>0.719541</td>\n",
       "      <td>0.843140</td>\n",
       "      <td>0.781646</td>\n",
       "    </tr>\n",
       "  </tbody>\n",
       "</table>\n",
       "</div>"
      ],
      "text/plain": [
       "       trial_id config/model  config/enc_channels  config/scaling  \\\n",
       "54  e1dbb_00054        VGNAE                   64             1.2   \n",
       "70  e1dbb_00070        VGNAE                   64             1.8   \n",
       "34  e1dbb_00034        VGNAE                   64             1.8   \n",
       "35  e1dbb_00035        VGNAE                   64             1.8   \n",
       "56  e1dbb_00056        VGNAE                   64             1.2   \n",
       "57  e1dbb_00057        VGNAE                   64             1.2   \n",
       "58  e1dbb_00058        VGNAE                   64             1.2   \n",
       "59  e1dbb_00059        VGNAE                   64             1.2   \n",
       "62  e1dbb_00062        VGNAE                   64             1.5   \n",
       "63  e1dbb_00063        VGNAE                   64             1.5   \n",
       "\n",
       "    config/num_prop  config/teleport  config/dropout  config/lr  config/wd  \\\n",
       "54                5              0.2             0.0    0.00005       0.01   \n",
       "70                5              0.2             0.1    0.00001       0.01   \n",
       "34                5              0.2             0.1    0.00001       0.10   \n",
       "35                5              0.2             0.2    0.00001       0.10   \n",
       "56                5              0.2             0.2    0.00005       0.01   \n",
       "57                5              0.2             0.0    0.00001       0.01   \n",
       "58                5              0.2             0.1    0.00001       0.01   \n",
       "59                5              0.2             0.2    0.00001       0.01   \n",
       "62                5              0.2             0.2    0.00005       0.01   \n",
       "63                5              0.2             0.0    0.00001       0.01   \n",
       "\n",
       "    training_iteration   trn_loss  val_loss   trn_acc   val_acc   trn_auc  \\\n",
       "54                   1   7.099132  2.000289  0.743908  0.719541  0.843224   \n",
       "70                   1  14.329952  3.920795  0.743669  0.719541  0.843116   \n",
       "34                   1  14.329952  3.920795  0.743669  0.719541  0.843116   \n",
       "35                   1  15.588473  3.921377  0.743669  0.719541  0.843088   \n",
       "56                   1  13.653776  2.000719  0.743669  0.719541  0.843163   \n",
       "57                   1   7.099132  2.000908  0.743669  0.719541  0.843136   \n",
       "58                   1   9.693695  2.000757  0.743669  0.719541  0.843155   \n",
       "59                   1  13.653776  2.000993  0.743669  0.719541  0.843124   \n",
       "62                   1  14.629756  2.807370  0.743669  0.719541  0.843167   \n",
       "63                   1   7.496513  2.807727  0.743669  0.719541  0.843140   \n",
       "\n",
       "     val_auc  \n",
       "54  0.781626  \n",
       "70  0.781610  \n",
       "34  0.781610  \n",
       "35  0.781625  \n",
       "56  0.781650  \n",
       "57  0.781647  \n",
       "58  0.781636  \n",
       "59  0.781655  \n",
       "62  0.781649  \n",
       "63  0.781646  "
      ]
     },
     "execution_count": 10,
     "metadata": {},
     "output_type": "execute_result"
    }
   ],
   "source": [
    "# get best score per trial (highest validation accuracy)\n",
    "N = 10\n",
    "best_result_df = result_grid.get_dataframe(\n",
    "    filter_metric=\"val_acc\", filter_mode=\"max\"\n",
    ")\n",
    "best_result_df = best_result_df[[\"trial_id\", \"config/model\", \"config/enc_channels\",\n",
    "                                 \"config/scaling\", \"config/num_prop\", \"config/teleport\", \"config/dropout\",\n",
    "                                 \"config/lr\", \"config/wd\", \"training_iteration\",\n",
    "                                 \"trn_loss\", \"val_loss\", \"trn_acc\", \"val_acc\", \"trn_auc\", \"val_auc\"]]\n",
    "best_result_df = best_result_df.sort_values(by=[\"val_acc\"], ascending = False)\n",
    "\n",
    "if len(result_grid) > N:\n",
    "    best_result_df = best_result_df.head(N)\n",
    "\n",
    "best_result_df"
   ]
  },
  {
   "cell_type": "markdown",
   "id": "155cb789",
   "metadata": {},
   "source": [
    "#### 3.3 Embeddings based on best model"
   ]
  },
  {
   "cell_type": "code",
   "execution_count": 11,
   "id": "60a3d4eb",
   "metadata": {},
   "outputs": [
    {
     "data": {
      "text/plain": [
       "<All keys matched successfully>"
      ]
     },
     "execution_count": 11,
     "metadata": {},
     "output_type": "execute_result"
    }
   ],
   "source": [
    "# load best autoencoder\n",
    "path = os.path.abspath(\"\")+\"\\\\models\\\\autoencoder.pt\"\n",
    "model = VGAE(autoenc.Encoder(data.x.size()[1], 64, 1.2, 5, 0.2, 0))\n",
    "model.load_state_dict(torch.load(path))"
   ]
  },
  {
   "cell_type": "code",
   "execution_count": 12,
   "id": "9a83b802",
   "metadata": {},
   "outputs": [],
   "source": [
    "# get embeddings of nodes\n",
    "embedding = autoenc.get_embeddings(model, data.x, data.train_pos_edges)"
   ]
  },
  {
   "cell_type": "code",
   "execution_count": 13,
   "id": "12aae6b8",
   "metadata": {},
   "outputs": [
    {
     "data": {
      "text/plain": [
       "Text(0.5, 1.0, 'VGNAE projection (first 2 dim) of nodes')"
      ]
     },
     "execution_count": 13,
     "metadata": {},
     "output_type": "execute_result"
    },
    {
     "data": {
      "image/png": "[encoded data removed]",
      "text/plain": [
       "<Figure size 640x480 with 1 Axes>"
      ]
     },
     "metadata": {},
     "output_type": "display_data"
    }
   ],
   "source": [
    "# plot embedding\n",
    "plt.scatter(\n",
    "    embedding[:, 0],\n",
    "    embedding[:, 1])\n",
    "plt.gca().set_aspect('equal', 'datalim')\n",
    "plt.title('VGNAE projection (first 2 dim) of nodes')"
   ]
  },
  {
   "cell_type": "markdown",
   "id": "564340ea",
   "metadata": {},
   "source": [
    "Embeddings look like a sphere, we cannot do any meaningful clusering based on this.\n",
    "\n",
    "Let us now take our original VGNAE embeddings and put them into a pandas dataframe."
   ]
  },
  {
   "cell_type": "code",
   "execution_count": 15,
   "id": "7b823a53",
   "metadata": {},
   "outputs": [
    {
     "data": {
      "text/html": [
       "<div>\n",
       "<style scoped>\n",
       "    .dataframe tbody tr th:only-of-type {\n",
       "        vertical-align: middle;\n",
       "    }\n",
       "\n",
       "    .dataframe tbody tr th {\n",
       "        vertical-align: top;\n",
       "    }\n",
       "\n",
       "    .dataframe thead th {\n",
       "        text-align: right;\n",
       "    }\n",
       "</style>\n",
       "<table border=\"1\" class=\"dataframe\">\n",
       "  <thead>\n",
       "    <tr style=\"text-align: right;\">\n",
       "      <th></th>\n",
       "      <th>x1</th>\n",
       "      <th>x2</th>\n",
       "      <th>x3</th>\n",
       "      <th>x4</th>\n",
       "      <th>x5</th>\n",
       "      <th>x6</th>\n",
       "      <th>x7</th>\n",
       "      <th>x8</th>\n",
       "      <th>x9</th>\n",
       "      <th>x10</th>\n",
       "      <th>...</th>\n",
       "      <th>x55</th>\n",
       "      <th>x56</th>\n",
       "      <th>x57</th>\n",
       "      <th>x58</th>\n",
       "      <th>x59</th>\n",
       "      <th>x60</th>\n",
       "      <th>x61</th>\n",
       "      <th>x62</th>\n",
       "      <th>x63</th>\n",
       "      <th>x64</th>\n",
       "    </tr>\n",
       "  </thead>\n",
       "  <tbody>\n",
       "    <tr>\n",
       "      <th>0</th>\n",
       "      <td>-0.623678</td>\n",
       "      <td>-0.043992</td>\n",
       "      <td>1.821067</td>\n",
       "      <td>1.203784</td>\n",
       "      <td>0.182832</td>\n",
       "      <td>-2.765593</td>\n",
       "      <td>-0.694810</td>\n",
       "      <td>-0.407178</td>\n",
       "      <td>1.168305</td>\n",
       "      <td>1.036321</td>\n",
       "      <td>...</td>\n",
       "      <td>-1.668025</td>\n",
       "      <td>-1.057854</td>\n",
       "      <td>-0.408939</td>\n",
       "      <td>0.753382</td>\n",
       "      <td>-0.692564</td>\n",
       "      <td>0.020138</td>\n",
       "      <td>0.301422</td>\n",
       "      <td>0.707456</td>\n",
       "      <td>0.419454</td>\n",
       "      <td>-1.000115</td>\n",
       "    </tr>\n",
       "    <tr>\n",
       "      <th>1</th>\n",
       "      <td>0.658316</td>\n",
       "      <td>-0.779363</td>\n",
       "      <td>-1.214824</td>\n",
       "      <td>-0.151634</td>\n",
       "      <td>-0.575531</td>\n",
       "      <td>0.265010</td>\n",
       "      <td>-1.427395</td>\n",
       "      <td>-0.176885</td>\n",
       "      <td>-0.561182</td>\n",
       "      <td>0.034273</td>\n",
       "      <td>...</td>\n",
       "      <td>-0.989956</td>\n",
       "      <td>-0.743795</td>\n",
       "      <td>-0.562310</td>\n",
       "      <td>-1.171863</td>\n",
       "      <td>-1.245556</td>\n",
       "      <td>0.347833</td>\n",
       "      <td>0.865171</td>\n",
       "      <td>1.601145</td>\n",
       "      <td>2.458827</td>\n",
       "      <td>0.750891</td>\n",
       "    </tr>\n",
       "    <tr>\n",
       "      <th>2</th>\n",
       "      <td>0.997583</td>\n",
       "      <td>-0.246459</td>\n",
       "      <td>0.627245</td>\n",
       "      <td>-1.370035</td>\n",
       "      <td>0.298965</td>\n",
       "      <td>0.305205</td>\n",
       "      <td>-1.251574</td>\n",
       "      <td>-1.357177</td>\n",
       "      <td>-1.522558</td>\n",
       "      <td>1.174321</td>\n",
       "      <td>...</td>\n",
       "      <td>0.154193</td>\n",
       "      <td>0.135861</td>\n",
       "      <td>0.076582</td>\n",
       "      <td>-0.022793</td>\n",
       "      <td>-0.476577</td>\n",
       "      <td>-0.101789</td>\n",
       "      <td>0.175466</td>\n",
       "      <td>-0.590737</td>\n",
       "      <td>-0.078045</td>\n",
       "      <td>-1.087426</td>\n",
       "    </tr>\n",
       "    <tr>\n",
       "      <th>3</th>\n",
       "      <td>0.278681</td>\n",
       "      <td>-1.411149</td>\n",
       "      <td>0.153669</td>\n",
       "      <td>1.648112</td>\n",
       "      <td>0.389635</td>\n",
       "      <td>-1.123989</td>\n",
       "      <td>0.980287</td>\n",
       "      <td>0.029604</td>\n",
       "      <td>0.891231</td>\n",
       "      <td>-0.337121</td>\n",
       "      <td>...</td>\n",
       "      <td>0.932800</td>\n",
       "      <td>-0.029181</td>\n",
       "      <td>-0.816200</td>\n",
       "      <td>-0.178846</td>\n",
       "      <td>0.223142</td>\n",
       "      <td>-0.151824</td>\n",
       "      <td>-0.281885</td>\n",
       "      <td>-1.274305</td>\n",
       "      <td>0.020515</td>\n",
       "      <td>0.410102</td>\n",
       "    </tr>\n",
       "    <tr>\n",
       "      <th>4</th>\n",
       "      <td>0.312781</td>\n",
       "      <td>-0.479086</td>\n",
       "      <td>-1.798276</td>\n",
       "      <td>-2.532032</td>\n",
       "      <td>1.257989</td>\n",
       "      <td>-0.827612</td>\n",
       "      <td>0.474937</td>\n",
       "      <td>0.353768</td>\n",
       "      <td>0.716047</td>\n",
       "      <td>0.568674</td>\n",
       "      <td>...</td>\n",
       "      <td>0.263931</td>\n",
       "      <td>-1.863447</td>\n",
       "      <td>2.647008</td>\n",
       "      <td>-0.183617</td>\n",
       "      <td>-0.521746</td>\n",
       "      <td>0.096012</td>\n",
       "      <td>1.251106</td>\n",
       "      <td>1.767830</td>\n",
       "      <td>0.555481</td>\n",
       "      <td>-0.300129</td>\n",
       "    </tr>\n",
       "    <tr>\n",
       "      <th>...</th>\n",
       "      <td>...</td>\n",
       "      <td>...</td>\n",
       "      <td>...</td>\n",
       "      <td>...</td>\n",
       "      <td>...</td>\n",
       "      <td>...</td>\n",
       "      <td>...</td>\n",
       "      <td>...</td>\n",
       "      <td>...</td>\n",
       "      <td>...</td>\n",
       "      <td>...</td>\n",
       "      <td>...</td>\n",
       "      <td>...</td>\n",
       "      <td>...</td>\n",
       "      <td>...</td>\n",
       "      <td>...</td>\n",
       "      <td>...</td>\n",
       "      <td>...</td>\n",
       "      <td>...</td>\n",
       "      <td>...</td>\n",
       "      <td>...</td>\n",
       "    </tr>\n",
       "    <tr>\n",
       "      <th>3592</th>\n",
       "      <td>0.813506</td>\n",
       "      <td>-1.298862</td>\n",
       "      <td>-0.508988</td>\n",
       "      <td>-0.109910</td>\n",
       "      <td>0.601690</td>\n",
       "      <td>0.441310</td>\n",
       "      <td>0.625291</td>\n",
       "      <td>-1.357337</td>\n",
       "      <td>0.083201</td>\n",
       "      <td>0.745797</td>\n",
       "      <td>...</td>\n",
       "      <td>-0.019540</td>\n",
       "      <td>0.847718</td>\n",
       "      <td>-1.599568</td>\n",
       "      <td>-0.070115</td>\n",
       "      <td>-0.108783</td>\n",
       "      <td>0.172475</td>\n",
       "      <td>-0.006748</td>\n",
       "      <td>1.526798</td>\n",
       "      <td>1.631716</td>\n",
       "      <td>2.090119</td>\n",
       "    </tr>\n",
       "    <tr>\n",
       "      <th>3593</th>\n",
       "      <td>-1.063248</td>\n",
       "      <td>0.558780</td>\n",
       "      <td>-0.818599</td>\n",
       "      <td>-0.875453</td>\n",
       "      <td>0.464274</td>\n",
       "      <td>-0.195435</td>\n",
       "      <td>-0.841490</td>\n",
       "      <td>1.705152</td>\n",
       "      <td>-0.422492</td>\n",
       "      <td>0.893134</td>\n",
       "      <td>...</td>\n",
       "      <td>1.719990</td>\n",
       "      <td>-1.022337</td>\n",
       "      <td>-1.497450</td>\n",
       "      <td>0.378123</td>\n",
       "      <td>-0.132339</td>\n",
       "      <td>1.100141</td>\n",
       "      <td>-0.510292</td>\n",
       "      <td>0.415924</td>\n",
       "      <td>0.949576</td>\n",
       "      <td>-0.418102</td>\n",
       "    </tr>\n",
       "    <tr>\n",
       "      <th>3594</th>\n",
       "      <td>0.113872</td>\n",
       "      <td>0.339239</td>\n",
       "      <td>0.333632</td>\n",
       "      <td>-2.059673</td>\n",
       "      <td>0.564487</td>\n",
       "      <td>0.404151</td>\n",
       "      <td>0.665075</td>\n",
       "      <td>-0.112562</td>\n",
       "      <td>-0.169018</td>\n",
       "      <td>0.687087</td>\n",
       "      <td>...</td>\n",
       "      <td>-0.324187</td>\n",
       "      <td>-0.323880</td>\n",
       "      <td>-0.221983</td>\n",
       "      <td>-0.895939</td>\n",
       "      <td>-0.947064</td>\n",
       "      <td>-0.143208</td>\n",
       "      <td>0.232801</td>\n",
       "      <td>0.560322</td>\n",
       "      <td>0.578041</td>\n",
       "      <td>-0.696705</td>\n",
       "    </tr>\n",
       "    <tr>\n",
       "      <th>3595</th>\n",
       "      <td>0.708372</td>\n",
       "      <td>0.159516</td>\n",
       "      <td>0.378196</td>\n",
       "      <td>-0.271242</td>\n",
       "      <td>-0.538225</td>\n",
       "      <td>-0.577872</td>\n",
       "      <td>-0.663748</td>\n",
       "      <td>-0.495822</td>\n",
       "      <td>-0.805759</td>\n",
       "      <td>0.832749</td>\n",
       "      <td>...</td>\n",
       "      <td>0.236245</td>\n",
       "      <td>-1.874609</td>\n",
       "      <td>-0.465778</td>\n",
       "      <td>-0.717636</td>\n",
       "      <td>0.471269</td>\n",
       "      <td>-1.534847</td>\n",
       "      <td>-0.540305</td>\n",
       "      <td>0.601740</td>\n",
       "      <td>-3.267178</td>\n",
       "      <td>0.706833</td>\n",
       "    </tr>\n",
       "    <tr>\n",
       "      <th>3596</th>\n",
       "      <td>0.280651</td>\n",
       "      <td>-1.230712</td>\n",
       "      <td>1.212034</td>\n",
       "      <td>-1.606177</td>\n",
       "      <td>1.133954</td>\n",
       "      <td>-0.704222</td>\n",
       "      <td>-1.046643</td>\n",
       "      <td>1.168526</td>\n",
       "      <td>1.432762</td>\n",
       "      <td>0.353567</td>\n",
       "      <td>...</td>\n",
       "      <td>0.124172</td>\n",
       "      <td>-1.076608</td>\n",
       "      <td>0.970988</td>\n",
       "      <td>-0.714255</td>\n",
       "      <td>1.509707</td>\n",
       "      <td>-0.044888</td>\n",
       "      <td>0.649669</td>\n",
       "      <td>-0.458570</td>\n",
       "      <td>1.473996</td>\n",
       "      <td>1.492612</td>\n",
       "    </tr>\n",
       "  </tbody>\n",
       "</table>\n",
       "<p>3597 rows × 64 columns</p>\n",
       "</div>"
      ],
      "text/plain": [
       "            x1        x2        x3        x4        x5        x6        x7  \\\n",
       "0    -0.623678 -0.043992  1.821067  1.203784  0.182832 -2.765593 -0.694810   \n",
       "1     0.658316 -0.779363 -1.214824 -0.151634 -0.575531  0.265010 -1.427395   \n",
       "2     0.997583 -0.246459  0.627245 -1.370035  0.298965  0.305205 -1.251574   \n",
       "3     0.278681 -1.411149  0.153669  1.648112  0.389635 -1.123989  0.980287   \n",
       "4     0.312781 -0.479086 -1.798276 -2.532032  1.257989 -0.827612  0.474937   \n",
       "...        ...       ...       ...       ...       ...       ...       ...   \n",
       "3592  0.813506 -1.298862 -0.508988 -0.109910  0.601690  0.441310  0.625291   \n",
       "3593 -1.063248  0.558780 -0.818599 -0.875453  0.464274 -0.195435 -0.841490   \n",
       "3594  0.113872  0.339239  0.333632 -2.059673  0.564487  0.404151  0.665075   \n",
       "3595  0.708372  0.159516  0.378196 -0.271242 -0.538225 -0.577872 -0.663748   \n",
       "3596  0.280651 -1.230712  1.212034 -1.606177  1.133954 -0.704222 -1.046643   \n",
       "\n",
       "            x8        x9       x10  ...       x55       x56       x57  \\\n",
       "0    -0.407178  1.168305  1.036321  ... -1.668025 -1.057854 -0.408939   \n",
       "1    -0.176885 -0.561182  0.034273  ... -0.989956 -0.743795 -0.562310   \n",
       "2    -1.357177 -1.522558  1.174321  ...  0.154193  0.135861  0.076582   \n",
       "3     0.029604  0.891231 -0.337121  ...  0.932800 -0.029181 -0.816200   \n",
       "4     0.353768  0.716047  0.568674  ...  0.263931 -1.863447  2.647008   \n",
       "...        ...       ...       ...  ...       ...       ...       ...   \n",
       "3592 -1.357337  0.083201  0.745797  ... -0.019540  0.847718 -1.599568   \n",
       "3593  1.705152 -0.422492  0.893134  ...  1.719990 -1.022337 -1.497450   \n",
       "3594 -0.112562 -0.169018  0.687087  ... -0.324187 -0.323880 -0.221983   \n",
       "3595 -0.495822 -0.805759  0.832749  ...  0.236245 -1.874609 -0.465778   \n",
       "3596  1.168526  1.432762  0.353567  ...  0.124172 -1.076608  0.970988   \n",
       "\n",
       "           x58       x59       x60       x61       x62       x63       x64  \n",
       "0     0.753382 -0.692564  0.020138  0.301422  0.707456  0.419454 -1.000115  \n",
       "1    -1.171863 -1.245556  0.347833  0.865171  1.601145  2.458827  0.750891  \n",
       "2    -0.022793 -0.476577 -0.101789  0.175466 -0.590737 -0.078045 -1.087426  \n",
       "3    -0.178846  0.223142 -0.151824 -0.281885 -1.274305  0.020515  0.410102  \n",
       "4    -0.183617 -0.521746  0.096012  1.251106  1.767830  0.555481 -0.300129  \n",
       "...        ...       ...       ...       ...       ...       ...       ...  \n",
       "3592 -0.070115 -0.108783  0.172475 -0.006748  1.526798  1.631716  2.090119  \n",
       "3593  0.378123 -0.132339  1.100141 -0.510292  0.415924  0.949576 -0.418102  \n",
       "3594 -0.895939 -0.947064 -0.143208  0.232801  0.560322  0.578041 -0.696705  \n",
       "3595 -0.717636  0.471269 -1.534847 -0.540305  0.601740 -3.267178  0.706833  \n",
       "3596 -0.714255  1.509707 -0.044888  0.649669 -0.458570  1.473996  1.492612  \n",
       "\n",
       "[3597 rows x 64 columns]"
      ]
     },
     "execution_count": 15,
     "metadata": {},
     "output_type": "execute_result"
    }
   ],
   "source": [
    "node_emb = pd.DataFrame(embedding).rename(columns = {val: f\"x{val+1}\" for val in range(embedding.shape[1])})\n",
    "\n",
    "node_emb"
   ]
  },
  {
   "cell_type": "markdown",
   "id": "64dcbb71",
   "metadata": {},
   "source": [
    "#### 3.4 Compute edge features based on best model"
   ]
  },
  {
   "cell_type": "code",
   "execution_count": 16,
   "id": "4f6dc822",
   "metadata": {},
   "outputs": [
    {
     "name": "stdout",
     "output_type": "stream",
     "text": [
      "ROC:  0.8433187604109288\n",
      "Acc:  0.7441471571906354\n"
     ]
    }
   ],
   "source": [
    "# predict train\n",
    "y_train_hat = pd.DataFrame(autoenc.get_similarity(model, data.x, data.train_pos_edges, data.train_edges))\n",
    "y_train_hat = (y_train_hat\n",
    "    .rename(columns = {0: \"sim\"})\n",
    "    .assign(y = trainval_tf.loc[trainval_tf.train_mask == True].y.values)\n",
    "    .assign(pred = lambda df_: (df_.sim > df_.sim.median()).astype(int))\n",
    ")\n",
    "print(\"ROC: \", roc_auc_score(y_train_hat.y, y_train_hat.sim))\n",
    "print(\"Acc: \", accuracy_score(y_train_hat.y, y_train_hat.pred))"
   ]
  },
  {
   "cell_type": "code",
   "execution_count": 19,
   "id": "31eab61f",
   "metadata": {},
   "outputs": [
    {
     "data": {
      "text/plain": [
       "<seaborn.axisgrid.PairGrid at 0x29077168160>"
      ]
     },
     "execution_count": 19,
     "metadata": {},
     "output_type": "execute_result"
    },
    {
     "data": {
      "image/png": "[encoded data removed]",
      "text/plain": [
       "<Figure size 263.889x250 with 2 Axes>"
      ]
     },
     "metadata": {},
     "output_type": "display_data"
    }
   ],
   "source": [
    "sns.pairplot(y_train_hat[[\"sim\", \"y\"]], hue = \"y\")"
   ]
  },
  {
   "cell_type": "code",
   "execution_count": 20,
   "id": "bc2a3c26",
   "metadata": {
    "scrolled": true
   },
   "outputs": [
    {
     "name": "stdout",
     "output_type": "stream",
     "text": [
      "ROC:  0.7815915627996165\n",
      "Acc:  0.7195413282369804\n"
     ]
    }
   ],
   "source": [
    "# predict val\n",
    "y_val_hat = pd.DataFrame(autoenc.get_similarity(model, data.x, data.train_pos_edges, data.val_edges))\n",
    "y_val_hat = (y_val_hat\n",
    "    .rename(columns = {0: \"sim\"})\n",
    "    .assign(y = trainval_tf.loc[trainval_tf.val_mask == True].y.values)\n",
    "    .assign(pred = lambda df_: (df_.sim > df_.sim.median()).astype(int))\n",
    ")\n",
    "print(\"ROC: \", roc_auc_score(y_val_hat.y, y_val_hat.sim))\n",
    "print(\"Acc: \", accuracy_score(y_val_hat.y, y_val_hat.pred))"
   ]
  },
  {
   "cell_type": "code",
   "execution_count": 21,
   "id": "4f8461a8",
   "metadata": {},
   "outputs": [],
   "source": [
    "tmp = (val_tf\n",
    "    .assign(sim  = y_val_hat.pred.values)\n",
    "    .assign(dist = lambda df_: [np.linalg.norm(node_emb.loc[u].values-node_emb.loc[v].values) for u, v in zip(df_.node1, df_.node2)])\n",
    ")"
   ]
  },
  {
   "cell_type": "code",
   "execution_count": 22,
   "id": "ca8db459",
   "metadata": {},
   "outputs": [
    {
     "data": {
      "text/plain": [
       "<seaborn.axisgrid.PairGrid at 0x2907bf7e8f0>"
      ]
     },
     "execution_count": 22,
     "metadata": {},
     "output_type": "execute_result"
    },
    {
     "data": {
      "image/png": "[encoded data removed]",
      "text/plain": [
       "<Figure size 547x500 with 6 Axes>"
      ]
     },
     "metadata": {},
     "output_type": "display_data"
    }
   ],
   "source": [
    "sns.pairplot(tmp[[\"sim\", \"dist\", \"y\"]], hue = \"y\")"
   ]
  },
  {
   "cell_type": "code",
   "execution_count": 23,
   "id": "4efe1fbc",
   "metadata": {},
   "outputs": [
    {
     "data": {
      "text/html": [
       "<div>\n",
       "<style scoped>\n",
       "    .dataframe tbody tr th:only-of-type {\n",
       "        vertical-align: middle;\n",
       "    }\n",
       "\n",
       "    .dataframe tbody tr th {\n",
       "        vertical-align: top;\n",
       "    }\n",
       "\n",
       "    .dataframe thead th {\n",
       "        text-align: right;\n",
       "    }\n",
       "</style>\n",
       "<table border=\"1\" class=\"dataframe\">\n",
       "  <thead>\n",
       "    <tr style=\"text-align: right;\">\n",
       "      <th></th>\n",
       "      <th>node1</th>\n",
       "      <th>node2</th>\n",
       "      <th>y</th>\n",
       "      <th>sim</th>\n",
       "      <th>dist</th>\n",
       "    </tr>\n",
       "  </thead>\n",
       "  <tbody>\n",
       "    <tr>\n",
       "      <th>node1</th>\n",
       "      <td>1.000000</td>\n",
       "      <td>0.493127</td>\n",
       "      <td>0.036595</td>\n",
       "      <td>0.267447</td>\n",
       "      <td>-0.002811</td>\n",
       "    </tr>\n",
       "    <tr>\n",
       "      <th>node2</th>\n",
       "      <td>0.493127</td>\n",
       "      <td>1.000000</td>\n",
       "      <td>0.059586</td>\n",
       "      <td>0.329002</td>\n",
       "      <td>-0.036501</td>\n",
       "    </tr>\n",
       "    <tr>\n",
       "      <th>y</th>\n",
       "      <td>0.036595</td>\n",
       "      <td>0.059586</td>\n",
       "      <td>1.000000</td>\n",
       "      <td>0.439084</td>\n",
       "      <td>0.116431</td>\n",
       "    </tr>\n",
       "    <tr>\n",
       "      <th>sim</th>\n",
       "      <td>0.267447</td>\n",
       "      <td>0.329002</td>\n",
       "      <td>0.439084</td>\n",
       "      <td>1.000000</td>\n",
       "      <td>0.155171</td>\n",
       "    </tr>\n",
       "    <tr>\n",
       "      <th>dist</th>\n",
       "      <td>-0.002811</td>\n",
       "      <td>-0.036501</td>\n",
       "      <td>0.116431</td>\n",
       "      <td>0.155171</td>\n",
       "      <td>1.000000</td>\n",
       "    </tr>\n",
       "  </tbody>\n",
       "</table>\n",
       "</div>"
      ],
      "text/plain": [
       "          node1     node2         y       sim      dist\n",
       "node1  1.000000  0.493127  0.036595  0.267447 -0.002811\n",
       "node2  0.493127  1.000000  0.059586  0.329002 -0.036501\n",
       "y      0.036595  0.059586  1.000000  0.439084  0.116431\n",
       "sim    0.267447  0.329002  0.439084  1.000000  0.155171\n",
       "dist  -0.002811 -0.036501  0.116431  0.155171  1.000000"
      ]
     },
     "execution_count": 23,
     "metadata": {},
     "output_type": "execute_result"
    }
   ],
   "source": [
    "tmp.corr()"
   ]
  },
  {
   "cell_type": "code",
   "execution_count": 24,
   "id": "d3fe8363",
   "metadata": {},
   "outputs": [
    {
     "data": {
      "text/plain": [
       "pred\n",
       "0       1741\n",
       "1       1740\n",
       "dtype: int64"
      ]
     },
     "execution_count": 24,
     "metadata": {},
     "output_type": "execute_result"
    }
   ],
   "source": [
    "# predict test\n",
    "y_test_hat = pd.DataFrame(autoenc.get_similarity(model, data.x, data.trainval_pos_edges, data.test_edges))\n",
    "y_test_hat = (y_test_hat\n",
    "    .rename(columns = {0: \"sim\"})\n",
    "    .assign(pred = lambda df_: (df_.sim > df_.sim.median()).astype(int))\n",
    ")\n",
    "y_test_hat[[\"pred\"]].value_counts()"
   ]
  },
  {
   "cell_type": "markdown",
   "id": "0bc9b2f2",
   "metadata": {},
   "source": [
    "### X. Code Graveyard"
   ]
  },
  {
   "cell_type": "markdown",
   "id": "fcd0ca52",
   "metadata": {},
   "source": [
    "previous code without functions"
   ]
  },
  {
   "cell_type": "code",
   "execution_count": 16,
   "id": "1033df7f",
   "metadata": {},
   "outputs": [],
   "source": [
    "dev = torch.device('cuda' if torch.cuda.is_available() else 'cpu')\n",
    "channels = 2\n",
    "model = VGAE(deep.Encoder(data.x.size()[1], channels)).to(dev)"
   ]
  },
  {
   "cell_type": "code",
   "execution_count": 17,
   "id": "8244ca4f",
   "metadata": {},
   "outputs": [],
   "source": [
    "x, train_pos_edges, train_neg_edges = data.x.to(dev), data.train_pos_edges.to(dev), data.train_neg_edges.to(dev)\n",
    "val_pos_edges, val_neg_edges = data.val_pos_edges.to(dev), data.val_neg_edges.to(dev)\n",
    "val_edges = data.val_edges.to(dev)\n",
    "optimizer = torch.optim.Adam(model.parameters(), lr=5e-6, weight_decay = 0.1)"
   ]
  },
  {
   "cell_type": "code",
   "execution_count": 20,
   "id": "9e7093ae",
   "metadata": {},
   "outputs": [],
   "source": [
    "def train():\n",
    "    model.train()\n",
    "    optimizer.zero_grad()\n",
    "    z  = model.encode(x, train_pos_edges)\n",
    "    loss = model.recon_loss(z, train_pos_edges, train_neg_edges)\n",
    "    loss = loss + (1 / data.num_nodes) * model.kl_loss()\n",
    "    loss.backward()\n",
    "    optimizer.step()\n",
    "    auc, ap = validate(data.train_pos_edges, data.train_neg_edges)\n",
    "    return loss, auc, ap\n",
    "\n",
    "def validate(val_pos_edges, val_neg_edges):\n",
    "    model.eval()\n",
    "    with torch.no_grad():\n",
    "        z = model.encode(x, train_pos_edges)\n",
    "    return model.test(z, val_pos_edges, val_neg_edges)\n",
    "\n",
    "def predict(edges):\n",
    "    model.eval()\n",
    "    with torch.no_grad():\n",
    "        z = model.encode(x, train_pos_edges)\n",
    "    pred = model.decoder(z, edges, sigmoid = True)\n",
    "    return pred.detach().cpu().numpy()\n",
    "\n",
    "def get_embeddings():\n",
    "    return model.encode(x, train_pos_edges).detach().cpu().numpy()"
   ]
  },
  {
   "cell_type": "code",
   "execution_count": 21,
   "id": "c3ce9d69",
   "metadata": {
    "scrolled": true
   },
   "outputs": [
    {
     "name": "stdout",
     "output_type": "stream",
     "text": [
      "Epoch: 001, LOSS: 3.9292, Trn AUC: 0.7867, Val AUC: 0.7420, Val AP: 0.7823\n",
      "Epoch: 002, LOSS: 4.0428, Trn AUC: 0.7866, Val AUC: 0.7420, Val AP: 0.7822\n",
      "Epoch: 003, LOSS: 3.9016, Trn AUC: 0.7866, Val AUC: 0.7419, Val AP: 0.7822\n",
      "Epoch: 004, LOSS: 4.0921, Trn AUC: 0.7865, Val AUC: 0.7419, Val AP: 0.7821\n",
      "Epoch: 005, LOSS: 4.0718, Trn AUC: 0.7865, Val AUC: 0.7418, Val AP: 0.7820\n",
      "Epoch: 006, LOSS: 3.9491, Trn AUC: 0.7864, Val AUC: 0.7417, Val AP: 0.7819\n",
      "Epoch: 007, LOSS: 3.9936, Trn AUC: 0.7864, Val AUC: 0.7417, Val AP: 0.7819\n",
      "Epoch: 008, LOSS: 3.9383, Trn AUC: 0.7863, Val AUC: 0.7416, Val AP: 0.7818\n",
      "Epoch: 009, LOSS: 4.0555, Trn AUC: 0.7863, Val AUC: 0.7415, Val AP: 0.7817\n",
      "Epoch: 010, LOSS: 4.1547, Trn AUC: 0.7862, Val AUC: 0.7414, Val AP: 0.7817\n",
      "Epoch: 011, LOSS: 3.9986, Trn AUC: 0.7862, Val AUC: 0.7413, Val AP: 0.7816\n",
      "Epoch: 012, LOSS: 3.9577, Trn AUC: 0.7861, Val AUC: 0.7412, Val AP: 0.7815\n",
      "Epoch: 013, LOSS: 3.9537, Trn AUC: 0.7860, Val AUC: 0.7412, Val AP: 0.7815\n",
      "Epoch: 014, LOSS: 3.9163, Trn AUC: 0.7860, Val AUC: 0.7411, Val AP: 0.7814\n",
      "Epoch: 015, LOSS: 3.9470, Trn AUC: 0.7859, Val AUC: 0.7411, Val AP: 0.7814\n",
      "Epoch: 016, LOSS: 3.8742, Trn AUC: 0.7859, Val AUC: 0.7410, Val AP: 0.7813\n",
      "Epoch: 017, LOSS: 3.9585, Trn AUC: 0.7858, Val AUC: 0.7408, Val AP: 0.7812\n",
      "Epoch: 018, LOSS: 3.9861, Trn AUC: 0.7858, Val AUC: 0.7407, Val AP: 0.7811\n",
      "Epoch: 019, LOSS: 4.0642, Trn AUC: 0.7857, Val AUC: 0.7406, Val AP: 0.7810\n",
      "Epoch: 020, LOSS: 4.0967, Trn AUC: 0.7857, Val AUC: 0.7405, Val AP: 0.7809\n",
      "Epoch: 021, LOSS: 3.8901, Trn AUC: 0.7856, Val AUC: 0.7404, Val AP: 0.7808\n",
      "Epoch: 022, LOSS: 3.9130, Trn AUC: 0.7855, Val AUC: 0.7403, Val AP: 0.7807\n",
      "Epoch: 023, LOSS: 3.8738, Trn AUC: 0.7855, Val AUC: 0.7402, Val AP: 0.7806\n",
      "Epoch: 024, LOSS: 3.9452, Trn AUC: 0.7854, Val AUC: 0.7400, Val AP: 0.7805\n",
      "Epoch: 025, LOSS: 3.7779, Trn AUC: 0.7853, Val AUC: 0.7399, Val AP: 0.7804\n",
      "Epoch: 026, LOSS: 3.8455, Trn AUC: 0.7853, Val AUC: 0.7398, Val AP: 0.7804\n",
      "Epoch: 027, LOSS: 3.9365, Trn AUC: 0.7852, Val AUC: 0.7397, Val AP: 0.7803\n",
      "Epoch: 028, LOSS: 3.9671, Trn AUC: 0.7851, Val AUC: 0.7396, Val AP: 0.7803\n",
      "Epoch: 029, LOSS: 3.9802, Trn AUC: 0.7851, Val AUC: 0.7395, Val AP: 0.7802\n",
      "Epoch: 030, LOSS: 3.9479, Trn AUC: 0.7850, Val AUC: 0.7395, Val AP: 0.7802\n",
      "Epoch: 031, LOSS: 3.7708, Trn AUC: 0.7849, Val AUC: 0.7394, Val AP: 0.7801\n",
      "Epoch: 032, LOSS: 3.9010, Trn AUC: 0.7849, Val AUC: 0.7392, Val AP: 0.7799\n",
      "Epoch: 033, LOSS: 3.9109, Trn AUC: 0.7848, Val AUC: 0.7391, Val AP: 0.7799\n",
      "Epoch: 034, LOSS: 3.9829, Trn AUC: 0.7847, Val AUC: 0.7391, Val AP: 0.7798\n",
      "Epoch: 035, LOSS: 3.9157, Trn AUC: 0.7847, Val AUC: 0.7390, Val AP: 0.7797\n",
      "Epoch: 036, LOSS: 3.9348, Trn AUC: 0.7846, Val AUC: 0.7389, Val AP: 0.7796\n",
      "Epoch: 037, LOSS: 3.8777, Trn AUC: 0.7845, Val AUC: 0.7388, Val AP: 0.7796\n",
      "Epoch: 038, LOSS: 3.9834, Trn AUC: 0.7844, Val AUC: 0.7387, Val AP: 0.7795\n",
      "Epoch: 039, LOSS: 4.0129, Trn AUC: 0.7844, Val AUC: 0.7386, Val AP: 0.7794\n",
      "Epoch: 040, LOSS: 3.9674, Trn AUC: 0.7843, Val AUC: 0.7384, Val AP: 0.7793\n",
      "Epoch: 041, LOSS: 3.9687, Trn AUC: 0.7842, Val AUC: 0.7383, Val AP: 0.7792\n",
      "Epoch: 042, LOSS: 4.0611, Trn AUC: 0.7841, Val AUC: 0.7382, Val AP: 0.7792\n",
      "Epoch: 043, LOSS: 3.8320, Trn AUC: 0.7841, Val AUC: 0.7381, Val AP: 0.7791\n",
      "Epoch: 044, LOSS: 3.8177, Trn AUC: 0.7840, Val AUC: 0.7380, Val AP: 0.7790\n",
      "Epoch: 045, LOSS: 4.0509, Trn AUC: 0.7840, Val AUC: 0.7379, Val AP: 0.7789\n",
      "Epoch: 046, LOSS: 3.9215, Trn AUC: 0.7839, Val AUC: 0.7378, Val AP: 0.7788\n",
      "Epoch: 047, LOSS: 3.9217, Trn AUC: 0.7838, Val AUC: 0.7377, Val AP: 0.7787\n",
      "Epoch: 048, LOSS: 4.0176, Trn AUC: 0.7838, Val AUC: 0.7376, Val AP: 0.7786\n",
      "Epoch: 049, LOSS: 3.8782, Trn AUC: 0.7837, Val AUC: 0.7375, Val AP: 0.7786\n"
     ]
    }
   ],
   "source": [
    "for epoch in range(1,50):\n",
    "    loss, trn_auc, trn_ap = train()\n",
    "    loss = float(loss)\n",
    "    \n",
    "    with torch.no_grad():\n",
    "        auc, ap = validate(data.val_pos_edges, data.val_neg_edges)\n",
    "        print('Epoch: {:03d}, LOSS: {:.4f}, Trn AUC: {:.4f}, Val AUC: {:.4f}, Val AP: {:.4f}'.format(epoch, loss, trn_auc, auc, ap))"
   ]
  },
  {
   "cell_type": "code",
   "execution_count": 14,
   "id": "0957c258",
   "metadata": {},
   "outputs": [
    {
     "ename": "NameError",
     "evalue": "name 'trainval_tf' is not defined",
     "output_type": "error",
     "traceback": [
      "\u001b[1;31m---------------------------------------------------------------------------\u001b[0m",
      "\u001b[1;31mNameError\u001b[0m                                 Traceback (most recent call last)",
      "Cell \u001b[1;32mIn [14], line 6\u001b[0m\n\u001b[0;32m      2\u001b[0m train_edges \u001b[38;5;241m=\u001b[39m data\u001b[38;5;241m.\u001b[39mtrain_edges\u001b[38;5;241m.\u001b[39mto(dev)\n\u001b[0;32m      3\u001b[0m y_train_hat \u001b[38;5;241m=\u001b[39m pd\u001b[38;5;241m.\u001b[39mDataFrame(predict(train_edges))\n\u001b[0;32m      4\u001b[0m y_train_hat \u001b[38;5;241m=\u001b[39m (y_train_hat\n\u001b[0;32m      5\u001b[0m     \u001b[38;5;241m.\u001b[39mrename(columns \u001b[38;5;241m=\u001b[39m {\u001b[38;5;241m0\u001b[39m: \u001b[38;5;124m\"\u001b[39m\u001b[38;5;124mpred\u001b[39m\u001b[38;5;124m\"\u001b[39m})\n\u001b[1;32m----> 6\u001b[0m     \u001b[38;5;241m.\u001b[39massign(y \u001b[38;5;241m=\u001b[39m \u001b[43mtrainval_tf\u001b[49m\u001b[38;5;241m.\u001b[39mloc[trainval_tf\u001b[38;5;241m.\u001b[39mtrain_mask \u001b[38;5;241m==\u001b[39m \u001b[38;5;28;01mTrue\u001b[39;00m]\u001b[38;5;241m.\u001b[39my\u001b[38;5;241m.\u001b[39mvalues)\n\u001b[0;32m      7\u001b[0m     \u001b[38;5;241m.\u001b[39massign(bin_pred \u001b[38;5;241m=\u001b[39m \u001b[38;5;28;01mlambda\u001b[39;00m df_: (df_\u001b[38;5;241m.\u001b[39mpred \u001b[38;5;241m>\u001b[39m df_\u001b[38;5;241m.\u001b[39mpred\u001b[38;5;241m.\u001b[39mmedian())\u001b[38;5;241m.\u001b[39mastype(\u001b[38;5;28mint\u001b[39m))\n\u001b[0;32m      8\u001b[0m )\n",
      "\u001b[1;31mNameError\u001b[0m: name 'trainval_tf' is not defined"
     ]
    }
   ],
   "source": [
    "# predict train\n",
    "train_edges = data.train_edges.to(dev)\n",
    "y_train_hat = pd.DataFrame(predict(train_edges))\n",
    "y_train_hat = (y_train_hat\n",
    "    .rename(columns = {0: \"pred\"})\n",
    "    .assign(y = trainval_tf.loc[trainval_tf.train_mask == True].y.values)\n",
    "    .assign(bin_pred = lambda df_: (df_.pred > df_.pred.median()).astype(int))\n",
    ")"
   ]
  },
  {
   "cell_type": "code",
   "execution_count": null,
   "id": "14fd010b",
   "metadata": {},
   "outputs": [],
   "source": [
    "from sklearn.metrics import average_precision_score, roc_auc_score\n",
    "print(\"ROC: \", roc_auc_score(y_train_hat.y, y_train_hat.pred))\n",
    "print(\"Acc: \", accuracy_score(y_train_hat.y, y_train_hat.bin_pred))"
   ]
  },
  {
   "cell_type": "code",
   "execution_count": 625,
   "id": "5517033e",
   "metadata": {},
   "outputs": [],
   "source": [
    "# predict val\n",
    "val_edges = data.val_edges.to(dev)\n",
    "y_val_hat = pd.DataFrame(predict(val_edges))\n",
    "y_val_hat = (y_val_hat\n",
    "    .rename(columns = {0: \"pred\"})\n",
    "    .assign(y = trainval_tf.loc[trainval_tf.val_mask == True].y.values)\n",
    "    .assign(bin_pred = lambda df_: (df_.pred > df_.pred.median()).astype(int))\n",
    ")"
   ]
  },
  {
   "cell_type": "code",
   "execution_count": 626,
   "id": "53695ad8",
   "metadata": {
    "scrolled": true
   },
   "outputs": [
    {
     "name": "stdout",
     "output_type": "stream",
     "text": [
      "ROC:  0.7690234214491166\n",
      "Acc:  0.7185857620640229\n"
     ]
    }
   ],
   "source": [
    "from sklearn.metrics import average_precision_score, roc_auc_score\n",
    "print(\"ROC: \", roc_auc_score(y_val_hat.y, y_val_hat.pred))\n",
    "print(\"Acc: \", accuracy_score(y_val_hat.y, y_val_hat.bin_pred))"
   ]
  },
  {
   "cell_type": "code",
   "execution_count": 661,
   "id": "e26606bc",
   "metadata": {},
   "outputs": [
    {
     "data": {
      "text/plain": [
       "bin_pred\n",
       "0           1741\n",
       "1           1740\n",
       "dtype: int64"
      ]
     },
     "execution_count": 661,
     "metadata": {},
     "output_type": "execute_result"
    }
   ],
   "source": [
    "# predict test\n",
    "test_edges = data.test_edges.to(dev)\n",
    "y_test_hat = pd.DataFrame(predict(test_edges))\n",
    "y_test_hat = (y_test_hat\n",
    "    .rename(columns = {0: \"pred\"})\n",
    "    .assign(bin_pred = lambda df_: (df_.pred > df_.pred.median()).astype(int))\n",
    ")\n",
    "y_test_hat[[\"bin_pred\"]].value_counts()"
   ]
  },
  {
   "cell_type": "code",
   "execution_count": 628,
   "id": "97f5a77a",
   "metadata": {},
   "outputs": [],
   "source": [
    "# get embeddings\n",
    "embedding = get_embeddings()"
   ]
  },
  {
   "cell_type": "code",
   "execution_count": 629,
   "id": "ff31215f",
   "metadata": {
    "scrolled": true
   },
   "outputs": [
    {
     "data": {
      "text/plain": [
       "Text(0.5, 1.0, 'UMAP projection (first 2 dim) of Node information')"
      ]
     },
     "execution_count": 629,
     "metadata": {},
     "output_type": "execute_result"
    },
    {
     "data": {
      "image/png": "[encoded data removed]",
      "text/plain": [
       "<Figure size 640x480 with 1 Axes>"
      ]
     },
     "metadata": {},
     "output_type": "display_data"
    }
   ],
   "source": [
    "# plot umap embedding of nodes\n",
    "plt.scatter(\n",
    "    embedding[:, 0],\n",
    "    embedding[:, 1])\n",
    "plt.gca().set_aspect('equal', 'datalim')\n",
    "plt.title('UMAP projection (first 2 dim) of Node information')"
   ]
  },
  {
   "cell_type": "markdown",
   "id": "cafe8feb",
   "metadata": {},
   "source": [
    "same as above but using dataset from https://github.com/SeongJinAhn/VGNAE/blob/main/main.py to validate"
   ]
  },
  {
   "cell_type": "code",
   "execution_count": 19,
   "id": "aef1199c",
   "metadata": {},
   "outputs": [],
   "source": [
    "from torch_geometric.utils import train_test_split_edges\n",
    "from torch_geometric.datasets import Planetoid, Coauthor, Amazon\n",
    "dataset = Planetoid(\"cora\", \"Cora\", 'public')\n",
    "data = dataset[0]\n",
    "data = T.NormalizeFeatures()(data)"
   ]
  },
  {
   "cell_type": "code",
   "execution_count": 20,
   "id": "8ff41cd3",
   "metadata": {},
   "outputs": [
    {
     "name": "stderr",
     "output_type": "stream",
     "text": [
      "C:\\Users\\lasse\\AppData\\Local\\Programs\\Python\\Python310\\lib\\site-packages\\torch_geometric\\deprecation.py:12: UserWarning: 'train_test_split_edges' is deprecated, use 'transforms.RandomLinkSplit' instead\n",
      "  warnings.warn(out)\n"
     ]
    }
   ],
   "source": [
    "dev = torch.device('cuda' if torch.cuda.is_available() else 'cpu')\n",
    "channels = 128\n",
    "train_rate = 0.8\n",
    "val_ratio = 0.2 / 3\n",
    "test_ratio = 0.2 / 3 * 2\n",
    "data = train_test_split_edges(data.to(dev), val_ratio=val_ratio, test_ratio=test_ratio)"
   ]
  },
  {
   "cell_type": "code",
   "execution_count": 21,
   "id": "a99e01ca",
   "metadata": {},
   "outputs": [],
   "source": [
    "model = VGAE(Encoder(data.x.size()[1], channels, data.train_pos_edge_index)).to(dev)"
   ]
  },
  {
   "cell_type": "code",
   "execution_count": 15,
   "id": "44b1d62d",
   "metadata": {},
   "outputs": [],
   "source": [
    "data.train_mask = data.val_mask = data.test_mask = data.y = None\n",
    "x, train_pos_edge_index = data.x.to(dev), data.train_pos_edge_index.to(dev)\n",
    "optimizer = torch.optim.Adam(model.parameters(), lr=0.005)"
   ]
  },
  {
   "cell_type": "code",
   "execution_count": 16,
   "id": "09c22ffd",
   "metadata": {},
   "outputs": [],
   "source": [
    "def train():\n",
    "    model.train()\n",
    "    optimizer.zero_grad()\n",
    "    z  = model.encode(x, train_pos_edge_index)\n",
    "    loss = model.recon_loss(z, train_pos_edge_index)\n",
    "    loss = loss + (1 / data.num_nodes) * model.kl_loss()\n",
    "    loss.backward()\n",
    "    optimizer.step()\n",
    "    return loss\n",
    "\n",
    "def test(pos_edge_index, neg_edge_index, plot_his=0):\n",
    "    model.eval()\n",
    "    with torch.no_grad():\n",
    "        z = model.encode(x, train_pos_edge_index)\n",
    "    return model.test(z, pos_edge_index, neg_edge_index)"
   ]
  },
  {
   "cell_type": "code",
   "execution_count": 17,
   "id": "c6722894",
   "metadata": {
    "scrolled": true
   },
   "outputs": [
    {
     "name": "stdout",
     "output_type": "stream",
     "text": [
      "Epoch: 001, LOSS: 10.5961, AUC: 0.6936, AP: 0.7234\n",
      "Epoch: 002, LOSS: 10.3247, AUC: 0.6953, AP: 0.7248\n",
      "Epoch: 003, LOSS: 10.2399, AUC: 0.6970, AP: 0.7261\n",
      "Epoch: 004, LOSS: 9.8528, AUC: 0.6987, AP: 0.7274\n",
      "Epoch: 005, LOSS: 9.8399, AUC: 0.7007, AP: 0.7289\n",
      "Epoch: 006, LOSS: 9.4896, AUC: 0.7026, AP: 0.7303\n",
      "Epoch: 007, LOSS: 9.3072, AUC: 0.7048, AP: 0.7319\n",
      "Epoch: 008, LOSS: 9.2995, AUC: 0.7072, AP: 0.7337\n",
      "Epoch: 009, LOSS: 8.8477, AUC: 0.7100, AP: 0.7358\n",
      "Epoch: 010, LOSS: 9.0528, AUC: 0.7135, AP: 0.7383\n",
      "Epoch: 011, LOSS: 8.7333, AUC: 0.7177, AP: 0.7414\n",
      "Epoch: 012, LOSS: 8.5690, AUC: 0.7231, AP: 0.7454\n",
      "Epoch: 013, LOSS: 8.3032, AUC: 0.7302, AP: 0.7509\n",
      "Epoch: 014, LOSS: 8.1966, AUC: 0.7396, AP: 0.7583\n",
      "Epoch: 015, LOSS: 8.0069, AUC: 0.7523, AP: 0.7680\n",
      "Epoch: 016, LOSS: 7.8474, AUC: 0.7706, AP: 0.7826\n",
      "Epoch: 017, LOSS: 7.6897, AUC: 0.7985, AP: 0.8053\n",
      "Epoch: 018, LOSS: 7.4065, AUC: 0.8373, AP: 0.8390\n",
      "Epoch: 019, LOSS: 7.1321, AUC: 0.8854, AP: 0.8849\n",
      "Epoch: 020, LOSS: 6.6308, AUC: 0.9218, AP: 0.9214\n",
      "Epoch: 021, LOSS: 6.4614, AUC: 0.9316, AP: 0.9300\n",
      "Epoch: 022, LOSS: 6.2725, AUC: 0.9259, AP: 0.9244\n",
      "Epoch: 023, LOSS: 6.1748, AUC: 0.9160, AP: 0.9147\n",
      "Epoch: 024, LOSS: 6.0583, AUC: 0.9108, AP: 0.9094\n",
      "Epoch: 025, LOSS: 6.1077, AUC: 0.9121, AP: 0.9103\n",
      "Epoch: 026, LOSS: 5.9216, AUC: 0.9190, AP: 0.9171\n",
      "Epoch: 027, LOSS: 5.8284, AUC: 0.9268, AP: 0.9246\n",
      "Epoch: 028, LOSS: 5.5849, AUC: 0.9338, AP: 0.9312\n",
      "Epoch: 029, LOSS: 5.3018, AUC: 0.9380, AP: 0.9353\n",
      "Epoch: 030, LOSS: 5.1063, AUC: 0.9397, AP: 0.9370\n",
      "Epoch: 031, LOSS: 5.1621, AUC: 0.9399, AP: 0.9373\n",
      "Epoch: 032, LOSS: 4.8998, AUC: 0.9393, AP: 0.9367\n",
      "Epoch: 033, LOSS: 4.8908, AUC: 0.9385, AP: 0.9358\n",
      "Epoch: 034, LOSS: 4.8584, AUC: 0.9378, AP: 0.9352\n",
      "Epoch: 035, LOSS: 4.7664, AUC: 0.9375, AP: 0.9347\n",
      "Epoch: 036, LOSS: 4.5467, AUC: 0.9374, AP: 0.9346\n",
      "Epoch: 037, LOSS: 4.5294, AUC: 0.9375, AP: 0.9346\n",
      "Epoch: 038, LOSS: 4.4306, AUC: 0.9373, AP: 0.9345\n",
      "Epoch: 039, LOSS: 4.3968, AUC: 0.9367, AP: 0.9340\n",
      "Epoch: 040, LOSS: 4.2629, AUC: 0.9362, AP: 0.9337\n",
      "Epoch: 041, LOSS: 4.2510, AUC: 0.9358, AP: 0.9334\n",
      "Epoch: 042, LOSS: 4.0485, AUC: 0.9354, AP: 0.9331\n",
      "Epoch: 043, LOSS: 3.9643, AUC: 0.9352, AP: 0.9327\n",
      "Epoch: 044, LOSS: 4.0187, AUC: 0.9349, AP: 0.9325\n",
      "Epoch: 045, LOSS: 3.8997, AUC: 0.9349, AP: 0.9324\n",
      "Epoch: 046, LOSS: 3.7900, AUC: 0.9347, AP: 0.9321\n",
      "Epoch: 047, LOSS: 3.7888, AUC: 0.9344, AP: 0.9319\n",
      "Epoch: 048, LOSS: 3.7314, AUC: 0.9342, AP: 0.9316\n",
      "Epoch: 049, LOSS: 3.7326, AUC: 0.9339, AP: 0.9314\n",
      "Epoch: 050, LOSS: 3.6046, AUC: 0.9337, AP: 0.9312\n",
      "Epoch: 051, LOSS: 3.5603, AUC: 0.9334, AP: 0.9309\n",
      "Epoch: 052, LOSS: 3.5334, AUC: 0.9331, AP: 0.9308\n",
      "Epoch: 053, LOSS: 3.4985, AUC: 0.9328, AP: 0.9305\n",
      "Epoch: 054, LOSS: 3.3517, AUC: 0.9326, AP: 0.9305\n",
      "Epoch: 055, LOSS: 3.3214, AUC: 0.9327, AP: 0.9306\n",
      "Epoch: 056, LOSS: 3.2342, AUC: 0.9331, AP: 0.9309\n",
      "Epoch: 057, LOSS: 3.2239, AUC: 0.9335, AP: 0.9313\n",
      "Epoch: 058, LOSS: 3.1875, AUC: 0.9339, AP: 0.9315\n",
      "Epoch: 059, LOSS: 3.2067, AUC: 0.9339, AP: 0.9314\n",
      "Epoch: 060, LOSS: 3.0782, AUC: 0.9339, AP: 0.9314\n",
      "Epoch: 061, LOSS: 3.1631, AUC: 0.9337, AP: 0.9312\n",
      "Epoch: 062, LOSS: 3.0992, AUC: 0.9333, AP: 0.9310\n",
      "Epoch: 063, LOSS: 3.0374, AUC: 0.9331, AP: 0.9308\n",
      "Epoch: 064, LOSS: 3.0187, AUC: 0.9327, AP: 0.9303\n",
      "Epoch: 065, LOSS: 3.0211, AUC: 0.9323, AP: 0.9299\n",
      "Epoch: 066, LOSS: 2.8766, AUC: 0.9320, AP: 0.9297\n",
      "Epoch: 067, LOSS: 2.8248, AUC: 0.9319, AP: 0.9295\n",
      "Epoch: 068, LOSS: 2.8406, AUC: 0.9318, AP: 0.9294\n",
      "Epoch: 069, LOSS: 2.7971, AUC: 0.9319, AP: 0.9294\n",
      "Epoch: 070, LOSS: 2.7583, AUC: 0.9321, AP: 0.9296\n",
      "Epoch: 071, LOSS: 2.7692, AUC: 0.9325, AP: 0.9300\n",
      "Epoch: 072, LOSS: 2.7319, AUC: 0.9329, AP: 0.9303\n",
      "Epoch: 073, LOSS: 2.6758, AUC: 0.9333, AP: 0.9306\n",
      "Epoch: 074, LOSS: 2.6619, AUC: 0.9335, AP: 0.9307\n",
      "Epoch: 075, LOSS: 2.6653, AUC: 0.9338, AP: 0.9309\n",
      "Epoch: 076, LOSS: 2.7131, AUC: 0.9339, AP: 0.9309\n",
      "Epoch: 077, LOSS: 2.6037, AUC: 0.9340, AP: 0.9310\n",
      "Epoch: 078, LOSS: 2.5990, AUC: 0.9340, AP: 0.9310\n",
      "Epoch: 079, LOSS: 2.5168, AUC: 0.9339, AP: 0.9309\n",
      "Epoch: 080, LOSS: 2.5387, AUC: 0.9338, AP: 0.9309\n",
      "Epoch: 081, LOSS: 2.5460, AUC: 0.9336, AP: 0.9308\n",
      "Epoch: 082, LOSS: 2.4774, AUC: 0.9336, AP: 0.9308\n",
      "Epoch: 083, LOSS: 2.4404, AUC: 0.9334, AP: 0.9308\n",
      "Epoch: 084, LOSS: 2.3968, AUC: 0.9333, AP: 0.9307\n",
      "Epoch: 085, LOSS: 2.3907, AUC: 0.9335, AP: 0.9308\n",
      "Epoch: 086, LOSS: 2.3399, AUC: 0.9337, AP: 0.9309\n",
      "Epoch: 087, LOSS: 2.3722, AUC: 0.9341, AP: 0.9313\n",
      "Epoch: 088, LOSS: 2.3962, AUC: 0.9345, AP: 0.9316\n",
      "Epoch: 089, LOSS: 2.3140, AUC: 0.9348, AP: 0.9319\n",
      "Epoch: 090, LOSS: 2.2998, AUC: 0.9351, AP: 0.9322\n",
      "Epoch: 091, LOSS: 2.2985, AUC: 0.9353, AP: 0.9324\n",
      "Epoch: 092, LOSS: 2.2486, AUC: 0.9356, AP: 0.9326\n",
      "Epoch: 093, LOSS: 2.3051, AUC: 0.9357, AP: 0.9326\n",
      "Epoch: 094, LOSS: 2.2380, AUC: 0.9357, AP: 0.9328\n",
      "Epoch: 095, LOSS: 2.1883, AUC: 0.9356, AP: 0.9327\n",
      "Epoch: 096, LOSS: 2.1566, AUC: 0.9355, AP: 0.9326\n",
      "Epoch: 097, LOSS: 2.1877, AUC: 0.9355, AP: 0.9328\n",
      "Epoch: 098, LOSS: 2.1536, AUC: 0.9354, AP: 0.9327\n",
      "Epoch: 099, LOSS: 2.0871, AUC: 0.9354, AP: 0.9328\n"
     ]
    }
   ],
   "source": [
    "for epoch in range(1,100):\n",
    "    loss = train()\n",
    "    loss = float(loss)\n",
    "    \n",
    "    with torch.no_grad():\n",
    "        test_pos, test_neg = data.test_pos_edge_index, data.test_neg_edge_index\n",
    "        auc, ap = test(data.test_pos_edge_index, data.test_neg_edge_index)\n",
    "        print('Epoch: {:03d}, LOSS: {:.4f}, AUC: {:.4f}, AP: {:.4f}'.format(epoch, loss, auc, ap))"
   ]
  }
 ],
 "metadata": {
  "kernelspec": {
   "display_name": "Python 3 (ipykernel)",
   "language": "python",
   "name": "python3"
  },
  "language_info": {
   "codemirror_mode": {
    "name": "ipython",
    "version": 3
   },
   "file_extension": ".py",
   "mimetype": "text/x-python",
   "name": "python",
   "nbconvert_exporter": "python",
   "pygments_lexer": "ipython3",
   "version": "3.10.8"
  }
 },
 "nbformat": 4,
 "nbformat_minor": 5
}
