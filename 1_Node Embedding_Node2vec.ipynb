{
 "cells": [
  {
   "cell_type": "markdown",
   "id": "ca3f9796",
   "metadata": {},
   "source": [
    "# Machine Learning in Network Science\n",
    "Group Challenge\n",
    "\n",
    "***\n",
    "by: Leonardo Basili, Paul Bédier, Lasse Schmidt\n",
    "\n",
    "within: MS Data Sciences & Business Analytics\n",
    "\n",
    "at: CentraleSupélec & ESSEC Business School\n",
    "***"
   ]
  },
  {
   "attachments": {},
   "cell_type": "markdown",
   "id": "3a46be5a",
   "metadata": {},
   "source": [
    "This notebook covers embedding of nodes and edges using Node2vec (as well as its hyperparameter tuning)"
   ]
  },
  {
   "cell_type": "markdown",
   "id": "54f241a1",
   "metadata": {},
   "source": [
    "### 1. Import Packages"
   ]
  },
  {
   "cell_type": "code",
   "execution_count": 86,
   "id": "98e82605",
   "metadata": {},
   "outputs": [
    {
     "data": {
      "text/plain": [
       "<module 'util.node2vec' from 'c:\\\\Users\\\\pbedi\\\\Documents\\\\GitHub\\\\Network-Science_Challenge\\\\util\\\\node2vec.py'>"
      ]
     },
     "execution_count": 86,
     "metadata": {},
     "output_type": "execute_result"
    }
   ],
   "source": [
    "from importlib import reload\n",
    "reload(analyseData)\n",
    "reload(prepData)\n",
    "reload(loadData)\n",
    "reload(modeling)\n",
    "reload(autoenc)\n",
    "reload(n2v)"
   ]
  },
  {
   "cell_type": "code",
   "execution_count": 80,
   "id": "a3ffae4f",
   "metadata": {},
   "outputs": [],
   "source": [
    "# import own scripts\n",
    "import util.analyse_Data as analyseData\n",
    "import util.preprocess_Data as prepData\n",
    "import util.load_Data as loadData\n",
    "import util.modeling as modeling\n",
    "import util.autoencoder as autoenc\n",
    "import util.node2vec as n2v"
   ]
  },
  {
   "cell_type": "code",
   "execution_count": 48,
   "id": "d7c6ba33",
   "metadata": {},
   "outputs": [],
   "source": [
    "# parse & handle data\n",
    "import os\n",
    "import csv\n",
    "import numpy as np\n",
    "import pandas as pd\n",
    "import networkx as nx # graph data\n",
    "\n",
    "# hyperparameter tuning\n",
    "from ray import tune, air\n",
    "from ray.tune import CLIReporter, JupyterNotebookReporter\n",
    "from ray.tune.search.hyperopt import HyperOptSearch\n",
    "from ray.tune.schedulers import ASHAScheduler, MedianStoppingRule, PopulationBasedTraining\n",
    "from ray.tune.stopper import MaximumIterationStopper\n",
    "from ray.tune.experiment.trial import Trial\n",
    "\n",
    "# visualization\n",
    "import matplotlib.pyplot as plt\n",
    "import seaborn as sns\n",
    "\n",
    "# node2vec\n",
    "from node2vec import Node2Vec\n",
    "from node2vec.edges import HadamardEmbedder, AverageEmbedder, WeightedL1Embedder, WeightedL2Embedder\n",
    "\n",
    "# modeling\n",
    "from sklearn.linear_model import LogisticRegressionCV\n",
    "from sklearn.metrics import accuracy_score\n",
    "from sklearn.model_selection import PredefinedSplit"
   ]
  },
  {
   "cell_type": "code",
   "execution_count": 3,
   "id": "c84a352e",
   "metadata": {},
   "outputs": [],
   "source": [
    "# set matplotlib and seaborn settings for nicer plots\n",
    "%matplotlib inline\n",
    "\n",
    "SMALL_SIZE = 6\n",
    "MEDIUM_SIZE = 8\n",
    "BIGGER_SIZE = 10\n",
    "\n",
    "plt.rc('font', size=SMALL_SIZE)          # controls default text sizes\n",
    "plt.rc('axes', titlesize=BIGGER_SIZE)    # fontsize of the axes title\n",
    "plt.rc('axes', labelsize=MEDIUM_SIZE)    # fontsize of the x and y labels\n",
    "plt.rc('xtick', labelsize=SMALL_SIZE)    # fontsize of the tick labels\n",
    "plt.rc('ytick', labelsize=SMALL_SIZE)    # fontsize of the tick labels\n",
    "plt.rc('legend', fontsize=MEDIUM_SIZE)   # legend fontsize\n",
    "plt.rc('figure', titlesize=BIGGER_SIZE)  # fontsize of the figure title"
   ]
  },
  {
   "cell_type": "markdown",
   "id": "74f20e78",
   "metadata": {},
   "source": [
    "### 2. Load Data for Modeling"
   ]
  },
  {
   "cell_type": "code",
   "execution_count": 67,
   "id": "c682248d",
   "metadata": {},
   "outputs": [
    {
     "name": "stdout",
     "output_type": "stream",
     "text": [
      "Number of positive edges for training: 4174\n",
      "Number of positive edges for validation: 1043\n",
      "Number of edges in original graph: 5217\n",
      "Number of edges in training graph: 4174\n",
      "The graph is connected\n"
     ]
    }
   ],
   "source": [
    "# might take up to a minute\n",
    "(G, G_train, node_info,\n",
    " train_tf, val_tf, trainval_tf,\n",
    " test, test_tf) = loadData.load(testing_ratio = 0.2)"
   ]
  },
  {
   "cell_type": "code",
   "execution_count": 5,
   "id": "bb22136a",
   "metadata": {},
   "outputs": [],
   "source": [
    "# where to save trial results to\n",
    "ray_path = os.path.abspath(\"\")+\"\\\\ray_results\\\\\"\n",
    "if not os.path.isdir(ray_path):\n",
    "    os.mkdir(ray_path)"
   ]
  },
  {
   "attachments": {},
   "cell_type": "markdown",
   "id": "5160dd17",
   "metadata": {},
   "source": [
    "### 3. Node2vec Embedding"
   ]
  },
  {
   "attachments": {},
   "cell_type": "markdown",
   "id": "bf4e23ea",
   "metadata": {},
   "source": [
    "#### 3.1 Hyperparameter tuning"
   ]
  },
  {
   "cell_type": "code",
   "execution_count": 7,
   "id": "3a72478c",
   "metadata": {},
   "outputs": [],
   "source": [
    "# tunable hyperparameter search space --> search using tune.choice([]), tune.uniform(lower, upper), tune.grid_search([])\n",
    "config = {\n",
    "    # log params in raytune\n",
    "    \"ray\": True,\n",
    "    \n",
    "    # basic infos\n",
    "    \"model\": \"node2vec\",\n",
    "    \"graph\": G_train,\n",
    "    \"trainval_tf\": trainval_tf,\n",
    "    \"val_tf\": val_tf,\n",
    "    \"trainval_idx\": trainval_tf.index,\n",
    "    \"val_idx\": val_tf.index,\n",
    "    'val_fold': [0 if i in val_tf.index else -1 for i in trainval_tf.index],\n",
    "    \"save\": True, # if we want to save best model on validation set\n",
    "    \n",
    "    ## node2vec\n",
    "    \"dimensions\": tune.grid_search([1, 2, 4]),\n",
    "    \"walk_length\": 80,\n",
    "    \"num_walks\": 10,\n",
    "    \"p\": tune.grid_search([0.25, 0.5, 0.75, 1, 1.25, 1.5]),\n",
    "    \"q\": tune.grid_search([0.25, 0.5, 0.75, 1, 1.25, 1.5]),\n",
    "    \n",
    "    # edge embedding operator\n",
    "    \"operator\": tune.grid_search([HadamardEmbedder, AverageEmbedder, WeightedL1Embedder, WeightedL2Embedder])\n",
    "}"
   ]
  },
  {
   "cell_type": "code",
   "execution_count": 10,
   "id": "992aea67",
   "metadata": {},
   "outputs": [
    {
     "data": {
      "text/html": [
       "<div class=\"tuneStatus\">\n",
       "  <div style=\"display: flex;flex-direction: row\">\n",
       "    <div style=\"display: flex;flex-direction: column;\">\n",
       "      <h3>Tune Status</h3>\n",
       "      <table>\n",
       "<tbody>\n",
       "<tr><td>Current time:</td><td>2023-03-26 08:59:17</td></tr>\n",
       "<tr><td>Running for: </td><td>04:39:14.05        </td></tr>\n",
       "<tr><td>Memory:      </td><td>7.2/7.7 GiB        </td></tr>\n",
       "</tbody>\n",
       "</table>\n",
       "    </div>\n",
       "    <div class=\"vDivider\"></div>\n",
       "    <div class=\"systemInfo\">\n",
       "      <h3>System Info</h3>\n",
       "      Using FIFO scheduling algorithm.<br>Resources requested: 8.0/8 CPUs, 0/0 GPUs, 0.0/0.81 GiB heap, 0.0/0.41 GiB objects\n",
       "    </div>\n",
       "    <div class=\"vDivider\"></div>\n",
       "<div class=\"messages\">\n",
       "  <h3>Messages</h3>\n",
       "  : ***LOW MEMORY*** less than 10% of the memory on this node is available for use. This can cause unexpected crashes. Consider reducing the memory used by your application or reducing the Ray object store size by setting `object_store_memory` when calling `ray.init`.\n",
       "  ... 348 more trials not shown (7 PENDING, 341 TERMINATED)\n",
       "  \n",
       "</div>\n",
       "<style>\n",
       ".messages {\n",
       "  color: var(--jp-ui-font-color1);\n",
       "  display: flex;\n",
       "  flex-direction: column;\n",
       "  padding-left: 1em;\n",
       "  overflow-y: auto;\n",
       "}\n",
       ".messages h3 {\n",
       "  font-weight: bold;\n",
       "}\n",
       ".vDivider {\n",
       "  border-left-width: var(--jp-border-width);\n",
       "  border-left-color: var(--jp-border-color0);\n",
       "  border-left-style: solid;\n",
       "  margin: 0.5em 1em 0.5em 1em;\n",
       "}\n",
       "</style>\n",
       "\n",
       "  </div>\n",
       "  <div class=\"hDivider\"></div>\n",
       "  <div class=\"trialStatus\">\n",
       "    <h3>Trial Status</h3>\n",
       "    <table>\n",
       "<thead>\n",
       "<tr><th>Trial name                      </th><th>status    </th><th>loc            </th><th style=\"text-align: right;\">  dimensions</th><th style=\"text-align: right;\">   p</th><th style=\"text-align: right;\">   q</th><th>operator       </th><th style=\"text-align: right;\">  acc_train</th><th style=\"text-align: right;\">  acc_val</th></tr>\n",
       "</thead>\n",
       "<tbody>\n",
       "<tr><td>node2vec_4_1.5_1.25_b78dc_00350 </td><td>RUNNING   </td><td>127.0.0.1:4072 </td><td style=\"text-align: right;\">           4</td><td style=\"text-align: right;\">1.5 </td><td style=\"text-align: right;\">1.25</td><td>&lt;class &#x27;no_d570</td><td style=\"text-align: right;\">           </td><td style=\"text-align: right;\">         </td></tr>\n",
       "<tr><td>node2vec_1_1.5_1.25_b78dc_00351 </td><td>RUNNING   </td><td>127.0.0.1:22532</td><td style=\"text-align: right;\">           1</td><td style=\"text-align: right;\">1.5 </td><td style=\"text-align: right;\">1.25</td><td>&lt;class &#x27;no_f6a0</td><td style=\"text-align: right;\">           </td><td style=\"text-align: right;\">         </td></tr>\n",
       "<tr><td>node2vec_2_1.5_1.25_b78dc_00352 </td><td>PENDING   </td><td>               </td><td style=\"text-align: right;\">           2</td><td style=\"text-align: right;\">1.5 </td><td style=\"text-align: right;\">1.25</td><td>&lt;class &#x27;no_f6a0</td><td style=\"text-align: right;\">           </td><td style=\"text-align: right;\">         </td></tr>\n",
       "<tr><td>node2vec_4_1.5_1.25_b78dc_00353 </td><td>PENDING   </td><td>               </td><td style=\"text-align: right;\">           4</td><td style=\"text-align: right;\">1.5 </td><td style=\"text-align: right;\">1.25</td><td>&lt;class &#x27;no_f6a0</td><td style=\"text-align: right;\">           </td><td style=\"text-align: right;\">         </td></tr>\n",
       "<tr><td>node2vec_1_1.5_1.25_b78dc_00354 </td><td>PENDING   </td><td>               </td><td style=\"text-align: right;\">           1</td><td style=\"text-align: right;\">1.5 </td><td style=\"text-align: right;\">1.25</td><td>&lt;class &#x27;no_a1d0</td><td style=\"text-align: right;\">           </td><td style=\"text-align: right;\">         </td></tr>\n",
       "<tr><td>node2vec_2_1.5_1.25_b78dc_00355 </td><td>PENDING   </td><td>               </td><td style=\"text-align: right;\">           2</td><td style=\"text-align: right;\">1.5 </td><td style=\"text-align: right;\">1.25</td><td>&lt;class &#x27;no_a1d0</td><td style=\"text-align: right;\">           </td><td style=\"text-align: right;\">         </td></tr>\n",
       "<tr><td>node2vec_4_1.5_1.25_b78dc_00356 </td><td>PENDING   </td><td>               </td><td style=\"text-align: right;\">           4</td><td style=\"text-align: right;\">1.5 </td><td style=\"text-align: right;\">1.25</td><td>&lt;class &#x27;no_a1d0</td><td style=\"text-align: right;\">           </td><td style=\"text-align: right;\">         </td></tr>\n",
       "<tr><td>node2vec_1_1.5_1.25_b78dc_00357 </td><td>PENDING   </td><td>               </td><td style=\"text-align: right;\">           1</td><td style=\"text-align: right;\">1.5 </td><td style=\"text-align: right;\">1.25</td><td>&lt;class &#x27;no_f2f0</td><td style=\"text-align: right;\">           </td><td style=\"text-align: right;\">         </td></tr>\n",
       "<tr><td>node2vec_2_1.5_1.25_b78dc_00358 </td><td>PENDING   </td><td>               </td><td style=\"text-align: right;\">           2</td><td style=\"text-align: right;\">1.5 </td><td style=\"text-align: right;\">1.25</td><td>&lt;class &#x27;no_f2f0</td><td style=\"text-align: right;\">           </td><td style=\"text-align: right;\">         </td></tr>\n",
       "<tr><td>node2vec_4_1.5_1.25_b78dc_00359 </td><td>PENDING   </td><td>               </td><td style=\"text-align: right;\">           4</td><td style=\"text-align: right;\">1.5 </td><td style=\"text-align: right;\">1.25</td><td>&lt;class &#x27;no_f2f0</td><td style=\"text-align: right;\">           </td><td style=\"text-align: right;\">         </td></tr>\n",
       "<tr><td>node2vec_1_0.25_1.5_b78dc_00360 </td><td>PENDING   </td><td>               </td><td style=\"text-align: right;\">           1</td><td style=\"text-align: right;\">0.25</td><td style=\"text-align: right;\">1.5 </td><td>&lt;class &#x27;no_d570</td><td style=\"text-align: right;\">           </td><td style=\"text-align: right;\">         </td></tr>\n",
       "<tr><td>node2vec_1_0.25_0.25_b78dc_00000</td><td>TERMINATED</td><td>127.0.0.1:22532</td><td style=\"text-align: right;\">           1</td><td style=\"text-align: right;\">0.25</td><td style=\"text-align: right;\">0.25</td><td>&lt;class &#x27;no_d570</td><td style=\"text-align: right;\">   0.563497</td><td style=\"text-align: right;\"> 0.598184</td></tr>\n",
       "<tr><td>node2vec_2_0.25_0.25_b78dc_00001</td><td>TERMINATED</td><td>127.0.0.1:4072 </td><td style=\"text-align: right;\">           2</td><td style=\"text-align: right;\">0.25</td><td style=\"text-align: right;\">0.25</td><td>&lt;class &#x27;no_d570</td><td style=\"text-align: right;\">   0.600573</td><td style=\"text-align: right;\"> 0.550884</td></tr>\n",
       "<tr><td>node2vec_4_0.25_0.25_b78dc_00002</td><td>TERMINATED</td><td>127.0.0.1:22532</td><td style=\"text-align: right;\">           4</td><td style=\"text-align: right;\">0.25</td><td style=\"text-align: right;\">0.25</td><td>&lt;class &#x27;no_d570</td><td style=\"text-align: right;\">   0.619685</td><td style=\"text-align: right;\"> 0.470616</td></tr>\n",
       "<tr><td>node2vec_1_0.25_0.25_b78dc_00003</td><td>TERMINATED</td><td>127.0.0.1:4072 </td><td style=\"text-align: right;\">           1</td><td style=\"text-align: right;\">0.25</td><td style=\"text-align: right;\">0.25</td><td>&lt;class &#x27;no_f6a0</td><td style=\"text-align: right;\">   0.571429</td><td style=\"text-align: right;\"> 0.599618</td></tr>\n",
       "<tr><td>node2vec_2_0.25_0.25_b78dc_00004</td><td>TERMINATED</td><td>127.0.0.1:22532</td><td style=\"text-align: right;\">           2</td><td style=\"text-align: right;\">0.25</td><td style=\"text-align: right;\">0.25</td><td>&lt;class &#x27;no_f6a0</td><td style=\"text-align: right;\">   0.550884</td><td style=\"text-align: right;\"> 0.574773</td></tr>\n",
       "<tr><td>node2vec_4_0.25_0.25_b78dc_00005</td><td>TERMINATED</td><td>127.0.0.1:4072 </td><td style=\"text-align: right;\">           4</td><td style=\"text-align: right;\">0.25</td><td style=\"text-align: right;\">0.25</td><td>&lt;class &#x27;no_f6a0</td><td style=\"text-align: right;\">   0.570377</td><td style=\"text-align: right;\"> 0.62494 </td></tr>\n",
       "<tr><td>node2vec_1_0.25_0.25_b78dc_00006</td><td>TERMINATED</td><td>127.0.0.1:22532</td><td style=\"text-align: right;\">           1</td><td style=\"text-align: right;\">0.25</td><td style=\"text-align: right;\">0.25</td><td>&lt;class &#x27;no_a1d0</td><td style=\"text-align: right;\">   0.723459</td><td style=\"text-align: right;\"> 0.570473</td></tr>\n",
       "<tr><td>node2vec_2_0.25_0.25_b78dc_00007</td><td>TERMINATED</td><td>127.0.0.1:4072 </td><td style=\"text-align: right;\">           2</td><td style=\"text-align: right;\">0.25</td><td style=\"text-align: right;\">0.25</td><td>&lt;class &#x27;no_a1d0</td><td style=\"text-align: right;\">   0.774486</td><td style=\"text-align: right;\"> 0.596273</td></tr>\n",
       "<tr><td>node2vec_4_0.25_0.25_b78dc_00008</td><td>TERMINATED</td><td>127.0.0.1:22532</td><td style=\"text-align: right;\">           4</td><td style=\"text-align: right;\">0.25</td><td style=\"text-align: right;\">0.25</td><td>&lt;class &#x27;no_a1d0</td><td style=\"text-align: right;\">   0.841089</td><td style=\"text-align: right;\"> 0.626851</td></tr>\n",
       "</tbody>\n",
       "</table>\n",
       "  </div>\n",
       "</div>\n",
       "<style>\n",
       ".tuneStatus {\n",
       "  color: var(--jp-ui-font-color1);\n",
       "}\n",
       ".tuneStatus .systemInfo {\n",
       "  display: flex;\n",
       "  flex-direction: column;\n",
       "}\n",
       ".tuneStatus td {\n",
       "  white-space: nowrap;\n",
       "}\n",
       ".tuneStatus .trialStatus {\n",
       "  display: flex;\n",
       "  flex-direction: column;\n",
       "}\n",
       ".tuneStatus h3 {\n",
       "  font-weight: bold;\n",
       "}\n",
       ".tuneStatus .hDivider {\n",
       "  border-bottom-width: var(--jp-border-width);\n",
       "  border-bottom-color: var(--jp-border-color0);\n",
       "  border-bottom-style: solid;\n",
       "}\n",
       ".tuneStatus .vDivider {\n",
       "  border-left-width: var(--jp-border-width);\n",
       "  border-left-color: var(--jp-border-color0);\n",
       "  border-left-style: solid;\n",
       "  margin: 0.5em 1em 0.5em 1em;\n",
       "}\n",
       "</style>\n"
      ],
      "text/plain": [
       "<IPython.core.display.HTML object>"
      ]
     },
     "metadata": {},
     "output_type": "display_data"
    }
   ],
   "source": [
    "# how many trials to run (if grid_search utilized, it will run this number per grid_search value)\n",
    "num_samples = 1\n",
    "\n",
    "# run experiment\n",
    "result_grid = n2v.run_ray_experiment(\n",
    "    n2v.train_validate, config, ray_path, num_samples,\n",
    "    metric_columns = [\"acc_train\", \"acc_val\"],\n",
    "    parameter_columns = [\"dimensions\", \"p\", \"q\", \"operator\"]\n",
    ")"
   ]
  },
  {
   "attachments": {},
   "cell_type": "markdown",
   "id": "8dc374ff",
   "metadata": {},
   "source": [
    "#### 3.2 Result of Hyperparameter tuning"
   ]
  },
  {
   "cell_type": "code",
   "execution_count": 8,
   "id": "6139caa6",
   "metadata": {},
   "outputs": [
    {
     "name": "stderr",
     "output_type": "stream",
     "text": [
      "The trainable will be overwritten - this should be done with caution: it's possible to supply an incompatible trainable, and there are no guarantees that the resumed experiment will continue successfully. If you encounter errors during training, ensure that you are passing in the same trainable that was passed into the initial `Tuner` object.\n"
     ]
    },
    {
     "name": "stdout",
     "output_type": "stream",
     "text": [
      "Loading results from ray_results/train_validate_2023-03-26_04-19-57...\n",
      "Done!\n",
      "\n",
      "No errors! Number of terminated trials: 368\n"
     ]
    }
   ],
   "source": [
    "restored_tuner, result_grid = n2v.open_validate_ray_experiment(\n",
    "    \"ray_results/train_validate_2023-03-26_04-19-57\",\n",
    "    n2v.train_validate\n",
    ")"
   ]
  },
  {
   "cell_type": "code",
   "execution_count": 12,
   "id": "c46d8054",
   "metadata": {},
   "outputs": [
    {
     "name": "stderr",
     "output_type": "stream",
     "text": [
      "Couldn't read config from 16 paths\n"
     ]
    },
    {
     "data": {
      "text/html": [
       "<div>\n",
       "<style scoped>\n",
       "    .dataframe tbody tr th:only-of-type {\n",
       "        vertical-align: middle;\n",
       "    }\n",
       "\n",
       "    .dataframe tbody tr th {\n",
       "        vertical-align: top;\n",
       "    }\n",
       "\n",
       "    .dataframe thead th {\n",
       "        text-align: right;\n",
       "    }\n",
       "</style>\n",
       "<table border=\"1\" class=\"dataframe\">\n",
       "  <thead>\n",
       "    <tr style=\"text-align: right;\">\n",
       "      <th></th>\n",
       "      <th>trial_id</th>\n",
       "      <th>config/dimensions</th>\n",
       "      <th>config/p</th>\n",
       "      <th>config/q</th>\n",
       "      <th>config/operator</th>\n",
       "      <th>acc_train</th>\n",
       "      <th>acc_val</th>\n",
       "    </tr>\n",
       "  </thead>\n",
       "  <tbody>\n",
       "    <tr>\n",
       "      <th>59</th>\n",
       "      <td>b78dc_00059</td>\n",
       "      <td>4</td>\n",
       "      <td>1.25</td>\n",
       "      <td>0.25</td>\n",
       "      <td>&lt;class 'node2vec.edges.WeightedL2Embedder'&gt;</td>\n",
       "      <td>0.819685</td>\n",
       "      <td>0.644529</td>\n",
       "    </tr>\n",
       "    <tr>\n",
       "      <th>35</th>\n",
       "      <td>b78dc_00035</td>\n",
       "      <td>4</td>\n",
       "      <td>0.75</td>\n",
       "      <td>0.25</td>\n",
       "      <td>&lt;class 'node2vec.edges.WeightedL2Embedder'&gt;</td>\n",
       "      <td>0.819207</td>\n",
       "      <td>0.643574</td>\n",
       "    </tr>\n",
       "    <tr>\n",
       "      <th>275</th>\n",
       "      <td>b78dc_00275</td>\n",
       "      <td>4</td>\n",
       "      <td>1.25</td>\n",
       "      <td>1.00</td>\n",
       "      <td>&lt;class 'node2vec.edges.WeightedL2Embedder'&gt;</td>\n",
       "      <td>0.823794</td>\n",
       "      <td>0.642140</td>\n",
       "    </tr>\n",
       "    <tr>\n",
       "      <th>23</th>\n",
       "      <td>b78dc_00023</td>\n",
       "      <td>4</td>\n",
       "      <td>0.50</td>\n",
       "      <td>0.25</td>\n",
       "      <td>&lt;class 'node2vec.edges.WeightedL2Embedder'&gt;</td>\n",
       "      <td>0.820449</td>\n",
       "      <td>0.641663</td>\n",
       "    </tr>\n",
       "    <tr>\n",
       "      <th>68</th>\n",
       "      <td>b78dc_00068</td>\n",
       "      <td>4</td>\n",
       "      <td>1.50</td>\n",
       "      <td>0.25</td>\n",
       "      <td>&lt;class 'node2vec.edges.WeightedL1Embedder'&gt;</td>\n",
       "      <td>0.832871</td>\n",
       "      <td>0.640707</td>\n",
       "    </tr>\n",
       "    <tr>\n",
       "      <th>71</th>\n",
       "      <td>b78dc_00071</td>\n",
       "      <td>4</td>\n",
       "      <td>1.50</td>\n",
       "      <td>0.25</td>\n",
       "      <td>&lt;class 'node2vec.edges.WeightedL2Embedder'&gt;</td>\n",
       "      <td>0.812040</td>\n",
       "      <td>0.640707</td>\n",
       "    </tr>\n",
       "    <tr>\n",
       "      <th>128</th>\n",
       "      <td>b78dc_00128</td>\n",
       "      <td>4</td>\n",
       "      <td>1.25</td>\n",
       "      <td>0.50</td>\n",
       "      <td>&lt;class 'node2vec.edges.WeightedL1Embedder'&gt;</td>\n",
       "      <td>0.836120</td>\n",
       "      <td>0.639752</td>\n",
       "    </tr>\n",
       "    <tr>\n",
       "      <th>311</th>\n",
       "      <td>b78dc_00311</td>\n",
       "      <td>4</td>\n",
       "      <td>0.50</td>\n",
       "      <td>1.25</td>\n",
       "      <td>&lt;class 'node2vec.edges.WeightedL2Embedder'&gt;</td>\n",
       "      <td>0.825514</td>\n",
       "      <td>0.638318</td>\n",
       "    </tr>\n",
       "    <tr>\n",
       "      <th>143</th>\n",
       "      <td>b78dc_00143</td>\n",
       "      <td>4</td>\n",
       "      <td>1.50</td>\n",
       "      <td>0.50</td>\n",
       "      <td>&lt;class 'node2vec.edges.WeightedL2Embedder'&gt;</td>\n",
       "      <td>0.814907</td>\n",
       "      <td>0.638318</td>\n",
       "    </tr>\n",
       "    <tr>\n",
       "      <th>140</th>\n",
       "      <td>b78dc_00140</td>\n",
       "      <td>4</td>\n",
       "      <td>1.50</td>\n",
       "      <td>0.50</td>\n",
       "      <td>&lt;class 'node2vec.edges.WeightedL1Embedder'&gt;</td>\n",
       "      <td>0.836216</td>\n",
       "      <td>0.637840</td>\n",
       "    </tr>\n",
       "  </tbody>\n",
       "</table>\n",
       "</div>"
      ],
      "text/plain": [
       "        trial_id  config/dimensions  config/p  config/q  \\\n",
       "59   b78dc_00059                  4      1.25      0.25   \n",
       "35   b78dc_00035                  4      0.75      0.25   \n",
       "275  b78dc_00275                  4      1.25      1.00   \n",
       "23   b78dc_00023                  4      0.50      0.25   \n",
       "68   b78dc_00068                  4      1.50      0.25   \n",
       "71   b78dc_00071                  4      1.50      0.25   \n",
       "128  b78dc_00128                  4      1.25      0.50   \n",
       "311  b78dc_00311                  4      0.50      1.25   \n",
       "143  b78dc_00143                  4      1.50      0.50   \n",
       "140  b78dc_00140                  4      1.50      0.50   \n",
       "\n",
       "                                 config/operator  acc_train   acc_val  \n",
       "59   <class 'node2vec.edges.WeightedL2Embedder'>   0.819685  0.644529  \n",
       "35   <class 'node2vec.edges.WeightedL2Embedder'>   0.819207  0.643574  \n",
       "275  <class 'node2vec.edges.WeightedL2Embedder'>   0.823794  0.642140  \n",
       "23   <class 'node2vec.edges.WeightedL2Embedder'>   0.820449  0.641663  \n",
       "68   <class 'node2vec.edges.WeightedL1Embedder'>   0.832871  0.640707  \n",
       "71   <class 'node2vec.edges.WeightedL2Embedder'>   0.812040  0.640707  \n",
       "128  <class 'node2vec.edges.WeightedL1Embedder'>   0.836120  0.639752  \n",
       "311  <class 'node2vec.edges.WeightedL2Embedder'>   0.825514  0.638318  \n",
       "143  <class 'node2vec.edges.WeightedL2Embedder'>   0.814907  0.638318  \n",
       "140  <class 'node2vec.edges.WeightedL1Embedder'>   0.836216  0.637840  "
      ]
     },
     "execution_count": 12,
     "metadata": {},
     "output_type": "execute_result"
    }
   ],
   "source": [
    "# get best score per trial (highest validation accuracy)\n",
    "N = 10\n",
    "best_result_df = result_grid.get_dataframe(\n",
    "    filter_metric=\"acc_val\", filter_mode=\"max\"\n",
    ")\n",
    "best_result_df = best_result_df[[\"trial_id\",\n",
    "                                 'config/dimensions', 'config/p', 'config/q', 'config/operator',\n",
    "                                 \"acc_train\", \"acc_val\"]]\n",
    "best_result_df = best_result_df.sort_values(by=[\"acc_val\"], ascending = False)\n",
    "\n",
    "if len(result_grid) > N:\n",
    "    best_result_df = best_result_df.head(N)\n",
    "\n",
    "best_result_df"
   ]
  },
  {
   "attachments": {},
   "cell_type": "markdown",
   "id": "1c50f95b",
   "metadata": {},
   "source": [
    "#### 3.3 Embeddings based on best model"
   ]
  },
  {
   "cell_type": "code",
   "execution_count": 58,
   "id": "4cbe97c4",
   "metadata": {},
   "outputs": [
    {
     "name": "stderr",
     "output_type": "stream",
     "text": [
      "Computing transition probabilities: 100%|██████████| 3597/3597 [00:00<00:00, 5709.70it/s]\n",
      "Generating walks (CPU: 1): 100%|██████████| 10/10 [00:17<00:00,  1.74s/it]\n"
     ]
    }
   ],
   "source": [
    "# precompute probabilities and generate walks\n",
    "node2vec = Node2Vec(G_train, dimensions=4, walk_length=80, num_walks=10, workers=1, p=1.25, q=0.25)\n",
    "\n",
    "# embed nodes\n",
    "model = node2vec.fit(window=10)"
   ]
  },
  {
   "cell_type": "code",
   "execution_count": 68,
   "id": "ebdca3f1",
   "metadata": {},
   "outputs": [],
   "source": [
    "# edge embedding\n",
    "l2_edges_embs = WeightedL2Embedder(keyed_vectors=model.wv)\n",
    "trainval_edge_embs = pd.DataFrame([l2_edges_embs[(str(u), str(v))] for u, v in zip(config[\"trainval_tf\"].node1, config[\"trainval_tf\"].node2)], index=config[\"trainval_idx\"])\n",
    "trainval_edge_embs = pd.DataFrame(trainval_edge_embs).rename(columns = {val: f\"n{val+1}\" for val in range(trainval_edge_embs.shape[1])})\n",
    "val_edge_embs = pd.DataFrame([l2_edges_embs[(str(u), str(v))] for u, v in zip(config[\"val_tf\"].node1, config[\"val_tf\"].node2)], index=config[\"val_idx\"])\n",
    "val_edge_embs = pd.DataFrame(val_edge_embs).rename(columns = {val: f\"n{val+1}\" for val in range(val_edge_embs.shape[1])})\n",
    "test_edge_embs = pd.DataFrame([l2_edges_embs[(str(u), str(v))] for u, v in zip(test_tf.node1, test_tf.node2)], index=test_tf.index)\n",
    "test_edge_embs = pd.DataFrame(test_edge_embs).rename(columns = {val: f\"n{val+1}\" for val in range(test_edge_embs.shape[1])})"
   ]
  },
  {
   "cell_type": "code",
   "execution_count": 60,
   "id": "a02d27d9",
   "metadata": {},
   "outputs": [
    {
     "data": {
      "text/plain": [
       "Text(0.5, 1.0, 'Node2vec projection (2 dims) of edges')"
      ]
     },
     "execution_count": 60,
     "metadata": {},
     "output_type": "execute_result"
    },
    {
     "data": {
      "image/png": "[encoded data removed]",
      "text/plain": [
       "<Figure size 640x480 with 1 Axes>"
      ]
     },
     "metadata": {},
     "output_type": "display_data"
    }
   ],
   "source": [
    "# plot embedding over 2 of its 4 dimensions\n",
    "plt.scatter(\n",
    "    trainval_edge_embs[[\"n2\"]],\n",
    "    trainval_edge_embs[[\"n4\"]]),\n",
    "plt.gca().set_aspect('equal', 'datalim')\n",
    "plt.title('Node2vec projection (2 dims) of edges')"
   ]
  },
  {
   "cell_type": "code",
   "execution_count": 69,
   "id": "d790608d",
   "metadata": {},
   "outputs": [],
   "source": [
    "# enrich edgelist\n",
    "trainval_tf = pd.concat([config[\"trainval_tf\"], trainval_edge_embs], axis=1)\n",
    "val_tf = pd.concat([config[\"val_tf\"], val_edge_embs], axis=1)\n",
    "test_tf = pd.concat([test_tf, test_edge_embs], axis=1)\n",
    "X_trainval, y_trainval = loadData.split_frame(trainval_tf)\n",
    "X_val, y_val = loadData.split_frame(val_tf)\n",
    "X_test = loadData.split_frame(test_tf)"
   ]
  },
  {
   "attachments": {},
   "cell_type": "markdown",
   "id": "29da684b",
   "metadata": {},
   "source": [
    "#### 3.4 Predict edges based on best model"
   ]
  },
  {
   "cell_type": "code",
   "execution_count": 70,
   "id": "7321a180",
   "metadata": {},
   "outputs": [
    {
     "name": "stdout",
     "output_type": "stream",
     "text": [
      "Acc train: 0.8150023889154324\n",
      "Acc val: 0.6402293358815098\n"
     ]
    }
   ],
   "source": [
    "# prepare predefined split for cv\n",
    "val_fold = [0 if i in X_val.index else -1 for i in X_trainval.index]\n",
    "ps = PredefinedSplit(val_fold)\n",
    "\n",
    "# fit logistic \n",
    "clf = LogisticRegressionCV(max_iter = 10000, cv = ps)\n",
    "clf.fit(X_trainval, y_trainval)\n",
    "\n",
    "# predict on train set\n",
    "y_train_hat = clf.predict(X_trainval)\n",
    "# compute accuracy\n",
    "acc_train = accuracy_score(y_trainval, y_train_hat)\n",
    "\n",
    "# predict on validation set\n",
    "y_val_hat = clf.predict(X_val)\n",
    "# compute accuracy\n",
    "acc_val = accuracy_score(y_val, y_val_hat)\n",
    "\n",
    "# print performance (train)\n",
    "print(f\"Acc train: {acc_train}\")\n",
    "print(f\"Acc val: {acc_val}\")"
   ]
  },
  {
   "cell_type": "code",
   "execution_count": 71,
   "id": "4353e5de",
   "metadata": {},
   "outputs": [],
   "source": [
    "# predict test\n",
    "y_test_hat = clf.predict(X_test)"
   ]
  },
  {
   "cell_type": "code",
   "execution_count": 74,
   "id": "3d55866e",
   "metadata": {},
   "outputs": [
    {
     "data": {
      "text/plain": [
       "<seaborn.axisgrid.PairGrid at 0x2ba2ccf5df0>"
      ]
     },
     "execution_count": 74,
     "metadata": {},
     "output_type": "execute_result"
    },
    {
     "data": {
      "image/png": "[encoded data removed]",
      "text/plain": [
       "<Figure size 263.889x250 with 2 Axes>"
      ]
     },
     "metadata": {},
     "output_type": "display_data"
    }
   ],
   "source": [
    "# plot node2vec similarity vs y\n",
    "tmp = (val_tf\n",
    "    .assign(sim  = y_val_hat)\n",
    "    .assign(y = y_val)\n",
    ")\n",
    "sns.pairplot(tmp[[\"sim\", \"y\"]], hue = \"y\")"
   ]
  }
 ],
 "metadata": {
  "kernelspec": {
   "display_name": "Python 3",
   "language": "python",
   "name": "python3"
  },
  "language_info": {
   "codemirror_mode": {
    "name": "ipython",
    "version": 3
   },
   "file_extension": ".py",
   "mimetype": "text/x-python",
   "name": "python",
   "nbconvert_exporter": "python",
   "pygments_lexer": "ipython3",
   "version": "3.9.7"
  },
  "vscode": {
   "interpreter": {
    "hash": "edc5d5641674580b35290ba45bd16007251669062615a59c5f9a5e5dd7884ea6"
   }
  }
 },
 "nbformat": 4,
 "nbformat_minor": 5
}
