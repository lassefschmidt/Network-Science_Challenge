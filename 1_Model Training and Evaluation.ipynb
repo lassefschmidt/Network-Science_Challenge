{
 "cells": [
  {
   "cell_type": "markdown",
   "id": "ca3f9796",
   "metadata": {},
   "source": [
    "# Machine Learning in Network Science\n",
    "Group Challenge\n",
    "\n",
    "***\n",
    "by: Leonardo Basili, Paul Bédier, Lasse Schmidt\n",
    "\n",
    "within: MS Data Sciences & Business Analytics\n",
    "\n",
    "at: CentraleSupélec & ESSEC Business School\n",
    "***"
   ]
  },
  {
   "cell_type": "markdown",
   "id": "54f241a1",
   "metadata": {},
   "source": [
    "### 1. Import Packages"
   ]
  },
  {
   "cell_type": "code",
   "execution_count": 28,
   "id": "98e82605",
   "metadata": {},
   "outputs": [
    {
     "data": {
      "text/plain": [
       "<module 'util.preprocess_Data' from 'D:\\\\Dokumente\\\\2_Bildung\\\\2_MSc\\\\1_Classes\\\\Y2T2_Machine Learning in Network Science\\\\3_challenge\\\\Network-Science_Challenge\\\\util\\\\preprocess_Data.py'>"
      ]
     },
     "execution_count": 28,
     "metadata": {},
     "output_type": "execute_result"
    }
   ],
   "source": [
    "from importlib import reload\n",
    "reload(analyseData)\n",
    "reload(prepData)"
   ]
  },
  {
   "cell_type": "code",
   "execution_count": 1,
   "id": "a3ffae4f",
   "metadata": {},
   "outputs": [],
   "source": [
    "# import own scripts\n",
    "import util.analyse_Data as analyseData\n",
    "import util.preprocess_Data as prepData"
   ]
  },
  {
   "cell_type": "code",
   "execution_count": 2,
   "id": "d7c6ba33",
   "metadata": {},
   "outputs": [],
   "source": [
    "# parse & handle data\n",
    "import csv\n",
    "import numpy as np\n",
    "import pandas as pd\n",
    "import networkx as nx # graph data\n",
    "\n",
    "# modeling\n",
    "from xgboost import XGBClassifier\n",
    "\n",
    "# evaluation\n",
    "from sklearn.metrics import accuracy_score, classification_report, confusion_matrix, ConfusionMatrixDisplay, roc_auc_score\n",
    "\n",
    "# visualization\n",
    "import matplotlib.pyplot as plt\n",
    "import seaborn as sns"
   ]
  },
  {
   "cell_type": "code",
   "execution_count": 3,
   "id": "c84a352e",
   "metadata": {},
   "outputs": [],
   "source": [
    "# set matplotlib and seaborn settings for nicer plots\n",
    "%matplotlib inline\n",
    "\n",
    "SMALL_SIZE = 6\n",
    "MEDIUM_SIZE = 8\n",
    "BIGGER_SIZE = 10\n",
    "\n",
    "plt.rc('font', size=SMALL_SIZE)          # controls default text sizes\n",
    "plt.rc('axes', titlesize=BIGGER_SIZE)    # fontsize of the axes title\n",
    "plt.rc('axes', labelsize=MEDIUM_SIZE)    # fontsize of the x and y labels\n",
    "plt.rc('xtick', labelsize=SMALL_SIZE)    # fontsize of the tick labels\n",
    "plt.rc('ytick', labelsize=SMALL_SIZE)    # fontsize of the tick labels\n",
    "plt.rc('legend', fontsize=MEDIUM_SIZE)   # legend fontsize\n",
    "plt.rc('figure', titlesize=BIGGER_SIZE)  # fontsize of the figure title"
   ]
  },
  {
   "cell_type": "markdown",
   "id": "74f20e78",
   "metadata": {},
   "source": [
    "### 2. Load Data for Modeling"
   ]
  },
  {
   "cell_type": "code",
   "execution_count": 4,
   "id": "dd363f92",
   "metadata": {},
   "outputs": [
    {
     "name": "stdout",
     "output_type": "stream",
     "text": [
      "Number of positive edges for training: 4696\n",
      "Number of positive edges for validation: 521\n",
      "Number of edges in original graph: 5217\n",
      "Number of edges in training graph: 4696\n",
      "The graph is connected\n"
     ]
    }
   ],
   "source": [
    "# might take up to a minute\n",
    "G, G_train, train_tf, val_tf, test, test_tf, X_train, y_train, X_val, y_val, X_test = prepData.load_prep_data()"
   ]
  },
  {
   "cell_type": "markdown",
   "id": "62efb7e4",
   "metadata": {},
   "source": [
    "### 3. Modeling"
   ]
  },
  {
   "cell_type": "code",
   "execution_count": 5,
   "id": "df723b61",
   "metadata": {},
   "outputs": [
    {
     "name": "stdout",
     "output_type": "stream",
     "text": [
      "Acc train: 0.7734366705595074\n",
      "Acc val : 0.7734225621414914\n"
     ]
    }
   ],
   "source": [
    "# basic XGBoost (best to use for RFECV as very short runtime)\n",
    "clf = XGBClassifier(n_estimators = 6, max_depth = 10, eta = 0.3)\n",
    "clf.fit(X_train, y_train)\n",
    "\n",
    "# predict train\n",
    "y_train_hat = clf.predict(X_train)\n",
    "# compute R^2 metric\n",
    "acc_train = accuracy_score(y_train, y_train_hat)\n",
    "\n",
    "# predict val\n",
    "y_val_hat = clf.predict(X_val)\n",
    "# compute R^2 metric\n",
    "acc_val = accuracy_score(y_val, y_val_hat)\n",
    "\n",
    "# predict test\n",
    "y_test_hat = clf.predict(X_test)\n",
    "\n",
    "print(f\"Acc train: {acc_train}\")\n",
    "print(f\"Acc val : {acc_val}\")"
   ]
  },
  {
   "cell_type": "code",
   "execution_count": 6,
   "id": "ccee5777",
   "metadata": {},
   "outputs": [
    {
     "name": "stdout",
     "output_type": "stream",
     "text": [
      "Train performance\n",
      "-------------------------------------------------------\n",
      "              precision    recall  f1-score   support\n",
      "\n",
      "           0       0.76      0.80      0.78      4723\n",
      "           1       0.79      0.75      0.77      4696\n",
      "\n",
      "    accuracy                           0.77      9419\n",
      "   macro avg       0.77      0.77      0.77      9419\n",
      "weighted avg       0.77      0.77      0.77      9419\n",
      "\n",
      "Validation performance\n",
      "-------------------------------------------------------\n",
      "              precision    recall  f1-score   support\n",
      "\n",
      "           0       0.78      0.76      0.77       525\n",
      "           1       0.76      0.79      0.78       521\n",
      "\n",
      "    accuracy                           0.77      1046\n",
      "   macro avg       0.77      0.77      0.77      1046\n",
      "weighted avg       0.77      0.77      0.77      1046\n",
      "\n",
      "Roc_auc score\n",
      "-------------------------------------------------------\n",
      "0.7734814002376382\n",
      "\n",
      "Confusion matrix\n",
      "-------------------------------------------------------\n",
      "[[398 127]\n",
      " [110 411]]\n"
     ]
    }
   ],
   "source": [
    "print('Train performance')\n",
    "print('-------------------------------------------------------')\n",
    "print(classification_report(y_train, y_train_hat))\n",
    "\n",
    "print('Validation performance')\n",
    "print('-------------------------------------------------------')\n",
    "print(classification_report(y_val, y_val_hat))\n",
    "\n",
    "print('Roc_auc score')\n",
    "print('-------------------------------------------------------')\n",
    "print(roc_auc_score(y_val, y_val_hat))\n",
    "print('')\n",
    "\n",
    "print('Confusion matrix')\n",
    "print('-------------------------------------------------------')\n",
    "print(confusion_matrix(y_val, y_val_hat))"
   ]
  },
  {
   "cell_type": "code",
   "execution_count": 45,
   "id": "fed752b4",
   "metadata": {},
   "outputs": [],
   "source": [
    "save_test = (test\n",
    "    .join(test_tf.assign(Predicted = y_test_hat).Predicted)\n",
    "    # missing values are entries where target == source node\n",
    "    .assign(Predicted = lambda df_: df_.Predicted.mask(df_.Predicted.isna(), 1))\n",
    "    # convert to int\n",
    "    .assign(Predicted = lambda df_: df_.Predicted.astype(int))\n",
    "    # remove useless columns\n",
    "    .drop([\"node1\", \"node2\"], axis = 1, inplace = False)\n",
    ")"
   ]
  },
  {
   "cell_type": "code",
   "execution_count": 46,
   "id": "75766408",
   "metadata": {},
   "outputs": [
    {
     "data": {
      "text/html": [
       "<div>\n",
       "<style scoped>\n",
       "    .dataframe tbody tr th:only-of-type {\n",
       "        vertical-align: middle;\n",
       "    }\n",
       "\n",
       "    .dataframe tbody tr th {\n",
       "        vertical-align: top;\n",
       "    }\n",
       "\n",
       "    .dataframe thead th {\n",
       "        text-align: right;\n",
       "    }\n",
       "</style>\n",
       "<table border=\"1\" class=\"dataframe\">\n",
       "  <thead>\n",
       "    <tr style=\"text-align: right;\">\n",
       "      <th></th>\n",
       "      <th>Predicted</th>\n",
       "    </tr>\n",
       "  </thead>\n",
       "  <tbody>\n",
       "    <tr>\n",
       "      <th>0</th>\n",
       "      <td>0</td>\n",
       "    </tr>\n",
       "    <tr>\n",
       "      <th>1</th>\n",
       "      <td>0</td>\n",
       "    </tr>\n",
       "    <tr>\n",
       "      <th>2</th>\n",
       "      <td>0</td>\n",
       "    </tr>\n",
       "    <tr>\n",
       "      <th>3</th>\n",
       "      <td>0</td>\n",
       "    </tr>\n",
       "    <tr>\n",
       "      <th>4</th>\n",
       "      <td>0</td>\n",
       "    </tr>\n",
       "    <tr>\n",
       "      <th>...</th>\n",
       "      <td>...</td>\n",
       "    </tr>\n",
       "    <tr>\n",
       "      <th>3493</th>\n",
       "      <td>1</td>\n",
       "    </tr>\n",
       "    <tr>\n",
       "      <th>3494</th>\n",
       "      <td>0</td>\n",
       "    </tr>\n",
       "    <tr>\n",
       "      <th>3495</th>\n",
       "      <td>1</td>\n",
       "    </tr>\n",
       "    <tr>\n",
       "      <th>3496</th>\n",
       "      <td>0</td>\n",
       "    </tr>\n",
       "    <tr>\n",
       "      <th>3497</th>\n",
       "      <td>0</td>\n",
       "    </tr>\n",
       "  </tbody>\n",
       "</table>\n",
       "<p>3498 rows × 1 columns</p>\n",
       "</div>"
      ],
      "text/plain": [
       "      Predicted\n",
       "0             0\n",
       "1             0\n",
       "2             0\n",
       "3             0\n",
       "4             0\n",
       "...         ...\n",
       "3493          1\n",
       "3494          0\n",
       "3495          1\n",
       "3496          0\n",
       "3497          0\n",
       "\n",
       "[3498 rows x 1 columns]"
      ]
     },
     "execution_count": 46,
     "metadata": {},
     "output_type": "execute_result"
    }
   ],
   "source": [
    "save_test"
   ]
  },
  {
   "cell_type": "code",
   "execution_count": 47,
   "id": "e58b7f71",
   "metadata": {},
   "outputs": [],
   "source": [
    "# save predictions\n",
    "save_test.to_csv('data/test_preds.csv', index_label = \"ID\")"
   ]
  }
 ],
 "metadata": {
  "kernelspec": {
   "display_name": "Python 3 (ipykernel)",
   "language": "python",
   "name": "python3"
  },
  "language_info": {
   "codemirror_mode": {
    "name": "ipython",
    "version": 3
   },
   "file_extension": ".py",
   "mimetype": "text/x-python",
   "name": "python",
   "nbconvert_exporter": "python",
   "pygments_lexer": "ipython3",
   "version": "3.10.8"
  }
 },
 "nbformat": 4,
 "nbformat_minor": 5
}
